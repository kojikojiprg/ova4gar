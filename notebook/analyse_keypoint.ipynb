{
  "nbformat": 4,
  "nbformat_minor": 0,
  "metadata": {
    "orig_nbformat": 2,
    "kernelspec": {
      "name": "python3",
      "display_name": "Python 3"
    },
    "colab": {
      "name": "analyse_keypoint.ipynb",
      "provenance": []
    }
  },
  "cells": [
    {
      "cell_type": "code",
      "metadata": {
        "id": "fPjJvbFq6iD1",
        "colab_type": "code",
        "colab": {
          "base_uri": "https://localhost:8080/",
          "height": 122
        },
        "outputId": "9f6c63ca-6e47-4f24-d7d2-900b81574066"
      },
      "source": [
        "from google.colab import drive\n",
        "drive.mount('/content/drive')"
      ],
      "execution_count": 2,
      "outputs": [
        {
          "output_type": "stream",
          "text": [
            "Go to this URL in a browser: https://accounts.google.com/o/oauth2/auth?client_id=947318989803-6bn6qk8qdgf4n4g3pfee6491hc0brc4i.apps.googleusercontent.com&redirect_uri=urn%3aietf%3awg%3aoauth%3a2.0%3aoob&response_type=code&scope=email%20https%3a%2f%2fwww.googleapis.com%2fauth%2fdocs.test%20https%3a%2f%2fwww.googleapis.com%2fauth%2fdrive%20https%3a%2f%2fwww.googleapis.com%2fauth%2fdrive.photos.readonly%20https%3a%2f%2fwww.googleapis.com%2fauth%2fpeopleapi.readonly\n",
            "\n",
            "Enter your authorization code:\n",
            "··········\n",
            "Mounted at /content/drive\n"
          ],
          "name": "stdout"
        }
      ]
    },
    {
      "cell_type": "code",
      "metadata": {
        "id": "o2Edc-jp6wc3",
        "colab_type": "code",
        "colab": {}
      },
      "source": [
        "!cp -r /content/drive/My\\ Drive/output/ /content/"
      ],
      "execution_count": 0,
      "outputs": []
    },
    {
      "cell_type": "code",
      "metadata": {
        "id": "ngTWJ27z59RH",
        "colab_type": "code",
        "colab": {}
      },
      "source": [
        "import json\n",
        "import glob\n",
        "import numpy as np\n",
        "import matplotlib.pyplot as plt"
      ],
      "execution_count": 0,
      "outputs": []
    },
    {
      "cell_type": "code",
      "metadata": {
        "id": "ePXgRK0E9GEJ",
        "colab_type": "code",
        "colab": {}
      },
      "source": [
        "files = glob.glob('output/*')"
      ],
      "execution_count": 0,
      "outputs": []
    },
    {
      "cell_type": "code",
      "metadata": {
        "id": "vYRLV5gz9O-Q",
        "colab_type": "code",
        "colab": {}
      },
      "source": [
        "outputs = []\n",
        "for f in files:\n",
        "    with open(f) as open_f:\n",
        "        outputs.append(json.load(open_f))"
      ],
      "execution_count": 0,
      "outputs": []
    },
    {
      "cell_type": "code",
      "metadata": {
        "id": "4H3deVQCFbVW",
        "colab_type": "code",
        "colab": {}
      },
      "source": [
        "people_id = 0\n",
        "keypoints = []\n",
        "\n",
        "for o in outputs:\n",
        "    keypoints.append(o['people'][people_id]['pose_keypoints_2d'])\n",
        "\n",
        "keypoints = np.array(keypoints)"
      ],
      "execution_count": 0,
      "outputs": []
    },
    {
      "cell_type": "code",
      "metadata": {
        "id": "McZsmWDAInk7",
        "colab_type": "code",
        "colab": {
          "base_uri": "https://localhost:8080/",
          "height": 357
        },
        "outputId": "df5e3fe5-0a72-4938-8e89-8b5b7aa81651"
      },
      "source": [
        "keypoints_t = keypoints.T\n",
        "keypoints_t[0]"
      ],
      "execution_count": 45,
      "outputs": [
        {
          "output_type": "execute_result",
          "data": {
            "text/plain": [
              "array([ 503.923,  577.279,  618.521,    0.   ,  627.361, 1516.33 ,\n",
              "        624.603,  550.978,  568.528,    0.   ,  571.385, 1530.95 ,\n",
              "        650.915,  618.467,  595.053,  568.566,  586.219,  556.778,\n",
              "          0.   ,  653.977,  527.45 ,  645.091,  539.144,  580.379,\n",
              "        533.168,  483.086,  503.877,  556.715,    0.   ,  527.388,\n",
              "        624.567, 1457.47 ,  630.362,  600.914,    0.   ,  559.764,\n",
              "        559.754,  553.887,  547.984,  547.905, 1542.83 ,  597.908,\n",
              "        556.893,  533.256,  618.586,    0.   ,  653.966,    0.   ,\n",
              "       1472.14 ,    0.   ,  594.915,    0.   ,  648.191,  536.171,\n",
              "        553.998,  559.685,  598.065,  456.663,  624.532,    0.   ,\n",
              "        574.338,  559.732, 1495.68 ,  530.344,  647.946,  577.332,\n",
              "        624.616,  553.953,    0.   ,  530.369,  644.939,  553.798,\n",
              "        553.789,    0.   , 1507.4  ,    0.   ,  459.665,    0.   ,\n",
              "       1483.9  ,    0.   ,  653.953,  612.668,  539.172,    0.   ,\n",
              "       1525.11 ,    0.   ,  515.571,  574.413,    0.   , 1498.64 ,\n",
              "        547.927,  553.996,  536.246,    0.   ,  553.713,  627.394,\n",
              "          0.   ,    0.   ,    0.   ,  553.917,  524.429,  574.399,\n",
              "        656.806,  542.092,  624.419,    0.   ,  636.213,  509.779,\n",
              "        624.378,  527.197,  506.677,  592.016,  594.983,    0.   ,\n",
              "        530.342, 1448.66 ,    0.   ,    0.   ,  577.352,    0.   ])"
            ]
          },
          "metadata": {
            "tags": []
          },
          "execution_count": 45
        }
      ]
    },
    {
      "cell_type": "code",
      "metadata": {
        "id": "ZpQXtkzhJeLI",
        "colab_type": "code",
        "colab": {}
      },
      "source": [
        "x = []\n",
        "y = []\n",
        "c = []\n",
        "\n",
        "for i in range(0, len(keypoints[0]), 3):\n",
        "    x.append(keypoints[0][i])\n",
        "    y.append(keypoints[0][i + 1])\n",
        "    c.append(keypoints[0][i + 2])\n",
        "\n",
        "x = np.array(x)\n",
        "y = np.array(y)\n",
        "c = np.array(c)"
      ],
      "execution_count": 0,
      "outputs": []
    },
    {
      "cell_type": "code",
      "metadata": {
        "id": "QtJu5fA0Ko7p",
        "colab_type": "code",
        "colab": {
          "base_uri": "https://localhost:8080/",
          "height": 282
        },
        "outputId": "bc85d3b0-ed82-412a-f79e-b566416fa4f6"
      },
      "source": [
        "plt_x = np.multiply(x, c)\n",
        "plt_y = np.multiply(y, c)\n",
        "plt.scatter(plt_x, plt_y)"
      ],
      "execution_count": 60,
      "outputs": [
        {
          "output_type": "execute_result",
          "data": {
            "text/plain": [
              "<matplotlib.collections.PathCollection at 0x7fbeafe82358>"
            ]
          },
          "metadata": {
            "tags": []
          },
          "execution_count": 60
        },
        {
          "output_type": "display_data",
          "data": {
            "image/png": "[encoded data removed]",
            "text/plain": [
              "<Figure size 432x288 with 1 Axes>"
            ]
          },
          "metadata": {
            "tags": [],
            "needs_background": "light"
          }
        }
      ]
    },
    {
      "cell_type": "code",
      "metadata": {
        "id": "B8yaAVbKT2H4",
        "colab_type": "code",
        "colab": {}
      },
      "source": [
        ""
      ],
      "execution_count": 0,
      "outputs": []
    }
  ]
}