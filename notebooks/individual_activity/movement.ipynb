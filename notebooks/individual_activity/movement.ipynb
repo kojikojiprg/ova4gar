{
 "cells": [
  {
   "cell_type": "code",
   "execution_count": 1,
   "id": "421ea0e7-7178-483e-803e-01f3ed134cb2",
   "metadata": {},
   "outputs": [],
   "source": [
    "import os\n",
    "import sys\n",
    "import numpy as np\n",
    "import matplotlib.pyplot as plt\n",
    "import cv2\n",
    "from tqdm import tqdm\n",
    "sys.path.append('../../src')\n",
    "\n",
    "from common import common, transform, json\n",
    "from common.json import IA_FORMAT\n",
    "from individual_activity import main as ia\n",
    "from individual_activity.individual_activity import IndividualActivity"
   ]
  },
  {
   "cell_type": "code",
   "execution_count": 2,
   "id": "c43ad8c2-3e99-4b5a-8f96-71ea75b824de",
   "metadata": {},
   "outputs": [],
   "source": [
    "room_num = '09'\n",
    "date = '20210304'\n",
    "name = 'pass1'"
   ]
  },
  {
   "cell_type": "code",
   "execution_count": 3,
   "id": "6c8650a3-c9de-4cbf-ba75-f5b5162d1680",
   "metadata": {},
   "outputs": [],
   "source": [
    "individual_activity_json = os.path.join(\n",
    "    common.data_dir, '{0}/{1}/{2}/json/individual_activity.json'.format(room_num, date, name))\n",
    "field_path = os.path.join(\n",
    "    common.data_dir, '{}/field0304.png'.format(room_num))"
   ]
  },
  {
   "cell_type": "code",
   "execution_count": 4,
   "id": "952f2b79-1568-4375-8a55-b44ab7b6a867",
   "metadata": {},
   "outputs": [],
   "source": [
    "# homography\n",
    "field_raw = cv2.imread(field_path)\n",
    "p_video = transform.homo[room_num + '_0304'][0]\n",
    "p_field = transform.homo[room_num + '_0304'][1]\n",
    "homo = transform.Homography(p_video, p_field, field_raw.shape)"
   ]
  },
  {
   "cell_type": "code",
   "execution_count": 5,
   "id": "30ae2d8c-03f4-449c-ba88-00d5fc800eac",
   "metadata": {},
   "outputs": [],
   "source": [
    "individual_activity_data = json.load(individual_activity_json)"
   ]
  },
  {
   "cell_type": "code",
   "execution_count": 6,
   "id": "d9f0169c-3717-401e-b47f-ccc7641c664f",
   "metadata": {},
   "outputs": [],
   "source": [
    "def make_individuals(datas, homo):\n",
    "    individuals = {}\n",
    "    for data in datas:\n",
    "        label = data[IA_FORMAT[0]]\n",
    "        frame_num = data[IA_FORMAT[1]]\n",
    "        tracking_point = data[IA_FORMAT[2]]\n",
    "\n",
    "        if label not in individuals:\n",
    "            ia = IndividualActivity(label, homo)\n",
    "            individuals[label] = ia\n",
    "        else:\n",
    "            ia = individuals[label]\n",
    "\n",
    "        ia.tracking_points[frame_num] = tracking_point\n",
    "        for f in IA_FORMAT[3:]:\n",
    "            ia.indicator_dict[f][frame_num] = data[f]\n",
    "            \n",
    "    return individuals"
   ]
  },
  {
   "cell_type": "code",
   "execution_count": 7,
   "id": "42582c2f-5eb2-4b26-87c9-0d5ac1e70362",
   "metadata": {
    "tags": []
   },
   "outputs": [],
   "source": [
    "individuals = make_individuals(individual_activity_data, homo)"
   ]
  },
  {
   "cell_type": "code",
   "execution_count": null,
   "id": "49cc4b73-5b41-43b7-8f73-f4a5f57bb7c5",
   "metadata": {},
   "outputs": [],
   "source": [
    "for idv in individuals:\n",
    "    for frame_num, pt in idv.tracking_points.items():"
   ]
  }
 ],
 "metadata": {
  "kernelspec": {
   "display_name": "Python 3 (ipykernel)",
   "language": "python",
   "name": "python3"
  },
  "language_info": {
   "codemirror_mode": {
    "name": "ipython",
    "version": 3
   },
   "file_extension": ".py",
   "mimetype": "text/x-python",
   "name": "python",
   "nbconvert_exporter": "python",
   "pygments_lexer": "ipython3",
   "version": "3.7.6"
  }
 },
 "nbformat": 4,
 "nbformat_minor": 5
}
