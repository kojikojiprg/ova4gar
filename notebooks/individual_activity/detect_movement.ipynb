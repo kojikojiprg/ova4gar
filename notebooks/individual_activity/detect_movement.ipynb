{
 "cells": [
  {
   "cell_type": "code",
   "execution_count": 1,
   "id": "4ef47bca-f237-4e8f-9aa3-1642a2498cbb",
   "metadata": {},
   "outputs": [
    {
     "name": "stdout",
     "output_type": "stream",
     "text": [
      "/raid6/home/yokoyama/research\n"
     ]
    },
    {
     "name": "stderr",
     "output_type": "stream",
     "text": [
      "/home/yokoyama/research/.venv/lib/python3.8/site-packages/tqdm/auto.py:22: TqdmWarning: IProgress not found. Please update jupyter and ipywidgets. See https://ipywidgets.readthedocs.io/en/stable/user_install.html\n",
      "  from .autonotebook import tqdm as notebook_tqdm\n"
     ]
    }
   ],
   "source": [
    "%cd ~/research\n",
    "\n",
    "import gc\n",
    "import os\n",
    "import sys\n",
    "from glob import glob\n",
    "\n",
    "import cv2\n",
    "import matplotlib.pyplot as plt\n",
    "import numpy as np\n",
    "from tqdm import tqdm\n",
    "import yaml\n",
    "from scipy import signal\n",
    "\n",
    "sys.path.append(\"src\")\n",
    "from utility.activity_loader import get_data_dirs, load_individuals\n",
    "from utility.video import Capture, Writer, concat_field_with_frame\n",
    "from visualize.individual import write_field as ind_write_field\n",
    "from visualize.keypoint import write_frame as kps_write_frame"
   ]
  },
  {
   "cell_type": "code",
   "execution_count": 2,
   "id": "e0f3201d-841c-418a-a58e-ae39a49c387e",
   "metadata": {},
   "outputs": [],
   "source": [
    "plt.rcParams['font.family'] = 'Times New Roman'\n",
    "plt.rcParams[\"font.size\"] = 24\n",
    "plt.rcParams['xtick.direction'] = 'in'  # x axis in\n",
    "plt.rcParams['ytick.direction'] = 'in'  # y axis in"
   ]
  },
  {
   "cell_type": "code",
   "execution_count": 3,
   "id": "5f0d30e2-05da-4d29-a240-03bd91dae154",
   "metadata": {},
   "outputs": [],
   "source": [
    "room_num = \"09\"\n",
    "surgery_num = \"001\""
   ]
  },
  {
   "cell_type": "code",
   "execution_count": 4,
   "id": "a3875bc9-4ba3-47cd-a06b-57589f49f992",
   "metadata": {},
   "outputs": [],
   "source": [
    "cfg_path = \"config/individual.yaml\"\n",
    "with open(cfg_path, \"r\") as f:\n",
    "    cfg = yaml.safe_load(f)"
   ]
  },
  {
   "cell_type": "code",
   "execution_count": 5,
   "id": "cde50afb-9f03-44c6-bd6f-f890c4273b4d",
   "metadata": {},
   "outputs": [],
   "source": [
    "field = cv2.imread(\"image/field.png\")"
   ]
  },
  {
   "cell_type": "code",
   "execution_count": 6,
   "id": "5bae49f8-564e-4b37-a6a5-8a007a85d6b8",
   "metadata": {},
   "outputs": [
    {
     "name": "stdout",
     "output_type": "stream",
     "text": [
      "['data/09/001/01', 'data/09/001/02', 'data/09/001/03', 'data/09/001/04', 'data/09/001/05', 'data/09/001/06', 'data/09/001/07', 'data/09/001/08', 'data/09/001/09', 'data/09/001/10', 'data/09/001/11', 'data/09/001/12', 'data/09/001/13', 'data/09/001/14', 'data/09/001/15', 'data/09/001/16']\n"
     ]
    }
   ],
   "source": [
    "data_dirs = get_data_dirs(room_num, surgery_num)\n",
    "print(data_dirs)"
   ]
  },
  {
   "cell_type": "code",
   "execution_count": 7,
   "id": "e6ffe986-856f-42a5-9790-42d7bcc84c95",
   "metadata": {},
   "outputs": [
    {
     "name": "stderr",
     "output_type": "stream",
     "text": [
      "100%|███████████████████████████████████████████████████████████████████████████████████████████████████████████████████████████████████████████████████████████████| 1/1 [00:19<00:00, 19.18s/it]\n"
     ]
    }
   ],
   "source": [
    "individuals = []\n",
    "for data_dir in tqdm(data_dirs[10:11]):\n",
    "    json_path = os.path.join(data_dir, \".json\", \"individual.json\")\n",
    "    loaded = load_individuals(json_path, cfg)\n",
    "    individuals += list(loaded.values())"
   ]
  },
  {
   "cell_type": "code",
   "execution_count": null,
   "id": "2e1dff36-1cae-4015-a493-cf063e3b5f18",
   "metadata": {},
   "outputs": [],
   "source": [
    "def calc_movements(individuals, th_length=900, move_size=5400, th_norm=10, pad_type=\"zero\"):\n",
    "    movements = {}\n",
    "    positions = {}\n",
    "    for ind in tqdm(individuals):\n",
    "        pos_dict = ind.get_indicator_all(\"position\")\n",
    "\n",
    "        if len(pos_dict) <= th_length:\n",
    "            continue\n",
    "            \n",
    "        move = []\n",
    "        pos = []\n",
    "        start_frame_num = pre_frame_num = list(pos_dict.keys())[0]\n",
    "        for frame_num in pos_dict.keys():\n",
    "            # calc diff\n",
    "            pre_pos = np.array(pos_dict[pre_frame_num])\n",
    "            crr_pos = np.array(pos_dict[frame_num])\n",
    "            diff = crr_pos - pre_pos\n",
    "            norm = np.linalg.norm(diff)\n",
    "            \n",
    "            if norm <= th_norm:\n",
    "                frame_num_diff = frame_num - pre_frame_num\n",
    "                for i in range(0, frame_num_diff - 1):\n",
    "                    if pad_type == \"zero\":\n",
    "                        # zero padding\n",
    "                        move.append(0)\n",
    "                        pos.append(pre_pos)\n",
    "                    elif pad_type == \"average\":\n",
    "                        # average padding\n",
    "                        i += 1\n",
    "                        move.append(norm / frame_num_diff * i)\n",
    "                        pos.append(pre_pos + diff / frame_num_diff * i)\n",
    "                move.append(norm)\n",
    "                pos.append(crr_pos)\n",
    "\n",
    "            pre_frame_num = frame_num\n",
    "\n",
    "        movements[ind.id] = move\n",
    "        positions[ind.id] = pos\n",
    "    \n",
    "    # crop movenemts for move_size\n",
    "    ret_movements = {}\n",
    "    ret_positions = {}\n",
    "    for pid in tqdm(movements.keys()):\n",
    "        count = 1\n",
    "        for i in range(len(movements[pid]))[::move_size]:\n",
    "            crop_move = movements[pid][i:i + move_size]\n",
    "            crop_pos = positions[pid][i:i + move_size]\n",
    "            \n",
    "            # if len(crop_move) < move_size:\n",
    "            #     # zero padding\n",
    "            #     crop_move += np.full(move_size - len(crop_move), 0).tolist()\n",
    "            #     crop_pos += [[0, 0] for _ in range(move_size - len(crop_pos))]\n",
    "        \n",
    "            ret_movements[f\"{pid}_{count:03d}\"] = crop_move\n",
    "            ret_positions[f\"{pid}_{count:03d}\"] = crop_pos\n",
    "            count += 1\n",
    "        \n",
    "    return ret_movements, ret_positions\n",
    "    \n",
    "movements, positions = calc_movements(individuals)"
   ]
  }
 ],
 "metadata": {
  "kernelspec": {
   "display_name": "Python 3 (ipykernel)",
   "language": "python",
   "name": "python3"
  },
  "language_info": {
   "codemirror_mode": {
    "name": "ipython",
    "version": 3
   },
   "file_extension": ".py",
   "mimetype": "text/x-python",
   "name": "python",
   "nbconvert_exporter": "python",
   "pygments_lexer": "ipython3",
   "version": "3.8.13"
  }
 },
 "nbformat": 4,
 "nbformat_minor": 5
}
