{
 "cells": [
  {
   "cell_type": "code",
   "execution_count": 1,
   "id": "ef50d190-ba47-4426-af8e-8e6bbc485fe4",
   "metadata": {},
   "outputs": [],
   "source": [
    "import os\n",
    "import glob\n",
    "import time\n",
    "import numpy as np\n",
    "import matplotlib.pyplot as plt\n",
    "import cv2\n",
    "import sys\n",
    "from tqdm import tqdm\n",
    "\n",
    "import torch\n",
    "import torch.nn.functional as F\n",
    "from torch import tensor\n",
    "from torch import nn\n",
    "from torch import optim\n",
    "from torch.utils.data import Dataset, DataLoader\n",
    "from sklearn.decomposition import PCA\n",
    "\n",
    "sys.path.append('../../src')\n",
    "from common import common, transform, json\n",
    "from common.json import IA_FORMAT, START_IDX\n",
    "from common.functions import gauss, cos_similarity, standardize\n",
    "from common.default import PASSING_DEFAULT\n",
    "from common.video import Capture\n",
    "from individual_activity.individual_activity import IndividualActivity"
   ]
  },
  {
   "cell_type": "code",
   "execution_count": 2,
   "id": "9ebdef3f-2252-412a-b038-86506eb4d286",
   "metadata": {},
   "outputs": [
    {
     "data": {
      "text/plain": [
       "'cuda:0'"
      ]
     },
     "execution_count": 2,
     "metadata": {},
     "output_type": "execute_result"
    }
   ],
   "source": [
    "device_idx = 0\n",
    "device = f'cuda:{device_idx}' if torch.cuda.is_available() else 'cpu'\n",
    "device"
   ]
  },
  {
   "cell_type": "markdown",
   "id": "badc5567-cce4-4ba0-a796-a61a2e87123c",
   "metadata": {},
   "source": [
    "# Indivisual Activity をロード"
   ]
  },
  {
   "cell_type": "code",
   "execution_count": 3,
   "id": "fae8218a-5b65-4f01-b66d-3487b0e1f9cf",
   "metadata": {},
   "outputs": [],
   "source": [
    "data_settings = [\n",
    "    {'room_num': '02', 'date': '20210903', 'option': 'passing'},\n",
    "    {'room_num': '08', 'date': '20210915', 'option': 'passing'},\n",
    "    {'room_num': '09', 'date': '20210706', 'option': 'passing'}\n",
    "]"
   ]
  },
  {
   "cell_type": "code",
   "execution_count": 4,
   "id": "45907f91-173a-46ca-b97e-d355cb6735a6",
   "metadata": {},
   "outputs": [],
   "source": [
    "# homography\n",
    "def get_homo(room_num):\n",
    "    field_path = os.path.join(common.data_dir, '{}/field.png'.format(room_num))\n",
    "    field_raw = cv2.imread(field_path)\n",
    "    p_video = transform.homo[room_num][0]\n",
    "    p_field = transform.homo[room_num][1]\n",
    "    homo = transform.Homography(p_video, p_field, field_raw.shape)\n",
    "    return homo"
   ]
  },
  {
   "cell_type": "code",
   "execution_count": 5,
   "id": "1e3cc2e2-c3dc-4981-8b67-ed3fa5a1222d",
   "metadata": {},
   "outputs": [],
   "source": [
    "def load_individuals(json_data, prefix, homo):\n",
    "    individuals = {}\n",
    "    for data in json_data:\n",
    "        label = prefix + str(data[IA_FORMAT[0]])\n",
    "        frame_num = data[IA_FORMAT[1]]\n",
    "        tracking_point = data[IA_FORMAT[2]]\n",
    "        keypoints = data[IA_FORMAT[3]]\n",
    "\n",
    "        if label not in individuals:\n",
    "            ia = IndividualActivity(label, homo)\n",
    "            individuals[label] = ia\n",
    "        else:\n",
    "            ia = individuals[label]\n",
    "\n",
    "        ia.tracking_points[frame_num] = tracking_point\n",
    "        ia.keypoints[frame_num] = keypoints\n",
    "        for f in IA_FORMAT[START_IDX:]:\n",
    "            ia.indicator_dict[f][frame_num] = data[f]\n",
    "            \n",
    "    return individuals"
   ]
  },
  {
   "cell_type": "code",
   "execution_count": 6,
   "id": "8b9ffbb6-b3e3-43cf-a4e5-58d79696e77b",
   "metadata": {
    "tags": []
   },
   "outputs": [
    {
     "name": "stdout",
     "output_type": "stream",
     "text": [
      "{'room_num': '02', 'date': '20210903', 'option': 'passing'}\n"
     ]
    },
    {
     "name": "stderr",
     "output_type": "stream",
     "text": [
      "100%|█████████████████████████████████████████████████████████████████████████████████████████████████████████████████████████████████████████████| 23/23 [00:01<00:00, 12.38it/s]\n"
     ]
    },
    {
     "name": "stdout",
     "output_type": "stream",
     "text": [
      "{'room_num': '08', 'date': '20210915', 'option': 'passing'}\n"
     ]
    },
    {
     "name": "stderr",
     "output_type": "stream",
     "text": [
      "100%|█████████████████████████████████████████████████████████████████████████████████████████████████████████████████████████████████████████████| 41/41 [00:02<00:00, 15.54it/s]\n"
     ]
    },
    {
     "name": "stdout",
     "output_type": "stream",
     "text": [
      "{'room_num': '09', 'date': '20210706', 'option': 'passing'}\n"
     ]
    },
    {
     "name": "stderr",
     "output_type": "stream",
     "text": [
      "100%|███████████████████████████████████████████████████████████████████████████████████████████████████████████████████████████████████████████████| 9/9 [00:00<00:00, 23.55it/s]\n"
     ]
    }
   ],
   "source": [
    "individuals = {}\n",
    "for setting in data_settings:\n",
    "    print(setting)\n",
    "    room_num = setting['room_num']\n",
    "    date = setting['date']\n",
    "    opt = setting['option']\n",
    "    \n",
    "    homo = get_homo(room_num)\n",
    "    \n",
    "    if opt is None:\n",
    "        dir_path = f'{common.data_dir}/{room_num}/{date}/*'\n",
    "    else:\n",
    "        dir_path = f'{common.data_dir}/{room_num}/{date}/{opt}/*'\n",
    "    dirs = glob.glob(dir_path)\n",
    "    dirs = sorted(dirs)[:-1]  # delete make_csv.csv\n",
    "    \n",
    "    for path in tqdm(dirs):\n",
    "        path = f'{path}/json/individual_activity.json'\n",
    "        json_data = json.load(path)\n",
    "        prefix = common.split_path(path)[-6] + '_' + common.split_path(path)[-3] + '_'  # room-num_date_\n",
    "        individuals.update(load_individuals(json_data, prefix, homo))"
   ]
  },
  {
   "cell_type": "markdown",
   "id": "4bc60d01-24c6-4969-be14-90ce0a3a9d2f",
   "metadata": {},
   "source": [
    "# 特徴量を抽出\n",
    "position + keypoints"
   ]
  },
  {
   "cell_type": "code",
   "execution_count": 7,
   "id": "53dcef0d-6877-46b1-88a3-75ef2bf87928",
   "metadata": {},
   "outputs": [],
   "source": [
    "def get_frame_max_coor(room_num, date):\n",
    "    video_path = os.path.join(common.root, 'video', room_num, date, '01.mp4')\n",
    "    cap = Capture(video_path)\n",
    "    frame = cap.read()\n",
    "    max_coor = frame.shape[:2]\n",
    "    return max_coor[1::-1]\n",
    "\n",
    "def get_field_max_coor(room_num):\n",
    "    field_path = os.path.join(common.data_dir, '{}/field.png'.format(room_num))\n",
    "    field_raw = cv2.imread(field_path)\n",
    "    max_coor = field_raw.shape[:2]\n",
    "    return max_coor\n",
    "\n",
    "frame_max_coors = {}\n",
    "field_max_coors = {}\n",
    "for setting in data_settings:\n",
    "    frame_max_coors[setting['room_num']] = get_frame_max_coor(setting['room_num'], setting['date'])\n",
    "    field_max_coors[setting['room_num']] = get_field_max_coor(setting['room_num'])"
   ]
  },
  {
   "cell_type": "code",
   "execution_count": 8,
   "id": "af8513a7-aeda-41e2-999e-f73edf5e8b6a",
   "metadata": {},
   "outputs": [],
   "source": [
    "min_len = 30\n",
    "\n",
    "data_dict = {}\n",
    "for key, ind in individuals.items():\n",
    "    room_num = key.split('_')[0]\n",
    "    pos_dict = ind.indicator_dict['position']  # {frame_num: position}\n",
    "    kps_dict = ind.keypoints  # {frame_num: keypoints}\n",
    "\n",
    "    if len(pos_dict) > min_len:\n",
    "        feature_dict = {}\n",
    "        for frame_num in pos_dict.keys():\n",
    "            # normalize\n",
    "            pos = np.array(pos_dict[frame_num]) / field_max_coors[room_num]\n",
    "            kps = np.array(kps_dict[frame_num]) / frame_max_coors[room_num]\n",
    "            \n",
    "            feature_dict[frame_num] = [pos.tolist()] + kps.tolist()\n",
    "        data_dict[key] = feature_dict"
   ]
  },
  {
   "cell_type": "markdown",
   "id": "4f8ffa82-619f-488d-b793-b43903bbe3a0",
   "metadata": {},
   "source": [
    "## nanを穴埋めする"
   ]
  },
  {
   "cell_type": "code",
   "execution_count": 44,
   "id": "68eaf69e-1ea2-4721-a515-27183d9de313",
   "metadata": {
    "tags": []
   },
   "outputs": [
    {
     "name": "stderr",
     "output_type": "stream",
     "text": [
      "100%|███████████████████████████████████████████████████████████████████████████████████████████████████████████████████████████████████████████| 801/801 [00:12<00:00, 63.11it/s]\n"
     ]
    }
   ],
   "source": [
    "def fill_nan(feature_dict, window=3):\n",
    "    min_frame_num = min(feature_dict.keys())\n",
    "    max_frame_num = max(feature_dict.keys())\n",
    "    pre = feature_dict[min_frame_num]\n",
    "    \n",
    "    copy_f_lst = []\n",
    "    for frame_num in range(min_frame_num, max_frame_num + 1):\n",
    "        if frame_num in feature_dict:\n",
    "            f = feature_dict[frame_num]\n",
    "            if True in np.isnan(f):\n",
    "                # 一部のnanを前フレームからコピー\n",
    "                f = np.where(np.isnan(f), pre, f).copy()\n",
    "            copy_f_lst.append(f)\n",
    "            pre = f.copy()\n",
    "        else:\n",
    "            # 前のフレームからコピー\n",
    "            copy_f_lst.append(pre)\n",
    "\n",
    "    # 残ったnanは移動平均で穴埋め\n",
    "    ma_f_lst = []\n",
    "    for i in range(0, len(copy_f_lst) - window):\n",
    "        means = np.nanmean(copy_f_lst[i:i + window], axis=0)\n",
    "        for f in copy_f_lst[i:i + window]:\n",
    "            if True in np.isnan(f):\n",
    "                f = np.where(np.isnan(f), means, f).copy()\n",
    "\n",
    "            if len(ma_f_lst) <= i + window:\n",
    "                ma_f_lst.append(f)\n",
    "\n",
    "    return  np.array(ma_f_lst)\n",
    "\n",
    "\n",
    "data_dict_fill_nan = {}\n",
    "for key, feature_dict in tqdm(data_dict.items()):\n",
    "    f_arr = fill_nan(feature_dict, window=3)\n",
    "    if len(f_arr) > 0:\n",
    "        data_dict_fill_nan[key] = f_arr"
   ]
  },
  {
   "cell_type": "markdown",
   "id": "0c185b13-06a9-4b07-8ca8-3d11d6140a90",
   "metadata": {},
   "source": [
    "# オートエンコーダ"
   ]
  },
  {
   "cell_type": "code",
   "execution_count": 16,
   "id": "dca1d71a-6961-467e-a794-950617377c34",
   "metadata": {},
   "outputs": [
    {
     "data": {
      "text/plain": [
       "<torch._C.Generator at 0x2050a9e1bf0>"
      ]
     },
     "execution_count": 16,
     "metadata": {},
     "output_type": "execute_result"
    }
   ],
   "source": [
    "# model settings\n",
    "SEQ_LEN = 64\n",
    "Z_SIZE = 64  # feature size\n",
    "N_LAYERS = 1\n",
    "DROPOUT = 0\n",
    "\n",
    "# leraning rate\n",
    "LR = 0.001\n",
    "\n",
    "# training and data settings\n",
    "EPOCH = 50\n",
    "BATCH_SIZE = 64\n",
    "TRAIN_RATIO = 0.7\n",
    "VAL_RATIO = 0.05\n",
    "\n",
    "kwargs = {\n",
    "    'seq_len': SEQ_LEN,\n",
    "    'n_features': list(data_dict_fill_nan.values())[0].shape[1] * 2,\n",
    "    'hidden_size1': Z_SIZE * 4,\n",
    "    'hidden_size2': Z_SIZE * 2,\n",
    "    'z_size': Z_SIZE,\n",
    "    'n_layers': N_LAYERS,\n",
    "    'dropout': DROPOUT,\n",
    "    'lr': LR,\n",
    "    'epoch': EPOCH,\n",
    "    'batch_size':BATCH_SIZE,\n",
    "    'device': device,\n",
    "}\n",
    "\n",
    "# setting random seed\n",
    "SEED = 64\n",
    "np.random.seed(SEED)\n",
    "torch.manual_seed(SEED)"
   ]
  },
  {
   "cell_type": "markdown",
   "id": "ba2bd68a-2aa2-4bbd-83d1-ec489d5784de",
   "metadata": {},
   "source": [
    "## データセット作成"
   ]
  },
  {
   "cell_type": "code",
   "execution_count": 17,
   "id": "b67c0601-d170-4016-a5dd-cd7b7b3959ef",
   "metadata": {},
   "outputs": [],
   "source": [
    "class MyDataset(Dataset):\n",
    "    def __init__(self, data_dict, keys, **kwargs):\n",
    "        seq_len = kwargs['seq_len']\n",
    "        self.x = []\n",
    "        for key in tqdm(keys):\n",
    "            feature = data_dict[key]\n",
    "            for i in range(len(feature) - seq_len + 1):\n",
    "                self.x.append(feature.reshape(-1, 18 * 2).tolist()[i:i + seq_len])\n",
    "            \n",
    "        self.device = kwargs['device']\n",
    "            \n",
    "    def __getitem__(self, index):\n",
    "        return tensor(self.x[index]).to(self.device)\n",
    "\n",
    "    def __len__(self):\n",
    "        return len(self.x)"
   ]
  },
  {
   "cell_type": "code",
   "execution_count": 18,
   "id": "eb3259d5-611f-4750-a0d2-909a84ef0aab",
   "metadata": {},
   "outputs": [
    {
     "name": "stderr",
     "output_type": "stream",
     "text": [
      "100%|███████████████████████████████████████████████████████████████████████████████████████████████████████████████████████████████████████████| 560/560 [00:17<00:00, 31.51it/s]\n",
      "100%|█████████████████████████████████████████████████████████████████████████████████████████████████████████████████████████████████████████████| 40/40 [00:00<00:00, 48.69it/s]\n",
      "100%|███████████████████████████████████████████████████████████████████████████████████████████████████████████████████████████████████████████| 201/201 [00:04<00:00, 45.14it/s]\n"
     ]
    }
   ],
   "source": [
    "random_keys = np.random.choice(\n",
    "    list(data_dict_fill_nan.keys()),\n",
    "    size=len(data_dict_fill_nan),\n",
    "    replace=False\n",
    ")\n",
    "train_len = int(len(data_dict_fill_nan) * TRAIN_RATIO)\n",
    "val_len = int(len(data_dict_fill_nan) * VAL_RATIO)\n",
    "train_keys = random_keys[:train_len]\n",
    "val_keys = random_keys[train_len:train_len + val_len]\n",
    "test_keys = random_keys[train_len + val_len:]\n",
    "\n",
    "train_loader = DataLoader(\n",
    "    MyDataset(data_dict_fill_nan, train_keys, **kwargs), batch_size=BATCH_SIZE, shuffle=True)\n",
    "val_loader = DataLoader(\n",
    "    MyDataset(data_dict_fill_nan, val_keys, **kwargs), batch_size=BATCH_SIZE, shuffle=True)\n",
    "test_loader = DataLoader(\n",
    "    MyDataset(data_dict_fill_nan, test_keys, **kwargs), batch_size=BATCH_SIZE, shuffle=True)"
   ]
  },
  {
   "cell_type": "markdown",
   "id": "12a88a2c-95ef-4326-bf54-d82eaa3f2eb3",
   "metadata": {},
   "source": [
    "## モデル生成"
   ]
  },
  {
   "cell_type": "code",
   "execution_count": 19,
   "id": "0ddd1223-0a23-4d24-9344-aa7e96e8a0b9",
   "metadata": {},
   "outputs": [],
   "source": [
    "class Encoder(nn.Module):\n",
    "    def __init__(self, **kwargs):\n",
    "        super(Encoder, self).__init__()\n",
    "        self.seq_len = kwargs['seq_len']\n",
    "        self.n_features = kwargs['n_features']\n",
    "        self.z_size = kwargs['z_size']\n",
    "\n",
    "        self.rnn1 = nn.LSTM(\n",
    "            input_size=kwargs['n_features'],\n",
    "            hidden_size=kwargs['hidden_size1'],\n",
    "            num_layers=kwargs['n_layers'],\n",
    "            dropout=kwargs['dropout'],\n",
    "            batch_first=True\n",
    "        )\n",
    "        self.rnn2 = nn.LSTM(\n",
    "            input_size=kwargs['hidden_size1'],\n",
    "            hidden_size=kwargs['hidden_size2'],\n",
    "            num_layers=kwargs['n_layers'],\n",
    "            dropout=kwargs['dropout'],\n",
    "            batch_first=True\n",
    "        )\n",
    "        self.rnn3 = nn.LSTM(\n",
    "            input_size=kwargs['hidden_size2'],\n",
    "            hidden_size=kwargs['z_size'],\n",
    "            num_layers=kwargs['n_layers'],\n",
    "            dropout=kwargs['dropout'],\n",
    "            batch_first=True\n",
    "        )\n",
    "\n",
    "    def forward(self, x):\n",
    "        x = x.reshape((-1, self.seq_len, self.n_features))\n",
    "        # x.shape = (batch_size, seq_len, n_features)\n",
    "        \n",
    "        x, (_, _) = self.rnn1(x)\n",
    "        x, (_, _) = self.rnn2(x)\n",
    "        _, (z, _) = self.rnn3(x)\n",
    "        # x.shape = (batch_size, seq_len, z_size)\n",
    "        # z.shape = (1, batch_size, z_size)\n",
    "        \n",
    "        return z.reshape(-1, self.z_size)\n",
    "\n",
    "\n",
    "class Decoder(nn.Module):\n",
    "    def __init__(self, **kwargs):\n",
    "        super(Decoder, self).__init__()\n",
    "        self.seq_len = kwargs['seq_len']\n",
    "        self.z_size = kwargs['z_size']\n",
    "        self.n_layers = kwargs['n_layers']\n",
    "\n",
    "        self.rnn1 = nn.LSTM(\n",
    "            input_size=kwargs['z_size'],\n",
    "            hidden_size=kwargs['z_size'],\n",
    "            num_layers=kwargs['n_layers'],\n",
    "            dropout=kwargs['dropout'],\n",
    "            batch_first=True\n",
    "        )\n",
    "        self.rnn2 = nn.LSTM(\n",
    "            input_size=kwargs['z_size'],\n",
    "            hidden_size=kwargs['hidden_size2'],\n",
    "            num_layers=kwargs['n_layers'],\n",
    "            dropout=kwargs['dropout'],\n",
    "            batch_first=True\n",
    "        )\n",
    "        self.rnn3 = nn.LSTM(\n",
    "            input_size=kwargs['hidden_size2'],\n",
    "            hidden_size=kwargs['hidden_size1'],\n",
    "            num_layers=kwargs['n_layers'],\n",
    "            dropout=kwargs['dropout'],\n",
    "            batch_first=True\n",
    "        )\n",
    "        self.output_layer = nn.Linear(kwargs['hidden_size1'], kwargs['n_features'])\n",
    "\n",
    "    def forward(self, z):\n",
    "        z = z.repeat(1, self.seq_len).reshape(-1, self.seq_len, self.z_size)\n",
    "        # z.shape = (batch_size, seq_len, self.z_size)\n",
    "        \n",
    "        x, (_, _) = self.rnn1(z)\n",
    "        x, (_, _) = self.rnn2(x)\n",
    "        x, (_, _) = self.rnn3(x)\n",
    "        x = self.output_layer(x)\n",
    "        # x.shape = (batch_size, seq_len, n_feature)\n",
    "\n",
    "        return x\n",
    "\n",
    "\n",
    "class RecurrentAutoencoder(nn.Module):\n",
    "    def __init__(self, **kwargs):\n",
    "        super(RecurrentAutoencoder, self).__init__()\n",
    "\n",
    "        self.encoder = Encoder(**kwargs).to(kwargs['device'])\n",
    "        self.decoder = Decoder(**kwargs).to(kwargs['device'])\n",
    "        \n",
    "    def forward(self, x):\n",
    "        z = self.encoder(x)\n",
    "        y = self.decoder(z)\n",
    "        return y, z"
   ]
  },
  {
   "cell_type": "code",
   "execution_count": 20,
   "id": "b19e215c-81a8-4373-acb0-1c2c259c0fb1",
   "metadata": {},
   "outputs": [
    {
     "data": {
      "text/plain": [
       "RecurrentAutoencoder(\n",
       "  (encoder): Encoder(\n",
       "    (rnn1): LSTM(36, 256, batch_first=True)\n",
       "    (rnn2): LSTM(256, 128, batch_first=True)\n",
       "    (rnn3): LSTM(128, 64, batch_first=True)\n",
       "  )\n",
       "  (decoder): Decoder(\n",
       "    (rnn1): LSTM(64, 64, batch_first=True)\n",
       "    (rnn2): LSTM(64, 128, batch_first=True)\n",
       "    (rnn3): LSTM(128, 256, batch_first=True)\n",
       "    (output_layer): Linear(in_features=256, out_features=36, bias=True)\n",
       "  )\n",
       ")"
      ]
     },
     "execution_count": 20,
     "metadata": {},
     "output_type": "execute_result"
    }
   ],
   "source": [
    "# create new model\n",
    "model = RecurrentAutoencoder(**kwargs)\n",
    "model = model.to(kwargs['device'])\n",
    "\n",
    "optimizer = torch.optim.Adam(model.parameters(), lr=kwargs['lr'])\n",
    "criterion = nn.MSELoss().to(kwargs['device'])\n",
    "\n",
    "model"
   ]
  },
  {
   "cell_type": "markdown",
   "id": "4ff4da3c-2dd7-40f2-8b0f-fb8cf1ece655",
   "metadata": {},
   "source": [
    "## 学習"
   ]
  },
  {
   "cell_type": "code",
   "execution_count": 21,
   "id": "ad509d19-1abb-4e64-a514-9af97db39771",
   "metadata": {
    "scrolled": true,
    "tags": []
   },
   "outputs": [
    {
     "name": "stdout",
     "output_type": "stream",
     "text": [
      "Epoch[1/50] train loss: 0.00725, val loss: 0.00259, time: 29.33\n",
      "Epoch[2/50] train loss: 0.00103, val loss: 0.00122, time: 28.75\n",
      "Epoch[3/50] train loss: 0.00065, val loss: 0.00104, time: 28.77\n",
      "Epoch[4/50] train loss: 0.00057, val loss: 0.00106, time: 28.88\n",
      "Epoch[5/50] train loss: 0.00050, val loss: 0.00109, time: 28.97\n",
      "Epoch[6/50] train loss: 0.00043, val loss: 0.00091, time: 28.83\n",
      "Epoch[7/50] train loss: 0.00037, val loss: 0.00082, time: 28.60\n",
      "Epoch[8/50] train loss: 0.00034, val loss: 0.00084, time: 28.75\n",
      "Epoch[9/50] train loss: 0.00028, val loss: 0.00078, time: 28.72\n",
      "Epoch[10/50] train loss: 0.00027, val loss: 0.00071, time: 28.68\n",
      "Epoch[11/50] train loss: 0.00025, val loss: 0.00071, time: 28.61\n",
      "Epoch[12/50] train loss: 0.00022, val loss: 0.00073, time: 28.64\n",
      "Epoch[13/50] train loss: 0.00022, val loss: 0.00076, time: 28.70\n",
      "Epoch[14/50] train loss: 0.00020, val loss: 0.00066, time: 28.68\n",
      "Epoch[15/50] train loss: 0.00018, val loss: 0.00070, time: 28.76\n",
      "Epoch[16/50] train loss: 0.00017, val loss: 0.00071, time: 28.65\n",
      "Epoch[17/50] train loss: 0.00016, val loss: 0.00068, time: 28.43\n",
      "Epoch[18/50] train loss: 0.00015, val loss: 0.00066, time: 28.06\n",
      "Epoch[19/50] train loss: 0.00015, val loss: 0.00067, time: 28.27\n",
      "Epoch[20/50] train loss: 0.00013, val loss: 0.00073, time: 28.94\n",
      "Epoch[21/50] train loss: 0.00013, val loss: 0.00066, time: 28.52\n",
      "Epoch[22/50] train loss: 0.00013, val loss: 0.00069, time: 28.63\n",
      "Epoch[23/50] train loss: 0.00012, val loss: 0.00068, time: 28.69\n",
      "Epoch[24/50] train loss: 0.00012, val loss: 0.00076, time: 28.83\n",
      "Epoch[25/50] train loss: 0.00014, val loss: 0.00065, time: 28.84\n",
      "Epoch[26/50] train loss: 0.00012, val loss: 0.00068, time: 28.81\n",
      "Epoch[27/50] train loss: 0.00010, val loss: 0.00067, time: 28.57\n",
      "Epoch[28/50] train loss: 0.00010, val loss: 0.00068, time: 28.74\n",
      "Epoch[29/50] train loss: 0.00010, val loss: 0.00069, time: 28.72\n",
      "Epoch[30/50] train loss: 0.00012, val loss: 0.00071, time: 28.84\n",
      "Epoch[31/50] train loss: 0.00009, val loss: 0.00071, time: 28.94\n",
      "Epoch[32/50] train loss: 0.00009, val loss: 0.00074, time: 28.41\n",
      "Epoch[33/50] train loss: 0.00009, val loss: 0.00069, time: 28.67\n",
      "Epoch[34/50] train loss: 0.00009, val loss: 0.00073, time: 28.79\n",
      "Epoch[35/50] train loss: 0.00009, val loss: 0.00071, time: 28.68\n",
      "Epoch[36/50] train loss: 0.00009, val loss: 0.00070, time: 28.72\n",
      "Epoch[37/50] train loss: 0.00008, val loss: 0.00074, time: 28.74\n",
      "Epoch[38/50] train loss: 0.00008, val loss: 0.00071, time: 28.83\n",
      "Epoch[39/50] train loss: 0.00009, val loss: 0.00069, time: 28.81\n",
      "Epoch[40/50] train loss: 0.00007, val loss: 0.00071, time: 28.76\n",
      "Epoch[41/50] train loss: 0.00008, val loss: 0.00070, time: 28.70\n",
      "Epoch[42/50] train loss: 0.00010, val loss: 0.00068, time: 28.74\n",
      "Epoch[43/50] train loss: 0.00007, val loss: 0.00069, time: 28.73\n",
      "Epoch[44/50] train loss: 0.00007, val loss: 0.00066, time: 28.60\n",
      "Epoch[45/50] train loss: 0.00007, val loss: 0.00071, time: 28.66\n",
      "Epoch[46/50] train loss: 0.00007, val loss: 0.00069, time: 28.73\n",
      "Epoch[47/50] train loss: 0.00007, val loss: 0.00069, time: 28.86\n",
      "Epoch[48/50] train loss: 0.00007, val loss: 0.00077, time: 28.90\n",
      "Epoch[49/50] train loss: 0.00009, val loss: 0.00073, time: 28.79\n",
      "Epoch[50/50] train loss: 0.00007, val loss: 0.00073, time: 28.44\n"
     ]
    }
   ],
   "source": [
    "n_epochs = kwargs['epoch']\n",
    "history = dict(train=[], val=[])\n",
    "for epoch in range(1, n_epochs + 1):\n",
    "    ts = time.time()\n",
    "\n",
    "    # train\n",
    "    model = model.train()\n",
    "    train_losses = []\n",
    "    for x in train_loader:\n",
    "        optimizer.zero_grad()\n",
    "        y, _ = model(x)\n",
    "\n",
    "        loss = criterion(x, y)\n",
    "        loss.backward()\n",
    "        optimizer.step()\n",
    "        train_losses.append(loss.item())\n",
    "\n",
    "    # validate\n",
    "    model = model.eval()\n",
    "    val_losses = []\n",
    "    with torch.no_grad():\n",
    "        for x in val_loader:\n",
    "            y, _ = model(x)\n",
    "            loss = criterion(x, y)\n",
    "            val_losses.append(loss.item())\n",
    "\n",
    "    te = time.time()\n",
    "    train_loss = np.mean(train_losses)\n",
    "    val_loss = np.mean(val_losses)\n",
    "    history['train'].append(train_loss)\n",
    "    history['val'].append(val_loss)\n",
    "\n",
    "    print(f\"Epoch[{epoch}/{(n_epochs)}] train loss: {train_loss:.5f}, val loss: {val_loss:.5f}, time: {te - ts:.2f}\")"
   ]
  },
  {
   "cell_type": "code",
   "execution_count": 22,
   "id": "ab571adc-d5ca-45c6-a0eb-dd3c37934c43",
   "metadata": {},
   "outputs": [
    {
     "data": {
      "image/png": "[encoded data removed]",
      "text/plain": [
       "<Figure size 432x288 with 1 Axes>"
      ]
     },
     "metadata": {
      "needs_background": "light"
     },
     "output_type": "display_data"
    }
   ],
   "source": [
    "plt.plot(history['train'])\n",
    "plt.plot(history['val'])\n",
    "plt.ylabel('MSE Loss')\n",
    "plt.xlabel('epoch')\n",
    "plt.title('Loss over training epochs')\n",
    "plt.legend(['train','val'])\n",
    "plt.show()"
   ]
  },
  {
   "cell_type": "code",
   "execution_count": 23,
   "id": "230ef8e4-6882-4d28-8c8b-e2d174a70b2a",
   "metadata": {},
   "outputs": [],
   "source": [
    "path = f'{common.root}/model/pass_model_autoencoder_{Z_SIZE}.pth'\n",
    "torch.save(model, path)"
   ]
  },
  {
   "cell_type": "markdown",
   "id": "588cd1f0-1e93-44cf-8de4-756fcb1ba379",
   "metadata": {},
   "source": [
    "## 検証"
   ]
  },
  {
   "cell_type": "code",
   "execution_count": 24,
   "id": "b20ff81d-c7db-42b5-98c5-3bc5bffde1b8",
   "metadata": {},
   "outputs": [],
   "source": [
    "path = f'{common.root}/model/pass_model_autoencoder_{Z_SIZE}.pth'\n",
    "model = torch.load(path)\n",
    "model = model.to(kwargs['device'])"
   ]
  },
  {
   "cell_type": "code",
   "execution_count": 25,
   "id": "b0306202-b964-4f98-bccd-649f9f16194e",
   "metadata": {},
   "outputs": [
    {
     "data": {
      "text/plain": [
       "RecurrentAutoencoder(\n",
       "  (encoder): Encoder(\n",
       "    (rnn1): LSTM(36, 256, batch_first=True)\n",
       "    (rnn2): LSTM(256, 128, batch_first=True)\n",
       "    (rnn3): LSTM(128, 64, batch_first=True)\n",
       "  )\n",
       "  (decoder): Decoder(\n",
       "    (rnn1): LSTM(64, 64, batch_first=True)\n",
       "    (rnn2): LSTM(64, 128, batch_first=True)\n",
       "    (rnn3): LSTM(128, 256, batch_first=True)\n",
       "    (output_layer): Linear(in_features=256, out_features=36, bias=True)\n",
       "  )\n",
       ")"
      ]
     },
     "execution_count": 25,
     "metadata": {},
     "output_type": "execute_result"
    }
   ],
   "source": [
    "model"
   ]
  },
  {
   "cell_type": "code",
   "execution_count": 26,
   "id": "484d8e04-4a4e-42e9-9839-4d08125a1bf3",
   "metadata": {},
   "outputs": [],
   "source": [
    "predictions, losses = [], []\n",
    "with torch.no_grad():\n",
    "    model = model.eval()\n",
    "    for x in test_loader:\n",
    "        y, _ = model(x)\n",
    "\n",
    "        loss = criterion(x, y)\n",
    "        predictions.append(y.cpu().numpy().flatten())\n",
    "        losses.append(loss.item())"
   ]
  },
  {
   "cell_type": "code",
   "execution_count": 27,
   "id": "fa37a28d-3c6d-4d3f-b2d2-03292a1317b9",
   "metadata": {},
   "outputs": [
    {
     "name": "stdout",
     "output_type": "stream",
     "text": [
      "0.0003965228795328416\n"
     ]
    },
    {
     "data": {
      "image/png": "[encoded data removed]",
      "text/plain": [
       "<Figure size 432x288 with 1 Axes>"
      ]
     },
     "metadata": {
      "needs_background": "light"
     },
     "output_type": "display_data"
    }
   ],
   "source": [
    "print(np.mean(losses))\n",
    "plt.hist(losses, bins=50)\n",
    "plt.xlabel('MSE Loss')\n",
    "plt.show()"
   ]
  },
  {
   "cell_type": "markdown",
   "id": "9bcafb80-e47a-4ebe-8f0b-81ebead78d2b",
   "metadata": {},
   "source": [
    "### 特徴量の分布をプロット"
   ]
  },
  {
   "cell_type": "code",
   "execution_count": 28,
   "id": "ac4ac767-6012-4621-bcfb-9f57aa24200b",
   "metadata": {
    "tags": []
   },
   "outputs": [
    {
     "name": "stdout",
     "output_type": "stream",
     "text": [
      "['02_01_17', '02_02_0', '02_02_1', '02_02_17', '02_02_25', '02_02_28', '02_02_31', '02_02_33', '02_02_8', '02_02_9', '02_03_17', '02_03_24', '02_03_5', '02_03_7', '02_03_9', '02_04_0', '02_04_14', '02_05_10', '02_05_2', '02_06_7', '02_06_8', '02_06_9', '02_07_4', '02_07_5', '02_08_17', '02_08_5', '02_08_7', '02_08_8', '02_09_10', '02_09_17', '02_09_2', '02_09_3', '02_09_9', '02_10_13', '02_10_14', '02_10_16', '02_10_18', '02_10_19', '02_10_36', '02_10_39', '02_11_3', '02_11_5', '02_11_9', '02_12_1', '02_12_15', '02_12_3', '02_12_4', '02_12_8', '02_13_12', '02_13_2', '02_13_9', '02_14_5', '02_15_0', '02_15_10', '02_15_13', '02_15_3', '02_15_39', '02_15_4', '02_15_44', '02_15_58', '02_16_14', '02_16_3', '02_16_4', '02_16_8', '02_19_3', '02_19_4', '02_20_2', '02_21_0', '02_21_11', '02_21_4', '02_21_5', '02_22_2', '02_22_8', '02_23_10', '02_23_16', '02_23_5', '08_01_1', '08_02_3', '08_02_4', '08_02_5', '08_03_17', '08_03_4', '08_04_0', '08_04_15', '08_05_2', '08_05_5', '08_06_1', '08_06_5', '08_07_3', '08_07_5', '08_07_6', '08_08_0', '08_08_11', '08_08_2', '08_08_9', '08_09_1', '08_09_2', '08_09_5', '08_10_8', '08_11_0', '08_11_1', '08_11_4', '08_12_5', '08_13_0', '08_13_2', '08_13_3', '08_13_9', '08_14_10', '08_14_12', '08_14_13', '08_14_6', '08_15_3', '08_15_4', '08_15_5', '08_15_6', '08_16_11', '08_16_2', '08_16_3', '08_17_2', '08_18_5', '08_19_4', '08_20_3', '08_20_4', '08_20_5', '08_22_3', '08_23_1', '08_23_3', '08_24_11', '08_24_3', '08_25_12', '08_25_7', '08_26_0', '08_27_11', '08_27_2', '08_27_3', '08_27_5', '08_29_3', '08_29_7', '08_29_8', '08_30_0', '08_30_1', '08_30_16', '08_30_3', '08_30_6', '08_31_6', '08_31_7', '08_32_2', '08_32_7', '08_33_0', '08_33_3', '08_33_5', '08_34_9', '08_35_0', '08_35_10', '08_35_14', '08_35_2', '08_36_0', '08_36_3', '08_37_16', '08_37_19', '08_37_24', '08_38_3', '08_39_11', '08_41_0', '08_41_1', '08_41_9', '09_01_0', '09_01_1', '09_01_2', '09_01_3', '09_02_14', '09_02_20', '09_02_24', '09_02_6', '09_02_7', '09_03_10', '09_03_19', '09_03_23', '09_03_27', '09_03_3', '09_03_33', '09_03_6', '09_04_0', '09_04_3', '09_04_9', '09_05_1', '09_05_12', '09_05_13', '09_06_1', '09_06_15', '09_06_3', '09_07_0', '09_07_4', '09_07_8', '09_08_10', '09_08_4', '09_08_5', '09_08_9', '09_09_1', '09_09_3', '09_09_4']\n"
     ]
    }
   ],
   "source": [
    "# testデータからデータを目視で選択する\n",
    "print(sorted(test_keys))"
   ]
  },
  {
   "cell_type": "code",
   "execution_count": 29,
   "id": "697492fc-d81a-41b8-91eb-e1abd0e974d4",
   "metadata": {},
   "outputs": [],
   "source": [
    "types = [\n",
    "    'surgeon',\n",
    "    'scrub nurse',\n",
    "    'circulator',\n",
    "    'anesthesiologist',\n",
    "    'medical intern',\n",
    "]\n",
    "keys = [\n",
    "    {'key':'02_02_1',  'type':2},\n",
    "    {'key':'02_02_2',  'type':1},\n",
    "    {'key':'02_11_0',  'type':4},\n",
    "    {'key':'02_11_1',  'type':4},\n",
    "    {'key':'02_11_2',  'type':2},\n",
    "    {'key':'09_04_3',  'type':2},\n",
    "    {'key':'09_04_1',  'type':1},\n",
    "    {'key':'09_04_5',  'type':0},\n",
    "]"
   ]
  },
  {
   "cell_type": "code",
   "execution_count": 30,
   "id": "3869e79e-351c-44ad-b460-c74d37be76a9",
   "metadata": {},
   "outputs": [],
   "source": [
    "graph = [\n",
    "    # ========== 4 ============ 9 =========== 14 =====\n",
    "    [0, 1, 1, 0, 0, 0, 0, 0, 0, 0, 0, 0, 0, 0, 0, 0, 0],  # Nose\n",
    "    [0, 0, 0, 1, 0, 0, 0, 0, 0, 0, 0, 0, 0, 0, 0, 0, 0],  # LEye\n",
    "    [0, 0, 0, 0, 1, 0, 0, 0, 0, 0, 0, 0, 0, 0, 0, 0, 0],  # REye\n",
    "    [0, 0, 0, 0, 0, 0, 0, 0, 0, 0, 0, 0, 0, 0, 0, 0, 0],  # LEar\n",
    "    [0, 0, 0, 0, 0, 0, 0, 0, 0, 0, 0, 0, 0, 0, 0, 0, 0],  # REar\n",
    "    [0, 0, 0, 0, 0, 0, 1, 1, 0, 0, 0, 1, 0, 0, 0, 0, 0],  # LShoulder\n",
    "    [0, 0, 0, 0, 0, 0, 0, 0, 1, 0, 0, 0, 1, 0, 0, 0, 0],  # RShoulder\n",
    "    [0, 0, 0, 0, 0, 0, 0, 0, 0, 1, 0, 0, 0, 0, 0, 0, 0],  # LElbow\n",
    "    [0, 0, 0, 0, 0, 0, 0, 0, 0, 0, 1, 0, 0, 0, 0, 0, 0],  # RElbow\n",
    "    [0, 0, 0, 0, 0, 0, 0, 0, 0, 0, 0, 0, 0, 0, 0, 0, 0],  # LWrist\n",
    "    [0, 0, 0, 0, 0, 0, 0, 0, 0, 0, 0, 0, 0, 0, 0, 0, 0],  # RWrist\n",
    "    [0, 0, 0, 0, 0, 0, 0, 0, 0, 0, 0, 0, 0, 1, 0, 0, 0],  # LHip\n",
    "    [0, 0, 0, 0, 0, 0, 0, 0, 0, 0, 0, 0, 0, 0, 1, 0, 0],  # RHip\n",
    "    [0, 0, 0, 0, 0, 0, 0, 0, 0, 0, 0, 0, 0, 0, 0, 1, 0],  # LKnee\n",
    "    [0, 0, 0, 0, 0, 0, 0, 0, 0, 0, 0, 0, 0, 0, 0, 0, 1],  # RKnee\n",
    "    [0, 0, 0, 0, 0, 0, 0, 0, 0, 0, 0, 0, 0, 0, 0, 0, 0],  # LAnkle\n",
    "    [0, 0, 0, 0, 0, 0, 0, 0, 0, 0, 0, 0, 0, 0, 0, 0, 0],  # RAnkle\n",
    "]\n",
    "\n",
    "def plot_keypoints(img, keypoints, color=(255, 0, 0)):\n",
    "    if np.any(np.isnan(keypoints)):\n",
    "        return img\n",
    "    for i in range(len(keypoints) - 1):\n",
    "        for j in range(i + 1, len(keypoints)):\n",
    "            p1 = tuple(keypoints[i].astype(int))\n",
    "            p2 = tuple(keypoints[j].astype(int))\n",
    "            if graph[i][j] == 1:\n",
    "                img = cv2.line(img, p1, p2, color, 3)\n",
    "    return img"
   ]
  },
  {
   "cell_type": "code",
   "execution_count": 55,
   "id": "aea53482-8cab-4c11-8cd8-b775be5fe502",
   "metadata": {},
   "outputs": [
    {
     "name": "stdout",
     "output_type": "stream",
     "text": [
      "[0.22319838 0.53817115] [116.30564332 178.45292664]\n"
     ]
    },
    {
     "data": {
      "image/png": "[encoded data removed]",
      "text/plain": [
       "<Figure size 1800x288 with 64 Axes>"
      ]
     },
     "metadata": {
      "needs_background": "light"
     },
     "output_type": "display_data"
    }
   ],
   "source": [
    "key_idx = 0\n",
    "frame_num = 64\n",
    "ratio = 500\n",
    "\n",
    "feature = data_dict_fill_nan[keys[key_idx]['key']]\n",
    "test_feature = feature[frame_num:frame_num + SEQ_LEN]\n",
    "\n",
    "model.eval()\n",
    "with torch.no_grad():\n",
    "    out, _ = model(tensor(test_feature).float().to(kwargs['device']))\n",
    "\n",
    "    test_feature = test_feature.reshape(SEQ_LEN, 18, 2)\n",
    "    out = out.cpu().numpy().flatten().reshape(SEQ_LEN, 18, 2)\n",
    "\n",
    "    mins = np.min(\n",
    "        np.append(np.min(test_feature[1:], axis=1), np.min(out[1:], axis=1), axis=0),\n",
    "        axis=0\n",
    "    )\n",
    "    maxs = np.max(\n",
    "        np.append(np.max(test_feature, axis=1), np.max(out, axis=1), axis=0),\n",
    "        axis=0\n",
    "    )\n",
    "    print(mins, maxs)\n",
    "    \n",
    "    test_feature[1:] = (test_feature[1:] - mins) * ratio\n",
    "    out[1:] = (out[1:] - mins) * ratio\n",
    "    size = (maxs - mins).astype(int)\n",
    "    \n",
    "    fig = plt.figure(figsize=(25, 4))\n",
    "    for i in range(SEQ_LEN):\n",
    "        ax = fig.add_subplot(2, int(SEQ_LEN / 2), i + 1)\n",
    "        img = np.ones((size[1], size[0], 3), np.uint8) * 255\n",
    "        img = plot_keypoints(img, test_feature[i, 1:, :], (255, 0, 0))\n",
    "        img = plot_keypoints(img, out[i, 1:, :], (0, 255, 0))\n",
    "        ax.imshow(img)\n",
    "        ax.axis('off')\n",
    "    plt.show()"
   ]
  },
  {
   "cell_type": "code",
   "execution_count": 53,
   "id": "ac13c5de-9252-44a8-88c9-b23a5bdb3126",
   "metadata": {},
   "outputs": [
    {
     "name": "stderr",
     "output_type": "stream",
     "text": [
      "100%|███████████████████████████████████████████████████████████████████████████████████████████████████████████████████████████████████████████████| 8/8 [00:09<00:00,  1.22s/it]\n"
     ]
    },
    {
     "data": {
      "text/plain": [
       "PCA(n_components=2)"
      ]
     },
     "execution_count": 53,
     "metadata": {},
     "output_type": "execute_result"
    }
   ],
   "source": [
    "n_components = 2\n",
    "\n",
    "z_lst = []\n",
    "z_dict = {}\n",
    "model.eval()\n",
    "with torch.no_grad():\n",
    "    for key in tqdm(keys):\n",
    "        key = key['key']\n",
    "        kps_arr = data_dict_fill_nan[key]\n",
    "        z_dict[key] = []\n",
    "        \n",
    "        for i in range(len(kps_arr) - SEQ_LEN + 1):\n",
    "            _, z = model(tensor(kps_arr[i:i + SEQ_LEN]).float().to(kwargs['device']))\n",
    "            z = z.cpu().numpy().flatten()\n",
    "            z_lst.append(z)\n",
    "            z_dict[key].append(z)\n",
    "        \n",
    "        z_dict[key] = np.array(z_dict[key])\n",
    "\n",
    "pca = PCA(n_components=n_components)\n",
    "pca.fit(z_lst)"
   ]
  },
  {
   "cell_type": "code",
   "execution_count": 54,
   "id": "e6557a28-1b21-4c58-9cb4-b9a5c91c417d",
   "metadata": {},
   "outputs": [
    {
     "data": {
      "text/plain": [
       "<matplotlib.legend.Legend at 0x2066c354070>"
      ]
     },
     "execution_count": 54,
     "metadata": {},
     "output_type": "execute_result"
    },
    {
     "data": {
      "image/png": "[encoded data removed]",
      "text/plain": [
       "<Figure size 720x720 with 1 Axes>"
      ]
     },
     "metadata": {
      "needs_background": "light"
     },
     "output_type": "display_data"
    }
   ],
   "source": [
    "fig = plt.figure(figsize=(10,10))\n",
    "for key in keys:\n",
    "    z_lst = z_dict[key['key']]\n",
    "    z_pca = pca.transform(z_lst)\n",
    "    x = z_pca.T[0]\n",
    "    y = z_pca.T[1]\n",
    "    k, t = key['key'], types[key['type']]\n",
    "    plt.scatter(x, y, label=f'{k}:{t}')\n",
    "plt.legend()"
   ]
  },
  {
   "cell_type": "code",
   "execution_count": null,
   "id": "8602ef1b-1588-4569-9802-2570235ecc4b",
   "metadata": {},
   "outputs": [],
   "source": []
  }
 ],
 "metadata": {
  "kernelspec": {
   "display_name": "Python 3 (ipykernel)",
   "language": "python",
   "name": "python3"
  },
  "language_info": {
   "codemirror_mode": {
    "name": "ipython",
    "version": 3
   },
   "file_extension": ".py",
   "mimetype": "text/x-python",
   "name": "python",
   "nbconvert_exporter": "python",
   "pygments_lexer": "ipython3",
   "version": "3.9.7"
  }
 },
 "nbformat": 4,
 "nbformat_minor": 5
}
