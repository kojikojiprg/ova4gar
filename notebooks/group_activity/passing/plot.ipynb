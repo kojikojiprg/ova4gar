{
 "cells": [
  {
   "cell_type": "code",
   "execution_count": 1,
   "id": "bdf97311-ebfb-4d19-ac8f-41b12718b224",
   "metadata": {},
   "outputs": [
    {
     "ename": "ModuleNotFoundError",
     "evalue": "No module named 'json_io'",
     "output_type": "error",
     "traceback": [
      "\u001b[1;31m---------------------------------------------------------------------------\u001b[0m",
      "\u001b[1;31mModuleNotFoundError\u001b[0m                       Traceback (most recent call last)",
      "\u001b[1;32m~\\AppData\\Local\\Temp/ipykernel_13144/829449248.py\u001b[0m in \u001b[0;36m<module>\u001b[1;34m\u001b[0m\n\u001b[0;32m      8\u001b[0m \u001b[0msys\u001b[0m\u001b[1;33m.\u001b[0m\u001b[0mpath\u001b[0m\u001b[1;33m.\u001b[0m\u001b[0mappend\u001b[0m\u001b[1;33m(\u001b[0m\u001b[1;34m'../../../src'\u001b[0m\u001b[1;33m)\u001b[0m\u001b[1;33m\u001b[0m\u001b[1;33m\u001b[0m\u001b[0m\n\u001b[0;32m      9\u001b[0m \u001b[1;33m\u001b[0m\u001b[0m\n\u001b[1;32m---> 10\u001b[1;33m \u001b[1;32mfrom\u001b[0m \u001b[0mcommon\u001b[0m \u001b[1;32mimport\u001b[0m \u001b[0mcommon\u001b[0m\u001b[1;33m,\u001b[0m \u001b[0mtransform\u001b[0m\u001b[1;33m,\u001b[0m \u001b[0mjson_io\u001b[0m\u001b[1;33m\u001b[0m\u001b[1;33m\u001b[0m\u001b[0m\n\u001b[0m\u001b[0;32m     11\u001b[0m \u001b[1;32mfrom\u001b[0m \u001b[0mcommon\u001b[0m\u001b[1;33m.\u001b[0m\u001b[0mfunctions\u001b[0m \u001b[1;32mimport\u001b[0m \u001b[0mcos_similarity\u001b[0m\u001b[1;33m,\u001b[0m \u001b[0mgauss\u001b[0m\u001b[1;33m\u001b[0m\u001b[1;33m\u001b[0m\u001b[0m\n\u001b[0;32m     12\u001b[0m \u001b[1;32mfrom\u001b[0m \u001b[0mcommon\u001b[0m\u001b[1;33m.\u001b[0m\u001b[0mjson_io\u001b[0m \u001b[1;32mimport\u001b[0m \u001b[0mIA_FORMAT\u001b[0m\u001b[1;33m,\u001b[0m \u001b[0mSTART_IDX\u001b[0m\u001b[1;33m,\u001b[0m \u001b[0mGA_FORMAT\u001b[0m\u001b[1;33m\u001b[0m\u001b[1;33m\u001b[0m\u001b[0m\n",
      "\u001b[1;32m~\\program\\research\\notebooks\\group_activity\\passing\\../../../src\\common\\transform.py\u001b[0m in \u001b[0;36m<module>\u001b[1;34m\u001b[0m\n\u001b[0;32m      2\u001b[0m \u001b[1;33m\u001b[0m\u001b[0m\n\u001b[0;32m      3\u001b[0m \u001b[1;32mimport\u001b[0m \u001b[0mcv2\u001b[0m\u001b[1;33m\u001b[0m\u001b[1;33m\u001b[0m\u001b[0m\n\u001b[1;32m----> 4\u001b[1;33m \u001b[1;32mimport\u001b[0m \u001b[0mjson_io\u001b[0m\u001b[1;33m\u001b[0m\u001b[1;33m\u001b[0m\u001b[0m\n\u001b[0m\u001b[0;32m      5\u001b[0m \u001b[1;32mimport\u001b[0m \u001b[0mmatplotlib\u001b[0m\u001b[1;33m.\u001b[0m\u001b[0mpyplot\u001b[0m \u001b[1;32mas\u001b[0m \u001b[0mplt\u001b[0m\u001b[1;33m\u001b[0m\u001b[1;33m\u001b[0m\u001b[0m\n\u001b[0;32m      6\u001b[0m \u001b[1;32mimport\u001b[0m \u001b[0mnumpy\u001b[0m \u001b[1;32mas\u001b[0m \u001b[0mnp\u001b[0m\u001b[1;33m\u001b[0m\u001b[1;33m\u001b[0m\u001b[0m\n",
      "\u001b[1;31mModuleNotFoundError\u001b[0m: No module named 'json_io'"
     ]json
    }
   ],json
   "source": [
    "import os\n",
    "import numpy as np\n",
    "import matplotlib.pyplot as plt\n",
    "import cv2\n",
    "from tqdm import tqdm\n",
    "import sys\n",
    "import glob\n",
    "sys.path.append('../../../src')\n",
    "\n",
    "from common import common, transform, json_io\n",
    "from common.functions import cos_similarity, gauss\n",
    "from common.json_io import IA_FORMAT, START_IDX, GA_FORMAT\n",
    "from common.default import PASSING_DEFAULT\n",
    "from individual_activity.individual_activity import IndividualActivity\n",
    "from display.display import display\n",
    "from common.video import Video"
   ]
  },
  {
   "cell_type": "markdown",
   "id": "70d29272-6985-4eee-be98-9223b6acf253",
   "metadata": {},
   "source": [
    "# Indivisual Activity をロード"
   ]
  },
  {
   "cell_type": "code",
   "execution_count": null,
   "id": "f852e8b6-11b1-407d-8c27-a0f564fb0716",
   "metadata": {},
   "outputs": [],
   "source": [
    "data_settings = [\n",
    "    {'room_num': '02', 'date': '20210903', 'option': 'passing'},\n",
    "    {'room_num': '08', 'date': '20210915', 'option': 'passing'},\n",
    "    {'room_num': '09', 'date': '20210706', 'option': 'passing'}\n",
    "]"
   ]
  },
  {
   "cell_type": "code",
   "execution_count": null,
   "id": "0e916fec-b17e-483e-a45f-f668d106885e",
   "metadata": {},
   "outputs": [],
   "source": [
    "# homography\n",
    "def get_homo(room_num):\n",
    "    field_path = os.path.join(common.data_dir, room_num, 'field.png')\n",
    "    field_raw = cv2.imread(field_path)\n",
    "    p_video = common.homo[room_num][0]\n",
    "    p_field = common.homo[room_num][1]\n",
    "    homo = transform.Homography(p_video, p_field, field_raw.shape)\n",
    "    return homo"
   ]
  },
  {
   "cell_type": "code",
   "execution_count": null,
   "id": "02d15c4d-3ad1-44e3-88e3-596076364a27",
   "metadata": {},
   "outputs": [],
   "source": [
    "def load_individuals(json_data, prefix, homo):\n",
    "    individuals = {}\n",
    "    for data in json_data:\n",
    "        label = prefix + str(data[IA_FORMAT[0]])\n",
    "        frame_num = data[IA_FORMAT[1]]\n",
    "        tracking_point = data[IA_FORMAT[2]]\n",
    "        keypoints = data[IA_FORMAT[3]]\n",
    "\n",
    "        if label not in individuals:\n",
    "            ia = IndividualActivity(label, homo)\n",
    "            individuals[label] = ia\n",
    "        else:\n",
    "            ia = individuals[label]\n",
    "\n",
    "        ia.tracking_points[frame_num] = tracking_point\n",
    "        ia.keypoints[frame_num] = keypoints\n",
    "        for f in IA_FORMAT[START_IDX:]:\n",
    "            ia.indicator_dict[f][frame_num] = data[f]\n",
    "            \n",
    "    return individuals"
   ]
  },
  {
   "cell_type": "code",
   "execution_count": null,
   "id": "b60bf0e4-51e9-4772-8191-a8123f9b87fe",
   "metadata": {
    "tags": []
   },
   "outputs": [],
   "source": [
    "individuals = {}\n",
    "for setting in data_settings:\n",
    "    print(setting)\n",
    "    room_num = setting['room_num']\n",
    "    date = setting['date']\n",
    "    opt = setting['option']\n",
    "    \n",
    "    homo = get_homo(room_num)\n",
    "    \n",
    "    if opt is None:\n",
    "        dir_path = os.path.join(common.data_dir, room_num, date, '*')\n",
    "    else:\n",
    "        dir_path = os.path.join(common.data_dir, room_num, date, opt, '*')\n",
    "    dirs = glob.glob(dir_path)\n",
    "    dirs = sorted(dirs)[:-1]  # delete make_csv.csv\n",
    "    \n",
    "    for path in tqdm(dirs):\n",
    "        path = f'{path}/json/individual_activity.json'\n",
    "        json_data = json_io.load(path)\n",
    "        path_split = common.split_path(path)\n",
    "        prefix = path_split[-6] + '_' + path_split[-3] + '_'  # room-num_date_\n",
    "        individuals.update(load_individuals(json_data, prefix, homo))"
   ]
  },
  {
   "cell_type": "markdown",
   "id": "beea5985-4222-42a2-916f-2856cab0902c",
   "metadata": {},
   "source": [
    "# 特徴量抽出とデータ生成"
   ]
  },
  {
   "cell_type": "code",
   "execution_count": null,
   "id": "499f529a-e316-4085-85f2-780b6e2d8460",
   "metadata": {},
   "outputs": [],
   "source": [
    "def extract_features(frame_num, label1, label2, individuals):\n",
    "    if label1 not in individuals or label2 not in individuals:\n",
    "        return None\n",
    "        \n",
    "    individual1 = individuals[label1]\n",
    "    pos1 = individual1.get_data('position', frame_num)\n",
    "    body1 = individual1.get_data('body_vector', frame_num)\n",
    "    arm1 = individual1.get_data('arm_ext', frame_num)\n",
    "    wrist1 = [\n",
    "        individual1.jsonpoints('LWrist', frame_num),\n",
    "        individual1.get_keypoints('RWrist', frame_num)\n",
    "    ]\n",
    "    if pos1 is None or body1 is None or arm1 is None or None in wrist1:\n",
    "        return None\n",
    "    \n",
    "    individual2 = individuals[label2]\n",
    "    pos2 = individual2.get_data('position', frame_num)\n",
    "    body2 = individual2.get_data('body_vector', frame_num)\n",
    "    arm2 = individual2.get_data('arm_ext', frame_num)\n",
    "    wrist2 = [\n",
    "        individual2.get_keypoints('LWrist', frame_num),\n",
    "        individual2.get_keypoints('RWrist', frame_num)\n",
    "    ]\n",
    "    if pos2 is None or body2 is None or arm2 is None or None in wrist2:\n",
    "        return None\n",
    "    \n",
    "    # ポジション間の距離\n",
    "    norm = np.linalg.norm(np.array(pos1) - np.array(pos2), ord=2)\n",
    "    # if norm < 50 or 300 < norm:\n",
    "    #     # norm が範囲外の時はデータに加えない\n",
    "    #     return None\n",
    "    \n",
    "    if norm < PASSING_DEFAULT['gauss_mu']: \n",
    "        distance_prob = gauss(\n",
    "            norm,\n",
    "            mu=PASSING_DEFAULT['gauss_mu'],\n",
    "            sigma=PASSING_DEFAULT['gauss_sig_min']\n",
    "        )\n",
    "    else:\n",
    "        distance_prob = gauss(\n",
    "            norm,\n",
    "            mu=PASSING_DEFAULT['gauss_mu'],\n",
    "            sigma=PASSING_DEFAULT['gauss_sig']\n",
    "        )\n",
    "    \n",
    "    # 体の向き\n",
    "    pos1 = np.array(pos1)\n",
    "    pos2 = np.array(pos2)\n",
    "    p1p2 = pos2 - pos1\n",
    "    p2p1 = pos1 - pos2\n",
    "    p1_sim = cos_similarity(body1, p1p2)\n",
    "    p2_sim = cos_similarity(body2, p2p1)\n",
    "    body_direction = (np.average([p1_sim, p2_sim]) + 1) / 2  # [-1, 1] -> [0, 1]\n",
    "    \n",
    "    # 腕の上げ下げ\n",
    "    arm_ave = np.average([arm1, arm2])\n",
    "    \n",
    "    # 手首の距離\n",
    "    min_norm = np.inf\n",
    "    for i in range(2):\n",
    "        for j in range(2):\n",
    "            norm = np.linalg.norm(\n",
    "                np.array(wrist1[i]) - np.array(wrist2[j]), ord=2)\n",
    "            if norm < min_norm:\n",
    "                min_norm = norm\n",
    "    if min_norm < PASSING_DEFAULT['wrist_gauss_mu']:\n",
    "        distance_prob_wrist = gauss(\n",
    "            min_norm,\n",
    "            mu=PASSING_DEFAULT['wrist_gauss_mu'],\n",
    "            sigma=PASSING_DEFAULT['wrist_gauss_sig_min']\n",
    "        )\n",
    "    else:\n",
    "        distance_prob_wrist = gauss(\n",
    "            min_norm,\n",
    "            mu=PASSING_DEFAULT['wrist_gauss_mu'],\n",
    "            sigma=PASSING_DEFAULT['wrist_gauss_sig']\n",
    "        )\n",
    "\n",
    "    return [distance_prob, body_direction, arm_ave, distance_prob_wrist]\n",
    "    # return [distance_prob, body_direction, arm_ave]\n",
    "\n",
    "columns = ['distance', 'body direction', 'arm average', 'wrist distance']\n",
    "# columns = ['distance', 'body direction', 'arm average']"
   ]
  },
  {
   "cell_type": "code",
   "execution_count": null,
   "id": "ea654990-1db5-43f1-b043-4ec9512b7b8a",
   "metadata": {
    "scrolled": true,
    "tags": []
   },
   "outputs": [],
   "source": [
    "x_dict = {}\n",
    "y_dict = {}\n",
    "for setting in data_settings:\n",
    "    room_num = setting['room_num']\n",
    "    date = setting['date']\n",
    "    opt = setting['option']\n",
    "    \n",
    "    dirs = sorted(glob.glob(f'{common.data_dir}/{room_num}/{date}/{opt}/*'))\n",
    "    if dirs[-1].endswith('make_csv.csv'):\n",
    "        dirs = dirs[:-1]\n",
    "\n",
    "    for path in dirs:\n",
    "        file_num = common.split_path(path)[-1]\n",
    "        csv_path = f'{path}/csv/data.csv'\n",
    "        csv_data = np.loadtxt(csv_path, delimiter=',', dtype=int, skiprows=1)\n",
    "\n",
    "        for row in tqdm(csv_data, desc=f'{room_num}, {date}, {file_num}'):\n",
    "            frame_num = row[0]\n",
    "            label1 = f'{room_num}_{file_num}_{row[1]}'\n",
    "            label2 = f'{room_num}_{file_num}_{row[2]}'\n",
    "\n",
    "            features = extract_features(frame_num, label1, label2, individuals)\n",
    "            key = f'{room_num}_{file_num}_{row[1]}_{row[2]}'\n",
    "\n",
    "            if key not in x_dict:\n",
    "                x_dict[key] = []\n",
    "                y_dict[key] = []\n",
    "\n",
    "            x_dict[key].append(features)\n",
    "            y_dict[key].append(row[3])"
   ]
  },
  {
   "cell_type": "markdown",
   "id": "4518dd56-d351-4abf-8a12-874abd1401f7",
   "metadata": {},
   "source": [
    "## nanを穴埋めする"
   ]
  },
  {
   "cell_type": "code",
   "execution_count": null,
   "id": "34ff48f6-28fb-4427-ba62-7a13cdd8f35f",
   "metadata": {
    "tags": []
   },
   "outputs": [],
   "source": [
    "def fill_nan(x_lst, y_lst, window=3):\n",
    "    # はじめの None を飛ばす\n",
    "    for i in range(len(x_lst)):\n",
    "        if x_lst[i] is not None:\n",
    "            break\n",
    "    \n",
    "    pre_x = x_lst[i]\n",
    "    pre_y = y_lst[i]\n",
    "    \n",
    "    copy_x_lst = []\n",
    "    copy_y_lst = []\n",
    "    for x, y in zip(x_lst[i + 1:], y_lst[i + 1:]):\n",
    "        if x is not None:\n",
    "            if True in np.isnan(x):\n",
    "                x = np.where(np.isnan(x), pre_x, x).copy()\n",
    "            copy_x_lst.append(x)\n",
    "            copy_y_lst.append(y)\n",
    "            pre_x = x.copy()\n",
    "            pre_y = y\n",
    "        else:\n",
    "            # 前のフレームからコピー\n",
    "            copy_x_lst.append(pre_x)\n",
    "            copy_y_lst.append(pre_y)\n",
    "            \n",
    "    # return np.nan_to_num(copy_x_lst), copy_y_lst\n",
    "\n",
    "    # 残ったnanは移動平均で穴埋め\n",
    "    ma_x_lst = []\n",
    "    ma_y_lst = []\n",
    "    for i in range(0, len(copy_x_lst) - window + 1):\n",
    "        if copy_x_lst[i] is None:\n",
    "            print(copy_x_lst[i:i + window])\n",
    "        means = np.nanmean(copy_x_lst[i:i + window], axis=0)\n",
    "        for x, y in zip(copy_x_lst[i:i + window], copy_y_lst[i:i + window]):\n",
    "            if True in np.isnan(x):\n",
    "                x = np.where(np.isnan(x), means, x).copy()\n",
    "\n",
    "            if len(ma_x_lst) <= i + window:\n",
    "                ma_x_lst.append(x)\n",
    "                ma_y_lst.append(y)\n",
    "\n",
    "    return  np.array(ma_x_lst), np.array(ma_y_lst)\n",
    "\n",
    "\n",
    "x_dict_fill_nan = {}\n",
    "y_dict_fill_nan = {}\n",
    "for key, x_lst in tqdm(x_dict.items()):\n",
    "    y_lst = y_dict[key]\n",
    "    x_lst, y_lst = fill_nan(x_lst, y_lst, window=3)\n",
    "    \n",
    "    if len(x_lst) > 0:\n",
    "        x_dict_fill_nan[key] = x_lst\n",
    "        y_dict_fill_nan[key] = y_lst"
   ]
  },
  {
   "cell_type": "markdown",
   "id": "d42d85c7-88a4-4c10-a357-7a948f715e35",
   "metadata": {
    "tags": []
   },
   "source": [
    "# 分布"
   ]
  },
  {
   "cell_type": "code",
   "execution_count": null,
   "id": "8b293b07-6c73-4b78-b94f-ec65ad4b4ef8",
   "metadata": {},
   "outputs": [],
   "source": [
    "def extract_feature(settings, x_dict, y_dict, col_num, is_pass):\n",
    "    hist = {}\n",
    "    for setting in settings:\n",
    "        room_num, date = setting['room_num'], setting['date']\n",
    "        \n",
    "        hist_room = []\n",
    "        for key, x_lst, y_lst in zip(x_dict.keys(), x_dict.values(), y_dict.values()):\n",
    "            if room_num in key and is_pass in y_lst:\n",
    "                hist_room += x_lst.T[col_num].tolist()\n",
    "        hist[room_num] = hist_room\n",
    "        \n",
    "    return hist"
   ]
  },
  {
   "cell_type": "markdown",
   "id": "b98b6165-42e8-4cd9-a595-976d17e3dc4c",
   "metadata": {},
   "source": [
    "## 受け渡し動作中の距離の分布を見る"
   ]
  },
  {
   "cell_type": "code",
   "execution_count": null,
   "id": "de34e12a-1c3b-4b38-8655-17179a993b3f",
   "metadata": {
    "tags": []
   },
   "outputs": [],
   "source": [
    "hist_dist_1 = extract_feature(\n",
    "    data_settings,\n",
    "    x_dict_fill_nan,\n",
    "    y_dict_fill_nan,\n",
    "    0,\n",
    "    1\n",
    ")"
   ]
  },
  {
   "cell_type": "code",
   "execution_count": null,
   "id": "fa0ee3a9-21ba-4699-b3bd-7b45cc71893e",
   "metadata": {},
   "outputs": [],
   "source": [
    "data = []\n",
    "for vals in hist_dist_1.values():\n",
    "    for val in vals:\n",
    "        if val < 2000:\n",
    "            data.append(val)\n",
    "print(np.mean(data))\n",
    "print(np.std(data))\n",
    "\n",
    "plt.figure(figsize=(20, 8))\n",
    "plt.hist(hist_dist_1.values(), bins=50, range=(0, 1), label=list(hist_dist_1.keys()))\n",
    "# plt.vlines(np.mean(data), 0, 1000)\n",
    "plt.legend()"
   ]
  },
  {
   "cell_type": "code",
   "execution_count": null,
   "id": "db8a72be-2997-4165-ad82-a505af3aa0a4",
   "metadata": {
    "tags": []
   },
   "outputs": [],
   "source": [
    "hist_dist_0 = extract_feature(\n",
    "    data_settings,\n",
    "    x_dict_fill_nan,\n",
    "    y_dict_fill_nan,\n",
    "    0,\n",
    "    0\n",
    ")"
   ]
  },
  {
   "cell_type": "code",
   "execution_count": null,
   "id": "0dd267d3-97c7-4d29-939c-0af9c08c1cc1",
   "metadata": {},
   "outputs": [],
   "source": [
    "plt.figure(figsize=(20, 8))\n",
    "plt.hist(hist_dist_0.values(), bins=50, range=(0, 1), label=list(hist_dist_0.keys()))\n",
    "plt.legend()"
   ]
  },
  {
   "cell_type": "markdown",
   "id": "e62ea102-7543-4898-a65a-ceae645a32f0",
   "metadata": {
    "tags": []
   },
   "source": [
    "## 受け渡し動作中の体の向きの分布を見る"
   ]
  },
  {
   "cell_type": "code",
   "execution_count": null,
   "id": "8c3587bb-cb8b-4f73-b8a0-351e23e8add9",
   "metadata": {
    "tags": []
   },
   "outputs": [],
   "source": [
    "hist_body_1 = extract_feature(\n",
    "    data_settings,\n",
    "    x_dict_fill_nan,\n",
    "    y_dict_fill_nan,\n",
    "    1,\n",
    "    1\n",
    ")"
   ]
  },
  {
   "cell_type": "code",
   "execution_count": null,
   "id": "dd01114b-1924-4b8c-a4b9-c2a6dbe145f7",
   "metadata": {},
   "outputs": [],
   "source": [
    "plt.figure(figsize=(20, 8))\n",
    "plt.hist(hist_body_1.values(), bins=50, range=(0, 1), label=list(hist_body_1.keys()))\n",
    "plt.legend()"
   ]
  },
  {
   "cell_type": "code",
   "execution_count": null,
   "id": "d4c1599f-8d1d-4f4e-b4c1-2417a7720113",
   "metadata": {
    "tags": []
   },
   "outputs": [],
   "source": [
    "hist_body_0 = extract_feature(\n",
    "    data_settings,\n",
    "    x_dict_fill_nan,\n",
    "    y_dict_fill_nan,\n",
    "    1,\n",
    "    0\n",
    ")"
   ]
  },
  {
   "cell_type": "code",
   "execution_count": null,
   "id": "aaaf896a-b011-4603-88b0-6c9bfedc50b2",
   "metadata": {},
   "outputs": [],
   "source": [
    "plt.figure(figsize=(20, 8))\n",
    "plt.hist(hist_body_0.values(), bins=50, range=(0, 1), label=list(hist_body_0.keys()))\n",
    "plt.legend()"
   ]
  },
  {
   "cell_type": "markdown",
   "id": "bf450202-68dd-447e-ba7f-6c83c38bed72",
   "metadata": {
    "tags": []
   },
   "source": [
    "## 受け渡し動作中の腕の上げ下げの分布を見る"
   ]
  },
  {
   "cell_type": "code",
   "execution_count": null,
   "id": "803d059b-a9f2-499b-8de4-63c39f91adfe",
   "metadata": {
    "tags": []
   },
   "outputs": [],
   "source": [
    "hist_arm_1 = extract_feature(\n",
    "    data_settings,\n",
    "    x_dict_fill_nan,\n",
    "    y_dict_fill_nan,\n",
    "    2,\n",
    "    1\n",
    ")"
   ]
  },
  {
   "cell_type": "code",
   "execution_count": null,
   "id": "7e98e758-53f7-495a-a652-227789770790",
   "metadata": {},
   "outputs": [],
   "source": [
    "plt.figure(figsize=(20, 8))\n",
    "plt.hist(hist_arm_1.values(), bins=50, range=(0, 1), label=list(hist_arm_1.keys()))\n",
    "plt.legend()"
   ]
  },
  {
   "cell_type": "code",
   "execution_count": null,
   "id": "0b860475-f6e6-4f14-a025-a823506793da",
   "metadata": {
    "tags": []
   },
   "outputs": [],
   "source": [
    "hist_arm_0 = extract_feature(\n",
    "    data_settings,\n",
    "    x_dict_fill_nan,\n",
    "    y_dict_fill_nan,\n",
    "    2,\n",
    "    0\n",
    ")"
   ]
  },
  {
   "cell_type": "code",
   "execution_count": null,
   "id": "0f9ee59d-298c-4767-ad2f-c4eec7d5af06",
   "metadata": {},
   "outputs": [],
   "source": [
    "plt.figure(figsize=(20, 8))\n",
    "plt.hist(hist_arm_0.values(), bins=50, range=(0, 1), label=list(hist_arm_0.keys()))\n",
    "plt.legend()"
   ]
  },
  {
   "cell_type": "markdown",
   "id": "d938461a-f929-432b-b9e5-a758053f39f5",
   "metadata": {
    "tags": []
   },
   "source": [
    "## 受け渡し動作中の手首の距離の分布を見る"
   ]
  },
  {
   "cell_type": "code",
   "execution_count": null,
   "id": "a4738b10-31f4-4e6d-a585-b77a03b64481",
   "metadata": {
    "tags": []
   },
   "outputs": [],
   "source": [
    "hist_wrist_1 = extract_feature(\n",
    "    data_settings,\n",
    "    x_dict_fill_nan,\n",
    "    y_dict_fill_nan,\n",
    "    3,\n",
    "    1\n",
    ")"
   ]
  },
  {
   "cell_type": "code",
   "execution_count": null,
   "id": "620b4683-5a6a-4fae-8722-23e1fdd6a63e",
   "metadata": {},
   "outputs": [],
   "source": [
    "data = []\n",
    "for vals in hist_wrist_1.values():\n",
    "    for val in vals:\n",
    "        if val < 2000:\n",
    "            data.append(val)\n",
    "print(np.mean(data))\n",
    "print(np.std(data))\n",
    "\n",
    "plt.figure(figsize=(20, 8))\n",
    "plt.hist(hist_wrist_1.values(), bins=50, range=(0, 1), label=list(hist_wrist_1.keys()))\n",
    "plt.legend()"
   ]
  },
  {
   "cell_type": "code",
   "execution_count": null,
   "id": "6f69f5ed-53cd-4d8c-910e-033030b24394",
   "metadata": {
    "tags": []
   },
   "outputs": [],
   "source": [
    "hist_wrist_0 = extract_feature(\n",
    "    data_settings,\n",
    "    x_dict_fill_nan,\n",
    "    y_dict_fill_nan,\n",
    "    3,\n",
    "    0\n",
    ")"
   ]
  },
  {
   "cell_type": "code",
   "execution_count": null,
   "id": "ab52472d-2dc7-4a76-abf0-a5816a407477",
   "metadata": {},
   "outputs": [],
   "source": [
    "plt.figure(figsize=(20, 8))\n",
    "plt.hist(hist_wrist_0.values(), bins=50, range=(0, 1), label=list(hist_wrist_0.keys()))\n",
    "plt.legend()"
   ]
  },
  {
   "cell_type": "markdown",
   "id": "3f65a6c7-4fc5-4acf-a439-3a9eae5af0f9",
   "metadata": {
    "tags": []
   },
   "source": [
    "# 時系列でプロット"
   ]
  },
  {
   "cell_type": "code",
   "execution_count": null,
   "id": "d2120396-d90d-4ca5-b47e-90cad2f775b6",
   "metadata": {
    "tags": []
   },
   "outputs": [],
   "source": [
    "for key in x_dict_fill_nan.keys():\n",
    "    x_lst = x_dict_fill_nan[key]\n",
    "    y_lst = y_dict_fill_nan[key]\n",
    "\n",
    "    if 1 not in y_lst:\n",
    "        continue\n",
    "\n",
    "    if len(x_lst) < 30:\n",
    "        continue\n",
    "\n",
    "    print(key)\n",
    "    plt.figure(figsize=(10, 1.5))\n",
    "    # plt.rcParams[\"font.size\"] = 20\n",
    "    # plt.rcParams[\"font.family\"] = 'Times New Roman'\n",
    "    plt.plot(y_lst, linestyle=':', label='ground truth')\n",
    "    for i, x in enumerate(x_lst.T):\n",
    "        plt.plot(x, alpha=0.5, label=columns[i])\n",
    "    plt.ylim((-0.05, 1.05))\n",
    "    plt.yticks([0, 1])\n",
    "    plt.legend(bbox_to_anchor=(1.01, 1), loc='upper left', borderaxespad=0)\n",
    "    plt.subplots_adjust(left=0.04, right=1, bottom=0.1, top=1)\n",
    "\n",
    "    plt.show()"
   ]
  },
  {
   "cell_type": "code",
   "execution_count": null,
   "id": "8888b16d-3067-45f9-9496-8880e169c7fd",
   "metadata": {
    "scrolled": true,
    "tags": []
   },
   "outputs": [],
   "source": [
    "# passingがないもの\n",
    "for key in x_dict_fill_nan.keys():\n",
    "    x_lst = x_dict_fill_nan[key]\n",
    "    y_lst = y_dict_fill_nan[key]\n",
    "\n",
    "    if 1 in y_lst:\n",
    "        continue\n",
    "\n",
    "    if len(x_lst) < 30:\n",
    "        continue\n",
    "\n",
    "    print(key)\n",
    "    plt.figure(figsize=(10, 1.5))\n",
    "    # plt.rcParams[\"font.size\"] = 20\n",
    "    # plt.rcParams[\"font.family\"] = 'Times New Roman'\n",
    "    plt.plot(y_lst, linestyle=':', label='ground truth')\n",
    "    for i, x in enumerate(x_lst.T):\n",
    "        plt.plot(x, alpha=0.5, label=columns[i])\n",
    "    plt.ylim((-0.05, 1.05))\n",
    "    plt.yticks([0, 1])\n",
    "    plt.legend(bbox_to_anchor=(1.01, 1), loc='upper left', borderaxespad=0)\n",
    "    plt.subplots_adjust(left=0.04, right=1, bottom=0.1, top=1)\n",
    "\n",
    "    plt.show()"
   ]
  },
  {
   "cell_type": "raw",
   "id": "ffb6e3d4-e453-4fc7-ac3c-470214fe46c6",
   "metadata": {},
   "source": [
    "# Group Activity をロード"
   ]
  },
  {
   "cell_type": "raw",
   "id": "4ccdc731-93a6-4cd6-9a95-ea1b5c67fa95",
   "metadata": {},
   "source": [
    "method = 'passing'\n",
    "target_persons = {\n",
    "    'pass1': [1, 2],\n",
    "    'pass2': [0, 2],\n",
    "    'pass3': [1, 2],\n",
    "}\n",
    "\n",
    "dirs = glob.glob(os.path.join(common.data_dir, f'{room_num}/{date}/{method}/*'))"
   ]
  },
  {
   "cell_type": "raw",
   "id": "e06678f2-ecad-4d36-848a-b1b504127766",
   "metadata": {},
   "source": [
    "from common.json_io import GA_FORMAT\n",
    "from group_activity.group_activity import GroupActivity\n",
    "\n",
    "def make_group_activity(data, method):\n",
    "    ga = GroupActivity(field_raw, method)\n",
    "    ga.indicator_dict[method] = data[method]\n",
    "    return ga"
   ]
  },
  {
   "cell_type": "raw",
   "id": "70e8869a-893f-4158-9d7c-f7a28b406f90",
   "metadata": {},
   "source": [
    "data_lst = []\n",
    "for path in dirs:\n",
    "    json_path = f'{path}/json/group_activity.json'\n",
    "    json_data = json_io.load(json_path)\n",
    "    data = make_group_activity(json_data, method)\n",
    "    data_lst.append(data)"
   ]
  }
 ],
 "metadata": {
  "kernelspec": {
   "display_name": "Python 3 (ipykernel)",
   "language": "python",
   "name": "python3"
  },
  "language_info": {
   "codemirror_mode": {
    "name": "ipython",
    "version": 3
   },
   "file_extension": ".py",
   "mimetype": "text/x-python",
   "name": "python",
   "nbconvert_exporter": "python",
   "pygments_lexer": "ipython3",
   "version": "3.9.7"
  }
 },
 "nbformat": 4,
 "nbformat_minor": 5
}
jsonjson
