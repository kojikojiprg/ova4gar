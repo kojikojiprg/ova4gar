{
 "cells": [
  {
   "cell_type": "code",
   "execution_count": 1,
   "id": "65b1cc8e-87cc-487d-92a7-30d77c5262a7",
   "metadata": {},
   "outputs": [],
   "source": [
    "import os\n",
    "import sys\n",
    "import numpy as np\n",
    "import matplotlib.pyplot as plt\n",
    "import cv2\n",
    "from tqdm import tqdm\n",
    "sys.path.append('../../../src')\n",
    "\n",
    "from common import common, transform, json\n",
    "from common.json import GA_FORMAT\n",
    "from group_activity.group_activity import GroupActivity"
   ]
  },
  {
   "cell_type": "code",
   "execution_count": 2,
   "id": "37b17675-675b-45cd-bb0a-63099b308b8c",
   "metadata": {},
   "outputs": [],
   "source": [
    "room_num = '09'\n",
    "date = '20210304'\n",
    "name = 'pass1'"
   ]
  },
  {
   "cell_type": "code",
   "execution_count": 9,
   "id": "a49c24bd-d485-4fc6-8a20-2c97472cd8d5",
   "metadata": {},
   "outputs": [],
   "source": [
    "group_activity_json = os.path.join(\n",
    "    common.data_dir, '{0}/{1}/{2}/json/group_activity.json'.format(room_num, date, name))\n",
    "field_path = os.path.join(\n",
    "    common.data_dir, '{}/field0304.png'.format(room_num))"
   ]
  },
  {
   "cell_type": "code",
   "execution_count": 10,
   "id": "db083065-cc53-45ca-ac62-fa24b0ca4f1a",
   "metadata": {},
   "outputs": [],
   "source": [
    "# homography\n",
    "field_raw = cv2.imread(field_path)\n",
    "p_video = common.homo[room_num + '_0304'][0]\n",
    "p_field = common.homo[room_num + '_0304'][1]\n",
    "homo = transform.Homography(p_video, p_field, field_raw.shape)"
   ]
  },
  {
   "cell_type": "code",
   "execution_count": 11,
   "id": "b0c7a235-bb42-487b-bd7b-7f90fa2daa97",
   "metadata": {},
   "outputs": [],
   "source": [
    "ga_data = json.load(group_activity_json)"
   ]
  },
  {
   "cell_type": "code",
   "execution_count": 12,
   "id": "ab1a50d5-63dd-4f64-876c-cdd92638960d",
   "metadata": {},
   "outputs": [],
   "source": [
    "def make_group_activity(data, method):\n",
    "    ga = GroupActivity(field_raw, method)\n",
    "    ga.indicator_dict[method] = data[method]\n",
    "    return ga\n",
    "ga = make_group_activity(ga_data, 'passing')"
   ]
  },
  {
   "cell_type": "code",
   "execution_count": null,
   "id": "c2a53790-6cd9-4b03-8914-77cbf5889092",
   "metadata": {},
   "outputs": [],
   "source": [
    "preds = []\n",
    "pre_pred = 0\n",
    "last_true_frame = 0\n",
    "for data in ga.indicator_dict[method]:\n",
    "    persons = data[GA_FORMAT[method][1]]\n",
    "    if persons[0] in target_persons[name] and persons[1] in target_persons[name]:\n",
    "        frame_num = data[GA_FORMAT[method][0]]\n",
    "        pred = data[GA_FORMAT[method][3]]\n",
    "        preds.append(pred)\n",
    "\n",
    "        if pre_pred == 0 and pred == 1:\n",
    "            if frame_num - last_true_frame < 50:\n",
    "                print(last_true_frame)\n",
    "                print(frame_num)\n",
    "                # 20フレーム以内に 1 が来たら間を穴埋めする\n",
    "                for i in range(last_true_frame, frame_num + 1):\n",
    "                    preds[i] = 1\n",
    "\n",
    "        if pred == 1:\n",
    "            last_true_frame = frame_num\n",
    "            \n",
    "        pre_pred = pred"
   ]
  }
 ],
 "metadata": {
  "kernelspec": {
   "display_name": "research",
   "language": "python",
   "name": "research"
  },
  "language_info": {
   "codemirror_mode": {
    "name": "ipython",
    "version": 3
   },
   "file_extension": ".py",
   "mimetype": "text/x-python",
   "name": "python",
   "nbconvert_exporter": "python",
   "pygments_lexer": "ipython3",
   "version": "3.7.6"
  }
 },
 "nbformat": 4,
 "nbformat_minor": 5
}
