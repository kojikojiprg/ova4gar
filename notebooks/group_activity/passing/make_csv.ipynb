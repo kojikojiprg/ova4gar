{
 "cells": [
  {
   "cell_type": "code",
   "execution_count": 1,
   "id": "ca997900-470d-4aa3-b8bb-5dfd06027620",
   "metadata": {},
   "outputs": [],
   "source": [
    "import os\n",
    "import numpy as np\n",
    "import sys\n",
    "\n",
    "sys.path.append('../../../src')\n",
    "\n",
    "from common import common, json"
   ]
  },
  {
   "cell_type": "code",
   "execution_count": 8,
   "id": "01d10af9-4758-45e2-b970-5bd90dab99ae",
   "metadata": {},
   "outputs": [],
   "source": [
    "room_num = '09'\n",
    "date = '20210706'"
   ]
  },
  {
   "cell_type": "code",
   "execution_count": 9,
   "id": "1abc4167-c666-413c-addf-42a0b7332a45",
   "metadata": {},
   "outputs": [],
   "source": [
    "csv_path = f'{common.data_dir}/{room_num}/{date}/passing/make_csv.csv'\n",
    "csv_data = np.loadtxt(csv_path, delimiter=',', skiprows=1, dtype='str')"
   ]
  },
  {
   "cell_type": "code",
   "execution_count": 10,
   "id": "e5e35f6f-cdca-487c-bd6e-2db39c385a3f",
   "metadata": {},
   "outputs": [
    {
     "name": "stdout",
     "output_type": "stream",
     "text": [
      "['01' '5' '0' '58' '113' '' '' '' '' '']\n",
      "['02' '7' '5' '83' '121' '' '' '' '' '']\n",
      "['03' '0' '3' '382' '535' '' '' '' '' '']\n",
      "['04' '3' '1' '327' '356' '' '' '' '' '']\n",
      "['05' '3' '13' '151' '171' '' '' '' '' '']\n",
      "['06' '0' '2' '187' '200' '' '' '' '' '']\n",
      "['07' '1' '3' '107' '132' '' '' '' '' '']\n",
      "['08' '0' '3' '255' '277' '' '' '' '' '']\n",
      "['09' '1' '2' '112' '132' '' '' '' '' '']\n"
     ]
    }
   ],
   "source": [
    "for row in csv_data:\n",
    "    print(row)\n",
    "    num = row[0]\n",
    "\n",
    "    if row[1] != '':\n",
    "        target_persons = [int(row[1]), int(row[2])]\n",
    "        begin = int(row[3])\n",
    "        end = int(row[4])\n",
    "    else:\n",
    "        target_persons = []\n",
    "        begin = 0\n",
    "        end = 0\n",
    "    \n",
    "    if row[5] != '':\n",
    "        target_persons2 = [int(row[5]), int(row[6])]\n",
    "        begin2 = int(row[7])\n",
    "        end2 = int(row[8])\n",
    "    else:\n",
    "        target_persons2 = []\n",
    "        begin2 = 0\n",
    "        end2 = 0\n",
    "    \n",
    "    tracking_path = f'{common.data_dir}/{room_num}/{date}/passing/{num}/json/tracking.json'\n",
    "    tracking_data = json_io.load(tracking_path)\n",
    "\n",
    "    max_frame = tracking_data[-1]['frame']\n",
    "    csv_write_data = []\n",
    "    for frame_num in range(max_frame):\n",
    "        frame_data = [data for data in tracking_data if data['frame'] == frame_num]\n",
    "\n",
    "        for i in range(len(frame_data) - 1):\n",
    "            for j in range(i + 1, len(frame_data)):\n",
    "                p1 = frame_data[i]['label']\n",
    "                p2 = frame_data[j]['label']\n",
    "\n",
    "                if p1 in target_persons and p2 in target_persons:\n",
    "                    if begin <= frame_num and frame_num <= end:\n",
    "                        csv_write_data.append((frame_num, p1, p2, 1))\n",
    "                    else:\n",
    "                        csv_write_data.append((frame_num, p1, p2, 0))\n",
    "                elif p1 in target_persons2 and p2 in target_persons2:\n",
    "                    if begin2 <= frame_num and frame_num <= end2:\n",
    "                        csv_write_data.append((frame_num, p1, p2, 1))\n",
    "                    else:\n",
    "                        csv_write_data.append((frame_num, p1, p2, 0))\n",
    "                else:\n",
    "                    csv_write_data.append((frame_num, p1, p2, 0))\n",
    "\n",
    "    csv_write_data = sorted(csv_write_data, key=lambda x: x[2])  # sorted by person2\n",
    "    csv_write_data = sorted(csv_write_data, key=lambda x: x[1])  # sorted by person1\n",
    "    csv_write_data = [('frame', 'person1', 'person2', 'passing')] + csv_write_data  # add column\n",
    "\n",
    "    csv_dir = f'{common.data_dir}/{room_num}/{date}/passing/{num}/csv/'\n",
    "    os.makedirs(csv_dir, exist_ok=True)\n",
    "\n",
    "    csv_path = csv_dir + 'data.csv'\n",
    "    np.savetxt(csv_path, csv_write_data, delimiter=',', fmt='%s')"
   ]
  },
  {
   "cell_type": "code",
   "execution_count": null,
   "id": "09c5e771-780b-4501-9ca9-8da3c47e98d7",
   "metadata": {},
   "outputs": [],
   "source": []
  }
 ],
 "metadata": {
  "kernelspec": {
   "display_name": "Python 3 (ipykernel)",
   "language": "python",
   "name": "python3"
  },
  "language_info": {
   "codemirror_mode": {
    "name": "ipython",
    "version": 3
   },
   "file_extension": ".py",
   "mimetype": "text/x-python",
   "name": "python",
   "nbconvert_exporter": "python",
   "pygments_lexer": "ipython3",
   "version": "3.9.7"
  }
 },
 "nbformat": 4,
 "nbformat_minor": 5
}
