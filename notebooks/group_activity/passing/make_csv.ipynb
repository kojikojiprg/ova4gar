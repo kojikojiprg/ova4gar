{
 "cells": [
  {
   "cell_type": "code",
   "execution_count": 1,
   "id": "ca997900-470d-4aa3-b8bb-5dfd06027620",
   "metadata": {},
   "outputs": [],
   "source": [
    "import os\n",
    "import numpy as np\n",
    "import sys\n",
    "\n",
    "sys.path.append('../../../src')\n",
    "\n",
    "from common import common, json"
   ]
  },
  {
   "cell_type": "code",
   "execution_count": 2,
   "id": "01d10af9-4758-45e2-b970-5bd90dab99ae",
   "metadata": {},
   "outputs": [],
   "source": [
    "room_num = '08'\n",
    "date = '20210915'"
   ]
  },
  {
   "cell_type": "code",
   "execution_count": 3,
   "id": "1abc4167-c666-413c-addf-42a0b7332a45",
   "metadata": {},
   "outputs": [],
   "source": [
    "csv_path = f'{common.data_dir}/{room_num}/{date}/passing/make_csv.csv'\n",
    "csv_data = np.loadtxt(csv_path, delimiter=',', skiprows=1, dtype='str')"
   ]
  },
  {
   "cell_type": "code",
   "execution_count": 4,
   "id": "e5e35f6f-cdca-487c-bd6e-2db39c385a3f",
   "metadata": {},
   "outputs": [
    {
     "name": "stdout",
     "output_type": "stream",
     "text": [
      "['01' '6' '3' '102' '128' '' '' '' '' '']\n",
      "['02' '2' '1' '117' '136' '' '' '' '' '']\n",
      "['03' '4' '5' '199' '221' '' '' '' '' '']\n",
      "['04' '2' '3' '87' '128' '' '' '' '' '']\n",
      "['05' '1' '2' '198' '248' '' '' '' '' '']\n",
      "['06' '0' '5' '75' '100' '' '' '' '' '']\n",
      "['07' '6' '3' '53' '64' '' '' '' '' '']\n",
      "['08' '0' '2' '370' '403' '' '' '' '' '']\n",
      "['09' '2' '0' '198' '214' '' '' '' '' '']\n",
      "['10' '1' '3' '204' '221' '' '' '' '' '']\n",
      "['11' '0' '2' '308' '326' '' '' '' '' '']\n",
      "['12' '2' '3' '183' '206' '' '' '' '' '']\n",
      "['13' '0' '4' '130' '150' '' '' '' '' '']\n",
      "['14' '2' '3' '155' '173' '' '' '' '' '']\n",
      "['15' '1' '3' '70' '88' '' '' '' '' '']\n",
      "['16' '0' '1' '136' '150' '' '' '' '' '']\n",
      "['17' '0' '3' '80' '94' '' '' '' '' '']\n",
      "['18' '0' '3' '81' '104' '' '' '' '' '']\n",
      "['19' '1' '2' '174' '296' '' '' '' '' '']\n",
      "['20' '3' '0' '81' '98' '' '' '' '' '']\n",
      "['21' '0' '4' '77' '88' '' '' '' '' '']\n",
      "['22' '' '' '' '' '' '' '' '' '']\n",
      "['23' '1' '0' '60' '84' '' '' '' '' '']\n",
      "['24' '6' '1' '166' '206' '' '' '' '' '']\n",
      "['25' '9' '2' '189' '209' '' '' '' '' '']\n",
      "['26' '10' '2' '108' '118' '' '' '' '' '']\n",
      "['27' '11' '4' '142' '151' '' '' '' '' '']\n",
      "['28' '' '' '' '' '' '' '' '' '']\n",
      "['29' '2' '5' '223' '245' '' '' '' '' '']\n",
      "['30' '0' '1' '140' '165' '' '' '' '' '']\n",
      "['31' '12' '4' '277' '289' '' '' '' '' '']\n",
      "['32' '0' '1' '200' '206' '0' '1' '329' '342' '']\n",
      "['33' '0' '7' '206' '246' '' '' '' '' '']\n",
      "['34' '0' '2' '113' '139' '' '' '' '' '']\n",
      "['35' '6' '2' '279' '300' '' '' '' '' '']\n",
      "['36' '0' '2' '140' '175' '' '' '' '' '']\n",
      "['37' '3' '2' '280' '730' '' '' '' '' '']\n",
      "['38' '0' '2' '110' '148' '' '' '' '' '']\n",
      "['39' '0' '2' '93' '153' '' '' '' '' '']\n",
      "['40' '0' '1' '64' '122' '' '' '' '' '']\n",
      "['41' '1' '6' '114' '128' '' '' '' '' '']\n"
     ]
    }
   ],
   "source": [
    "for row in csv_data:\n",
    "    print(row)\n",
    "    num = row[0]\n",
    "\n",
    "    if row[1] != '':\n",
    "        target_persons = [int(row[1]), int(row[2])]\n",
    "        begin = int(row[3])\n",
    "        end = int(row[4])\n",
    "    else:\n",
    "        target_persons = []\n",
    "        begin = 0\n",
    "        end = 0\n",
    "    \n",
    "    if row[5] != '':\n",
    "        target_persons2 = [int(row[5]), int(row[6])]\n",
    "        begin2 = int(row[7])\n",
    "        end2 = int(row[8])\n",
    "    else:\n",
    "        target_persons2 = []\n",
    "        begin2 = 0\n",
    "        end2 = 0\n",
    "    \n",
    "    tracking_path = f'{common.data_dir}/{room_num}/{date}/passing/{num}/json/tracking.json'\n",
    "    tracking_data = json.load(tracking_path)\n",
    "\n",
    "    max_frame = tracking_data[-1]['frame']\n",
    "    csv_write_data = []\n",
    "    for frame_num in range(max_frame):\n",
    "        frame_data = [data for data in tracking_data if data['frame'] == frame_num]\n",
    "\n",
    "        for i in range(len(frame_data) - 1):\n",
    "            for j in range(i + 1, len(frame_data)):\n",
    "                p1 = frame_data[i]['label']\n",
    "                p2 = frame_data[j]['label']\n",
    "\n",
    "                is_pass = 0\n",
    "                if p1 in target_persons and p2 in target_persons:\n",
    "                    if begin <= frame_num and frame_num <= end:\n",
    "                        is_pass = 1\n",
    "\n",
    "                if p1 in target_persons2 and p2 in target_persons2:\n",
    "                    if begin2 <= frame_num and frame_num <= end2:\n",
    "                        is_pass = 1\n",
    "                \n",
    "                csv_write_data.append((frame_num, p1, p2, is_pass))\n",
    "\n",
    "    csv_write_data = sorted(csv_write_data, key=lambda x: x[2])  # sorted by person2\n",
    "    csv_write_data = sorted(csv_write_data, key=lambda x: x[1])  # sorted by person1\n",
    "    csv_write_data = [('frame', 'person1', 'person2', 'passing')] + csv_write_data  # add column\n",
    "\n",
    "    csv_dir = f'{common.data_dir}/{room_num}/{date}/passing/{num}/csv/'\n",
    "    os.makedirs(csv_dir, exist_ok=True)\n",
    "\n",
    "    csv_path = csv_dir + 'data.csv'\n",
    "    np.savetxt(csv_path, csv_write_data, delimiter=',', fmt='%s')"
   ]
  },
  {
   "cell_type": "code",
   "execution_count": null,
   "id": "09c5e771-780b-4501-9ca9-8da3c47e98d7",
   "metadata": {},
   "outputs": [],
   "source": []
  }
 ],
 "metadata": {
  "kernelspec": {
   "display_name": "Python 3 (ipykernel)",
   "language": "python",
   "name": "python3"
  },
  "language_info": {
   "codemirror_mode": {
    "name": "ipython",
    "version": 3
   },
   "file_extension": ".py",
   "mimetype": "text/x-python",
   "name": "python",
   "nbconvert_exporter": "python",
   "pygments_lexer": "ipython3",
   "version": "3.9.7"
  }
 },
 "nbformat": 4,
 "nbformat_minor": 5
}
