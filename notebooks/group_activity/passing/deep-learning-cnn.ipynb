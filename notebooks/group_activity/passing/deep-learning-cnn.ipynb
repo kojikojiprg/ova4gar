{
 "cells": [
  {
   "cell_type": "code",
   "execution_count": 1,
   "id": "621a2a8a",
   "metadata": {},
   "outputs": [],
   "source": [
    "import os\n",
    "import glob\n",
    "import numpy as np\n",
    "import matplotlib.pyplot as plt\n",
    "import cv2\n",
    "import sys\n",
    "from tqdm import tqdm\n",
    "import time\n",
    "sys.path.append('../../../src')\n",
    "\n",
    "import torch\n",
    "import torch.nn.functional as F\n",
    "from torch import tensor\n",
    "from torch import nn\n",
    "from torch import optim\n",
    "from torch.utils.data import Dataset\n",
    "from torch.utils.data import DataLoader\n",
    "from sklearn.preprocessing import Normalizer\n",
    "\n",
    "from common import common, transform, json\n",
    "from common.json import IA_FORMAT, START_IDX\n",
    "from common.functions import gauss, cos_similarity, standardize\n",
    "from common.default import PASSING_DEFAULT\n",
    "from display.display import display\n",
    "from individual_activity.individual_activity import IndividualActivity"
   ]
  },
  {
   "cell_type": "code",
   "execution_count": 2,
   "id": "d28083f0-6a29-4348-b2f0-6099f5289d7b",
   "metadata": {},
   "outputs": [
    {
     "data": {
      "text/plain": [
       "'cuda:2'"
      ]
     },
     "execution_count": 2,
     "metadata": {},
     "output_type": "execute_result"
    }
   ],
   "source": [
    "device_idx = 2\n",
    "device = f'cuda:{device_idx}' if torch.cuda.is_available() else 'cpu'\n",
    "device"
   ]
  },
  {
   "cell_type": "markdown",
   "id": "a5529414-c955-4937-a3ae-fee227a8c985",
   "metadata": {},
   "source": [
    "# Indivisual Activity をロード"
   ]
  },
  {
   "cell_type": "code",
   "execution_count": 3,
   "id": "13258793-9215-437d-aaa5-2d3c5e1676ea",
   "metadata": {},
   "outputs": [],
   "source": [
    "data_settings = [\n",
    "    {'room_num': '02', 'date': '20210903', 'option': 'passing'},\n",
    "    {'room_num': '08', 'date': '20210915', 'option': 'passing'},\n",
    "    {'room_num': '09', 'date': '20210706', 'option': 'passing'}\n",
    "]"
   ]
  },
  {
   "cell_type": "code",
   "execution_count": 4,
   "id": "c7f9fd05-6b39-4482-a6e9-6f76c4fe1c50",
   "metadata": {},
   "outputs": [],
   "source": [
    "# homography\n",
    "def get_homo(room_num):\n",
    "    field_path = os.path.join(common.data_dir, '{}/field.png'.format(room_num))\n",
    "    field_raw = cv2.imread(field_path)\n",
    "    p_video = common.homo[room_num][0]\n",
    "    p_field = common.homo[room_num][1]\n",
    "    homo = transform.Homography(p_video, p_field, field_raw.shape)\n",
    "    return homo"
   ]
  },
  {
   "cell_type": "code",
   "execution_count": 5,
   "id": "4d90bf23-ef9b-477e-9bc1-a78b6a8b9067",
   "metadata": {},
   "outputs": [],
   "source": [
    "def load_individuals(json_data, prefix, homo):\n",
    "    individuals = {}\n",
    "    for data in json_data:\n",
    "        label = prefix + str(data[IA_FORMAT[0]])\n",
    "        frame_num = data[IA_FORMAT[1]]\n",
    "        tracking_point = data[IA_FORMAT[2]]\n",
    "        keypoints = data[IA_FORMAT[3]]\n",
    "\n",
    "        if label not in individuals:\n",
    "            ia = IndividualActivity(label, homo)\n",
    "            individuals[label] = ia\n",
    "        else:\n",
    "            ia = individuals[label]\n",
    "\n",
    "        ia.tracking_points[frame_num] = tracking_point\n",
    "        ia.keypoints[frame_num] = keypoints\n",
    "        for f in IA_FORMAT[START_IDX:]:\n",
    "            ia.indicator_dict[f][frame_num] = data[f]\n",
    "            \n",
    "    return individuals"
   ]
  },
  {
   "cell_type": "code",
   "execution_count": 6,
   "id": "17cc34c2-b791-4675-8da9-15703afaa5d1",
   "metadata": {
    "tags": []
   },
   "outputs": [
    {
     "name": "stdout",
     "output_type": "stream",
     "text": [
      "{'room_num': '02', 'date': '20210903', 'option': 'passing'}\n"
     ]
    },
    {
     "name": "stderr",
     "output_type": "stream",
     "text": [
      "100%|██████████| 23/23 [00:03<00:00,  6.25it/s]\n"
     ]
    },
    {
     "name": "stdout",
     "output_type": "stream",
     "text": [
      "{'room_num': '08', 'date': '20210915', 'option': 'passing'}\n"
     ]
    },
    {
     "name": "stderr",
     "output_type": "stream",
     "text": [
      "100%|██████████| 41/41 [00:04<00:00,  9.86it/s]\n"
     ]
    },
    {
     "name": "stdout",
     "output_type": "stream",
     "text": [
      "{'room_num': '09', 'date': '20210706', 'option': 'passing'}\n"
     ]
    },
    {
     "name": "stderr",
     "output_type": "stream",
     "text": [
      "100%|██████████| 9/9 [00:01<00:00,  5.10it/s]\n"
     ]
    }
   ],
   "source": [
    "individuals = {}\n",
    "for setting in data_settings:\n",
    "    print(setting)\n",
    "    room_num = setting['room_num']\n",
    "    date = setting['date']\n",
    "    opt = setting['option']\n",
    "    \n",
    "    homo = get_homo(room_num)\n",
    "    \n",
    "    if opt is None:\n",
    "        dir_path = f'{common.data_dir}/{room_num}/{date}/*'\n",
    "    else:\n",
    "        dir_path = f'{common.data_dir}/{room_num}/{date}/{opt}/*'\n",
    "    dirs = glob.glob(dir_path)\n",
    "    dirs = sorted(dirs)[:-1]  # delete make_csv.csv\n",
    "    \n",
    "    for path in tqdm(dirs):\n",
    "        path = f'{path}/json/individual_activity.json'\n",
    "        json_data = json.load(path)\n",
    "        prefix = path.split('/')[-6] + '_' + path.split('/')[-3] + '_'  # room-num_date_\n",
    "        individuals.update(load_individuals(json_data, prefix, homo))"
   ]
  },
  {
   "cell_type": "markdown",
   "id": "72004e68-6780-49fc-a9b0-39956994bf8c",
   "metadata": {},
   "source": [
    "# 特徴量抽出とデータ生成"
   ]
  },
  {
   "cell_type": "code",
   "execution_count": 7,
   "id": "e6813548-8e32-424d-8f3f-9e7e19da345b",
   "metadata": {},
   "outputs": [],
   "source": [
    "def extract_features(frame_num, label1, label2, individuals):\n",
    "    individual1 = individuals[label1]\n",
    "    pos1 = individual1.get_data('position', frame_num)\n",
    "    kps1 = individual1.keypoints[frame_num]\n",
    "    if pos1 is None or kps1 is None:\n",
    "        return None\n",
    "    \n",
    "    individual2 = individuals[label2]\n",
    "    pos2 = individual2.get_data('position', frame_num)\n",
    "    kps2 = individual2.keypoints[frame_num]\n",
    "    if pos2 is None or kps2 is None:\n",
    "        return None\n",
    "    \n",
    "    # ポジション間の距離\n",
    "    norm = np.linalg.norm(np.array(pos1) - np.array(pos2), ord=2)\n",
    "    if norm < 50 or 300 < norm:\n",
    "        # norm が範囲外の時はデータに加えない\n",
    "        # plot.ipynb の分布から決定した\n",
    "        return None\n",
    "    \n",
    "    features = []\n",
    "    for p1 in kps1:\n",
    "        row = []\n",
    "        for p2 in kps2:\n",
    "            norm = np.linalg.norm(np.array(p1) - np.array(p2))\n",
    "            row.append(norm)\n",
    "        features.append(row)\n",
    "    \n",
    "    return features"
   ]
  },
  {
   "cell_type": "code",
   "execution_count": 8,
   "id": "ca85d7d5-9ff3-4597-aba6-5a5b50f945e0",
   "metadata": {
    "scrolled": true,
    "tags": []
   },
   "outputs": [
    {
     "name": "stderr",
     "output_type": "stream",
     "text": [
      "02, 20210903, 01: 100%|██████████| 5442/5442 [00:05<00:00, 1047.45it/s]\n",
      "02, 20210903, 02: 100%|██████████| 15652/15652 [00:12<00:00, 1255.37it/s]\n",
      "02, 20210903, 03: 100%|██████████| 4467/4467 [00:01<00:00, 3755.94it/s]\n",
      "02, 20210903, 04: 100%|██████████| 1862/1862 [00:00<00:00, 2155.07it/s]\n",
      "02, 20210903, 05: 100%|██████████| 3871/3871 [00:03<00:00, 1030.09it/s]\n",
      "02, 20210903, 06: 100%|██████████| 8988/8988 [00:06<00:00, 1372.74it/s]\n",
      "02, 20210903, 07: 100%|██████████| 6588/6588 [00:05<00:00, 1188.99it/s]\n",
      "02, 20210903, 08: 100%|██████████| 10843/10843 [00:07<00:00, 1383.19it/s]\n",
      "02, 20210903, 09: 100%|██████████| 21966/21966 [00:17<00:00, 1239.25it/s]\n",
      "02, 20210903, 10: 100%|██████████| 43537/43537 [00:31<00:00, 1366.42it/s]\n",
      "02, 20210903, 11: 100%|██████████| 17141/17141 [00:08<00:00, 1969.43it/s]\n",
      "02, 20210903, 12: 100%|██████████| 7030/7030 [00:03<00:00, 1852.18it/s]\n",
      "02, 20210903, 13: 100%|██████████| 13649/13649 [00:07<00:00, 1742.40it/s]\n",
      "02, 20210903, 14: 100%|██████████| 14344/14344 [00:09<00:00, 1556.18it/s]\n",
      "02, 20210903, 15: 100%|██████████| 22431/22431 [00:14<00:00, 1565.85it/s]\n",
      "02, 20210903, 16: 100%|██████████| 6414/6414 [00:03<00:00, 1618.91it/s]\n",
      "02, 20210903, 17: 100%|██████████| 3608/3608 [00:04<00:00, 742.49it/s] \n",
      "02, 20210903, 18: 100%|██████████| 12254/12254 [00:15<00:00, 806.57it/s] \n",
      "02, 20210903, 19: 100%|██████████| 3555/3555 [00:03<00:00, 1047.45it/s]\n",
      "02, 20210903, 20: 100%|██████████| 5983/5983 [00:04<00:00, 1283.95it/s]\n",
      "02, 20210903, 21: 100%|██████████| 4427/4427 [00:05<00:00, 874.22it/s] \n",
      "02, 20210903, 22: 100%|██████████| 4030/4030 [00:03<00:00, 1163.07it/s]\n",
      "02, 20210903, 23: 100%|██████████| 6890/6890 [00:06<00:00, 1042.42it/s]\n",
      "08, 20210915, 01: 100%|██████████| 4667/4667 [00:05<00:00, 901.30it/s] \n",
      "08, 20210915, 02: 100%|██████████| 6920/6920 [00:06<00:00, 1056.39it/s]\n",
      "08, 20210915, 03: 100%|██████████| 14624/14624 [00:13<00:00, 1053.72it/s]\n",
      "08, 20210915, 04: 100%|██████████| 5831/5831 [00:05<00:00, 1054.46it/s]\n",
      "08, 20210915, 05: 100%|██████████| 4657/4657 [00:04<00:00, 994.52it/s] \n",
      "08, 20210915, 06: 100%|██████████| 2623/2623 [00:02<00:00, 910.53it/s] \n",
      "08, 20210915, 07: 100%|██████████| 3148/3148 [00:02<00:00, 1050.93it/s]\n",
      "08, 20210915, 08: 100%|██████████| 6407/6407 [00:06<00:00, 1014.32it/s]\n",
      "08, 20210915, 09: 100%|██████████| 3616/3616 [00:03<00:00, 1077.14it/s]\n",
      "08, 20210915, 10: 100%|██████████| 4754/4754 [00:04<00:00, 1124.30it/s]\n",
      "08, 20210915, 11: 100%|██████████| 5972/5972 [00:04<00:00, 1464.65it/s]\n",
      "08, 20210915, 12: 100%|██████████| 6042/6042 [00:05<00:00, 1204.05it/s]\n",
      "08, 20210915, 13: 100%|██████████| 5968/5968 [00:03<00:00, 1733.26it/s]\n",
      "08, 20210915, 14: 100%|██████████| 6793/6793 [00:09<00:00, 688.91it/s] \n",
      "08, 20210915, 15: 100%|██████████| 3544/3544 [00:04<00:00, 844.85it/s] \n",
      "08, 20210915, 16: 100%|██████████| 3764/3764 [00:03<00:00, 1186.58it/s] \n",
      "08, 20210915, 17: 100%|██████████| 1777/1777 [00:01<00:00, 1201.46it/s]\n",
      "08, 20210915, 18: 100%|██████████| 2515/2515 [00:02<00:00, 1081.89it/s]\n",
      "08, 20210915, 19: 100%|██████████| 5623/5623 [00:03<00:00, 1672.21it/s]\n",
      "08, 20210915, 20: 100%|██████████| 2513/2513 [00:01<00:00, 1607.35it/s]\n",
      "08, 20210915, 21: 100%|██████████| 3262/3262 [00:03<00:00, 1007.74it/s]\n",
      "08, 20210915, 22: 100%|██████████| 3539/3539 [00:02<00:00, 1758.76it/s]\n",
      "08, 20210915, 23: 100%|██████████| 2532/2532 [00:02<00:00, 1251.24it/s]\n",
      "08, 20210915, 24: 100%|██████████| 9502/9502 [00:07<00:00, 1306.90it/s]\n",
      "08, 20210915, 25: 100%|██████████| 6071/6071 [00:05<00:00, 1177.73it/s]\n",
      "08, 20210915, 26: 100%|██████████| 4998/4998 [00:05<00:00, 925.42it/s] \n",
      "08, 20210915, 27: 100%|██████████| 7655/7655 [00:06<00:00, 1220.28it/s]\n",
      "08, 20210915, 28: 100%|██████████| 6956/6956 [00:07<00:00, 979.66it/s] \n",
      "08, 20210915, 29: 100%|██████████| 4529/4529 [00:03<00:00, 1355.36it/s]\n",
      "08, 20210915, 30: 100%|██████████| 4089/4089 [00:01<00:00, 2236.90it/s]\n",
      "08, 20210915, 31: 100%|██████████| 5338/5338 [00:04<00:00, 1330.35it/s]\n",
      "08, 20210915, 32: 100%|██████████| 4544/4544 [00:03<00:00, 1214.62it/s]\n",
      "08, 20210915, 33: 100%|██████████| 3031/3031 [00:03<00:00, 791.38it/s] \n",
      "08, 20210915, 34: 100%|██████████| 1803/1803 [00:01<00:00, 1114.25it/s]\n",
      "08, 20210915, 35: 100%|██████████| 5535/5535 [00:05<00:00, 1030.08it/s]\n",
      "08, 20210915, 36: 100%|██████████| 2243/2243 [00:02<00:00, 881.47it/s] \n",
      "08, 20210915, 37: 100%|██████████| 9452/9452 [00:09<00:00, 1049.98it/s]\n",
      "08, 20210915, 38: 100%|██████████| 1847/1847 [00:02<00:00, 731.72it/s] \n",
      "08, 20210915, 39: 100%|██████████| 2980/2980 [00:02<00:00, 1162.52it/s]\n",
      "08, 20210915, 40: 100%|██████████| 2759/2759 [00:02<00:00, 1101.82it/s]\n",
      "08, 20210915, 41: 100%|██████████| 1696/1696 [00:02<00:00, 831.36it/s]\n",
      "09, 20210706, 01: 100%|██████████| 7646/7646 [00:05<00:00, 1461.79it/s]\n",
      "09, 20210706, 02: 100%|██████████| 14759/14759 [00:11<00:00, 1292.66it/s]\n",
      "09, 20210706, 03: 100%|██████████| 36887/36887 [00:34<00:00, 1083.97it/s]\n",
      "09, 20210706, 04: 100%|██████████| 25303/25303 [00:20<00:00, 1224.36it/s]\n",
      "09, 20210706, 05: 100%|██████████| 6391/6391 [00:05<00:00, 1106.89it/s]\n",
      "09, 20210706, 06: 100%|██████████| 7269/7269 [00:05<00:00, 1248.20it/s]\n",
      "09, 20210706, 07: 100%|██████████| 4126/4126 [00:03<00:00, 1101.46it/s]\n",
      "09, 20210706, 08: 100%|██████████| 7153/7153 [00:07<00:00, 901.60it/s] \n",
      "09, 20210706, 09: 100%|██████████| 3701/3701 [00:04<00:00, 823.72it/s] \n"
     ]
    }
   ],
   "source": [
    "x_dict = {}\n",
    "y_dict = {}\n",
    "for setting in data_settings:\n",
    "    room_num = setting['room_num']\n",
    "    date = setting['date']\n",
    "    opt = setting['option']\n",
    "    \n",
    "    dirs = sorted(glob.glob(f'{common.data_dir}/{room_num}/{date}/{opt}/*'))\n",
    "    if dirs[-1].endswith('make_csv.csv'):\n",
    "        dirs = dirs[:-1]\n",
    "\n",
    "    for path in dirs:\n",
    "        file_num = path.split('/')[-1]\n",
    "        csv_path = f'{path}/csv/data.csv'\n",
    "        csv_data = np.loadtxt(csv_path, delimiter=',', dtype=int, skiprows=1)\n",
    "\n",
    "        for row in tqdm(csv_data, desc=f'{room_num}, {date}, {file_num}'):\n",
    "            frame_num = row[0]\n",
    "            label1 = f'{room_num}_{file_num}_{row[1]}'\n",
    "            label2 = f'{room_num}_{file_num}_{row[2]}'\n",
    "\n",
    "            features = extract_features(frame_num, label1, label2, individuals)\n",
    "            key = f'{room_num}_{file_num}_{row[1]}_{row[2]}'\n",
    "\n",
    "            if key not in x_dict:\n",
    "                x_dict[key] = []\n",
    "                y_dict[key] = []\n",
    "\n",
    "            x_dict[key].append(features)\n",
    "            y_dict[key].append(row[3])"
   ]
  },
  {
   "cell_type": "markdown",
   "id": "7c563a83-6385-4c71-b2a3-f099cf1f114e",
   "metadata": {},
   "source": [
    "## nanを穴埋めする"
   ]
  },
  {
   "cell_type": "code",
   "execution_count": 9,
   "id": "88b43cc8-0d8e-461a-8efa-c8149d57a12e",
   "metadata": {
    "tags": []
   },
   "outputs": [
    {
     "name": "stderr",
     "output_type": "stream",
     "text": [
      "/tmp/ipykernel_18702/98515819.py:31: RuntimeWarning: Mean of empty slice\n",
      "  means = np.nanmean(copy_x_lst[i:i + window], axis=0)\n"
     ]
    }
   ],
   "source": [
    "def fill_nan(x_lst, y_lst, window=3):\n",
    "    # None を飛ばす\n",
    "    for i in range(len(x_lst)):\n",
    "        if x_lst[i] is not None:\n",
    "            break\n",
    "    \n",
    "    pre_x = x_lst[i]\n",
    "    pre_y = y_lst[i]\n",
    "    \n",
    "    copy_x_lst = []\n",
    "    copy_y_lst = []\n",
    "    for x, y in zip(x_lst[i + 1:], y_lst[i + 1:]):\n",
    "        if x is not None:\n",
    "            if True in np.isnan(x):\n",
    "                x = np.where(np.isnan(x), pre_x, x).copy()\n",
    "            copy_x_lst.append(x)\n",
    "            copy_y_lst.append(y)\n",
    "            pre_x = x.copy()\n",
    "            pre_y = y.copy()\n",
    "        else:\n",
    "            # 前のフレームからコピー\n",
    "            copy_x_lst.append(pre_x)\n",
    "            copy_y_lst.append(pre_y)\n",
    "\n",
    "    # 残ったnanは移動平均で穴埋め\n",
    "    ma_x_lst = []\n",
    "    ma_y_lst = []\n",
    "    for i in range(0, len(copy_x_lst) - window + 1):\n",
    "        if copy_x_lst[i] is None:\n",
    "            print(copy_x_lst[i:i + window])\n",
    "        means = np.nanmean(copy_x_lst[i:i + window], axis=0)\n",
    "        for x, y in zip(copy_x_lst[i:i + window], copy_y_lst[i:i + window]):\n",
    "            if True in np.isnan(x):\n",
    "                x = np.where(np.isnan(x), means, x).copy()\n",
    "\n",
    "            if len(ma_x_lst) <= i + window and True not in np.isnan(x):\n",
    "                # nanを埋めきったデータのみ追加\n",
    "                ma_x_lst.append(x)\n",
    "                ma_y_lst.append(y)\n",
    "\n",
    "    return  np.array(ma_x_lst), np.array(ma_y_lst)\n",
    "\n",
    "\n",
    "x_dict_fill_nan = {}\n",
    "y_dict_fill_nan = {}\n",
    "for key, x_lst in x_dict.items():\n",
    "    y_lst = y_dict[key]\n",
    "    x_lst, y_lst = fill_nan(x_lst, y_lst, window=3)\n",
    "    if len(x_lst) > 0:\n",
    "        x_dict_fill_nan[key] = x_lst\n",
    "        y_dict_fill_nan[key] = y_lst"
   ]
  },
  {
   "cell_type": "markdown",
   "id": "85c579a4-c799-48a3-a5b4-20958d7a0316",
   "metadata": {},
   "source": [
    "## 標準化"
   ]
  },
  {
   "cell_type": "code",
   "execution_count": 12,
   "id": "edfe3452-8fd1-4c0e-937d-f2cf23b53ffd",
   "metadata": {
    "tags": []
   },
   "outputs": [
    {
     "name": "stdout",
     "output_type": "stream",
     "text": [
      "318.95485068617876 161.0945804210834\n"
     ]
    }
   ],
   "source": [
    "x_all = []\n",
    "for x_lst in x_dict_fill_nan.values():\n",
    "    x_all += x_lst.tolist()\n",
    "\n",
    "mean = np.mean(x_all)\n",
    "std = np.std(x_all)\n",
    "print(mean, std)\n",
    "\n",
    "x_dict_std = {}\n",
    "y_dict_std = y_dict_fill_nan\n",
    "for key, x_lst in x_dict_fill_nan.items():\n",
    "    x_lst = (np.array(x_lst) - mean) / std\n",
    "    x_dict_std[key] = x_lst"
   ]
  },
  {
   "cell_type": "markdown",
   "id": "37fd9b3a-c263-4b7b-980f-f9c1f4e9a2c8",
   "metadata": {},
   "source": [
    "# 深層学習"
   ]
  },
  {
   "cell_type": "code",
   "execution_count": 64,
   "id": "934b1c15",
   "metadata": {},
   "outputs": [
    {
     "data": {
      "text/plain": [
       "<torch._C.Generator at 0x7f3ad43f1310>"
      ]
     },
     "execution_count": 64,
     "metadata": {},
     "output_type": "execute_result"
    }
   ],
   "source": [
    "# model settings\n",
    "SEQ_LEN = 16\n",
    "\n",
    "# leraning rate\n",
    "LR = 0.001\n",
    "\n",
    "# training and data settings\n",
    "EPOCH = 30\n",
    "BATCH_SIZE = 128\n",
    "TRAIN_RATIO = 0.7\n",
    "VAL_RATIO = 0.05\n",
    "\n",
    "config = {\n",
    "    'seq_len': SEQ_LEN,\n",
    "    'n_channel': 1,\n",
    "    'n_convs': 2,\n",
    "    'conv_hidden_dims': [128, 256],\n",
    "    'conv_is_doubles': [False, True],\n",
    "    'n_linears': 2,\n",
    "    'hidden_dims': [512, 128],\n",
    "    'dropouts': [0.1, 0],\n",
    "    'n_classes': 2,\n",
    "    'lr': LR,\n",
    "    'epoch': EPOCH,\n",
    "    'batch_size':BATCH_SIZE,\n",
    "    'device': device,\n",
    "}\n",
    "\n",
    "# setting random seed\n",
    "SEED = 64\n",
    "np.random.seed(SEED)\n",
    "torch.manual_seed(SEED)"
   ]
  },
  {
   "cell_type": "markdown",
   "id": "4861bcb0-b6db-42ec-99c5-85885f7dcbc7",
   "metadata": {},
   "source": [
    "## データセット生成"
   ]
  },
  {
   "cell_type": "code",
   "execution_count": 65,
   "id": "b67c0601-d170-4016-a5dd-cd7b7b3959ef",
   "metadata": {},
   "outputs": [],
   "source": [
    "def create_sequence(x_lst, y_lst, seq_len, n_channel):\n",
    "    x_seq = []\n",
    "    y_seq = []\n",
    "    for i in range(len(x_lst) - seq_len + 1):\n",
    "        x_seq.append(np.array(x_lst[i:i + seq_len]).reshape(n_channel, seq_len, 17, 17))\n",
    "        y_seq.append(y_lst[i + seq_len - 1])\n",
    "    \n",
    "    return x_seq, y_seq\n",
    "\n",
    "\n",
    "class MyDataset(Dataset):\n",
    "    def __init__(self, x_dict, y_dict, **kwargs):\n",
    "        seq_len = kwargs['seq_len']\n",
    "        n_channel = kwargs['n_channel']\n",
    "        self.x, self.y = [], []\n",
    "        for key in tqdm(x_dict.keys()):\n",
    "            x_lst = x_dict[key]\n",
    "            y_lst = y_dict[key]\n",
    "            x_seq, y_seq = create_sequence(x_lst, y_lst, seq_len, n_channel)\n",
    "            self.x += x_seq\n",
    "            self.y += y_seq\n",
    "            \n",
    "        self.device = kwargs['device']\n",
    "            \n",
    "    def __getitem__(self, index):\n",
    "        return (\n",
    "            tensor(self.x[index]).float().to(self.device),\n",
    "            tensor(self.y[index]).long().to(self.device)\n",
    "        )\n",
    "\n",
    "    def __len__(self):\n",
    "        return len(self.x)"
   ]
  },
  {
   "cell_type": "code",
   "execution_count": 66,
   "id": "4a2ccdb9-88d7-473a-9f42-90eac8e19bcd",
   "metadata": {},
   "outputs": [
    {
     "name": "stderr",
     "output_type": "stream",
     "text": [
      "100%|██████████| 574/574 [00:01<00:00, 420.28it/s]\n",
      "100%|██████████| 41/41 [00:00<00:00, 481.31it/s]\n",
      "100%|██████████| 205/205 [00:00<00:00, 480.55it/s]\n"
     ]
    }
   ],
   "source": [
    "train_len = int(len(x_dict_std) * TRAIN_RATIO)\n",
    "val_len = int(len(x_dict_std) * VAL_RATIO)\n",
    "\n",
    "random_keys = np.random.choice(\n",
    "    list(x_dict_std.keys()),\n",
    "    size=len(x_dict_std),\n",
    "    replace=False\n",
    ")\n",
    "\n",
    "train_keys = random_keys[:train_len]\n",
    "val_keys = random_keys[train_len:train_len + val_len]\n",
    "test_keys = random_keys[train_len + val_len:]\n",
    "\n",
    "x_train_dict = {key: x_dict_std[key] for key in train_keys}\n",
    "y_train_dict = {key: y_dict_std[key] for key in train_keys}\n",
    "train_loader = DataLoader(\n",
    "    MyDataset(x_train_dict, y_train_dict, **config),\n",
    "    batch_size=BATCH_SIZE,\n",
    "    shuffle=True\n",
    ")\n",
    "\n",
    "x_val_dict = {key: x_dict_std[key] for key in val_keys}\n",
    "y_val_dict = {key: y_dict_std[key] for key in val_keys}\n",
    "val_loader = DataLoader(\n",
    "    MyDataset(x_val_dict, y_val_dict, **config),\n",
    "    batch_size=BATCH_SIZE,\n",
    "    shuffle=False\n",
    ")\n",
    "\n",
    "x_test_dict = {key: x_dict_std[key] for key in test_keys}\n",
    "y_test_dict = {key: y_dict_std[key] for key in test_keys}\n",
    "test_loader = DataLoader(\n",
    "    MyDataset(x_test_dict, y_test_dict, **config),\n",
    "    batch_size=BATCH_SIZE,\n",
    "    shuffle=False\n",
    ")"
   ]
  },
  {
   "cell_type": "markdown",
   "id": "e4a7d795-5a3d-459a-9ddf-9f47fb100e22",
   "metadata": {},
   "source": [
    "## モデル作成"
   ]
  },
  {
   "cell_type": "code",
   "execution_count": 67,
   "id": "d1d57f1f",
   "metadata": {},
   "outputs": [],
   "source": [
    "class CNNModel(nn.Module):\n",
    "    def __init__(self, **config):\n",
    "        super(CNNModel, self).__init__()\n",
    "\n",
    "        self.convs = nn.Sequential()\n",
    "        for i in range(config['n_convs']):\n",
    "            if i == 0:\n",
    "                in_c = config['n_channel']\n",
    "            else:\n",
    "                in_c = config['conv_hidden_dims'][i - 1]\n",
    "            out_c = config['conv_hidden_dims'][i]\n",
    "            is_double = config['conv_is_doubles'][i]\n",
    "            self.convs.add_module(\n",
    "                f'conv{i + 1}',\n",
    "                Conv3d(in_c, out_c, is_conv_double=is_double)\n",
    "            )\n",
    "        \n",
    "        self.linears = nn.Sequential()\n",
    "        for i in range(config['n_linears']):\n",
    "            if i == 0:\n",
    "                in_dim = 64 * config['conv_hidden_dims'][-1]\n",
    "            else:\n",
    "                in_dim = config['hidden_dims'][i - 1]\n",
    "            out_dim = config['hidden_dims'][i]\n",
    "            dropout = config['dropouts'][i]\n",
    "            self.linears.add_module(\n",
    "                f'fc{i + 1}',\n",
    "                Linear(in_dim, out_dim, dropout)\n",
    "            )\n",
    "\n",
    "        self.output_layer = nn.Linear(config['hidden_dims'][-1], config['n_classes'])\n",
    "        self.softmax = nn.Softmax(dim=1)\n",
    "\n",
    "    def forward(self, x):\n",
    "        x = self.convs(x)\n",
    "        x = x.view(x.size(0), -1)\n",
    "        x = self.linears(x)\n",
    "        x = self.output_layer(x)\n",
    "        x = self.softmax(x)\n",
    "        \n",
    "        return x\n",
    "    \n",
    "class Conv3d(nn.Sequential):\n",
    "    def __init__(\n",
    "        self, in_c, out_c,\n",
    "        kernel_size=(3, 3, 3),\n",
    "        stride=(1, 1, 1),\n",
    "        padding=(1, 1, 1),\n",
    "        is_conv_double=False,\n",
    "    ):\n",
    "        modules = []\n",
    "        modules.append(nn.Conv3d(\n",
    "            in_c, out_c,\n",
    "            kernel_size=kernel_size,\n",
    "            stride=stride,\n",
    "            padding=padding\n",
    "        ))\n",
    "        modules.append(nn.LeakyReLU())\n",
    "        if is_conv_double:\n",
    "            modules.append(nn.Conv3d(\n",
    "                out_c, out_c,\n",
    "                kernel_size=kernel_size,\n",
    "                stride=stride,\n",
    "                padding=padding\n",
    "            ))\n",
    "            modules.append(nn.LeakyReLU())\n",
    "        modules.append(nn.MaxPool3d((2, 2, 2)))\n",
    "        super(Conv3d, self).__init__(*modules)\n",
    "        \n",
    "\n",
    "class Linear(nn.Sequential):\n",
    "    def __init__(self, in_dim, out_dim, dropout):\n",
    "        super(Linear, self).__init__(\n",
    "            nn.Linear(in_dim, out_dim),\n",
    "            nn.LeakyReLU(),\n",
    "            nn.BatchNorm1d(out_dim),\n",
    "            nn.Dropout(dropout)\n",
    "        )"
   ]
  },
  {
   "cell_type": "code",
   "execution_count": 68,
   "id": "c0241b7a",
   "metadata": {},
   "outputs": [
    {
     "data": {
      "text/plain": [
       "CNNModel(\n",
       "  (convs): Sequential(\n",
       "    (conv1): Conv3d(\n",
       "      (0): Conv3d(1, 128, kernel_size=(3, 3, 3), stride=(1, 1, 1), padding=(1, 1, 1))\n",
       "      (1): LeakyReLU(negative_slope=0.01)\n",
       "      (2): MaxPool3d(kernel_size=(2, 2, 2), stride=(2, 2, 2), padding=0, dilation=1, ceil_mode=False)\n",
       "    )\n",
       "    (conv2): Conv3d(\n",
       "      (0): Conv3d(128, 256, kernel_size=(3, 3, 3), stride=(1, 1, 1), padding=(1, 1, 1))\n",
       "      (1): LeakyReLU(negative_slope=0.01)\n",
       "      (2): Conv3d(256, 256, kernel_size=(3, 3, 3), stride=(1, 1, 1), padding=(1, 1, 1))\n",
       "      (3): LeakyReLU(negative_slope=0.01)\n",
       "      (4): MaxPool3d(kernel_size=(2, 2, 2), stride=(2, 2, 2), padding=0, dilation=1, ceil_mode=False)\n",
       "    )\n",
       "  )\n",
       "  (linears): Sequential(\n",
       "    (fc1): Linear(\n",
       "      (0): Linear(in_features=16384, out_features=512, bias=True)\n",
       "      (1): LeakyReLU(negative_slope=0.01)\n",
       "      (2): BatchNorm1d(512, eps=1e-05, momentum=0.1, affine=True, track_running_stats=True)\n",
       "      (3): Dropout(p=0.1, inplace=False)\n",
       "    )\n",
       "    (fc2): Linear(\n",
       "      (0): Linear(in_features=512, out_features=128, bias=True)\n",
       "      (1): LeakyReLU(negative_slope=0.01)\n",
       "      (2): BatchNorm1d(128, eps=1e-05, momentum=0.1, affine=True, track_running_stats=True)\n",
       "      (3): Dropout(p=0, inplace=False)\n",
       "    )\n",
       "  )\n",
       "  (output_layer): Linear(in_features=128, out_features=2, bias=True)\n",
       "  (softmax): Softmax(dim=1)\n",
       ")"
      ]
     },
     "execution_count": 68,
     "metadata": {},
     "output_type": "execute_result"
    }
   ],
   "source": [
    "model = CNNModel(**config)\n",
    "model = model.to(device)\n",
    "\n",
    "criterion = nn.CrossEntropyLoss()\n",
    "optimizer = optim.Adam(model.parameters(), lr=LR)\n",
    "\n",
    "model"
   ]
  },
  {
   "cell_type": "markdown",
   "id": "dbac6497-da5d-42c3-8cc3-907eca3aa841",
   "metadata": {},
   "source": [
    "## 学習"
   ]
  },
  {
   "cell_type": "code",
   "execution_count": null,
   "id": "5f61b404",
   "metadata": {},
   "outputs": [],
   "source": [
    "history = dict(train=[], val=[])\n",
    "for epoch in range(1, EPOCH + 1):\n",
    "    ts = time.time()\n",
    "\n",
    "    # train\n",
    "    model = model.train()\n",
    "    train_losses = []\n",
    "    for x, y in train_loader:\n",
    "        optimizer.zero_grad()\n",
    "        pred = model(x)\n",
    "\n",
    "        loss = criterion(pred, y)\n",
    "        loss.backward()\n",
    "        optimizer.step()\n",
    "        train_losses.append(loss.item())\n",
    "\n",
    "    # validate\n",
    "    model = model.eval()\n",
    "    val_losses = []\n",
    "    with torch.no_grad():\n",
    "        for x, y in val_loader:\n",
    "            pred = model(x)\n",
    "            loss = criterion(pred, y)\n",
    "            val_losses.append(loss.item())\n",
    "\n",
    "    te = time.time()\n",
    "    train_loss = np.mean(train_losses)\n",
    "    val_loss = np.mean(val_losses)\n",
    "    history['train'].append(train_loss)\n",
    "    history['val'].append(val_loss)\n",
    "\n",
    "    print(f\"Epoch[{epoch}/{EPOCH}] train loss: {train_loss:.5f}, val loss: {val_loss:.5f}, time: {te - ts:.2f}\")"
   ]
  },
  {
   "cell_type": "code",
   "execution_count": 71,
   "id": "2fabef58-9d3d-494a-8437-1dfde06e192c",
   "metadata": {},
   "outputs": [
    {
     "data": {
      "image/png": "[encoded data removed]",
      "text/plain": [
       "<Figure size 432x288 with 1 Axes>"
      ]
     },
     "metadata": {
      "needs_background": "light"
     },
     "output_type": "display_data"
    }
   ],
   "source": [
    "plt.plot(history['train'])\n",
    "plt.plot(history['val'])\n",
    "plt.ylabel('Loss')\n",
    "plt.xlabel('epoch')\n",
    "plt.title('Loss over training epochs')\n",
    "plt.legend(['train','val'])\n",
    "plt.show()"
   ]
  },
  {
   "cell_type": "markdown",
   "id": "f06a60fd-b6fe-4f37-9dea-75091bdeaf20",
   "metadata": {},
   "source": [
    "## 検証"
   ]
  },
  {
   "cell_type": "code",
   "execution_count": 85,
   "id": "be856852-76d6-4989-b278-2e8f19f1d61a",
   "metadata": {},
   "outputs": [],
   "source": [
    "from sklearn.metrics import accuracy_score\n",
    "from sklearn.metrics import precision_score\n",
    "from sklearn.metrics import recall_score\n",
    "from sklearn.metrics import f1_score\n",
    "\n",
    "import warnings\n",
    "warnings.simplefilter(\"ignore\")"
   ]
  },
  {
   "cell_type": "code",
   "execution_count": 89,
   "id": "78835d0f",
   "metadata": {},
   "outputs": [
    {
     "name": "stdout",
     "output_type": "stream",
     "text": [
      "02_11_2_6\n"
     ]
    },
    {
     "data": {
      "image/png": "[encoded data removed]",
      "text/plain": [
       "<Figure size 720x108 with 1 Axes>"
      ]
     },
     "metadata": {
      "needs_background": "light"
     },
     "output_type": "display_data"
    },
    {
     "name": "stdout",
     "output_type": "stream",
     "text": [
      "02_06_0_4\n"
     ]
    },
    {
     "data": {
      "image/png": "[encoded data removed]",
      "text/plain": [
       "<Figure size 720x108 with 1 Axes>"
      ]
     },
     "metadata": {
      "needs_background": "light"
     },
     "output_type": "display_data"
    },
    {
     "name": "stdout",
     "output_type": "stream",
     "text": [
      "09_09_1_2\n"
     ]
    },
    {
     "data": {
      "image/png": "[encoded data removed]",
      "text/plain": [
       "<Figure size 720x108 with 1 Axes>"
      ]
     },
     "metadata": {
      "needs_background": "light"
     },
     "output_type": "display_data"
    },
    {
     "name": "stdout",
     "output_type": "stream",
     "text": [
      "09_03_0_3\n"
     ]
    },
    {
     "data": {
      "image/png": "[encoded data removed]",
      "text/plain": [
       "<Figure size 720x108 with 1 Axes>"
      ]
     },
     "metadata": {
      "needs_background": "light"
     },
     "output_type": "display_data"
    },
    {
     "name": "stdout",
     "output_type": "stream",
     "text": [
      "08_21_0_4\n"
     ]
    },
    {
     "data": {
      "image/png": "[encoded data removed]",
      "text/plain": [
       "<Figure size 720x108 with 1 Axes>"
      ]
     },
     "metadata": {
      "needs_background": "light"
     },
     "output_type": "display_data"
    },
    {
     "name": "stdout",
     "output_type": "stream",
     "text": [
      "08_37_2_3\n"
     ]
    },
    {
     "data": {
      "image/png": "[encoded data removed]",
      "text/plain": [
       "<Figure size 720x108 with 1 Axes>"
      ]
     },
     "metadata": {
      "needs_background": "light"
     },
     "output_type": "display_data"
    },
    {
     "name": "stdout",
     "output_type": "stream",
     "text": [
      "09_01_0_5\n"
     ]
    },
    {
     "data": {
      "image/png": "[encoded data removed]",
      "text/plain": [
       "<Figure size 720x108 with 1 Axes>"
      ]
     },
     "metadata": {
      "needs_background": "light"
     },
     "output_type": "display_data"
    },
    {
     "name": "stdout",
     "output_type": "stream",
     "text": [
      "09_06_0_2\n"
     ]
    },
    {
     "data": {
      "image/png": "[encoded data removed]",
      "text/plain": [
       "<Figure size 720x108 with 1 Axes>"
      ]
     },
     "metadata": {
      "needs_background": "light"
     },
     "output_type": "display_data"
    },
    {
     "name": "stdout",
     "output_type": "stream",
     "text": [
      "09_02_5_7\n"
     ]
    },
    {
     "data": {
      "image/png": "[encoded data removed]",
      "text/plain": [
       "<Figure size 720x108 with 1 Axes>"
      ]
     },
     "metadata": {
      "needs_background": "light"
     },
     "output_type": "display_data"
    },
    {
     "name": "stdout",
     "output_type": "stream",
     "text": [
      "08_19_1_2\n"
     ]
    },
    {
     "data": {
      "image/png": "[encoded data removed]",
      "text/plain": [
       "<Figure size 720x108 with 1 Axes>"
      ]
     },
     "metadata": {
      "needs_background": "light"
     },
     "output_type": "display_data"
    },
    {
     "name": "stdout",
     "output_type": "stream",
     "text": [
      "02_03_1_4\n"
     ]
    },
    {
     "data": {
      "image/png": "[encoded data removed]",
      "text/plain": [
       "<Figure size 720x108 with 1 Axes>"
      ]
     },
     "metadata": {
      "needs_background": "light"
     },
     "output_type": "display_data"
    },
    {
     "name": "stdout",
     "output_type": "stream",
     "text": [
      "09_04_1_3\n"
     ]
    },
    {
     "data": {
      "image/png": "[encoded data removed]",
      "text/plain": [
       "<Figure size 720x108 with 1 Axes>"
      ]
     },
     "metadata": {
      "needs_background": "light"
     },
     "output_type": "display_data"
    },
    {
     "name": "stdout",
     "output_type": "stream",
     "text": [
      "02_10_4_13\n"
     ]
    },
    {
     "data": {
      "image/png": "[encoded data removed]",
      "text/plain": [
       "<Figure size 720x108 with 1 Axes>"
      ]
     },
     "metadata": {
      "needs_background": "light"
     },
     "output_type": "display_data"
    }
   ],
   "source": [
    "acc_train = []\n",
    "prcs_train = []\n",
    "rcl_train = []\n",
    "f1_train =[]\n",
    "\n",
    "model.eval()\n",
    "with torch.no_grad():\n",
    "    for key in train_keys:\n",
    "        x_lst = x_dict_std[key]\n",
    "        y_lst = y_dict_std[key]\n",
    "        \n",
    "        if 1 not in y_lst:\n",
    "            continue\n",
    "\n",
    "        y_lst = y_lst[SEQ_LEN - 1:]\n",
    "        pred = []\n",
    "        for i in range(0, len(x_lst) - SEQ_LEN + 1):\n",
    "            x = x_lst[i:i + SEQ_LEN]\n",
    "            x = np.array(x).reshape(config['n_channel'], config['seq_len'], 17, 17)\n",
    "            x = torch.Tensor([x]).float().to(device)\n",
    "            \n",
    "            out = model(x)\n",
    "            out = out.max(1)[1]\n",
    "            out = out.cpu().numpy()[0]\n",
    "            pred.append(out)\n",
    "            \n",
    "        acc_train.append(accuracy_score(pred, y_lst))\n",
    "        prcs_train.append(precision_score(pred, y_lst))\n",
    "        rcl_train.append(recall_score(pred, y_lst))\n",
    "        f1_train.append(f1_score(pred, y_lst))\n",
    "            \n",
    "        print(key)\n",
    "        plt.figure(figsize=(10, 1.5))\n",
    "        # plt.rcParams[\"font.size\"] = 20\n",
    "        # plt.rcParams[\"font.family\"] = 'Times New Roman'\n",
    "        plt.plot(pred, label='pred')\n",
    "        plt.plot(y_lst, linestyle=':', label='ground truth')\n",
    "        plt.ylim((-0.05, 1.05))\n",
    "        plt.yticks([0, 1])\n",
    "        plt.subplots_adjust(left=0.04, right=1, bottom=0.1, top=1)\n",
    "\n",
    "        plt.show()"
   ]
  },
  {
   "cell_type": "code",
   "execution_count": 90,
   "id": "c4b575e4-2fd1-45db-b456-b8dcf21de3d9",
   "metadata": {},
   "outputs": [
    {
     "name": "stdout",
     "output_type": "stream",
     "text": [
      "accuracy: 0.911\n",
      "precision: 0.768\n",
      "recall: 0.817\n",
      "f1_score: 0.785\n"
     ]
    }
   ],
   "source": [
    "print('accuracy: {:.3f}'.format(np.mean(acc_train)))\n",
    "print('precision: {:.3f}'.format(np.mean(prcs_train)))\n",
    "print('recall: {:.3f}'.format(np.mean(rcl_train)))\n",
    "print('f1_score: {:.3f}'.format(np.mean(f1_train)))"
   ]
  },
  {
   "cell_type": "code",
   "execution_count": 91,
   "id": "3da2b46c-50ba-4ff0-bbf4-ec82af225199",
   "metadata": {},
   "outputs": [
    {
     "name": "stdout",
     "output_type": "stream",
     "text": [
      "09_07_1_3\n"
     ]
    },
    {
     "data": {
      "image/png": "[encoded data removed]",
      "text/plain": [
       "<Figure size 720x108 with 1 Axes>"
      ]
     },
     "metadata": {
      "needs_background": "light"
     },
     "output_type": "display_data"
    },
    {
     "name": "stdout",
     "output_type": "stream",
     "text": [
      "08_01_3_6\n"
     ]
    },
    {
     "data": {
      "image/png": "[encoded data removed]",
      "text/plain": [
       "<Figure size 720x108 with 1 Axes>"
      ]
     },
     "metadata": {
      "needs_background": "light"
     },
     "output_type": "display_data"
    },
    {
     "name": "stdout",
     "output_type": "stream",
     "text": [
      "08_05_1_2\n"
     ]
    },
    {
     "data": {
      "image/png": "[encoded data removed]",
      "text/plain": [
       "<Figure size 720x108 with 1 Axes>"
      ]
     },
     "metadata": {
      "needs_background": "light"
     },
     "output_type": "display_data"
    },
    {
     "name": "stdout",
     "output_type": "stream",
     "text": [
      "02_01_4_17\n"
     ]
    },
    {
     "data": {
      "image/png": "[encoded data removed]",
      "text/plain": [
       "<Figure size 720x108 with 1 Axes>"
      ]
     },
     "metadata": {
      "needs_background": "light"
     },
     "output_type": "display_data"
    },
    {
     "name": "stdout",
     "output_type": "stream",
     "text": [
      "02_02_1_2\n"
     ]
    },
    {
     "data": {
      "image/png": "[encoded data removed]",
      "text/plain": [
       "<Figure size 720x108 with 1 Axes>"
      ]
     },
     "metadata": {
      "needs_background": "light"
     },
     "output_type": "display_data"
    },
    {
     "name": "stdout",
     "output_type": "stream",
     "text": [
      "02_02_2_4\n"
     ]
    },
    {
     "data": {
      "image/png": "[encoded data removed]",
      "text/plain": [
       "<Figure size 720x108 with 1 Axes>"
      ]
     },
     "metadata": {
      "needs_background": "light"
     },
     "output_type": "display_data"
    }
   ],
   "source": [
    "acc_test = []\n",
    "prcs_test = []\n",
    "rcl_test = []\n",
    "f1_test =[]\n",
    "\n",
    "model.eval()\n",
    "with torch.no_grad():\n",
    "    for key in test_keys:\n",
    "        x_lst = x_dict_std[key]\n",
    "        y_lst = y_dict_std[key]\n",
    "        \n",
    "        if 1 not in y_lst:\n",
    "            continue\n",
    "\n",
    "        y_lst = y_lst[SEQ_LEN - 1:]\n",
    "        pred = []\n",
    "        for i in range(0, len(x_lst) - SEQ_LEN + 1):\n",
    "            x = x_lst[i:i + SEQ_LEN]\n",
    "            x = np.array(x).reshape(config['n_channel'], config['seq_len'], 17, 17)\n",
    "            x = torch.Tensor([x]).float().to(device)\n",
    "            \n",
    "            out = model(x)\n",
    "            out = out.max(1)[1]\n",
    "            out = out.cpu().numpy()[0]\n",
    "            pred.append(out)\n",
    "            \n",
    "        acc_test.append(accuracy_score(pred, y_lst))\n",
    "        prcs_test.append(precision_score(pred, y_lst))\n",
    "        rcl_test.append(recall_score(pred, y_lst))\n",
    "        f1_test.append(f1_score(pred, y_lst))\n",
    "            \n",
    "        print(key)\n",
    "        plt.figure(figsize=(10, 1.5))\n",
    "        # plt.rcParams[\"font.size\"] = 20\n",
    "        # plt.rcParams[\"font.family\"] = 'Times New Roman'\n",
    "        plt.plot(pred, label='pred')\n",
    "        plt.plot(y_lst, linestyle=':', label='ground truth')\n",
    "        plt.ylim((-0.05, 1.05))\n",
    "        plt.yticks([0, 1])\n",
    "        plt.subplots_adjust(left=0.04, right=1, bottom=0.1, top=1)\n",
    "\n",
    "        plt.show()"
   ]
  },
  {
   "cell_type": "code",
   "execution_count": 92,
   "id": "2dadc434-fed3-4ab8-bd91-d161ce278b86",
   "metadata": {},
   "outputs": [
    {
     "name": "stdout",
     "output_type": "stream",
     "text": [
      "accuracy: 0.594\n",
      "precision: 0.000\n",
      "recall: 0.000\n",
      "f1_score: 0.000\n"
     ]
    }
   ],
   "source": [
    "print('accuracy: {:.3f}'.format(np.mean(acc_test)))\n",
    "print('precision: {:.3f}'.format(np.mean(prcs_test)))\n",
    "print('recall: {:.3f}'.format(np.mean(rcl_test)))\n",
    "print('f1_score: {:.3f}'.format(np.mean(f1_test)))"
   ]
  },
  {
   "cell_type": "code",
   "execution_count": 73,
   "id": "230ef8e4-6882-4d28-8c8b-e2d174a70b2a",
   "metadata": {},
   "outputs": [],
   "source": [
    "path = f'{common.root}/model/pass_model_cnn.pth'\n",
    "torch.save(model, path)"
   ]
  },
  {
   "cell_type": "code",
   "execution_count": null,
   "id": "f4b4fbf8",
   "metadata": {},
   "outputs": [],
   "source": []
  }
 ],
 "metadata": {
  "kernelspec": {
   "display_name": "Python 3 (ipykernel)",
   "language": "python",
   "name": "python3"
  },
  "language_info": {
   "codemirror_mode": {
    "name": "ipython",
    "version": 3
   },
   "file_extension": ".py",
   "mimetype": "text/x-python",
   "name": "python",
   "nbconvert_exporter": "python",
   "pygments_lexer": "ipython3",
   "version": "3.9.5"
  }
 },
 "nbformat": 4,
 "nbformat_minor": 5
}
