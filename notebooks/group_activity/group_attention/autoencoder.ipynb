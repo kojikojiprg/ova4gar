{
 "cells": [
  {
   "cell_type": "code",
   "execution_count": 1,
   "id": "0038913b-e3a0-4ae0-8767-25dba95f1a34",
   "metadata": {},
   "outputs": [],
   "source": [
    "import os\n",
    "import glob\n",
    "import time\n",
    "import numpy as np\n",
    "import matplotlib.pyplot as plt\n",
    "import cv2\n",
    "import sys\n",
    "from tqdm import tqdm\n",
    "\n",
    "import torch\n",
    "import torch.nn.functional as F\n",
    "from torch import tensor\n",
    "from torch import nn\n",
    "from torch import optim\n",
    "from torch.utils.data import Dataset, DataLoader\n",
    "from sklearn.decomposition import PCA\n",
    "\n",
    "sys.path.append('../../../src')\n",
    "from common import common, transform, json\n",
    "from common.json import IA_FORMAT, START_IDX\n",
    "from common.functions import gauss, cos_similarity\n",
    "from common.default import PASSING_DEFAULT\n",
    "from display.display import display\n",
    "from individual_activity.individual_activity import IndividualActivity\n",
    "\n",
    "import warnings\n",
    "warnings.simplefilter(\"ignore\")"
   ]
  },
  {
   "cell_type": "code",
   "execution_count": 2,
   "id": "079f7d08-ae99-4e58-90f2-8680e2a4aa1a",
   "metadata": {},
   "outputs": [
    {
     "data": {
      "text/plain": [
       "'cuda:1'"
      ]
     },
     "execution_count": 2,
     "metadata": {},
     "output_type": "execute_result"
    }
   ],
   "source": [
    "device_idx = 1\n",
    "device = f'cuda:{device_idx}' if torch.cuda.is_available() else 'cpu'\n",
    "device"
   ]
  },
  {
   "cell_type": "markdown",
   "id": "2e853727-e680-44a3-b2d1-340114227cc0",
   "metadata": {},
   "source": [
    "# Indivisual Activity をロード"
   ]
  },
  {
   "cell_type": "code",
   "execution_count": 3,
   "id": "74448428-66cb-4fe8-9dd4-b1c2b5522f0b",
   "metadata": {},
   "outputs": [],
   "source": [
    "data_settings = [\n",
    "    {'room_num': '02', 'date': '20210903', 'option': 'passing'},\n",
    "    {'room_num': '08', 'date': '20210915', 'option': 'passing'},\n",
    "    {'room_num': '09', 'date': '20210706', 'option': 'passing'},\n",
    "]"
   ]
  },
  {
   "cell_type": "code",
   "execution_count": 4,
   "id": "bfc22c44-bb4b-416c-88ab-2b7b2b0e3f41",
   "metadata": {},
   "outputs": [],
   "source": [
    "# homography\n",
    "def get_homo(room_num):\n",
    "    field_path = os.path.join(common.data_dir, '{}/field.png'.format(room_num))\n",
    "    field_raw = cv2.imread(field_path)\n",
    "    p_video = common.homo[room_num][0]\n",
    "    p_field = common.homo[room_num][1]\n",
    "    homo = transform.Homography(p_video, p_field, field_raw.shape)\n",
    "    return homo"
   ]
  },
  {
   "cell_type": "code",
   "execution_count": 5,
   "id": "5ee4ce0b-e813-46b0-8e68-5e3a2ebb7d89",
   "metadata": {},
   "outputs": [],
   "source": [
    "def load_individuals(json_data, prefix, homo):\n",
    "    individuals = {}\n",
    "    for data in json_data:\n",
    "        label = prefix + str(data[IA_FORMAT[0]])\n",
    "        frame_num = data[IA_FORMAT[1]]\n",
    "        tracking_point = data[IA_FORMAT[2]]\n",
    "        keypoints = data[IA_FORMAT[3]]\n",
    "\n",
    "        if label not in individuals:\n",
    "            ia = IndividualActivity(label, homo)\n",
    "            individuals[label] = ia\n",
    "        else:\n",
    "            ia = individuals[label]\n",
    "\n",
    "        ia.tracking_points[frame_num] = tracking_point\n",
    "        ia.keypoints[frame_num] = keypoints\n",
    "        for f in IA_FORMAT[START_IDX:]:\n",
    "            ia.indicator_dict[f][frame_num] = data[f]\n",
    "            \n",
    "    return individuals"
   ]
  },
  {
   "cell_type": "code",
   "execution_count": 6,
   "id": "e072f60c-be58-43e1-86db-3c441becb90b",
   "metadata": {
    "tags": []
   },
   "outputs": [
    {
     "name": "stdout",
     "output_type": "stream",
     "text": [
      "{'room_num': '02', 'date': '20210903', 'option': 'passing'}\n"
     ]
    },
    {
     "name": "stderr",
     "output_type": "stream",
     "text": [
      "100%|██████████| 23/23 [00:03<00:00,  6.55it/s]\n"
     ]
    },
    {
     "name": "stdout",
     "output_type": "stream",
     "text": [
      "{'room_num': '08', 'date': '20210915', 'option': 'passing'}\n"
     ]
    },
    {
     "name": "stderr",
     "output_type": "stream",
     "text": [
      "100%|██████████| 41/41 [00:04<00:00, 10.08it/s]\n"
     ]
    },
    {
     "name": "stdout",
     "output_type": "stream",
     "text": [
      "{'room_num': '09', 'date': '20210706', 'option': 'passing'}\n"
     ]
    },
    {
     "name": "stderr",
     "output_type": "stream",
     "text": [
      "100%|██████████| 9/9 [00:01<00:00,  4.96it/s]\n"
     ]
    }
   ],
   "source": [
    "individuals = {}\n",
    "for setting in data_settings:\n",
    "    print(setting)\n",
    "    room_num = setting['room_num']\n",
    "    date = setting['date']\n",
    "    opt = setting['option']\n",
    "    \n",
    "    homo = get_homo(room_num)\n",
    "    \n",
    "    if opt is None:\n",
    "        dir_path = f'{common.data_dir}/{room_num}/{date}/*'\n",
    "    else:\n",
    "        dir_path = f'{common.data_dir}/{room_num}/{date}/{opt}/*'\n",
    "    dirs = glob.glob(dir_path)\n",
    "    dirs = sorted(dirs)[:-1]  # delete make_csv.csv\n",
    "    \n",
    "    for path in tqdm(dirs):\n",
    "        path = f'{path}/json/individual_activity.json'\n",
    "        json_data = json.load(path)\n",
    "        prefix = common.split_path(path)[-6] + '_' + common.split_path(path)[-3] + '_'  # room-num_date_\n",
    "        individuals.update(load_individuals(json_data, prefix, homo))"
   ]
  },
  {
   "cell_type": "markdown",
   "id": "ab5890b7-ac3a-48b1-bd1d-3394fcfe3a09",
   "metadata": {},
   "source": [
    "# keypointsを抽出"
   ]
  },
  {
   "cell_type": "code",
   "execution_count": 7,
   "id": "b7696222-b5ad-43f0-9a64-c3fe8e3b60f2",
   "metadata": {
    "tags": []
   },
   "outputs": [
    {
     "name": "stderr",
     "output_type": "stream",
     "text": [
      "100%|██████████| 1341/1341 [00:48<00:00, 27.55it/s]\n"
     ]
    }
   ],
   "source": [
    "min_len = 30\n",
    "keypoitns_dict_all = {}\n",
    "for label, ind in tqdm(individuals.items()):\n",
    "    data = ind.get_keypoints_dict(window=3, is_std=True)\n",
    "    if len(data) >= min_len:\n",
    "        keypoitns_dict_all[label] = data"
   ]
  },
  {
   "cell_type": "markdown",
   "id": "8a9f4415-d446-40c8-8e3d-78b77c59657c",
   "metadata": {
    "tags": []
   },
   "source": [
    "# オートエンコーダで特徴量抽出"
   ]
  },
  {
   "cell_type": "code",
   "execution_count": 8,
   "id": "71b50ad5-cb80-444c-8a89-9e051046db96",
   "metadata": {},
   "outputs": [
    {
     "data": {
      "text/plain": [
       "RecurrentAutoencoder(\n",
       "  (encoder): Encoder(\n",
       "    (rnn1): LSTM(34, 128, batch_first=True)\n",
       "    (rnn2): LSTM(128, 64, batch_first=True)\n",
       "    (rnn3): LSTM(64, 32, batch_first=True)\n",
       "  )\n",
       "  (decoder): Decoder(\n",
       "    (rnn1): LSTM(32, 32, batch_first=True)\n",
       "    (rnn2): LSTM(32, 64, batch_first=True)\n",
       "    (rnn3): LSTM(64, 128, batch_first=True)\n",
       "    (output_layer): Linear(in_features=128, out_features=34, bias=True)\n",
       "  )\n",
       ")"
      ]
     },
     "execution_count": 8,
     "metadata": {},
     "output_type": "execute_result"
    }
   ],
   "source": [
    "from individual_activity.autoencoder import Encoder, Decoder, RecurrentAutoencoder\n",
    "model_path = f'{common.root}/model/pass_model_autoencoder_32.pth'\n",
    "model = torch.load(model_path)\n",
    "model.to(device)\n",
    "model.eval()"
   ]
  },
  {
   "cell_type": "code",
   "execution_count": 9,
   "id": "e6497767-9745-4e0c-9c68-9653d3752c31",
   "metadata": {},
   "outputs": [],
   "source": [
    "SEQ_LEN = 30"
   ]
  },
  {
   "cell_type": "code",
   "execution_count": 10,
   "id": "55a3b977-06c0-4745-b47b-7e6b65093e84",
   "metadata": {
    "tags": []
   },
   "outputs": [
    {
     "name": "stderr",
     "output_type": "stream",
     "text": [
      "100%|██████████| 866/866 [04:01<00:00,  3.59it/s]\n"
     ]
    }
   ],
   "source": [
    "features_dict = {}\n",
    "with torch.no_grad():\n",
    "    for label , kps_dict in tqdm(keypoitns_dict_all.items()):\n",
    "        features = {}\n",
    "        for frame_num in list(kps_dict.keys())[:len(kps_dict) - SEQ_LEN + 1]:\n",
    "            x = []\n",
    "            for i in range(SEQ_LEN):\n",
    "                x.append(kps_dict[frame_num + i])\n",
    "\n",
    "            if np.any(np.isnan(x)):\n",
    "                continue\n",
    "\n",
    "            x = tensor(x).float().to(device)\n",
    "            _, z = model(x)\n",
    "            z = z.cpu().numpy().flatten()\n",
    "            \n",
    "            features[frame_num] = z\n",
    "\n",
    "        features_dict[label] = features"
   ]
  },
  {
   "cell_type": "code",
   "execution_count": 11,
   "id": "db2a6db7-203f-404c-87b0-364d0f2c1ba1",
   "metadata": {},
   "outputs": [
    {
     "data": {
      "text/plain": [
       "PCA(n_components=3)"
      ]
     },
     "execution_count": 11,
     "metadata": {},
     "output_type": "execute_result"
    }
   ],
   "source": [
    "features_all = []\n",
    "for features in features_dict.values():\n",
    "    features_all += list(features.values())\n",
    "\n",
    "n_components = 3\n",
    "pca = PCA(n_components=n_components)\n",
    "pca.fit(features_all)"
   ]
  },
  {
   "cell_type": "code",
   "execution_count": 12,
   "id": "70677f9c-5db9-450e-9cde-96d8101f7008",
   "metadata": {},
   "outputs": [
    {
     "data": {
      "image/png": "[encoded data removed]",
      "text/plain": [
       "<Figure size 1440x720 with 2 Axes>"
      ]
     },
     "metadata": {
      "needs_background": "light"
     },
     "output_type": "display_data"
    }
   ],
   "source": [
    "ROOM_NUM = '09'\n",
    "DATE = '20210706'\n",
    "FILE_NUM = '05'\n",
    "\n",
    "fig = plt.figure(figsize=(20,10))\n",
    "ax1 = fig.add_subplot(1, 2, 1)\n",
    "ax2 = fig.add_subplot(1, 2, 2)\n",
    "for key, features in features_dict.items():\n",
    "    if key.split('_')[:2] != [ROOM_NUM, FILE_NUM]:\n",
    "        continue\n",
    "    if len(features) == 0:\n",
    "        continue\n",
    "    \n",
    "    features = list(features.values())\n",
    "    features = pca.transform(features)\n",
    "    x = features.T[0]\n",
    "    y = features.T[1]\n",
    "    z = features.T[2]\n",
    "    ax1.scatter(x, z, label=f\"person{key.split('_')[-1]}\")\n",
    "    ax1.set_xlabel('x')\n",
    "    ax1.set_ylabel('z')\n",
    "    ax1.legend()\n",
    "    ax2.scatter(y, z, label=f\"person{key.split('_')[-1]}\")\n",
    "    ax2.set_xlabel('y')\n",
    "    ax2.set_ylabel('z')\n",
    "    ax2.legend()"
   ]
  },
  {
   "cell_type": "markdown",
   "id": "fdac255d-8767-470b-9eaa-8a60e468615f",
   "metadata": {},
   "source": [
    "## 受け渡し中かどうかでプロット"
   ]
  },
  {
   "cell_type": "code",
   "execution_count": 13,
   "id": "15ea2321-ab52-4339-b19e-41f24df7aadd",
   "metadata": {
    "scrolled": true,
    "tags": []
   },
   "outputs": [
    {
     "name": "stdout",
     "output_type": "stream",
     "text": [
      "/tmp/sh076018/mishare/Research Projects/yokoyama/data//02/20210903/passing/01/csv/data.csv\n"
     ]
    },
    {
     "name": "stderr",
     "output_type": "stream",
     "text": [
      "100%|██████████| 5442/5442 [00:00<00:00, 44776.59it/s]"
     ]
    },
    {
     "name": "stdout",
     "output_type": "stream",
     "text": [
      "/tmp/sh076018/mishare/Research Projects/yokoyama/data//02/20210903/passing/02/csv/data.csv\n"
     ]
    },
    {
     "name": "stderr",
     "output_type": "stream",
     "text": [
      "\n",
      "100%|██████████| 15652/15652 [00:00<00:00, 101246.19it/s]\n"
     ]
    },
    {
     "name": "stdout",
     "output_type": "stream",
     "text": [
      "/tmp/sh076018/mishare/Research Projects/yokoyama/data//02/20210903/passing/03/csv/data.csv\n"
     ]
    },
    {
     "name": "stderr",
     "output_type": "stream",
     "text": [
      "100%|██████████| 4467/4467 [00:00<00:00, 86803.63it/s]\n"
     ]
    },
    {
     "name": "stdout",
     "output_type": "stream",
     "text": [
      "/tmp/sh076018/mishare/Research Projects/yokoyama/data//02/20210903/passing/04/csv/data.csv\n"
     ]
    },
    {
     "name": "stderr",
     "output_type": "stream",
     "text": [
      "100%|██████████| 1862/1862 [00:00<00:00, 33271.11it/s]\n"
     ]
    },
    {
     "name": "stdout",
     "output_type": "stream",
     "text": [
      "/tmp/sh076018/mishare/Research Projects/yokoyama/data//02/20210903/passing/05/csv/data.csv\n"
     ]
    },
    {
     "name": "stderr",
     "output_type": "stream",
     "text": [
      "100%|██████████| 3871/3871 [00:00<00:00, 32528.84it/s]\n"
     ]
    },
    {
     "name": "stdout",
     "output_type": "stream",
     "text": [
      "/tmp/sh076018/mishare/Research Projects/yokoyama/data//02/20210903/passing/06/csv/data.csv\n"
     ]
    },
    {
     "name": "stderr",
     "output_type": "stream",
     "text": [
      "100%|██████████| 8988/8988 [00:00<00:00, 40373.69it/s]\n"
     ]
    },
    {
     "name": "stdout",
     "output_type": "stream",
     "text": [
      "/tmp/sh076018/mishare/Research Projects/yokoyama/data//02/20210903/passing/07/csv/data.csv\n"
     ]
    },
    {
     "name": "stderr",
     "output_type": "stream",
     "text": [
      "100%|██████████| 6588/6588 [00:00<00:00, 38047.08it/s]\n"
     ]
    },
    {
     "name": "stdout",
     "output_type": "stream",
     "text": [
      "/tmp/sh076018/mishare/Research Projects/yokoyama/data//02/20210903/passing/08/csv/data.csv\n"
     ]
    },
    {
     "name": "stderr",
     "output_type": "stream",
     "text": [
      "100%|██████████| 10843/10843 [00:00<00:00, 52322.58it/s]\n"
     ]
    },
    {
     "name": "stdout",
     "output_type": "stream",
     "text": [
      "/tmp/sh076018/mishare/Research Projects/yokoyama/data//02/20210903/passing/09/csv/data.csv\n"
     ]
    },
    {
     "name": "stderr",
     "output_type": "stream",
     "text": [
      "100%|██████████| 21966/21966 [00:00<00:00, 89660.41it/s]\n"
     ]
    },
    {
     "name": "stdout",
     "output_type": "stream",
     "text": [
      "/tmp/sh076018/mishare/Research Projects/yokoyama/data//02/20210903/passing/10/csv/data.csv\n"
     ]
    },
    {
     "name": "stderr",
     "output_type": "stream",
     "text": [
      "100%|██████████| 43537/43537 [00:00<00:00, 295320.69it/s]\n"
     ]
    },
    {
     "name": "stdout",
     "output_type": "stream",
     "text": [
      "/tmp/sh076018/mishare/Research Projects/yokoyama/data//02/20210903/passing/11/csv/data.csv\n"
     ]
    },
    {
     "name": "stderr",
     "output_type": "stream",
     "text": [
      "100%|██████████| 17141/17141 [00:00<00:00, 72960.89it/s]\n"
     ]
    },
    {
     "name": "stdout",
     "output_type": "stream",
     "text": [
      "/tmp/sh076018/mishare/Research Projects/yokoyama/data//02/20210903/passing/12/csv/data.csv\n"
     ]
    },
    {
     "name": "stderr",
     "output_type": "stream",
     "text": [
      "100%|██████████| 7030/7030 [00:00<00:00, 39031.71it/s]\n"
     ]
    },
    {
     "name": "stdout",
     "output_type": "stream",
     "text": [
      "/tmp/sh076018/mishare/Research Projects/yokoyama/data//02/20210903/passing/13/csv/data.csv\n"
     ]
    },
    {
     "name": "stderr",
     "output_type": "stream",
     "text": [
      "100%|██████████| 13649/13649 [00:00<00:00, 84899.10it/s]\n"
     ]
    },
    {
     "name": "stdout",
     "output_type": "stream",
     "text": [
      "/tmp/sh076018/mishare/Research Projects/yokoyama/data//02/20210903/passing/14/csv/data.csv\n"
     ]
    },
    {
     "name": "stderr",
     "output_type": "stream",
     "text": [
      "100%|██████████| 14344/14344 [00:00<00:00, 72716.34it/s]\n"
     ]
    },
    {
     "name": "stdout",
     "output_type": "stream",
     "text": [
      "/tmp/sh076018/mishare/Research Projects/yokoyama/data//02/20210903/passing/15/csv/data.csv\n"
     ]
    },
    {
     "name": "stderr",
     "output_type": "stream",
     "text": [
      "100%|██████████| 22431/22431 [00:00<00:00, 212764.72it/s]\n"
     ]
    },
    {
     "name": "stdout",
     "output_type": "stream",
     "text": [
      "/tmp/sh076018/mishare/Research Projects/yokoyama/data//02/20210903/passing/16/csv/data.csv\n"
     ]
    },
    {
     "name": "stderr",
     "output_type": "stream",
     "text": [
      "100%|██████████| 6414/6414 [00:00<00:00, 50690.99it/s]\n"
     ]
    },
    {
     "name": "stdout",
     "output_type": "stream",
     "text": [
      "/tmp/sh076018/mishare/Research Projects/yokoyama/data//02/20210903/passing/17/csv/data.csv\n"
     ]
    },
    {
     "name": "stderr",
     "output_type": "stream",
     "text": [
      "100%|██████████| 3608/3608 [00:00<00:00, 20174.92it/s]\n"
     ]
    },
    {
     "name": "stdout",
     "output_type": "stream",
     "text": [
      "/tmp/sh076018/mishare/Research Projects/yokoyama/data//02/20210903/passing/18/csv/data.csv\n"
     ]
    },
    {
     "name": "stderr",
     "output_type": "stream",
     "text": [
      "100%|██████████| 12254/12254 [00:00<00:00, 96394.92it/s]\n"
     ]
    },
    {
     "name": "stdout",
     "output_type": "stream",
     "text": [
      "/tmp/sh076018/mishare/Research Projects/yokoyama/data//02/20210903/passing/19/csv/data.csv\n"
     ]
    },
    {
     "name": "stderr",
     "output_type": "stream",
     "text": [
      "100%|██████████| 3555/3555 [00:00<00:00, 35974.94it/s]\n"
     ]
    },
    {
     "name": "stdout",
     "output_type": "stream",
     "text": [
      "/tmp/sh076018/mishare/Research Projects/yokoyama/data//02/20210903/passing/20/csv/data.csv\n"
     ]
    },
    {
     "name": "stderr",
     "output_type": "stream",
     "text": [
      "100%|██████████| 5983/5983 [00:00<00:00, 69565.94it/s]\n"
     ]
    },
    {
     "name": "stdout",
     "output_type": "stream",
     "text": [
      "/tmp/sh076018/mishare/Research Projects/yokoyama/data//02/20210903/passing/21/csv/data.csv\n"
     ]
    },
    {
     "name": "stderr",
     "output_type": "stream",
     "text": [
      "100%|██████████| 4427/4427 [00:00<00:00, 24238.61it/s]\n"
     ]
    },
    {
     "name": "stdout",
     "output_type": "stream",
     "text": [
      "/tmp/sh076018/mishare/Research Projects/yokoyama/data//02/20210903/passing/22/csv/data.csv\n"
     ]
    },
    {
     "name": "stderr",
     "output_type": "stream",
     "text": [
      "100%|██████████| 4030/4030 [00:00<00:00, 50859.17it/s]\n"
     ]
    },
    {
     "name": "stdout",
     "output_type": "stream",
     "text": [
      "/tmp/sh076018/mishare/Research Projects/yokoyama/data//02/20210903/passing/23/csv/data.csv\n"
     ]
    },
    {
     "name": "stderr",
     "output_type": "stream",
     "text": [
      "100%|██████████| 6890/6890 [00:00<00:00, 48619.10it/s]\n"
     ]
    },
    {
     "name": "stdout",
     "output_type": "stream",
     "text": [
      "/tmp/sh076018/mishare/Research Projects/yokoyama/data//08/20210915/passing/01/csv/data.csv\n"
     ]
    },
    {
     "name": "stderr",
     "output_type": "stream",
     "text": [
      "100%|██████████| 4667/4667 [00:00<00:00, 29880.29it/s]\n"
     ]
    },
    {
     "name": "stdout",
     "output_type": "stream",
     "text": [
      "/tmp/sh076018/mishare/Research Projects/yokoyama/data//08/20210915/passing/02/csv/data.csv\n"
     ]
    },
    {
     "name": "stderr",
     "output_type": "stream",
     "text": [
      "100%|██████████| 6920/6920 [00:00<00:00, 33362.55it/s]\n"
     ]
    },
    {
     "name": "stdout",
     "output_type": "stream",
     "text": [
      "/tmp/sh076018/mishare/Research Projects/yokoyama/data//08/20210915/passing/03/csv/data.csv\n"
     ]
    },
    {
     "name": "stderr",
     "output_type": "stream",
     "text": [
      "100%|██████████| 14624/14624 [00:00<00:00, 60272.19it/s]\n"
     ]
    },
    {
     "name": "stdout",
     "output_type": "stream",
     "text": [
      "/tmp/sh076018/mishare/Research Projects/yokoyama/data//08/20210915/passing/04/csv/data.csv\n"
     ]
    },
    {
     "name": "stderr",
     "output_type": "stream",
     "text": [
      "100%|██████████| 5831/5831 [00:00<00:00, 29847.18it/s]\n"
     ]
    },
    {
     "name": "stdout",
     "output_type": "stream",
     "text": [
      "/tmp/sh076018/mishare/Research Projects/yokoyama/data//08/20210915/passing/05/csv/data.csv\n"
     ]
    },
    {
     "name": "stderr",
     "output_type": "stream",
     "text": [
      "100%|██████████| 4657/4657 [00:00<00:00, 79639.22it/s]\n"
     ]
    },
    {
     "name": "stdout",
     "output_type": "stream",
     "text": [
      "/tmp/sh076018/mishare/Research Projects/yokoyama/data//08/20210915/passing/06/csv/data.csv\n"
     ]
    },
    {
     "name": "stderr",
     "output_type": "stream",
     "text": [
      "100%|██████████| 2623/2623 [00:00<00:00, 19745.57it/s]\n"
     ]
    },
    {
     "name": "stdout",
     "output_type": "stream",
     "text": [
      "/tmp/sh076018/mishare/Research Projects/yokoyama/data//08/20210915/passing/07/csv/data.csv\n"
     ]
    },
    {
     "name": "stderr",
     "output_type": "stream",
     "text": [
      "100%|██████████| 3148/3148 [00:00<00:00, 17463.55it/s]\n"
     ]
    },
    {
     "name": "stdout",
     "output_type": "stream",
     "text": [
      "/tmp/sh076018/mishare/Research Projects/yokoyama/data//08/20210915/passing/08/csv/data.csv\n"
     ]
    },
    {
     "name": "stderr",
     "output_type": "stream",
     "text": [
      "100%|██████████| 6407/6407 [00:00<00:00, 129146.37it/s]\n"
     ]
    },
    {
     "name": "stdout",
     "output_type": "stream",
     "text": [
      "/tmp/sh076018/mishare/Research Projects/yokoyama/data//08/20210915/passing/09/csv/data.csv\n"
     ]
    },
    {
     "name": "stderr",
     "output_type": "stream",
     "text": [
      "100%|██████████| 3616/3616 [00:00<00:00, 34177.95it/s]\n"
     ]
    },
    {
     "name": "stdout",
     "output_type": "stream",
     "text": [
      "/tmp/sh076018/mishare/Research Projects/yokoyama/data//08/20210915/passing/10/csv/data.csv\n"
     ]
    },
    {
     "name": "stderr",
     "output_type": "stream",
     "text": [
      "100%|██████████| 4754/4754 [00:00<00:00, 44121.26it/s]\n"
     ]
    },
    {
     "name": "stdout",
     "output_type": "stream",
     "text": [
      "/tmp/sh076018/mishare/Research Projects/yokoyama/data//08/20210915/passing/11/csv/data.csv\n"
     ]
    },
    {
     "name": "stderr",
     "output_type": "stream",
     "text": [
      "100%|██████████| 5972/5972 [00:00<00:00, 62400.37it/s]\n"
     ]
    },
    {
     "name": "stdout",
     "output_type": "stream",
     "text": [
      "/tmp/sh076018/mishare/Research Projects/yokoyama/data//08/20210915/passing/12/csv/data.csv\n"
     ]
    },
    {
     "name": "stderr",
     "output_type": "stream",
     "text": [
      "100%|██████████| 6042/6042 [00:00<00:00, 29853.08it/s]\n"
     ]
    },
    {
     "name": "stdout",
     "output_type": "stream",
     "text": [
      "/tmp/sh076018/mishare/Research Projects/yokoyama/data//08/20210915/passing/13/csv/data.csv\n"
     ]
    },
    {
     "name": "stderr",
     "output_type": "stream",
     "text": [
      "100%|██████████| 5968/5968 [00:00<00:00, 27399.71it/s]\n"
     ]
    },
    {
     "name": "stdout",
     "output_type": "stream",
     "text": [
      "/tmp/sh076018/mishare/Research Projects/yokoyama/data//08/20210915/passing/14/csv/data.csv\n"
     ]
    },
    {
     "name": "stderr",
     "output_type": "stream",
     "text": [
      "100%|██████████| 6793/6793 [00:00<00:00, 41429.52it/s]\n"
     ]
    },
    {
     "name": "stdout",
     "output_type": "stream",
     "text": [
      "/tmp/sh076018/mishare/Research Projects/yokoyama/data//08/20210915/passing/15/csv/data.csv\n"
     ]
    },
    {
     "name": "stderr",
     "output_type": "stream",
     "text": [
      "100%|██████████| 3544/3544 [00:00<00:00, 24060.01it/s]\n"
     ]
    },
    {
     "name": "stdout",
     "output_type": "stream",
     "text": [
      "/tmp/sh076018/mishare/Research Projects/yokoyama/data//08/20210915/passing/16/csv/data.csv\n"
     ]
    },
    {
     "name": "stderr",
     "output_type": "stream",
     "text": [
      "100%|██████████| 3764/3764 [00:00<00:00, 25265.76it/s]\n"
     ]
    },
    {
     "name": "stdout",
     "output_type": "stream",
     "text": [
      "/tmp/sh076018/mishare/Research Projects/yokoyama/data//08/20210915/passing/17/csv/data.csv\n"
     ]
    },
    {
     "name": "stderr",
     "output_type": "stream",
     "text": [
      "100%|██████████| 1777/1777 [00:00<00:00, 18271.82it/s]\n"
     ]
    },
    {
     "name": "stdout",
     "output_type": "stream",
     "text": [
      "/tmp/sh076018/mishare/Research Projects/yokoyama/data//08/20210915/passing/18/csv/data.csv\n"
     ]
    },
    {
     "name": "stderr",
     "output_type": "stream",
     "text": [
      "100%|██████████| 2515/2515 [00:00<00:00, 20199.06it/s]\n"
     ]
    },
    {
     "name": "stdout",
     "output_type": "stream",
     "text": [
      "/tmp/sh076018/mishare/Research Projects/yokoyama/data//08/20210915/passing/19/csv/data.csv\n"
     ]
    },
    {
     "name": "stderr",
     "output_type": "stream",
     "text": [
      "100%|██████████| 5623/5623 [00:00<00:00, 36667.27it/s]\n"
     ]
    },
    {
     "name": "stdout",
     "output_type": "stream",
     "text": [
      "/tmp/sh076018/mishare/Research Projects/yokoyama/data//08/20210915/passing/20/csv/data.csv\n"
     ]
    },
    {
     "name": "stderr",
     "output_type": "stream",
     "text": [
      "100%|██████████| 2513/2513 [00:00<00:00, 19713.56it/s]\n"
     ]
    },
    {
     "name": "stdout",
     "output_type": "stream",
     "text": [
      "/tmp/sh076018/mishare/Research Projects/yokoyama/data//08/20210915/passing/21/csv/data.csv\n"
     ]
    },
    {
     "name": "stderr",
     "output_type": "stream",
     "text": [
      "100%|██████████| 3262/3262 [00:00<00:00, 25164.42it/s]\n"
     ]
    },
    {
     "name": "stdout",
     "output_type": "stream",
     "text": [
      "/tmp/sh076018/mishare/Research Projects/yokoyama/data//08/20210915/passing/22/csv/data.csv\n"
     ]
    },
    {
     "name": "stderr",
     "output_type": "stream",
     "text": [
      "100%|██████████| 3539/3539 [00:00<00:00, 18415.68it/s]\n"
     ]
    },
    {
     "name": "stdout",
     "output_type": "stream",
     "text": [
      "/tmp/sh076018/mishare/Research Projects/yokoyama/data//08/20210915/passing/23/csv/data.csv\n"
     ]
    },
    {
     "name": "stderr",
     "output_type": "stream",
     "text": [
      "100%|██████████| 2532/2532 [00:00<00:00, 18760.86it/s]\n"
     ]
    },
    {
     "name": "stdout",
     "output_type": "stream",
     "text": [
      "/tmp/sh076018/mishare/Research Projects/yokoyama/data//08/20210915/passing/24/csv/data.csv\n"
     ]
    },
    {
     "name": "stderr",
     "output_type": "stream",
     "text": [
      "100%|██████████| 9502/9502 [00:00<00:00, 45337.12it/s]\n"
     ]
    },
    {
     "name": "stdout",
     "output_type": "stream",
     "text": [
      "/tmp/sh076018/mishare/Research Projects/yokoyama/data//08/20210915/passing/25/csv/data.csv\n"
     ]
    },
    {
     "name": "stderr",
     "output_type": "stream",
     "text": [
      "100%|██████████| 6071/6071 [00:00<00:00, 36713.52it/s]\n"
     ]
    },
    {
     "name": "stdout",
     "output_type": "stream",
     "text": [
      "/tmp/sh076018/mishare/Research Projects/yokoyama/data//08/20210915/passing/26/csv/data.csv\n"
     ]
    },
    {
     "name": "stderr",
     "output_type": "stream",
     "text": [
      "100%|██████████| 4998/4998 [00:00<00:00, 26217.58it/s]\n"
     ]
    },
    {
     "name": "stdout",
     "output_type": "stream",
     "text": [
      "/tmp/sh076018/mishare/Research Projects/yokoyama/data//08/20210915/passing/27/csv/data.csv\n"
     ]
    },
    {
     "name": "stderr",
     "output_type": "stream",
     "text": [
      "100%|██████████| 7655/7655 [00:00<00:00, 34353.94it/s]\n"
     ]
    },
    {
     "name": "stdout",
     "output_type": "stream",
     "text": [
      "/tmp/sh076018/mishare/Research Projects/yokoyama/data//08/20210915/passing/28/csv/data.csv\n"
     ]
    },
    {
     "name": "stderr",
     "output_type": "stream",
     "text": [
      "100%|██████████| 6956/6956 [00:00<00:00, 43868.23it/s]\n"
     ]
    },
    {
     "name": "stdout",
     "output_type": "stream",
     "text": [
      "/tmp/sh076018/mishare/Research Projects/yokoyama/data//08/20210915/passing/29/csv/data.csv\n"
     ]
    },
    {
     "name": "stderr",
     "output_type": "stream",
     "text": [
      "100%|██████████| 4529/4529 [00:00<00:00, 51044.08it/s]\n"
     ]
    },
    {
     "name": "stdout",
     "output_type": "stream",
     "text": [
      "/tmp/sh076018/mishare/Research Projects/yokoyama/data//08/20210915/passing/30/csv/data.csv\n"
     ]
    },
    {
     "name": "stderr",
     "output_type": "stream",
     "text": [
      "100%|██████████| 4089/4089 [00:00<00:00, 50515.92it/s]\n"
     ]
    },
    {
     "name": "stdout",
     "output_type": "stream",
     "text": [
      "/tmp/sh076018/mishare/Research Projects/yokoyama/data//08/20210915/passing/31/csv/data.csv\n"
     ]
    },
    {
     "name": "stderr",
     "output_type": "stream",
     "text": [
      "100%|██████████| 5338/5338 [00:00<00:00, 33653.03it/s]\n"
     ]
    },
    {
     "name": "stdout",
     "output_type": "stream",
     "text": [
      "/tmp/sh076018/mishare/Research Projects/yokoyama/data//08/20210915/passing/32/csv/data.csv\n"
     ]
    },
    {
     "name": "stderr",
     "output_type": "stream",
     "text": [
      "100%|██████████| 4544/4544 [00:00<00:00, 55392.72it/s]\n"
     ]
    },
    {
     "name": "stdout",
     "output_type": "stream",
     "text": [
      "/tmp/sh076018/mishare/Research Projects/yokoyama/data//08/20210915/passing/33/csv/data.csv\n"
     ]
    },
    {
     "name": "stderr",
     "output_type": "stream",
     "text": [
      "100%|██████████| 3031/3031 [00:00<00:00, 41325.14it/s]\n"
     ]
    },
    {
     "name": "stdout",
     "output_type": "stream",
     "text": [
      "/tmp/sh076018/mishare/Research Projects/yokoyama/data//08/20210915/passing/34/csv/data.csv\n"
     ]
    },
    {
     "name": "stderr",
     "output_type": "stream",
     "text": [
      "100%|██████████| 1803/1803 [00:00<00:00, 24911.16it/s]\n"
     ]
    },
    {
     "name": "stdout",
     "output_type": "stream",
     "text": [
      "/tmp/sh076018/mishare/Research Projects/yokoyama/data//08/20210915/passing/35/csv/data.csv\n"
     ]
    },
    {
     "name": "stderr",
     "output_type": "stream",
     "text": [
      "100%|██████████| 5535/5535 [00:00<00:00, 55661.65it/s]\n"
     ]
    },
    {
     "name": "stdout",
     "output_type": "stream",
     "text": [
      "/tmp/sh076018/mishare/Research Projects/yokoyama/data//08/20210915/passing/36/csv/data.csv\n"
     ]
    },
    {
     "name": "stderr",
     "output_type": "stream",
     "text": [
      "100%|██████████| 2243/2243 [00:00<00:00, 26438.65it/s]\n"
     ]
    },
    {
     "name": "stdout",
     "output_type": "stream",
     "text": [
      "/tmp/sh076018/mishare/Research Projects/yokoyama/data//08/20210915/passing/37/csv/data.csv\n"
     ]
    },
    {
     "name": "stderr",
     "output_type": "stream",
     "text": [
      "100%|██████████| 9452/9452 [00:00<00:00, 91907.68it/s]\n"
     ]
    },
    {
     "name": "stdout",
     "output_type": "stream",
     "text": [
      "/tmp/sh076018/mishare/Research Projects/yokoyama/data//08/20210915/passing/38/csv/data.csv\n"
     ]
    },
    {
     "name": "stderr",
     "output_type": "stream",
     "text": [
      "100%|██████████| 1847/1847 [00:00<00:00, 20117.32it/s]\n"
     ]
    },
    {
     "name": "stdout",
     "output_type": "stream",
     "text": [
      "/tmp/sh076018/mishare/Research Projects/yokoyama/data//08/20210915/passing/39/csv/data.csv\n"
     ]
    },
    {
     "name": "stderr",
     "output_type": "stream",
     "text": [
      "100%|██████████| 2980/2980 [00:00<00:00, 37384.18it/s]\n"
     ]
    },
    {
     "name": "stdout",
     "output_type": "stream",
     "text": [
      "/tmp/sh076018/mishare/Research Projects/yokoyama/data//08/20210915/passing/40/csv/data.csv\n"
     ]
    },
    {
     "name": "stderr",
     "output_type": "stream",
     "text": [
      "100%|██████████| 2759/2759 [00:00<00:00, 32052.80it/s]\n"
     ]
    },
    {
     "name": "stdout",
     "output_type": "stream",
     "text": [
      "/tmp/sh076018/mishare/Research Projects/yokoyama/data//08/20210915/passing/41/csv/data.csv\n"
     ]
    },
    {
     "name": "stderr",
     "output_type": "stream",
     "text": [
      "100%|██████████| 1696/1696 [00:00<00:00, 32417.97it/s]\n"
     ]
    },
    {
     "name": "stdout",
     "output_type": "stream",
     "text": [
      "/tmp/sh076018/mishare/Research Projects/yokoyama/data//09/20210706/passing/01/csv/data.csv\n"
     ]
    },
    {
     "name": "stderr",
     "output_type": "stream",
     "text": [
      "100%|██████████| 7646/7646 [00:00<00:00, 42708.57it/s]\n"
     ]
    },
    {
     "name": "stdout",
     "output_type": "stream",
     "text": [
      "/tmp/sh076018/mishare/Research Projects/yokoyama/data//09/20210706/passing/02/csv/data.csv\n"
     ]
    },
    {
     "name": "stderr",
     "output_type": "stream",
     "text": [
      "100%|██████████| 14759/14759 [00:00<00:00, 74648.02it/s]\n"
     ]
    },
    {
     "name": "stdout",
     "output_type": "stream",
     "text": [
      "/tmp/sh076018/mishare/Research Projects/yokoyama/data//09/20210706/passing/03/csv/data.csv\n"
     ]
    },
    {
     "name": "stderr",
     "output_type": "stream",
     "text": [
      "100%|██████████| 36887/36887 [00:00<00:00, 141380.69it/s]\n"
     ]
    },
    {
     "name": "stdout",
     "output_type": "stream",
     "text": [
      "/tmp/sh076018/mishare/Research Projects/yokoyama/data//09/20210706/passing/04/csv/data.csv\n"
     ]
    },
    {
     "name": "stderr",
     "output_type": "stream",
     "text": [
      "100%|██████████| 25303/25303 [00:00<00:00, 102190.27it/s]\n"
     ]
    },
    {
     "name": "stdout",
     "output_type": "stream",
     "text": [
      "/tmp/sh076018/mishare/Research Projects/yokoyama/data//09/20210706/passing/05/csv/data.csv\n"
     ]
    },
    {
     "name": "stderr",
     "output_type": "stream",
     "text": [
      "100%|██████████| 6391/6391 [00:00<00:00, 29273.72it/s]\n"
     ]
    },
    {
     "name": "stdout",
     "output_type": "stream",
     "text": [
      "/tmp/sh076018/mishare/Research Projects/yokoyama/data//09/20210706/passing/06/csv/data.csv\n"
     ]
    },
    {
     "name": "stderr",
     "output_type": "stream",
     "text": [
      "100%|██████████| 7269/7269 [00:00<00:00, 57454.60it/s]\n"
     ]
    },
    {
     "name": "stdout",
     "output_type": "stream",
     "text": [
      "/tmp/sh076018/mishare/Research Projects/yokoyama/data//09/20210706/passing/07/csv/data.csv\n"
     ]
    },
    {
     "name": "stderr",
     "output_type": "stream",
     "text": [
      "100%|██████████| 4126/4126 [00:00<00:00, 24393.84it/s]\n"
     ]
    },
    {
     "name": "stdout",
     "output_type": "stream",
     "text": [
      "/tmp/sh076018/mishare/Research Projects/yokoyama/data//09/20210706/passing/08/csv/data.csv\n"
     ]
    },
    {
     "name": "stderr",
     "output_type": "stream",
     "text": [
      "100%|██████████| 7153/7153 [00:00<00:00, 55908.53it/s]\n"
     ]
    },
    {
     "name": "stdout",
     "output_type": "stream",
     "text": [
      "/tmp/sh076018/mishare/Research Projects/yokoyama/data//09/20210706/passing/09/csv/data.csv\n"
     ]
    },
    {
     "name": "stderr",
     "output_type": "stream",
     "text": [
      "100%|██████████| 3701/3701 [00:00<00:00, 20172.50it/s]\n"
     ]
    }
   ],
   "source": [
    "dirs = []\n",
    "for setting in data_settings:\n",
    "    room_num = setting['room_num']\n",
    "    date = setting['date']\n",
    "    dirs += glob.glob(f'{common.data_dir}/{room_num}/{date}/passing/*')\n",
    "    if dirs[-1].endswith('make_csv.csv'):\n",
    "        dirs = sorted(dirs)[:-1]  # delete make_csv.csv\n",
    "\n",
    "pass_lst = []\n",
    "not_pass_lst = []\n",
    "for path in dirs:\n",
    "    csv_path = f'{path}/csv/data.csv'\n",
    "    print(csv_path)\n",
    "    csv_data = np.loadtxt(csv_path, delimiter=',', dtype=int, skiprows=1)\n",
    "\n",
    "    for row in tqdm(csv_data):\n",
    "        frame_num = row[0]\n",
    "        label1 = f'{ROOM_NUM}_{FILE_NUM}_{row[1]}'\n",
    "        label2 = f'{ROOM_NUM}_{FILE_NUM}_{row[2]}'\n",
    "        is_pass = row[3]\n",
    "\n",
    "        if label1 not in features_dict or label2 not in features_dict:\n",
    "            continue\n",
    "        f1 = features_dict[label1]\n",
    "        f2 = features_dict[label2]\n",
    "\n",
    "        if frame_num not in f1 or frame_num not in f2:\n",
    "            continue\n",
    "        f1 = f1[frame_num]\n",
    "        f2 = f2[frame_num]\n",
    "        f1 = pca.transform([f1])\n",
    "        f2 = pca.transform([f2])\n",
    "        \n",
    "        # if is_pass == 1:\n",
    "        #     pass_lst.append(f1)\n",
    "        #     pass_lst.append(f2)\n",
    "        # else:\n",
    "        #     not_pass_lst.append(f1)\n",
    "        #     not_pass_lst.append(f2)\n",
    "            \n",
    "        f = f1 - f2\n",
    "        if is_pass == 1:\n",
    "            pass_lst.append(f)\n",
    "        else:\n",
    "            not_pass_lst.append(f)\n",
    "            \n",
    "pass_lst = np.array(pass_lst)\n",
    "not_pass_lst = np.array(not_pass_lst)"
   ]
  },
  {
   "cell_type": "code",
   "execution_count": 14,
   "id": "98d6c760-edb0-4623-baea-15c018c32c1c",
   "metadata": {},
   "outputs": [
    {
     "data": {
      "image/png": "[encoded data removed]",
      "text/plain": [
       "<Figure size 864x1296 with 6 Axes>"
      ]
     },
     "metadata": {
      "needs_background": "light"
     },
     "output_type": "display_data"
    }
   ],
   "source": [
    "def set_ax(ax, column_i, column_j, title):\n",
    "    ax.set_title(title)\n",
    "    ax.set_xlabel(column_i)\n",
    "    ax.set_ylabel(column_j)\n",
    "    ax.set_xlim((-4, 4))\n",
    "    ax.set_ylim((-4, 4))\n",
    "\n",
    "n = int(n_components * (n_components - 1) / 2)  # 組み合わせ: len(n_components) C 2\n",
    "fig = plt.figure(figsize=(12, n * 6))\n",
    "ax_count = 1\n",
    "for i in range(n_components - 1):\n",
    "    for j in range(i + 1, n_components):\n",
    "        ax = fig.add_subplot(n, 2, ax_count * 2 - 1)\n",
    "        ax.scatter(not_pass_lst.T[i], not_pass_lst.T[j])\n",
    "        set_ax(ax, i, j, 'false data')\n",
    "\n",
    "        ax = fig.add_subplot(n, 2, ax_count * 2)\n",
    "        ax.scatter(pass_lst.T[i], pass_lst.T[j], color='red')\n",
    "        set_ax(ax, i, j, 'true data')\n",
    "\n",
    "        ax_count += 1"
   ]
  },
  {
   "cell_type": "code",
   "execution_count": null,
   "id": "1e9aba7d-baa5-494e-8c07-c5852a7344bb",
   "metadata": {},
   "outputs": [],
   "source": []
  }
 ],
 "metadata": {
  "kernelspec": {
   "display_name": "Python 3 (ipykernel)",
   "language": "python",
   "name": "python3"
  },
  "language_info": {
   "codemirror_mode": {
    "name": "ipython",
    "version": 3
   },
   "file_extension": ".py",
   "mimetype": "text/x-python",
   "name": "python",
   "nbconvert_exporter": "python",
   "pygments_lexer": "ipython3",
   "version": "3.9.7"
  }
 },
 "nbformat": 4,
 "nbformat_minor": 5
}
