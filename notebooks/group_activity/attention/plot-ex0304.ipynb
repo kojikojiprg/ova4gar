{
 "cells": [
  {
   "cell_type": "code",
   "execution_count": 1,
   "id": "bdf97311-ebfb-4d19-ac8f-41b12718b224",
   "metadata": {},
   "outputs": [],
   "source": [
    "import os\n",
    "import numpy as np\n",
    "import pandas as pd\n",
    "import matplotlib.pyplot as plt\n",
    "import seaborn as sns\n",
    "import cv2\n",
    "from tqdm import tqdm\n",
    "import sys\n",
    "import glob\n",
    "sys.path.append('../../../src')\n",
    "\n",
    "from common import common, transform, json, video\n",
    "from common.functions import cos_similarity, gauss\n",
    "from common.json import IA_FORMAT, START_IDX, GA_FORMAT, ATTENTION_FORMAT\n",
    "from common.default import PASSING_DEFAULT\n",
    "from common.object_point import OBJECT_POINTS\n",
    "from individual_activity.individual_activity import IndividualActivity\n",
    "from display.individual_activity import disp_individual_activity\n",
    "from display.tracking import disp_tracking\n",
    "from display.heatmap import Heatmap"
   ]
  },
  {
   "cell_type": "markdown",
   "id": "70d29272-6985-4eee-be98-9223b6acf253",
   "metadata": {},
   "source": [
    "# Attention をロード"
   ]
  },
  {
   "cell_type": "code",
   "execution_count": 2,
   "id": "f852e8b6-11b1-407d-8c27-a0f564fb0716",
   "metadata": {},
   "outputs": [],
   "source": [
    "data_settings = [\n",
    "    {'room_num': '09', 'date': '20210304', 'option': 'attention'}\n",
    "]"
   ]
  },
  {
   "cell_type": "code",
   "execution_count": 3,
   "id": "b60bf0e4-51e9-4772-8191-a8123f9b87fe",
   "metadata": {
    "tags": []
   },
   "outputs": [
    {
     "name": "stdout",
     "output_type": "stream",
     "text": [
      "{'room_num': '09', 'date': '20210304', 'option': 'attention'}\n"
     ]
    },
    {
     "name": "stderr",
     "output_type": "stream",
     "text": [
      "100%|████████████████████████████████████████████████████████████████████████████████████████████████████████████████████████████████████████████████████████████████████████████████| 9/9 [00:02<00:00,  4.36it/s]\n"
     ]
    }
   ],
   "source": [
    "attentions = {}\n",
    "for setting in data_settings:\n",
    "    print(setting)\n",
    "    room_num = setting['room_num']\n",
    "    date = setting['date']\n",
    "    opt = setting['option']\n",
    "    \n",
    "    if opt is None:\n",
    "        dir_path = f'{common.data_dir}/{room_num}/{date}/*'\n",
    "    else:\n",
    "        dir_path = f'{common.data_dir}/{room_num}/{date}/{opt}/*'\n",
    "    dirs = glob.glob(dir_path)\n",
    "    if dirs[-1].endswith('make_csv.csv'):\n",
    "        dirs = dirs[:-1]\n",
    "    \n",
    "    for i, path in enumerate(tqdm(dirs)):\n",
    "        path = f'{path}/json/group_activity.json'\n",
    "        json_data = json.load(path)\n",
    "        key = f\"{room_num}_{date}_{i + 1:02d}\"\n",
    "        attentions[key] = json_data[\"attention\"]"
   ]
  },
  {
   "cell_type": "markdown",
   "id": "8b179862-b238-474b-9d77-23fcbf6175f1",
   "metadata": {},
   "source": [
    "# 対象物のスコアを計算\n",
    "https://qiita.com/masataka46/items/cb5b05090746c7f3b826"
   ]
  },
  {
   "cell_type": "code",
   "execution_count": 4,
   "id": "d58e2d0d-f3ba-4154-bcda-6445223ac339",
   "metadata": {},
   "outputs": [],
   "source": [
    "def likelihood(object_point, attention_data, sigma=50):\n",
    "    px = object_point[0]\n",
    "    py = object_point[1]\n",
    "    \n",
    "    value_dict = {}\n",
    "    for data in tqdm(attention_data):\n",
    "        frame_num = data[ATTENTION_FORMAT[0]]\n",
    "        x, y = data[ATTENTION_FORMAT[2]]\n",
    "        count = data[ATTENTION_FORMAT[4]]\n",
    "        gauss = np.exp(-((x - px)**2 + (y - py)**2) / (2 * sigma ** 2))\n",
    "        \n",
    "        if frame_num not in value_dict:\n",
    "            value_dict[frame_num] = {\"counts\": [], \"weights\": []}\n",
    "            \n",
    "        value_dict[frame_num][\"counts\"].append(count)\n",
    "        value_dict[frame_num][\"weights\"].append(gauss + 1e-10)\n",
    "        \n",
    "    means = {}\n",
    "    for frame_num, value in value_dict.items():\n",
    "        means[frame_num] = np.average(value[\"counts\"], weights=value[\"weights\"])\n",
    "    \n",
    "    return means"
   ]
  },
  {
   "cell_type": "code",
   "execution_count": 5,
   "id": "ae389813-d9d0-4f8e-9e9c-80413ab6c0e8",
   "metadata": {
    "tags": []
   },
   "outputs": [
    {
     "name": "stdout",
     "output_type": "stream",
     "text": [
      "09 20210304 01\n"
     ]
    },
    {
     "name": "stderr",
     "output_type": "stream",
     "text": [
      "100%|██████████████████████████████████████████████████████████████████████████████████████████████████████████████████████████████████████████████████████████████████| 116068/116068 [00:00<00:00, 484195.78it/s]\n"
     ]
    },
    {
     "name": "stdout",
     "output_type": "stream",
     "text": [
      "09 20210304 02\n"
     ]
    },
    {
     "name": "stderr",
     "output_type": "stream",
     "text": [
      "100%|██████████████████████████████████████████████████████████████████████████████████████████████████████████████████████████████████████████████████████████████████| 107147/107147 [00:00<00:00, 519351.84it/s]\n"
     ]
    },
    {
     "name": "stdout",
     "output_type": "stream",
     "text": [
      "09 20210304 03\n"
     ]
    },
    {
     "name": "stderr",
     "output_type": "stream",
     "text": [
      "100%|██████████████████████████████████████████████████████████████████████████████████████████████████████████████████████████████████████████████████████████████████| 103163/103163 [00:00<00:00, 556746.15it/s]\n"
     ]
    },
    {
     "name": "stdout",
     "output_type": "stream",
     "text": [
      "09 20210304 01\n"
     ]
    },
    {
     "name": "stderr",
     "output_type": "stream",
     "text": [
      "100%|████████████████████████████████████████████████████████████████████████████████████████████████████████████████████████████████████████████████████████████████████| 99903/99903 [00:00<00:00, 594528.31it/s]\n"
     ]
    },
    {
     "name": "stdout",
     "output_type": "stream",
     "text": [
      "09 20210304 02\n"
     ]
    },
    {
     "name": "stderr",
     "output_type": "stream",
     "text": [
      "100%|████████████████████████████████████████████████████████████████████████████████████████████████████████████████████████████████████████████████████████████████████| 98750/98750 [00:00<00:00, 514454.11it/s]\n"
     ]
    },
    {
     "name": "stdout",
     "output_type": "stream",
     "text": [
      "09 20210304 03\n"
     ]
    },
    {
     "name": "stderr",
     "output_type": "stream",
     "text": [
      "100%|██████████████████████████████████████████████████████████████████████████████████████████████████████████████████████████████████████████████████████████████████| 106842/106842 [00:00<00:00, 529963.77it/s]\n"
     ]
    },
    {
     "name": "stdout",
     "output_type": "stream",
     "text": [
      "09 20210304 01\n"
     ]
    },
    {
     "name": "stderr",
     "output_type": "stream",
     "text": [
      "100%|██████████████████████████████████████████████████████████████████████████████████████████████████████████████████████████████████████████████████████████████████| 109125/109125 [00:00<00:00, 536743.78it/s]\n"
     ]
    },
    {
     "name": "stdout",
     "output_type": "stream",
     "text": [
      "09 20210304 02\n"
     ]
    },
    {
     "name": "stderr",
     "output_type": "stream",
     "text": [
      "100%|██████████████████████████████████████████████████████████████████████████████████████████████████████████████████████████████████████████████████████████████████| 109801/109801 [00:00<00:00, 593739.47it/s]\n"
     ]
    },
    {
     "name": "stdout",
     "output_type": "stream",
     "text": [
      "09 20210304 03\n"
     ]
    },
    {
     "name": "stderr",
     "output_type": "stream",
     "text": [
      "100%|██████████████████████████████████████████████████████████████████████████████████████████████████████████████████████████████████████████████████████████████████| 112796/112796 [00:00<00:00, 643438.95it/s]\n"
     ]
    }
   ],
   "source": [
    "likelihood_dict = {}\n",
    "for key, attention_data in attentions.items():\n",
    "    room_num, date, num = key.split(\"_\")\n",
    "    num = f\"{(int(num) - 1) % 3 + 1:02d}\"  # for ex0304\n",
    "    print(room_num, date, num)\n",
    "    \n",
    "    object_points = OBJECT_POINTS[room_num][date][num]\n",
    "    for i, object_point in enumerate(object_points):\n",
    "        value = likelihood(object_point, attention_data)\n",
    "        new_key = f\"{key}_{i + 1}\"\n",
    "        likelihood_dict[new_key] = value"
   ]
  },
  {
   "cell_type": "markdown",
   "id": "7000bc71-ca5f-44f2-a6b2-e6ece15c106a",
   "metadata": {},
   "source": [
    "# 動画作成"
   ]
  },
  {
   "cell_type": "code",
   "execution_count": 6,
   "id": "0e916fec-b17e-483e-a45f-f668d106885e",
   "metadata": {},
   "outputs": [],
   "source": [
    "def display_likelihood(object_point, value, heatmap_cls, field, max_radius=20, alpha=0.7):\n",
    "    copy = field.copy()\n",
    "    \n",
    "    color = heatmap_cls.colormap(value)\n",
    "\n",
    "    # calc radius of circle\n",
    "    max_value = heatmap_cls.xmax\n",
    "    radius = int(value / max_value * max_radius)\n",
    "    if radius == 0:\n",
    "        radius = 1\n",
    "    # plot the heatmap circle\n",
    "    cv2.circle(copy, object_point, radius, color, thickness=-1)\n",
    "\n",
    "    # plot the center of object\n",
    "    cv2.circle(copy, tuple(object_point), 3, (0, 0, 0), -1)\n",
    "    \n",
    "    point = np.array(object_point) - [50, 10]\n",
    "    point = tuple(point)\n",
    "    cv2.putText(copy, f\"{value:.1f}\", point, cv2.FONT_HERSHEY_SIMPLEX, 1.5, color, 2)\n",
    "    \n",
    "    field = cv2.addWeighted(copy, alpha, field, 1 - alpha, 0)\n",
    "    \n",
    "    # plt.imshow(field)\n",
    "    # plt.show()\n",
    "\n",
    "    return field"
   ]
  },
  {
   "cell_type": "code",
   "execution_count": 7,
   "id": "da66f920-066e-48c2-a2cb-e323d89a82d4",
   "metadata": {},
   "outputs": [],
   "source": [
    "def combine_image(frame, field):\n",
    "    ratio = 1 - (field.shape[0] - frame.shape[0]) / field.shape[0]\n",
    "    size = [int(field.shape[1] * ratio), int(field.shape[0] * ratio)]\n",
    "    if frame.shape[0] != size[1]:\n",
    "        # 丸め誤差が起きる\n",
    "        size[1] = frame.shape[0]\n",
    "    field = cv2.resize(field, size)\n",
    "    frame = np.concatenate([frame, field], axis=1)\n",
    "\n",
    "    return frame\n",
    "\n",
    "\n",
    "def display(\n",
    "    video_path,\n",
    "    out_path,\n",
    "    individual_activity_json_path,\n",
    "    likelihood_data,\n",
    "    heatmap_cls,\n",
    "    field,\n",
    "    object_point,\n",
    "):\n",
    "    print(out_path)\n",
    "    print(\"Writing video frames...\")\n",
    "\n",
    "    # load datas\n",
    "    individual_activity_datas = json.load(individual_activity_json_path)\n",
    "\n",
    "    # load video\n",
    "    capture = video.Capture(video_path)\n",
    "\n",
    "    # frames_lst = [[] for _ in range(len(out_paths))]\n",
    "    cmb_img = combine_image(capture.read(), field)\n",
    "    size = cmb_img.shape[1::-1]\n",
    "    writer = video.Writer(out_path, capture.fps, size)\n",
    "\n",
    "    # reset capture start position\n",
    "    capture.set_pos_frame(0)\n",
    "\n",
    "    for frame_num in tqdm(range(capture.frame_num)):\n",
    "        # read frame\n",
    "        frame = capture.read()\n",
    "\n",
    "        # フレームごとにデータを取得する\n",
    "        frame_individual_activity_datas = [\n",
    "            data for data in individual_activity_datas if data[\"frame\"] == frame_num\n",
    "        ]\n",
    "\n",
    "        # フレーム番号を表示\n",
    "        cv2.putText(\n",
    "            frame,\n",
    "            \"Frame:{}\".format(frame_num + 1),\n",
    "            (10, 50),\n",
    "            cv2.FONT_HERSHEY_PLAIN,\n",
    "            2,\n",
    "            (0, 0, 0),\n",
    "        )\n",
    "\n",
    "        # copy raw field image\n",
    "        field_tmp = field.copy()\n",
    "\n",
    "        # draw tracking result\n",
    "        frame = disp_tracking(frame_individual_activity_datas, frame)\n",
    "\n",
    "        # draw individual activity\n",
    "        field_tmp = disp_individual_activity(\n",
    "            frame_individual_activity_datas, field_tmp\n",
    "        )\n",
    "\n",
    "        # draw likelihood\n",
    "        field_tmp = display_likelihood(object_point, likelihood_data[frame_num], heatmap_cls, field_tmp)\n",
    "\n",
    "        # write video\n",
    "        writer.write(combine_image(frame, field_tmp))\n",
    "\n",
    "\n",
    "def get_field(room_num):\n",
    "    field_path = os.path.join(common.data_dir, room_num, 'field.png')\n",
    "    return cv2.imread(field_path)"
   ]
  },
  {
   "cell_type": "code",
   "execution_count": 8,
   "id": "84205a1e-d6bd-43e6-8c2a-9c5c01b1ab64",
   "metadata": {
    "scrolled": true,
    "tags": []
   },
   "outputs": [
    {
     "name": "stdout",
     "output_type": "stream",
     "text": [
      "{'room_num': '09', 'date': '20210304', 'option': 'attention'}\n",
      "(685, 780)\n",
      "0.12313545241387779\n",
      "C:\\Users\\k2111\\program\\research\\data/09/20210304/attention\\01\\out\\attention_object1.mp4\n",
      "Writing video frames...\n"
     ]
    },
    {
     "name": "stderr",
     "output_type": "stream",
     "text": [
      "100%|███████████████████████████████████████████████████████████████████████████████████████████████████████████████████████████████████████████████████████████| 591/591 [00:10<00:00, 56.83it/s]\n"
     ]
    },
    {
     "name": "stdout",
     "output_type": "stream",
     "text": [
      "(50, 780)\n",
      "0.646771213205698\n",
      "C:\\Users\\k2111\\program\\research\\data/09/20210304/attention\\02\\out\\attention_object1.mp4\n",
      "Writing video frames...\n"
     ]
    },
    {
     "name": "stderr",
     "output_type": "stream",
     "text": [
      "100%|███████████████████████████████████████████████████████████████████████████████████████████████████████████████████████████████████████████████████████████| 605/605 [00:11<00:00, 53.92it/s]\n"
     ]
    },
    {
     "name": "stdout",
     "output_type": "stream",
     "text": [
      "(367, 415)\n",
      "1.0163500318135825\n",
      "C:\\Users\\k2111\\program\\research\\data/09/20210304/attention\\03\\out\\attention_object1.mp4\n",
      "Writing video frames...\n"
     ]
    },
    {
     "name": "stderr",
     "output_type": "stream",
     "text": [
      "100%|███████████████████████████████████████████████████████████████████████████████████████████████████████████████████████████████████████████████████████████| 576/576 [00:10<00:00, 54.77it/s]\n"
     ]
    },
    {
     "name": "stdout",
     "output_type": "stream",
     "text": [
      "(685, 780)\n",
      "0.09445458360044703\n",
      "C:\\Users\\k2111\\program\\research\\data/09/20210304/attention\\04\\out\\attention_object1.mp4\n",
      "Writing video frames...\n"
     ]
    },
    {
     "name": "stderr",
     "output_type": "stream",
     "text": [
      "100%|███████████████████████████████████████████████████████████████████████████████████████████████████████████████████████████████████████████████████████████| 562/562 [00:10<00:00, 53.87it/s]\n"
     ]
    },
    {
     "name": "stdout",
     "output_type": "stream",
     "text": [
      "(50, 780)\n",
      "0.6901479552579766\n",
      "C:\\Users\\k2111\\program\\research\\data/09/20210304/attention\\05\\out\\attention_object1.mp4\n",
      "Writing video frames...\n"
     ]
    },
    {
     "name": "stderr",
     "output_type": "stream",
     "text": [
      "100%|███████████████████████████████████████████████████████████████████████████████████████████████████████████████████████████████████████████████████████████| 581/581 [00:10<00:00, 56.37it/s]\n"
     ]
    },
    {
     "name": "stdout",
     "output_type": "stream",
     "text": [
      "(367, 415)\n",
      "1.294287118357086\n",
      "C:\\Users\\k2111\\program\\research\\data/09/20210304/attention\\06\\out\\attention_object1.mp4\n",
      "Writing video frames...\n"
     ]
    },
    {
     "name": "stderr",
     "output_type": "stream",
     "text": [
      "100%|███████████████████████████████████████████████████████████████████████████████████████████████████████████████████████████████████████████████████████████| 572/572 [00:10<00:00, 54.91it/s]\n"
     ]
    },
    {
     "name": "stdout",
     "output_type": "stream",
     "text": [
      "(685, 780)\n",
      "0.14649450606802994\n",
      "C:\\Users\\k2111\\program\\research\\data/09/20210304/attention\\07\\out\\attention_object1.mp4\n",
      "Writing video frames...\n"
     ]
    },
    {
     "name": "stderr",
     "output_type": "stream",
     "text": [
      "100%|███████████████████████████████████████████████████████████████████████████████████████████████████████████████████████████████████████████████████████████| 603/603 [00:11<00:00, 53.53it/s]\n"
     ]
    },
    {
     "name": "stdout",
     "output_type": "stream",
     "text": [
      "(50, 780)\n",
      "0.6311530139116974\n",
      "C:\\Users\\k2111\\program\\research\\data/09/20210304/attention\\08\\out\\attention_object1.mp4\n",
      "Writing video frames...\n"
     ]
    },
    {
     "name": "stderr",
     "output_type": "stream",
     "text": [
      "100%|███████████████████████████████████████████████████████████████████████████████████████████████████████████████████████████████████████████████████████████| 594/594 [00:11<00:00, 52.06it/s]\n"
     ]
    },
    {
     "name": "stdout",
     "output_type": "stream",
     "text": [
      "(367, 415)\n",
      "1.3938976671989707\n",
      "C:\\Users\\k2111\\program\\research\\data/09/20210304/attention\\09\\out\\attention_object1.mp4\n",
      "Writing video frames...\n"
     ]
    },
    {
     "name": "stderr",
     "output_type": "stream",
     "text": [
      "100%|███████████████████████████████████████████████████████████████████████████████████████████████████████████████████████████████████████████████████████████| 595/595 [00:11<00:00, 51.58it/s]\n"
     ]
    }
   ],
   "source": [
    "for setting in data_settings:\n",
    "    print(setting)\n",
    "    room_num = setting['room_num']\n",
    "    date = setting['date']\n",
    "    opt = setting['option']\n",
    "    \n",
    "    if opt is None:\n",
    "        dir_path = f'{common.data_dir}/{room_num}/{date}/*'\n",
    "    else:\n",
    "        dir_path = f'{common.data_dir}/{room_num}/{date}/{opt}/*'\n",
    "    dirs = glob.glob(dir_path)\n",
    "    if dirs[-1].endswith('make_csv.csv'):\n",
    "        dirs = dirs[:-1]\n",
    "        \n",
    "    field = get_field(room_num)\n",
    "    \n",
    "    for i, path in enumerate(dirs):\n",
    "        ia_json_path = os.path.join(path, 'json', 'individual_activity.json')\n",
    "        video_path = os.path.join(path, 'video', f'pose_{i + 1:02d}.mp4')\n",
    "        out_dir = os.path.join(path, 'out')\n",
    "        cap = video.Capture(video_path)\n",
    "        \n",
    "        num = f\"{i % 3 + 1:02d}\"  # for ex0304\n",
    "        object_points = OBJECT_POINTS[room_num][date][num]\n",
    "        for j, object_point in enumerate(object_points):\n",
    "            print(object_point)\n",
    "            out_path = os.path.join(out_dir, f'attention_object{j + 1}.mp4')\n",
    "            key = f\"{room_num}_{date}_{i + 1:02d}_{j + 1}\"\n",
    "            likelihood_data = likelihood_dict[key]\n",
    "            max_val = np.max(list(likelihood_data.values()))\n",
    "            print(max_val)\n",
    "            heatmap_cls = Heatmap([0, max_val])\n",
    "            display(\n",
    "                video_path,\n",
    "                out_path,\n",
    "                ia_json_path,\n",
    "                likelihood_data,\n",
    "                heatmap_cls,\n",
    "                field,\n",
    "                object_point,\n",
    "            )"
   ]
  },
  {
   "cell_type": "markdown",
   "id": "a896ccaa-0272-471f-9d31-8e4a3a6ed6a1",
   "metadata": {},
   "source": [
    "# 修論用解析\n",
    "## ヒストグラム、箱ひげ図"
   ]
  },
  {
   "cell_type": "code",
   "execution_count": 6,
   "id": "2c75645b-db65-4e96-be7b-1b0d3d1a6169",
   "metadata": {},
   "outputs": [],
   "source": [
    "def get_start_attention_frame(csv_path):\n",
    "    csv_data = np.loadtxt(csv_path, delimiter=',', skiprows=1, dtype=int)\n",
    "    for row in csv_data:\n",
    "        if row[4] != 0:\n",
    "            return row[0]"
   ]
  },
  {
   "cell_type": "code",
   "execution_count": 7,
   "id": "53751897-00f5-487e-b5a3-1a59284855c4",
   "metadata": {},
   "outputs": [],
   "source": [
    "def boxplot(pos_data_lst, nega_data_lst):\n",
    "    fig = plt.figure(figsize=(5, 2))\n",
    "    axs = [\n",
    "        fig.add_axes((0.1, 0.1, 0.29, 0.85)),\n",
    "        fig.add_axes((0.4, 0.1, 0.29, 0.85)),\n",
    "        fig.add_axes((0.7, 0.1, 0.29, 0.85))\n",
    "    ]\n",
    "\n",
    "    for j in range(3):\n",
    "        data_dict = {}\n",
    "        label1 = f'O{j % 3 + 1}-A'\n",
    "        label2 = f'O{j % 3 + 1}-N/A'\n",
    "\n",
    "        data_dict[label1] = pos_data_lst[j]\n",
    "        data_dict[label2] = nega_data_lst[j]\n",
    "\n",
    "        # adjust length of data\n",
    "        max_len = max([len(vals) for vals in data_dict.values()])\n",
    "        for key, vals in data_dict.items():\n",
    "            if len(vals) < max_len:\n",
    "                data_dict[key] = list(vals) + [np.nan for _ in range(max_len - len(vals))]\n",
    "        df = pd.DataFrame.from_dict(data_dict)\n",
    "        df = pd.melt(df)\n",
    "\n",
    "        sns.boxplot(x='variable', y='value', data=df, showfliers=False, ax=axs[j])\n",
    "        axs[j].set_ylabel('')\n",
    "        axs[j].set_xlabel('')\n",
    "        axs[j].set_ylim((0, 1.5))\n",
    "\n",
    "    axs[0].set_ylabel('Attention Score')\n",
    "    axs[1].set_yticklabels([])\n",
    "    axs[2].set_yticklabels([])\n",
    "\n",
    "    box_path = os.path.join(common.data_dir, 'image', opt, f'box_{room_num}_{date}_{i // 3 + 1}.pdf')\n",
    "    fig.subplots_adjust(left=0, right=1, bottom=0, top=1)\n",
    "    fig.savefig(box_path)"
   ]
  },
  {
   "cell_type": "code",
   "execution_count": 8,
   "id": "8d50a294-df61-4713-bd43-4fc528596eed",
   "metadata": {},
   "outputs": [],
   "source": [
    "def hist(pos_data_lst, nega_data_lst):\n",
    "    fig = plt.figure(figsize=(5, 2))\n",
    "    axs = [\n",
    "        fig.add_axes((0.06, 0.2, 0.26, 0.75)),\n",
    "        fig.add_axes((0.39, 0.2, 0.26, 0.75)),\n",
    "        fig.add_axes((0.72, 0.2, 0.26, 0.75))\n",
    "    ]\n",
    "\n",
    "    for j in range(3):\n",
    "        data_dict = {}\n",
    "        label1 = f'O{j % 3 + 1}-A'\n",
    "        label2 = f'O{j % 3 + 1}-N/A'\n",
    "        labels = [label1, label2]\n",
    "\n",
    "        data_dict[label1] = pos_data_lst[j]\n",
    "        data_dict[label2] = nega_data_lst[j]\n",
    "\n",
    "        # adjust length of data\n",
    "        max_len = max([len(vals) for vals in data_dict.values()])\n",
    "        for key, vals in data_dict.items():\n",
    "            if len(vals) < max_len:\n",
    "                data_dict[key] = list(vals) + [np.nan for _ in range(max_len - len(vals))]\n",
    "        df = pd.DataFrame.from_dict(data_dict)\n",
    "        df = pd.melt(df)\n",
    "        \n",
    "        sns.histplot(\n",
    "            data=df, x='value', hue='variable', bins=20, kde=True, ax=axs[j]\n",
    "        )\n",
    "        \n",
    "        axs[j].set_ylabel('')\n",
    "        axs[j].set_xlabel('')\n",
    "        axs[j].legend(labels=labels[::-1], fontsize=7, handlelength=0.5, handletextpad=0.2)\n",
    "\n",
    "        axs[j].set_xlabel('Attention Score')\n",
    "\n",
    "    box_path = os.path.join(common.data_dir, 'image', opt, f'hist_{room_num}_{date}_{i // 3 + 1}.pdf')\n",
    "    fig.subplots_adjust(left=0, right=1, bottom=0, top=1)\n",
    "    fig.savefig(box_path)"
   ]
  },
  {
   "cell_type": "code",
   "execution_count": 9,
   "id": "5bc810f8-8db9-48b8-a500-ed9b3df38a2a",
   "metadata": {
    "tags": []
   },
   "outputs": [
    {
     "name": "stdout",
     "output_type": "stream",
     "text": [
      "{'room_num': '09', 'date': '20210304', 'option': 'attention'}\n"
     ]
    },
    {
     "data": {
      "image/png": "[encoded data removed]",
      "text/plain": [
       "<Figure size 360x144 with 3 Axes>"
      ]
     },
     "metadata": {},
     "output_type": "display_data"
    },
    {
     "data": {
      "image/png": "[encoded data removed]",
      "text/plain": [
       "<Figure size 360x144 with 3 Axes>"
      ]
     },
     "metadata": {},
     "output_type": "display_data"
    },
    {
     "data": {
      "image/png": "[encoded data removed]",
      "text/plain": [
       "<Figure size 360x144 with 3 Axes>"
      ]
     },
     "metadata": {},
     "output_type": "display_data"
    },
    {
     "data": {
      "image/png": "[encoded data removed]",
      "text/plain": [
       "<Figure size 360x144 with 3 Axes>"
      ]
     },
     "metadata": {},
     "output_type": "display_data"
    },
    {
     "data": {
      "image/png": "[encoded data removed]",
      "text/plain": [
       "<Figure size 360x144 with 3 Axes>"
      ]
     },
     "metadata": {},
     "output_type": "display_data"
    },
    {
     "data": {
      "image/png": "[encoded data removed]",
      "text/plain": [
       "<Figure size 360x144 with 3 Axes>"
      ]
     },
     "metadata": {},
     "output_type": "display_data"
    }
   ],
   "source": [
    "sns.set()\n",
    "sns.set_style('whitegrid')\n",
    "plt.rcParams['font.family'] = 'Times New Roman'\n",
    "plt.rcParams[\"font.size\"] = 20\n",
    "plt.rcParams['xtick.direction'] = 'in'  # x axis in\n",
    "plt.rcParams['ytick.direction'] = 'in'  # y axis in\n",
    "\n",
    "for setting in data_settings:\n",
    "    print(setting)\n",
    "    room_num = setting['room_num']\n",
    "    date = setting['date']\n",
    "    opt = setting['option']\n",
    "    \n",
    "    if opt is None:\n",
    "        dir_path = f'{common.data_dir}/{room_num}/{date}/*'\n",
    "    else:\n",
    "        dir_path = f'{common.data_dir}/{room_num}/{date}/{opt}/*'\n",
    "    dirs = glob.glob(dir_path)\n",
    "    if dirs[-1].endswith('make_csv.csv'):\n",
    "        dirs = dirs[:-1]\n",
    "    if dirs[-1].endswith('image'):\n",
    "        dirs = dirs[:-1]\n",
    "    \n",
    "    pos_data_lst = []\n",
    "    nega_data_lst = []\n",
    "    for i, path in enumerate(dirs):\n",
    "        # get start attention frame\n",
    "        csv_path = os.path.join(path, 'csv', 'data.csv')\n",
    "        start_frame = get_start_attention_frame(csv_path)\n",
    "        \n",
    "        # get data and split positeve and negative\n",
    "        key = f\"{room_num}_{date}_{i + 1:02d}_{1}\"\n",
    "        data = list(likelihood_dict[key].values())\n",
    "        pos_data = data[start_frame:]\n",
    "        nega_data = data[:start_frame]\n",
    "        \n",
    "        pos_data_lst.append(pos_data)\n",
    "        nega_data_lst.append(nega_data)\n",
    "        \n",
    "        # plot\n",
    "        if i % 3 == 2:\n",
    "            # plot per 3 times\n",
    "            boxplot(pos_data_lst, nega_data_lst)\n",
    "            hist(pos_data_lst, nega_data_lst)\n",
    "            pos_data_lst = []\n",
    "            nega_data_lst = []"
   ]
  },
  {
   "cell_type": "markdown",
   "id": "7ad93acb-91b6-45c1-bc82-341745010ed2",
   "metadata": {},
   "source": [
    "## 検定"
   ]
  },
  {
   "cell_type": "code",
   "execution_count": 10,
   "id": "34f48097-8a44-4bf0-b6a8-e46e8ec99513",
   "metadata": {},
   "outputs": [],
   "source": [
    "from scipy import stats"
   ]
  },
  {
   "cell_type": "code",
   "execution_count": 20,
   "id": "e914550a-b495-401f-9a54-f4b6cf09114d",
   "metadata": {},
   "outputs": [],
   "source": [
    "import pandas as pd\n",
    "\n",
    "def mwu(data1, data2):\n",
    "    n1, n2 = len(data1), len(data2)\n",
    "    mu = n1 * n2 / 2\n",
    "    sigma = np.sqrt(n1 * n2 * (n1 + n2 + 1) / 12)\n",
    "    \n",
    "    label1 = [1 for _ in range(n1)]\n",
    "    data1_df = pd.DataFrame({\n",
    "        'label': label1,\n",
    "        'value': data1\n",
    "    })\n",
    "    label2 = [2 for _ in range(n2)]\n",
    "    data2_df = pd.DataFrame({\n",
    "        'label': label2,\n",
    "        'value': data2\n",
    "    })\n",
    "    \n",
    "    df = pd.concat([data1_df, data2_df], axis=0)\n",
    "    df = pd.concat([df, df.rank()[\"value\"]], axis=1)\n",
    "    df.columns = [\"label\", \"value\", \"rank\"]\n",
    "    print(df.head())\n",
    "    print(df.tail())\n",
    "    \n",
    "    df[df[\"label\"] == 1][\"rank\"].hist()\n",
    "    plt.show()\n",
    "    df[df[\"label\"] == 2][\"rank\"].hist()\n",
    "    plt.show()\n",
    "    \n",
    "    rank_sum1 = df[df[\"label\"] == 1].sum()[\"rank\"]\n",
    "    rank_sum2 = df[df[\"label\"] == 2].sum()[\"rank\"]\n",
    "    print('rank sum:', rank_sum1, rank_sum2)\n",
    "    \n",
    "    u1 = n1 * n2 + n1 * (n1 + 1) / 2 - rank_sum1\n",
    "    u2 = n1 * n2 - u1\n",
    "    print('u1, u2 ', u1, u2)\n",
    "    \n",
    "    u = u1 if u1 > mu else u2\n",
    "    print('u=', u)\n",
    "        \n",
    "    z = (u1 - mu) / sigma\n",
    "    print('z=', z)\n",
    "    \n",
    "    p = stats.norm.pdf(z)\n",
    "    print(\"p=\", p)"
   ]
  },
  {
   "cell_type": "code",
   "execution_count": 21,
   "id": "3e033a74-b19e-47c2-9471-52c2f53c4110",
   "metadata": {},
   "outputs": [
    {
     "name": "stdout",
     "output_type": "stream",
     "text": [
      "{'room_num': '09', 'date': '20210304', 'option': 'attention'}\n",
      "O_1\n",
      "   label     value  rank\n",
      "0      1  0.344821   2.0\n",
      "1      1  0.554161  11.0\n",
      "2      1  0.931411  17.0\n",
      "3      1  0.987323  18.0\n",
      "4      1  1.306170  22.0\n",
      "     label     value  rank\n",
      "408      2  5.569941  82.0\n",
      "409      2  6.258255  90.0\n",
      "410      2  6.465273  94.0\n",
      "411      2  3.546851  53.0\n",
      "412      2  0.495759   8.0\n"
     ]
    },
    {
     "data": {
      "image/png": "[encoded data removed]",
      "text/plain": [
       "<Figure size 432x288 with 1 Axes>"
      ]
     },
     "metadata": {},
     "output_type": "display_data"
    },
    {
     "data": {
      "image/png": "[encoded data removed]",
      "text/plain": [
       "<Figure size 432x288 with 1 Axes>"
      ]
     },
     "metadata": {},
     "output_type": "display_data"
    },
    {
     "name": "stdout",
     "output_type": "stream",
     "text": [
      "rank sum: 36178.0 138758.0\n",
      "u1, u2  53267.0 20247.0\n",
      "u= 53267.0\n",
      "z= 8.66945538458791\n",
      "p= 1.9065202370300475e-17\n",
      "O_2\n",
      "   label     value  rank\n",
      "0      1  0.396677   1.0\n",
      "1      1  0.793341   4.0\n",
      "2      1  1.194180   5.0\n",
      "3      1  1.503953   7.0\n",
      "4      1  1.899721  10.0\n",
      "     label     value  rank\n",
      "325      2  7.381849  52.0\n",
      "326      2  2.754208  14.0\n",
      "327      2  5.259398  30.0\n",
      "328      2  1.733607   8.0\n",
      "329      2  0.506827   3.0\n"
     ]
    },
    {
     "data": {
      "image/png": "[encoded data removed]",
      "text/plain": [
       "<Figure size 432x288 with 1 Axes>"
      ]
     },
     "metadata": {},
     "output_type": "display_data"
    },
    {
     "data": {
      "image/png": "[encoded data removed]",
      "text/plain": [
       "<Figure size 432x288 with 1 Axes>"
      ]
     },
     "metadata": {},
     "output_type": "display_data"
    },
    {
     "name": "stdout",
     "output_type": "stream",
     "text": [
      "rank sum: 45353.0 137962.0\n",
      "u1, u2  83347.0 7403.0\n",
      "u= 83347.0\n",
      "z= 17.7375840459962\n",
      "p= 1.912648611377346e-69\n",
      "O_3\n",
      "   label      value   rank\n",
      "0      1  64.544017   92.0\n",
      "1      1  66.697489   99.0\n",
      "2      1  67.280185  100.0\n",
      "3      1  67.640520  101.0\n",
      "4      1  73.657053  124.0\n",
      "     label      value   rank\n",
      "319      2  63.137698   88.0\n",
      "320      2  64.271063   91.0\n",
      "321      2  67.803126  102.0\n",
      "322      2  69.275616  106.0\n",
      "323      2  65.602218   94.0\n"
     ]
    },
    {
     "data": {
      "image/png": "[encoded data removed]",
      "text/plain": [
       "<Figure size 432x288 with 1 Axes>"
      ]
     },
     "metadata": {},
     "output_type": "display_data"
    },
    {
     "data": {
      "image/png": "[encoded data removed]",
      "text/plain": [
       "<Figure size 432x288 with 1 Axes>"
      ]
     },
     "metadata": {},
     "output_type": "display_data"
    },
    {
     "name": "stdout",
     "output_type": "stream",
     "text": [
      "rank sum: 92788.0 73388.0\n",
      "u1, u2  20738.0 60910.0\n",
      "u= 60910.0\n",
      "z= -10.137325682115742\n",
      "p= 1.930603431807306e-23\n",
      "O_1\n",
      "   label     value  rank\n",
      "0      1  5.957195  73.0\n",
      "1      1  5.951374  70.0\n",
      "2      1  5.945589  68.0\n",
      "3      1  5.939830  67.0\n",
      "4      1  5.958285  74.0\n",
      "     label     value   rank\n",
      "297      2  9.077483  478.0\n",
      "298      2  9.072338  476.0\n",
      "299      2  6.004025   79.0\n",
      "300      2  5.971588   77.0\n",
      "301      2  5.961050   75.0\n"
     ]
    },
    {
     "data": {
      "image/png": "[encoded data removed]",
      "text/plain": [
       "<Figure size 432x288 with 1 Axes>"
      ]
     },
     "metadata": {},
     "output_type": "display_data"
    },
    {
     "data": {
      "image/png": "[encoded data removed]",
      "text/plain": [
       "<Figure size 432x288 with 1 Axes>"
      ]
     },
     "metadata": {},
     "output_type": "display_data"
    },
    {
     "name": "stdout",
     "output_type": "stream",
     "text": [
      "rank sum: 71778.0 86425.0\n",
      "u1, u2  40672.0 37848.0\n",
      "u= 40672.0\n",
      "z= 0.7356664945763429\n",
      "p= 0.3043608944690978\n",
      "O_2\n",
      "   label     value  rank\n",
      "0      1  1.958910  24.0\n",
      "1      1  1.971373  25.0\n",
      "2      1  2.186985  27.0\n",
      "3      1  1.829802  22.0\n",
      "4      1  3.041802  29.0\n",
      "     label     value  rank\n",
      "313      2  0.742098  11.0\n",
      "314      2  0.870231  13.0\n",
      "315      2  1.465966  20.0\n",
      "316      2  0.490398   5.0\n",
      "317      2  1.328795  19.0\n"
     ]
    },
    {
     "data": {
      "image/png": "[encoded data removed]",
      "text/plain": [
       "<Figure size 432x288 with 1 Axes>"
      ]
     },
     "metadata": {},
     "output_type": "display_data"
    },
    {
     "data": {
      "image/png": "[encoded data removed]",
      "text/plain": [
       "<Figure size 432x288 with 1 Axes>"
      ]
     },
     "metadata": {},
     "output_type": "display_data"
    },
    {
     "name": "stdout",
     "output_type": "stream",
     "text": [
      "rank sum: 42778.0 126293.0\n",
      "u1, u2  75572.0 8062.0\n",
      "u= 75572.0\n",
      "z= 16.760069251982806\n",
      "p= 4.020380567958093e-62\n",
      "O_3\n",
      "   label      value   rank\n",
      "0      1  51.240681  143.0\n",
      "1      1  35.160401   95.0\n",
      "2      1  34.523222   91.0\n",
      "3      1  33.250278   88.0\n",
      "4      1  36.908551  101.0\n",
      "     label      value   rank\n",
      "304      2  75.081015  215.0\n",
      "305      2  74.441037  213.0\n",
      "306      2  72.427437  204.0\n",
      "307      2  70.092401  196.0\n",
      "308      2  65.938234  185.0\n"
     ]
    },
    {
     "data": {
      "image/png": "[encoded data removed]",
      "text/plain": [
       "<Figure size 432x288 with 1 Axes>"
      ]
     },
     "metadata": {},
     "output_type": "display_data"
    },
    {
     "data": {
      "image/png": "[encoded data removed]",
      "text/plain": [
       "<Figure size 432x288 with 1 Axes>"
      ]
     },
     "metadata": {},
     "output_type": "display_data"
    },
    {
     "name": "stdout",
     "output_type": "stream",
     "text": [
      "rank sum: 108353.0 55525.0\n",
      "u1, u2  7630.0 73637.0\n",
      "u= 73637.0\n",
      "z= -16.753910729864565\n",
      "p= 4.4574411147435075e-62\n",
      "O_1\n",
      "   label      value   rank\n",
      "0      1  10.982163  164.0\n",
      "1      1  11.159324  182.0\n",
      "2      1  11.173582  184.0\n",
      "3      1  11.216317  189.0\n",
      "4      1  11.233183  192.0\n",
      "     label      value   rank\n",
      "342      2  11.839406  315.0\n",
      "343      2  10.824121  143.0\n",
      "344      2  10.851318  146.0\n",
      "345      2  10.889637  153.0\n",
      "346      2  10.918165  158.0\n"
     ]
    },
    {
     "data": {
      "image/png": "[encoded data removed]",
      "text/plain": [
       "<Figure size 432x288 with 1 Axes>"
      ]
     },
     "metadata": {},
     "output_type": "display_data"
    },
    {
     "data": {
      "image/png": "[encoded data removed]",
      "text/plain": [
       "<Figure size 432x288 with 1 Axes>"
      ]
     },
     "metadata": {},
     "output_type": "display_data"
    },
    {
     "name": "stdout",
     "output_type": "stream",
     "text": [
      "rank sum: 100085.0 82021.0\n",
      "u1, u2  21643.0 67189.0\n",
      "u= 67189.0\n",
      "z= -10.769801028564677\n",
      "p= 2.595986989821083e-26\n",
      "O_2\n",
      "   label     value  rank\n",
      "0      1  0.393921   4.0\n",
      "1      1  0.593276   5.0\n",
      "2      1  0.770532   6.0\n",
      "3      1  0.932409   7.0\n",
      "4      1  1.089994   8.0\n",
      "     label      value   rank\n",
      "313      2  18.079129  290.0\n",
      "314      2   5.584314   86.0\n",
      "315      2   0.319359    2.0\n",
      "316      2   0.224338    1.0\n",
      "317      2   0.322384    3.0\n"
     ]
    },
    {
     "data": {
      "image/png": "[encoded data removed]",
      "text/plain": [
       "<Figure size 432x288 with 1 Axes>"
      ]
     },
     "metadata": {},
     "output_type": "display_data"
    },
    {
     "data": {
      "image/png": "[encoded data removed]",
      "text/plain": [
       "<Figure size 432x288 with 1 Axes>"
      ]
     },
     "metadata": {},
     "output_type": "display_data"
    },
    {
     "name": "stdout",
     "output_type": "stream",
     "text": [
      "rank sum: 40436.0 136279.0\n",
      "u1, u2  85558.0 2210.0\n",
      "u= 85558.0\n",
      "z= 19.976952019420327\n",
      "p= 8.751662279795754e-88\n",
      "O_3\n",
      "   label      value  rank\n",
      "0      1  58.742705  49.0\n",
      "1      1  61.539243  51.0\n",
      "2      1  62.224784  53.0\n",
      "3      1  61.806229  52.0\n",
      "4      1  64.959962  55.0\n",
      "     label      value  rank\n",
      "333      2  46.904487  40.0\n",
      "334      2  49.700822  42.0\n",
      "335      2  52.083785  44.0\n",
      "336      2  53.761468  45.0\n",
      "337      2  55.968472  47.0\n"
     ]
    },
    {
     "data": {
      "image/png": "[encoded data removed]",
      "text/plain": [
       "<Figure size 432x288 with 1 Axes>"
      ]
     },
     "metadata": {},
     "output_type": "display_data"
    },
    {
     "data": {
      "image/png": "[encoded data removed]",
      "text/plain": [
       "<Figure size 432x288 with 1 Axes>"
      ]
     },
     "metadata": {},
     "output_type": "display_data"
    },
    {
     "name": "stdout",
     "output_type": "stream",
     "text": [
      "rank sum: 47932.0 129378.0\n",
      "u1, u2  72087.0 14779.0\n",
      "u= 72087.0\n",
      "z= 13.795194813762373\n",
      "p= 1.8887880834622783e-42\n"
     ]
    }
   ],
   "source": [
    "for setting in data_settings:\n",
    "    print(setting)\n",
    "    room_num = setting['room_num']\n",
    "    date = setting['date']\n",
    "    opt = setting['option']\n",
    "    \n",
    "    if opt is None:\n",
    "        dir_path = f'{common.data_dir}/{room_num}/{date}/*'\n",
    "    else:\n",
    "        dir_path = f'{common.data_dir}/{room_num}/{date}/{opt}/*'\n",
    "    dirs = glob.glob(dir_path)\n",
    "    if dirs[-1].endswith('make_csv.csv'):\n",
    "        dirs = dirs[:-1]\n",
    "    \n",
    "    for i, path in enumerate(dirs):\n",
    "        # get start attention frame\n",
    "        csv_path = os.path.join(path, 'csv', 'data.csv')\n",
    "        start_frame = get_start_attention_frame(csv_path)\n",
    "        \n",
    "        # get data and split positeve and negative\n",
    "        key = f\"{room_num}_{date}_{i + 1:02d}_{1}\"\n",
    "        data = np.array(list(likelihood_dict[key].values())) * 100\n",
    "        pos_data = data[start_frame:]\n",
    "        nega_data = data[:start_frame]\n",
    "        \n",
    "        print(f\"O_{i % 3 + 1}\")\n",
    "        mwu(pos_data, nega_data)"
   ]
  },
  {
   "cell_type": "code",
   "execution_count": 19,
   "id": "cdefc2c8-fedb-4478-971c-1176e1f340c8",
   "metadata": {},
   "outputs": [
    {
     "name": "stdout",
     "output_type": "stream",
     "text": [
      "{'room_num': '09', 'date': '20210304', 'option': 'attention'}\n",
      "O_1\n",
      "Mann-Whitney U statistic: 20247.000 p: 1.000\n",
      "O_2\n",
      "Mann-Whitney U statistic: 7403.000 p: 1.000\n",
      "O_3\n",
      "Mann-Whitney U statistic: 60910.000 p: 0.000\n",
      "O_1\n",
      "Mann-Whitney U statistic: 37848.000 p: 0.769\n",
      "O_2\n",
      "Mann-Whitney U statistic: 8062.000 p: 1.000\n",
      "O_3\n",
      "Mann-Whitney U statistic: 73637.000 p: 0.000\n",
      "O_1\n",
      "Mann-Whitney U statistic: 67189.000 p: 0.000\n",
      "O_2\n",
      "Mann-Whitney U statistic: 2210.000 p: 1.000\n",
      "O_3\n",
      "Mann-Whitney U statistic: 14779.000 p: 1.000\n"
     ]
    }
   ],
   "source": [
    "for setting in data_settings:\n",
    "    print(setting)\n",
    "    room_num = setting['room_num']\n",
    "    date = setting['date']\n",
    "    opt = setting['option']\n",
    "    \n",
    "    if opt is None:\n",
    "        dir_path = f'{common.data_dir}/{room_num}/{date}/*'\n",
    "    else:\n",
    "        dir_path = f'{common.data_dir}/{room_num}/{date}/{opt}/*'\n",
    "    dirs = glob.glob(dir_path)\n",
    "    if dirs[-1].endswith('make_csv.csv'):\n",
    "        dirs = dirs[:-1]\n",
    "    \n",
    "    for i, path in enumerate(dirs):\n",
    "        # get start attention frame\n",
    "        csv_path = os.path.join(path, 'csv', 'data.csv')\n",
    "        start_frame = get_start_attention_frame(csv_path)\n",
    "        \n",
    "        # get data and split positeve and negative\n",
    "        key = f\"{room_num}_{date}_{i + 1:02d}_{1}\"\n",
    "        data = np.array(list(likelihood_dict[key].values())) * 100\n",
    "        pos_data = data[start_frame:]\n",
    "        nega_data = data[:start_frame]\n",
    "        \n",
    "        w = stats.mannwhitneyu(pos_data, nega_data, alternative='greater')\n",
    "        print(f\"O_{i % 3 + 1}\")\n",
    "        print('Mann-Whitney U', f\"statistic: {w.statistic:.3f}\", f\"p: {w.pvalue:.3f}\")"
   ]
  },
  {
   "cell_type": "code",
   "execution_count": null,
   "id": "00013515-0c31-4130-b171-6712da86dac2",
   "metadata": {},
   "outputs": [],
   "source": []
  }
 ],
 "metadata": {
  "kernelspec": {
   "display_name": "Python 3 (ipykernel)",
   "language": "python",
   "name": "python3"
  },
  "language_info": {
   "codemirror_mode": {
    "name": "ipython",
    "version": 3
   },
   "file_extension": ".py",
   "mimetype": "text/x-python",
   "name": "python",
   "nbconvert_exporter": "python",
   "pygments_lexer": "ipython3",
   "version": "3.9.7"
  }
 },
 "nbformat": 4,
 "nbformat_minor": 5
}
