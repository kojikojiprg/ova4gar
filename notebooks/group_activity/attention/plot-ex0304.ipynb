{
 "cells": [
  {
   "cell_type": "code",
   "execution_count": 1,
   "id": "bdf97311-ebfb-4d19-ac8f-41b12718b224",
   "metadata": {},
   "outputs": [],
   "source": [
    "import os\n",
    "import numpy as np\n",
    "import pandas as pd\n",
    "import matplotlib.pyplot as plt\n",
    "import seaborn as sns\n",
    "import cv2\n",
    "from tqdm import tqdm\n",
    "import sys\n",
    "import glob\n",
    "sys.path.append('../../../src')\n",
    "\n",
    "from common import common, transform, json, video\n",
    "from common.functions import cos_similarity, gauss\n",
    "from common.json import IA_FORMAT, START_IDX, GA_FORMAT, ATTENTION_FORMAT\n",
    "from common.default import PASSING_DEFAULT\n",
    "from common.object_point import OBJECT_POINTS\n",
    "from individual_activity.individual_activity import IndividualActivity\n",
    "from display.individual_activity import disp_individual_activity\n",
    "from display.tracking import disp_tracking\n",
    "from display.heatmap import Heatmap"
   ]
  },
  {
   "cell_type": "markdown",
   "id": "70d29272-6985-4eee-be98-9223b6acf253",
   "metadata": {},
   "source": [
    "# Attention をロード"
   ]
  },
  {
   "cell_type": "code",
   "execution_count": 2,
   "id": "f852e8b6-11b1-407d-8c27-a0f564fb0716",
   "metadata": {},
   "outputs": [],
   "source": [
    "data_settings = [\n",
    "    {'room_num': '09', 'date': '20210304', 'option': 'attention'}\n",
    "]"
   ]
  },
  {
   "cell_type": "code",
   "execution_count": 3,
   "id": "b60bf0e4-51e9-4772-8191-a8123f9b87fe",
   "metadata": {
    "tags": []
   },
   "outputs": [
    {
     "name": "stdout",
     "output_type": "stream",
     "text": [
      "{'room_num': '09', 'date': '20210304', 'option': 'attention'}\n"
     ]
    },
    {
     "name": "stderr",
     "output_type": "stream",
     "text": [
      "100%|████████████████████████████████████████████████████████████████████████████████████████████████████████████████████████████████████████████████████| 9/9 [00:01<00:00,  5.03it/s]\n"
     ]
    }
   ],
   "source": [
    "attentions = {}\n",
    "for setting in data_settings:\n",
    "    print(setting)\n",
    "    room_num = setting['room_num']\n",
    "    date = setting['date']\n",
    "    opt = setting['option']\n",
    "    \n",
    "    if opt is None:\n",
    "        dir_path = f'{common.data_dir}/{room_num}/{date}/*'\n",
    "    else:\n",
    "        dir_path = f'{common.data_dir}/{room_num}/{date}/{opt}/*'\n",
    "    dirs = glob.glob(dir_path)\n",
    "    if dirs[-1].endswith('make_csv.csv'):\n",
    "        dirs = dirs[:-1]\n",
    "    \n",
    "    for i, path in enumerate(tqdm(dirs)):\n",
    "        path = f'{path}/json/group_activity.json'\n",
    "        json_data = json.load(path)\n",
    "        key = f\"{room_num}_{date}_{i + 1:02d}\"\n",
    "        attentions[key] = json_data[\"attention\"]"
   ]
  },
  {
   "cell_type": "markdown",
   "id": "8b179862-b238-474b-9d77-23fcbf6175f1",
   "metadata": {},
   "source": [
    "# 対象物のスコアを計算\n",
    "https://qiita.com/masataka46/items/cb5b05090746c7f3b826"
   ]
  },
  {
   "cell_type": "code",
   "execution_count": 4,
   "id": "317d12c4-12b9-4a6c-941a-1c8639773619",
   "metadata": {},
   "outputs": [],
   "source": [
    "def likelihood(object_point, attention_data, sigma=50):\n",
    "    px = object_point[0]\n",
    "    py = object_point[1]\n",
    "    \n",
    "    value_dict = {}\n",
    "    for data in tqdm(attention_data):\n",
    "        frame_num = data[ATTENTION_FORMAT[0]]\n",
    "        x, y = data[ATTENTION_FORMAT[2]]\n",
    "        count = data[ATTENTION_FORMAT[4]]\n",
    "        gauss = np.exp(-((x - px)**2 + (y - py)**2) / (2 * sigma ** 2))\n",
    "        \n",
    "        if frame_num not in value_dict:\n",
    "            value_dict[frame_num] = {\"counts\": [], \"weights\": []}\n",
    "            \n",
    "        value_dict[frame_num][\"counts\"].append(count)\n",
    "        value_dict[frame_num][\"weights\"].append(gauss + 1e-10)\n",
    "        \n",
    "    means = {}\n",
    "    for frame_num, value in value_dict.items():\n",
    "        means[frame_num] = np.average(value[\"counts\"], weights=value[\"weights\"])\n",
    "    \n",
    "    return means"
   ]
  },
  {
   "cell_type": "code",
   "execution_count": 5,
   "id": "ae389813-d9d0-4f8e-9e9c-80413ab6c0e8",
   "metadata": {
    "scrolled": true,
    "tags": []
   },
   "outputs": [
    {
     "name": "stderr",
     "output_type": "stream",
     "text": [
      "100%|██████████████████████████████████████████████████████████████████████████████████████████████████████████████████████████████████████| 116068/116068 [00:00<00:00, 595874.96it/s]\n",
      "100%|██████████████████████████████████████████████████████████████████████████████████████████████████████████████████████████████████████| 107147/107147 [00:00<00:00, 651761.41it/s]\n",
      "100%|██████████████████████████████████████████████████████████████████████████████████████████████████████████████████████████████████████| 103163/103163 [00:00<00:00, 494588.84it/s]\n",
      "100%|████████████████████████████████████████████████████████████████████████████████████████████████████████████████████████████████████████| 99903/99903 [00:00<00:00, 610431.75it/s]\n",
      "100%|████████████████████████████████████████████████████████████████████████████████████████████████████████████████████████████████████████| 98750/98750 [00:00<00:00, 621351.80it/s]\n",
      "100%|██████████████████████████████████████████████████████████████████████████████████████████████████████████████████████████████████████| 106842/106842 [00:00<00:00, 544572.09it/s]\n",
      "100%|██████████████████████████████████████████████████████████████████████████████████████████████████████████████████████████████████████| 109125/109125 [00:00<00:00, 563494.43it/s]\n",
      "100%|██████████████████████████████████████████████████████████████████████████████████████████████████████████████████████████████████████| 109801/109801 [00:00<00:00, 647427.90it/s]\n",
      "100%|██████████████████████████████████████████████████████████████████████████████████████████████████████████████████████████████████████| 112796/112796 [00:00<00:00, 582518.70it/s]\n"
     ]
    }
   ],
   "source": [
    "likelihood_dict = {}\n",
    "for key, attention_data in attentions.items():\n",
    "    room_num, date, num = key.split(\"_\")\n",
    "    num = f\"{int(num) % 3 + 1:02d}\"  # for ex0304\n",
    "    object_points = OBJECT_POINTS[room_num][date][num]\n",
    "    for i, object_point in enumerate(object_points):\n",
    "        value = likelihood(object_point, attention_data)\n",
    "        new_key = f\"{key}_{i + 1}\"\n",
    "        likelihood_dict[new_key] = value"
   ]
  },
  {
   "cell_type": "markdown",
   "id": "7000bc71-ca5f-44f2-a6b2-e6ece15c106a",
   "metadata": {},
   "source": [
    "# 動画作成"
   ]
  },
  {
   "cell_type": "code",
   "execution_count": 6,
   "id": "0e916fec-b17e-483e-a45f-f668d106885e",
   "metadata": {},
   "outputs": [],
   "source": [
    "def display_likelihood(object_point, value, heatmap_cls, field, max_radius=20, alpha=0.7):\n",
    "    copy = field.copy()\n",
    "    \n",
    "    color = heatmap_cls.colormap(value)\n",
    "\n",
    "    # calc radius of circle\n",
    "    max_value = heatmap_cls.xmax\n",
    "    radius = int(value / max_value * max_radius)\n",
    "    if radius == 0:\n",
    "        radius = 1\n",
    "    # plot the heatmap circle\n",
    "    cv2.circle(copy, object_point, radius, color, thickness=-1)\n",
    "\n",
    "    # plot the center of object\n",
    "    cv2.circle(copy, tuple(object_point), 3, (0, 0, 0), -1)\n",
    "    \n",
    "    point = np.array(object_point) - [50, 10]\n",
    "    point = tuple(point)\n",
    "    cv2.putText(copy, f\"{value:.1f}\", point, cv2.FONT_HERSHEY_SIMPLEX, 1.5, color, 2)\n",
    "    \n",
    "    field = cv2.addWeighted(copy, alpha, field, 1 - alpha, 0)\n",
    "    \n",
    "    # plt.imshow(field)\n",
    "    # plt.show()\n",
    "\n",
    "    return field"
   ]
  },
  {
   "cell_type": "code",
   "execution_count": 7,
   "id": "da66f920-066e-48c2-a2cb-e323d89a82d4",
   "metadata": {},
   "outputs": [],
   "source": [
    "def combine_image(frame, field):\n",
    "    ratio = 1 - (field.shape[0] - frame.shape[0]) / field.shape[0]\n",
    "    size = [int(field.shape[1] * ratio), int(field.shape[0] * ratio)]\n",
    "    if frame.shape[0] != size[1]:\n",
    "        # 丸め誤差が起きる\n",
    "        size[1] = frame.shape[0]\n",
    "    field = cv2.resize(field, size)\n",
    "    frame = np.concatenate([frame, field], axis=1)\n",
    "\n",
    "    return frame\n",
    "\n",
    "\n",
    "def display(\n",
    "    video_path,\n",
    "    out_path,\n",
    "    individual_activity_json_path,\n",
    "    likelihood_data,\n",
    "    heatmap_cls,\n",
    "    field,\n",
    "    object_point,\n",
    "):\n",
    "    print(out_path)\n",
    "    print(\"Writing video frames...\")\n",
    "\n",
    "    # load datas\n",
    "    individual_activity_datas = json.load(individual_activity_json_path)\n",
    "\n",
    "    # load video\n",
    "    capture = video.Capture(video_path)\n",
    "\n",
    "    # frames_lst = [[] for _ in range(len(out_paths))]\n",
    "    cmb_img = combine_image(capture.read(), field)\n",
    "    size = cmb_img.shape[1::-1]\n",
    "    writer = video.Writer(out_path, capture.fps, size)\n",
    "\n",
    "    # reset capture start position\n",
    "    capture.set_pos_frame(0)\n",
    "\n",
    "    for frame_num in tqdm(range(capture.frame_num)):\n",
    "        # read frame\n",
    "        frame = capture.read()\n",
    "\n",
    "        # フレームごとにデータを取得する\n",
    "        frame_individual_activity_datas = [\n",
    "            data for data in individual_activity_datas if data[\"frame\"] == frame_num\n",
    "        ]\n",
    "\n",
    "        # フレーム番号を表示\n",
    "        cv2.putText(\n",
    "            frame,\n",
    "            \"Frame:{}\".format(frame_num + 1),\n",
    "            (10, 50),\n",
    "            cv2.FONT_HERSHEY_PLAIN,\n",
    "            2,\n",
    "            (0, 0, 0),\n",
    "        )\n",
    "\n",
    "        # copy raw field image\n",
    "        field_tmp = field.copy()\n",
    "\n",
    "        # draw tracking result\n",
    "        frame = disp_tracking(frame_individual_activity_datas, frame)\n",
    "\n",
    "        # draw individual activity\n",
    "        field_tmp = disp_individual_activity(\n",
    "            frame_individual_activity_datas, field_tmp\n",
    "        )\n",
    "\n",
    "        # draw likelihood\n",
    "        field_tmp = display_likelihood(object_point, likelihood_data[frame_num], heatmap_cls, field_tmp)\n",
    "\n",
    "        # write video\n",
    "        writer.write(combine_image(frame, field_tmp))\n",
    "\n",
    "\n",
    "def get_field(room_num):\n",
    "    field_path = os.path.join(common.data_dir, room_num, 'field.png')\n",
    "    return cv2.imread(field_path)"
   ]
  },
  {
   "cell_type": "code",
   "execution_count": 11,
   "id": "84205a1e-d6bd-43e6-8c2a-9c5c01b1ab64",
   "metadata": {
    "scrolled": true,
    "tags": []
   },
   "outputs": [
    {
     "name": "stdout",
     "output_type": "stream",
     "text": [
      "{'room_num': '09', 'date': '20210304', 'option': 'attention'}\n",
      "(705, 810)\n",
      "0.5989592770936042\n",
      "C:\\Users\\k2111\\program\\research\\data/09/20210304/attention\\01\\out\\attention_object1.mp4\n",
      "Writing video frames...\n"
     ]
    },
    {
     "name": "stderr",
     "output_type": "stream",
     "text": [
      "100%|████████████████████████████████████████████████████████████████████████████████████████████████████████████████████████████████████████████████| 591/591 [00:09<00:00, 63.72it/s]\n"
     ]
    },
    {
     "name": "stdout",
     "output_type": "stream",
     "text": [
      "(74, 810)\n",
      "1.0275607491411185\n",
      "C:\\Users\\k2111\\program\\research\\data/09/20210304/attention\\02\\out\\attention_object1.mp4\n",
      "Writing video frames...\n"
     ]
    },
    {
     "name": "stderr",
     "output_type": "stream",
     "text": [
      "100%|████████████████████████████████████████████████████████████████████████████████████████████████████████████████████████████████████████████████| 605/605 [00:09<00:00, 63.32it/s]\n"
     ]
    },
    {
     "name": "stdout",
     "output_type": "stream",
     "text": [
      "(390, 443)\n",
      "0.6763845098670437\n",
      "C:\\Users\\k2111\\program\\research\\data/09/20210304/attention\\03\\out\\attention_object1.mp4\n",
      "Writing video frames...\n"
     ]
    },
    {
     "name": "stderr",
     "output_type": "stream",
     "text": [
      "100%|████████████████████████████████████████████████████████████████████████████████████████████████████████████████████████████████████████████████| 576/576 [00:09<00:00, 63.49it/s]\n"
     ]
    },
    {
     "name": "stdout",
     "output_type": "stream",
     "text": [
      "(705, 810)\n",
      "0.7818821006162217\n",
      "C:\\Users\\k2111\\program\\research\\data/09/20210304/attention\\04\\out\\attention_object1.mp4\n",
      "Writing video frames...\n"
     ]
    },
    {
     "name": "stderr",
     "output_type": "stream",
     "text": [
      "100%|████████████████████████████████████████████████████████████████████████████████████████████████████████████████████████████████████████████████| 562/562 [00:08<00:00, 63.67it/s]\n"
     ]
    },
    {
     "name": "stdout",
     "output_type": "stream",
     "text": [
      "(74, 810)\n",
      "1.0332167666490633\n",
      "C:\\Users\\k2111\\program\\research\\data/09/20210304/attention\\05\\out\\attention_object1.mp4\n",
      "Writing video frames...\n"
     ]
    },
    {
     "name": "stderr",
     "output_type": "stream",
     "text": [
      "100%|████████████████████████████████████████████████████████████████████████████████████████████████████████████████████████████████████████████████| 581/581 [00:09<00:00, 63.36it/s]\n"
     ]
    },
    {
     "name": "stdout",
     "output_type": "stream",
     "text": [
      "(390, 443)\n",
      "0.5530457919104257\n",
      "C:\\Users\\k2111\\program\\research\\data/09/20210304/attention\\06\\out\\attention_object1.mp4\n",
      "Writing video frames...\n"
     ]
    },
    {
     "name": "stderr",
     "output_type": "stream",
     "text": [
      "100%|████████████████████████████████████████████████████████████████████████████████████████████████████████████████████████████████████████████████| 572/572 [00:08<00:00, 64.95it/s]\n"
     ]
    },
    {
     "name": "stdout",
     "output_type": "stream",
     "text": [
      "(705, 810)\n",
      "0.8041552475095322\n",
      "C:\\Users\\k2111\\program\\research\\data/09/20210304/attention\\07\\out\\attention_object1.mp4\n",
      "Writing video frames...\n"
     ]
    },
    {
     "name": "stderr",
     "output_type": "stream",
     "text": [
      "100%|████████████████████████████████████████████████████████████████████████████████████████████████████████████████████████████████████████████████| 603/603 [00:09<00:00, 63.42it/s]\n"
     ]
    },
    {
     "name": "stdout",
     "output_type": "stream",
     "text": [
      "(74, 810)\n",
      "1.4333138671931132\n",
      "C:\\Users\\k2111\\program\\research\\data/09/20210304/attention\\08\\out\\attention_object1.mp4\n",
      "Writing video frames...\n"
     ]
    },
    {
     "name": "stderr",
     "output_type": "stream",
     "text": [
      "100%|████████████████████████████████████████████████████████████████████████████████████████████████████████████████████████████████████████████████| 594/594 [00:09<00:00, 64.60it/s]\n"
     ]
    },
    {
     "name": "stdout",
     "output_type": "stream",
     "text": [
      "(390, 443)\n",
      "0.6736446681425154\n",
      "C:\\Users\\k2111\\program\\research\\data/09/20210304/attention\\09\\out\\attention_object1.mp4\n",
      "Writing video frames...\n"
     ]
    },
    {
     "name": "stderr",
     "output_type": "stream",
     "text": [
      "100%|████████████████████████████████████████████████████████████████████████████████████████████████████████████████████████████████████████████████| 595/595 [00:09<00:00, 63.09it/s]\n"
     ]
    }
   ],
   "source": [
    "for setting in data_settings:\n",
    "    print(setting)\n",
    "    room_num = setting['room_num']\n",
    "    date = setting['date']\n",
    "    opt = setting['option']\n",
    "    \n",
    "    if opt is None:\n",
    "        dir_path = f'{common.data_dir}/{room_num}/{date}/*'\n",
    "    else:\n",
    "        dir_path = f'{common.data_dir}/{room_num}/{date}/{opt}/*'\n",
    "    dirs = glob.glob(dir_path)\n",
    "    if dirs[-1].endswith('make_csv.csv'):\n",
    "        dirs = dirs[:-1]\n",
    "        \n",
    "    field = get_field(room_num)\n",
    "    \n",
    "    for i, path in enumerate(dirs):\n",
    "        ia_json_path = os.path.join(path, 'json', 'individual_activity.json')\n",
    "        video_path = os.path.join(path, 'video', f'pose_{i + 1:02d}.mp4')\n",
    "        out_dir = os.path.join(path, 'out')\n",
    "        cap = video.Capture(video_path)\n",
    "        \n",
    "        num = f\"{i % 3 + 1:02d}\"  # for ex0304\n",
    "        object_points = OBJECT_POINTS[room_num][date][num]\n",
    "        for j, object_point in enumerate(object_points):\n",
    "            print(object_point)\n",
    "            out_path = os.path.join(out_dir, f'attention_object{j + 1}.mp4')\n",
    "            key = f\"{room_num}_{date}_{i + 1:02d}_{j + 1}\"\n",
    "            likelihood_data = likelihood_dict[key]\n",
    "            max_val = np.max(list(likelihood_data.values()))\n",
    "            print(max_val)\n",
    "            heatmap_cls = Heatmap([0, max_val])\n",
    "            display(\n",
    "                video_path,\n",
    "                out_path,\n",
    "                ia_json_path,\n",
    "                likelihood_data,\n",
    "                heatmap_cls,\n",
    "                field,\n",
    "                object_point,\n",
    "            )"
   ]
  },
  {
   "cell_type": "markdown",
   "id": "a896ccaa-0272-471f-9d31-8e4a3a6ed6a1",
   "metadata": {},
   "source": [
    "# 修論用解析\n",
    "## ヒストグラム、箱ひげ図"
   ]
  },
  {
   "cell_type": "code",
   "execution_count": 31,
   "id": "2c75645b-db65-4e96-be7b-1b0d3d1a6169",
   "metadata": {},
   "outputs": [],
   "source": [
    "def get_start_attention_frame(csv_path):\n",
    "    csv_data = np.loadtxt(csv_path, delimiter=',', skiprows=1, dtype=int)\n",
    "    for row in csv_data:\n",
    "        if row[4] != 0:\n",
    "            return row[0]"
   ]
  },
  {
   "cell_type": "code",
   "execution_count": 259,
   "id": "53751897-00f5-487e-b5a3-1a59284855c4",
   "metadata": {},
   "outputs": [],
   "source": [
    "def boxplot(pos_data_lst, nega_data_lst):\n",
    "    fig = plt.figure(figsize=(5, 2))\n",
    "    axs = [\n",
    "        fig.add_axes((0.1, 0.1, 0.29, 0.85)),\n",
    "        fig.add_axes((0.4, 0.1, 0.29, 0.85)),\n",
    "        fig.add_axes((0.7, 0.1, 0.29, 0.85))\n",
    "    ]\n",
    "\n",
    "    for j in range(3):\n",
    "        data_dict = {}\n",
    "        label1 = f'O{j % 3 + 1}-A'\n",
    "        label2 = f'O{j % 3 + 1}-N/A'\n",
    "\n",
    "        data_dict[label1] = pos_data_lst[j]\n",
    "        data_dict[label2] = nega_data_lst[j]\n",
    "\n",
    "        # adjust length of data\n",
    "        max_len = max([len(vals) for vals in data_dict.values()])\n",
    "        for key, vals in data_dict.items():\n",
    "            if len(vals) < max_len:\n",
    "                data_dict[key] = list(vals) + [np.nan for _ in range(max_len - len(vals))]\n",
    "        df = pd.DataFrame.from_dict(data_dict)\n",
    "        df = pd.melt(df)\n",
    "\n",
    "        sns.boxplot(x='variable', y='value', data=df, showfliers=False, ax=axs[j])\n",
    "        axs[j].set_ylabel('')\n",
    "        axs[j].set_xlabel('')\n",
    "        axs[j].set_ylim((0, 1.5))\n",
    "\n",
    "    axs[0].set_ylabel('Attention Score')\n",
    "    axs[1].set_yticklabels([])\n",
    "    axs[2].set_yticklabels([])\n",
    "\n",
    "    box_path = os.path.join(common.data_dir, 'image', opt, f'box_{room_num}_{date}_{i // 3 + 1}.pdf')\n",
    "    fig.subplots_adjust(left=0, right=1, bottom=0, top=1)\n",
    "    fig.savefig(box_path)"
   ]
  },
  {
   "cell_type": "code",
   "execution_count": 290,
   "id": "8d50a294-df61-4713-bd43-4fc528596eed",
   "metadata": {},
   "outputs": [],
   "source": [
    "def hist(pos_data_lst, nega_data_lst):\n",
    "    fig = plt.figure(figsize=(5, 2))\n",
    "    axs = [\n",
    "        fig.add_axes((0.06, 0.2, 0.26, 0.75)),\n",
    "        fig.add_axes((0.39, 0.2, 0.26, 0.75)),\n",
    "        fig.add_axes((0.72, 0.2, 0.26, 0.75))\n",
    "    ]\n",
    "\n",
    "    for j in range(3):\n",
    "        data_dict = {}\n",
    "        label1 = f'O{j % 3 + 1}-A'\n",
    "        label2 = f'O{j % 3 + 1}-N/A'\n",
    "        labels = [label1, label2]\n",
    "\n",
    "        data_dict[label1] = pos_data_lst[j]\n",
    "        data_dict[label2] = nega_data_lst[j]\n",
    "\n",
    "        # adjust length of data\n",
    "        max_len = max([len(vals) for vals in data_dict.values()])\n",
    "        for key, vals in data_dict.items():\n",
    "            if len(vals) < max_len:\n",
    "                data_dict[key] = list(vals) + [np.nan for _ in range(max_len - len(vals))]\n",
    "        df = pd.DataFrame.from_dict(data_dict)\n",
    "        df = pd.melt(df)\n",
    "        \n",
    "        sns.histplot(\n",
    "            data=df, x='value', hue='variable', bins=20, kde=True, ax=axs[j]\n",
    "        )\n",
    "        \n",
    "        axs[j].set_ylabel('')\n",
    "        axs[j].set_xlabel('')\n",
    "        axs[j].legend(labels=labels[::-1], fontsize=7, handlelength=0.5, handletextpad=0.2)\n",
    "\n",
    "        axs[j].set_xlabel('Attention Score')\n",
    "\n",
    "    box_path = os.path.join(common.data_dir, 'image', opt, f'hist_{room_num}_{date}_{i // 3 + 1}.pdf')\n",
    "    fig.subplots_adjust(left=0, right=1, bottom=0, top=1)\n",
    "    fig.savefig(box_path)"
   ]
  },
  {
   "cell_type": "code",
   "execution_count": 291,
   "id": "5bc810f8-8db9-48b8-a500-ed9b3df38a2a",
   "metadata": {
    "tags": []
   },
   "outputs": [
    {
     "name": "stdout",
     "output_type": "stream",
     "text": [
      "{'room_num': '09', 'date': '20210304', 'option': 'attention'}\n"
     ]
    },
    {
     "data": {
      "image/png": "[encoded data removed]",
      "text/plain": [
       "<Figure size 360x144 with 3 Axes>"
      ]
     },
     "metadata": {},
     "output_type": "display_data"
    },
    {
     "data": {
      "image/png": "[encoded data removed]",
      "text/plain": [
       "<Figure size 360x144 with 3 Axes>"
      ]
     },
     "metadata": {},
     "output_type": "display_data"
    },
    {
     "data": {
      "image/png": "[encoded data removed]",
      "text/plain": [
       "<Figure size 360x144 with 3 Axes>"
      ]
     },
     "metadata": {},
     "output_type": "display_data"
    },
    {
     "data": {
      "image/png": "[encoded data removed]",
      "text/plain": [
       "<Figure size 360x144 with 3 Axes>"
      ]
     },
     "metadata": {},
     "output_type": "display_data"
    },
    {
     "data": {
      "image/png": "[encoded data removed]",
      "text/plain": [
       "<Figure size 360x144 with 3 Axes>"
      ]
     },
     "metadata": {},
     "output_type": "display_data"
    },
    {
     "data": {
      "image/png": "[encoded data removed]",
      "text/plain": [
       "<Figure size 360x144 with 3 Axes>"
      ]
     },
     "metadata": {},
     "output_type": "display_data"
    }
   ],
   "source": [
    "sns.set()\n",
    "sns.set_style('whitegrid')\n",
    "plt.rcParams['font.family'] = 'Times New Roman'\n",
    "plt.rcParams[\"font.size\"] = 20\n",
    "plt.rcParams['xtick.direction'] = 'in'  # x axis in\n",
    "plt.rcParams['ytick.direction'] = 'in'  # y axis in\n",
    "\n",
    "for setting in data_settings:\n",
    "    print(setting)\n",
    "    room_num = setting['room_num']\n",
    "    date = setting['date']\n",
    "    opt = setting['option']\n",
    "    \n",
    "    if opt is None:\n",
    "        dir_path = f'{common.data_dir}/{room_num}/{date}/*'\n",
    "    else:\n",
    "        dir_path = f'{common.data_dir}/{room_num}/{date}/{opt}/*'\n",
    "    dirs = glob.glob(dir_path)\n",
    "    if dirs[-1].endswith('make_csv.csv'):\n",
    "        dirs = dirs[:-1]\n",
    "    if dirs[-1].endswith('image'):\n",
    "        dirs = dirs[:-1]\n",
    "    \n",
    "    pos_data_lst = []\n",
    "    nega_data_lst = []\n",
    "    for i, path in enumerate(dirs):\n",
    "        # get start attention frame\n",
    "        csv_path = os.path.join(path, 'csv', 'data.csv')\n",
    "        start_frame = get_start_attention_frame(csv_path)\n",
    "        \n",
    "        # get data and split positeve and negative\n",
    "        key = f\"{room_num}_{date}_{i + 1:02d}_{1}\"\n",
    "        data = list(likelihood_dict[key].values())\n",
    "        pos_data = data[start_frame:]\n",
    "        nega_data = data[:start_frame]\n",
    "        \n",
    "        pos_data_lst.append(pos_data)\n",
    "        nega_data_lst.append(nega_data)\n",
    "        \n",
    "        # plot\n",
    "        if i % 3 == 2:\n",
    "            # plot per 3 times\n",
    "            boxplot(pos_data_lst, nega_data_lst)\n",
    "            hist(pos_data_lst, nega_data_lst)\n",
    "            pos_data_lst = []\n",
    "            nega_data_lst = []"
   ]
  },
  {
   "cell_type": "markdown",
   "id": "7ad93acb-91b6-45c1-bc82-341745010ed2",
   "metadata": {},
   "source": [
    "## 検定"
   ]
  },
  {
   "cell_type": "code",
   "execution_count": 237,
   "id": "34f48097-8a44-4bf0-b6a8-e46e8ec99513",
   "metadata": {},
   "outputs": [],
   "source": [
    "from scipy import stats"
   ]
  },
  {
   "cell_type": "code",
   "execution_count": 298,
   "id": "cdefc2c8-fedb-4478-971c-1176e1f340c8",
   "metadata": {},
   "outputs": [
    {
     "name": "stdout",
     "output_type": "stream",
     "text": [
      "{'room_num': '09', 'date': '20210304', 'option': 'attention'}\n",
      "O_1\n",
      "T-Test         statistic: 1.372e+01 p: 1.080e-37\n",
      "Mann-Whitney U statistic: 5.913e+04 p: 3.598e-32\n",
      "O_2\n",
      "T-Test         statistic: -1.098e+01 p: 1.000e+00\n",
      "Mann-Whitney U statistic: 2.673e+04 p: 1.000e+00\n",
      "O_3\n",
      "T-Test         statistic: 7.990e+01 p: 1.786e-313\n",
      "Mann-Whitney U statistic: 8.164e+04 p: 1.360e-94\n",
      "O_1\n",
      "T-Test         statistic: 1.729e+01 p: 2.634e-54\n",
      "Mann-Whitney U statistic: 7.126e+04 p: 1.083e-62\n",
      "O_2\n",
      "T-Test         statistic: 9.835e+00 p: 1.635e-21\n",
      "Mann-Whitney U statistic: 6.268e+04 p: 1.921e-25\n",
      "O_3\n",
      "T-Test         statistic: 3.551e+01 p: 7.090e-147\n",
      "Mann-Whitney U statistic: 8.127e+04 p: 7.863e-95\n",
      "O_1\n",
      "T-Test         statistic: 1.887e+01 p: 5.042e-63\n",
      "Mann-Whitney U statistic: 8.520e+04 p: 3.527e-83\n",
      "O_2\n",
      "T-Test         statistic: -1.092e+01 p: 1.000e+00\n",
      "Mann-Whitney U statistic: 1.609e+04 p: 1.000e+00\n",
      "O_3\n",
      "T-Test         statistic: 1.113e+02 p: 0.000e+00\n",
      "Mann-Whitney U statistic: 8.687e+04 p: 2.164e-97\n"
     ]
    }
   ],
   "source": [
    "for setting in data_settings:\n",
    "    print(setting)\n",
    "    room_num = setting['room_num']\n",
    "    date = setting['date']\n",
    "    opt = setting['option']\n",
    "    \n",
    "    if opt is None:\n",
    "        dir_path = f'{common.data_dir}/{room_num}/{date}/*'\n",
    "    else:\n",
    "        dir_path = f'{common.data_dir}/{room_num}/{date}/{opt}/*'\n",
    "    dirs = glob.glob(dir_path)\n",
    "    if dirs[-1].endswith('make_csv.csv'):\n",
    "        dirs = dirs[:-1]\n",
    "    \n",
    "    for i, path in enumerate(dirs):\n",
    "        # get start attention frame\n",
    "        csv_path = os.path.join(path, 'csv', 'data.csv')\n",
    "        start_frame = get_start_attention_frame(csv_path)\n",
    "        \n",
    "        # get data and split positeve and negative\n",
    "        key = f\"{room_num}_{date}_{i + 1:02d}_{1}\"\n",
    "        data = list(likelihood_dict[key].values())\n",
    "        pos_data = data[start_frame:]\n",
    "        nega_data = data[:start_frame]\n",
    "        \n",
    "        t = stats.ttest_ind(pos_data, nega_data, alternative='greater')\n",
    "        w = stats.mannwhitneyu(pos_data, nega_data, alternative='greater')\n",
    "        print(f\"O_{i % 3 + 1}\")\n",
    "        print('T-Test        ', f\"statistic: {t.statistic:.3e}\", f\"p: {t.pvalue:.3e}\")\n",
    "        print('Mann-Whitney U', f\"statistic: {w.statistic:.3e}\", f\"p: {w.pvalue:.3e}\")"
   ]
  },
  {
   "cell_type": "code",
   "execution_count": null,
   "id": "00013515-0c31-4130-b171-6712da86dac2",
   "metadata": {},
   "outputs": [],
   "source": []
  }
 ],
 "metadata": {
  "kernelspec": {
   "display_name": "Python 3 (ipykernel)",
   "language": "python",
   "name": "python3"
  },
  "language_info": {
   "codemirror_mode": {
    "name": "ipython",
    "version": 3
   },
   "file_extension": ".py",
   "mimetype": "text/x-python",
   "name": "python",
   "nbconvert_exporter": "python",
   "pygments_lexer": "ipython3",
   "version": "3.9.7"
  }
 },
 "nbformat": 4,
 "nbformat_minor": 5
}
