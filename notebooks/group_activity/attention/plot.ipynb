{
 "cells": [
  {
   "cell_type": "code",
   "execution_count": 1,
   "id": "bdf97311-ebfb-4d19-ac8f-41b12718b224",
   "metadata": {},
   "outputs": [],
   "source": [
    "import os\n",
    "import numpy as np\n",
    "import pandas as pd\n",
    "import matplotlib.pyplot as plt\n",
    "import seaborn as sns\n",
    "import cv2\n",
    "from tqdm import tqdm\n",
    "import sys\n",
    "import glob\n",
    "sys.path.append('../../../src')\n",
    "\n",
    "from common import common, transform, json, video\n",
    "from common.functions import cos_similarity, gauss\n",
    "from common.json import IA_FORMAT, START_IDX, GA_FORMAT, ATTENTION_FORMAT\n",
    "from common.default import PASSING_DEFAULT\n",
    "from common.object_point import OBJECT_POINTS\n",
    "from individual_activity.individual_activity import IndividualActivity\n",
    "from display.individual_activity import disp_individual_activity\n",
    "from display.tracking import disp_tracking\n",
    "from display.heatmap import Heatmap"
   ]
  },
  {
   "cell_type": "markdown",
   "id": "70d29272-6985-4eee-be98-9223b6acf253",
   "metadata": {},
   "source": [
    "# Attention をロード"
   ]
  },
  {
   "cell_type": "code",
   "execution_count": 2,
   "id": "f852e8b6-11b1-407d-8c27-a0f564fb0716",
   "metadata": {},
   "outputs": [],
   "source": [
    "# group attention のデータはまだない\n",
    "data_settings = [\n",
    "    {'room_num': '02', 'date': '20210903', 'option': 'attention'},\n",
    "    {'room_num': '08', 'date': '20210915', 'option': 'attention'},\n",
    "    {'room_num': '09', 'date': '20210706', 'option': 'attention'}\n",
    "]"
   ]
  },
  {
   "cell_type": "code",
   "execution_count": 3,
   "id": "b60bf0e4-51e9-4772-8191-a8123f9b87fe",
   "metadata": {
    "tags": []
   },
   "outputs": [
    {
     "name": "stdout",
     "output_type": "stream",
     "text": [
      "{'room_num': '02', 'date': '20210903', 'option': 'attention'}\n"
     ]
    },
    {
     "name": "stderr",
     "output_type": "stream",
     "text": [
      "100%|████████████████████████████████████████████████████████████████████████████████████████████████████████████████████████████████████████████████████████████████████████████████| 4/4 [00:12<00:00,  3.17s/it]\n"
     ]
    },
    {
     "name": "stdout",
     "output_type": "stream",
     "text": [
      "{'room_num': '08', 'date': '20210915', 'option': 'attention'}\n"
     ]
    },
    {
     "name": "stderr",
     "output_type": "stream",
     "text": [
      "100%|████████████████████████████████████████████████████████████████████████████████████████████████████████████████████████████████████████████████████████████████████████████████| 4/4 [00:11<00:00,  2.92s/it]\n"
     ]
    },
    {
     "name": "stdout",
     "output_type": "stream",
     "text": [
      "{'room_num': '09', 'date': '20210706', 'option': 'attention'}\n"
     ]
    },
    {
     "name": "stderr",
     "output_type": "stream",
     "text": [
      "100%|████████████████████████████████████████████████████████████████████████████████████████████████████████████████████████████████████████████████████████████████████████████████| 4/4 [00:12<00:00,  3.11s/it]\n"
     ]
    }
   ],
   "source": [
    "attentions = {}\n",
    "for setting in data_settings:\n",
    "    print(setting)\n",
    "    room_num = setting['room_num']\n",
    "    date = setting['date']\n",
    "    opt = setting['option']\n",
    "    \n",
    "    if opt is None:\n",
    "        dir_path = f'{common.data_dir}/{room_num}/{date}/*'\n",
    "    else:\n",
    "        dir_path = f'{common.data_dir}/{room_num}/{date}/{opt}/*'\n",
    "    dirs = glob.glob(dir_path)\n",
    "    if dirs[-1].endswith('make_csv.csv'):\n",
    "        dirs = dirs[:-1]\n",
    "    \n",
    "    for i, path in enumerate(tqdm(dirs)):\n",
    "        path = f'{path}/json/group_activity.json'\n",
    "        json_data = json.load(path)\n",
    "        key = f\"{room_num}_{date}_{i + 1:02d}\"\n",
    "        attentions[key] = json_data[\"attention\"]"
   ]
  },
  {
   "cell_type": "markdown",
   "id": "8b179862-b238-474b-9d77-23fcbf6175f1",
   "metadata": {},
   "source": [
    "# 対象物のスコアを計算\n",
    "https://qiita.com/masataka46/items/cb5b05090746c7f3b826"
   ]
  },
  {
   "cell_type": "code",
   "execution_count": 4,
   "id": "317d12c4-12b9-4a6c-941a-1c8639773619",
   "metadata": {},
   "outputs": [],
   "source": [
    "def likelihood(object_point, attention_data, sigma=50):\n",
    "    px = object_point[0]\n",
    "    py = object_point[1]\n",
    "    \n",
    "    value_dict = {}\n",
    "    for data in tqdm(attention_data):\n",
    "        frame_num = data[ATTENTION_FORMAT[0]]\n",
    "        x, y = data[ATTENTION_FORMAT[2]]\n",
    "        count = data[ATTENTION_FORMAT[4]]\n",
    "        gauss = np.exp(-((x - px)**2 + (y - py)**2) / (2 * sigma ** 2))\n",
    "        \n",
    "        if frame_num not in value_dict:\n",
    "            value_dict[frame_num] = {\"counts\": [], \"weights\": []}\n",
    "            \n",
    "        value_dict[frame_num][\"counts\"].append(count)\n",
    "        value_dict[frame_num][\"weights\"].append(gauss + 1e-10)\n",
    "        \n",
    "    means = {}\n",
    "    for frame_num, value in value_dict.items():\n",
    "        means[frame_num] = np.average(value[\"counts\"], weights=value[\"weights\"])\n",
    "    \n",
    "    return means"
   ]
  },
  {
   "cell_type": "code",
   "execution_count": 5,
   "id": "ae389813-d9d0-4f8e-9e9c-80413ab6c0e8",
   "metadata": {
    "scrolled": true,
    "tags": []
   },
   "outputs": [
    {
     "name": "stdout",
     "output_type": "stream",
     "text": [
      "02 20210903 01\n"
     ]
    },
    {
     "name": "stderr",
     "output_type": "stream",
     "text": [
      "100%|████████████████████████████████████████████████████████████████████████████████████████████████████████████████████████████████████████████████████████████████| 1860068/1860068 [00:03<00:00, 567448.80it/s]\n"
     ]
    },
    {
     "name": "stdout",
     "output_type": "stream",
     "text": [
      "02 20210903 02\n"
     ]
    },
    {
     "name": "stderr",
     "output_type": "stream",
     "text": [
      "100%|████████████████████████████████████████████████████████████████████████████████████████████████████████████████████████████████████████████████████████████████| 2240198/2240198 [00:03<00:00, 568561.41it/s]\n"
     ]
    },
    {
     "name": "stdout",
     "output_type": "stream",
     "text": [
      "02 20210903 03\n"
     ]
    },
    {
     "name": "stderr",
     "output_type": "stream",
     "text": [
      "100%|████████████████████████████████████████████████████████████████████████████████████████████████████████████████████████████████████████████████████████████████| 1449954/1449954 [00:02<00:00, 578447.63it/s]\n"
     ]
    },
    {
     "name": "stdout",
     "output_type": "stream",
     "text": [
      "02 20210903 04\n"
     ]
    },
    {
     "name": "stderr",
     "output_type": "stream",
     "text": [
      "100%|██████████████████████████████████████████████████████████████████████████████████████████████████████████████████████████████████████████████████████████████████| 917851/917851 [00:01<00:00, 565343.75it/s]\n",
      "100%|██████████████████████████████████████████████████████████████████████████████████████████████████████████████████████████████████████████████████████████████████| 917851/917851 [00:01<00:00, 554949.40it/s]\n",
      "100%|██████████████████████████████████████████████████████████████████████████████████████████████████████████████████████████████████████████████████████████████████| 917851/917851 [00:01<00:00, 544917.41it/s]\n"
     ]
    },
    {
     "name": "stdout",
     "output_type": "stream",
     "text": [
      "08 20210915 01\n"
     ]
    },
    {
     "name": "stderr",
     "output_type": "stream",
     "text": [
      "100%|████████████████████████████████████████████████████████████████████████████████████████████████████████████████████████████████████████████████████████████████| 1669592/1669592 [00:03<00:00, 539830.47it/s]\n"
     ]
    },
    {
     "name": "stdout",
     "output_type": "stream",
     "text": [
      "08 20210915 02\n"
     ]
    },
    {
     "name": "stderr",
     "output_type": "stream",
     "text": [
      "100%|████████████████████████████████████████████████████████████████████████████████████████████████████████████████████████████████████████████████████████████████| 2449839/2449839 [00:04<00:00, 575502.32it/s]\n"
     ]
    },
    {
     "name": "stdout",
     "output_type": "stream",
     "text": [
      "08 20210915 03\n"
     ]
    },
    {
     "name": "stderr",
     "output_type": "stream",
     "text": [
      "100%|████████████████████████████████████████████████████████████████████████████████████████████████████████████████████████████████████████████████████████████████| 1852165/1852165 [00:03<00:00, 563386.61it/s]\n"
     ]
    },
    {
     "name": "stdout",
     "output_type": "stream",
     "text": [
      "08 20210915 04\n"
     ]
    },
    {
     "name": "stderr",
     "output_type": "stream",
     "text": [
      "100%|██████████████████████████████████████████████████████████████████████████████████████████████████████████████████████████████████████████████████████████████████| 310924/310924 [00:00<00:00, 565528.71it/s]\n",
      "100%|██████████████████████████████████████████████████████████████████████████████████████████████████████████████████████████████████████████████████████████████████| 310924/310924 [00:00<00:00, 548797.53it/s]\n",
      "100%|██████████████████████████████████████████████████████████████████████████████████████████████████████████████████████████████████████████████████████████████████| 310924/310924 [00:00<00:00, 599479.90it/s]\n"
     ]
    },
    {
     "name": "stdout",
     "output_type": "stream",
     "text": [
      "09 20210706 01\n"
     ]
    },
    {
     "name": "stderr",
     "output_type": "stream",
     "text": [
      "100%|████████████████████████████████████████████████████████████████████████████████████████████████████████████████████████████████████████████████████████████████| 1275900/1275900 [00:02<00:00, 582774.72it/s]\n"
     ]
    },
    {
     "name": "stdout",
     "output_type": "stream",
     "text": [
      "09 20210706 02\n"
     ]
    },
    {
     "name": "stderr",
     "output_type": "stream",
     "text": [
      "100%|████████████████████████████████████████████████████████████████████████████████████████████████████████████████████████████████████████████████████████████████| 2666004/2666004 [00:04<00:00, 586535.53it/s]\n"
     ]
    },
    {
     "name": "stdout",
     "output_type": "stream",
     "text": [
      "09 20210706 03\n"
     ]
    },
    {
     "name": "stderr",
     "output_type": "stream",
     "text": [
      "100%|████████████████████████████████████████████████████████████████████████████████████████████████████████████████████████████████████████████████████████████████| 1720718/1720718 [00:02<00:00, 575650.84it/s]\n"
     ]
    },
    {
     "name": "stdout",
     "output_type": "stream",
     "text": [
      "09 20210706 04\n"
     ]
    },
    {
     "name": "stderr",
     "output_type": "stream",
     "text": [
      "100%|████████████████████████████████████████████████████████████████████████████████████████████████████████████████████████████████████████████████████████████████| 1440505/1440505 [00:02<00:00, 568454.98it/s]\n",
      "100%|████████████████████████████████████████████████████████████████████████████████████████████████████████████████████████████████████████████████████████████████| 1440505/1440505 [00:02<00:00, 559475.09it/s]\n",
      "100%|████████████████████████████████████████████████████████████████████████████████████████████████████████████████████████████████████████████████████████████████| 1440505/1440505 [00:02<00:00, 587050.42it/s]\n"
     ]
    }
   ],
   "source": [
    "likelihood_dict = {}\n",
    "for key, attention_data in attentions.items():\n",
    "    room_num, date, num = key.split(\"_\")\n",
    "    print(room_num, date, num)\n",
    "    object_points = OBJECT_POINTS[room_num][date][num]\n",
    "    for i, object_point in enumerate(object_points):\n",
    "        value = likelihood(object_point, attention_data)\n",
    "        new_key = f\"{key}_{i + 1}\"\n",
    "        likelihood_dict[new_key] = value"
   ]
  },
  {
   "cell_type": "markdown",
   "id": "7000bc71-ca5f-44f2-a6b2-e6ece15c106a",
   "metadata": {},
   "source": [
    "# 動画作成"
   ]
  },
  {
   "cell_type": "code",
   "execution_count": 6,
   "id": "0e916fec-b17e-483e-a45f-f668d106885e",
   "metadata": {},
   "outputs": [],
   "source": [
    "def display_likelihood(object_point, value, heatmap_cls, field, max_radius=20, alpha=0.7):\n",
    "    copy = field.copy()\n",
    "    \n",
    "    color = heatmap_cls.colormap(value)\n",
    "\n",
    "    # calc radius of circle\n",
    "    max_value = heatmap_cls.xmax\n",
    "    radius = int(value / max_value * max_radius)\n",
    "    if radius == 0:\n",
    "        radius = 1\n",
    "    # plot the heatmap circle\n",
    "    cv2.circle(copy, object_point, radius, color, thickness=-1)\n",
    "\n",
    "    # plot the center of object\n",
    "    cv2.circle(copy, tuple(object_point), 3, (0, 0, 0), -1)\n",
    "    \n",
    "    point = np.array(object_point) - [50, 10]\n",
    "    point = tuple(point)\n",
    "    cv2.putText(copy, f\"{value:.1f}\", point, cv2.FONT_HERSHEY_SIMPLEX, 1.5, color, 2)\n",
    "    \n",
    "    field = cv2.addWeighted(copy, alpha, field, 1 - alpha, 0)\n",
    "    \n",
    "    # plt.imshow(field)\n",
    "    # plt.show()\n",
    "\n",
    "    return field"
   ]
  },
  {
   "cell_type": "code",
   "execution_count": 7,
   "id": "da66f920-066e-48c2-a2cb-e323d89a82d4",
   "metadata": {},
   "outputs": [],
   "source": [
    "def combine_image(frame, field):\n",
    "    ratio = 1 - (field.shape[0] - frame.shape[0]) / field.shape[0]\n",
    "    size = [int(field.shape[1] * ratio), int(field.shape[0] * ratio)]\n",
    "    if frame.shape[0] != size[1]:\n",
    "        # 丸め誤差が起きる\n",
    "        size[1] = frame.shape[0]\n",
    "    field = cv2.resize(field, size)\n",
    "    frame = np.concatenate([frame, field], axis=1)\n",
    "\n",
    "    return frame\n",
    "\n",
    "\n",
    "def display(\n",
    "    video_path,\n",
    "    out_path,\n",
    "    individual_activity_json_path,\n",
    "    likelihood_data,\n",
    "    heatmap_cls,\n",
    "    field,\n",
    "    object_point,\n",
    "):\n",
    "    print(out_path)\n",
    "    print(\"Writing video frames...\")\n",
    "\n",
    "    # load datas\n",
    "    individual_activity_datas = json.load(individual_activity_json_path)\n",
    "\n",
    "    # load video\n",
    "    capture = video.Capture(video_path)\n",
    "\n",
    "    # frames_lst = [[] for _ in range(len(out_paths))]\n",
    "    cmb_img = combine_image(capture.read(), field)\n",
    "    size = cmb_img.shape[1::-1]\n",
    "    writer = video.Writer(out_path, capture.fps, size)\n",
    "\n",
    "    # reset capture start position\n",
    "    capture.set_pos_frame(0)\n",
    "\n",
    "    for frame_num in tqdm(range(capture.frame_num)):\n",
    "        # read frame\n",
    "        frame = capture.read()\n",
    "\n",
    "        # フレームごとにデータを取得する\n",
    "        frame_individual_activity_datas = [\n",
    "            data for data in individual_activity_datas if data[\"frame\"] == frame_num\n",
    "        ]\n",
    "\n",
    "        # フレーム番号を表示\n",
    "        cv2.putText(\n",
    "            frame,\n",
    "            \"Frame:{}\".format(frame_num + 1),\n",
    "            (10, 50),\n",
    "            cv2.FONT_HERSHEY_PLAIN,\n",
    "            2,\n",
    "            (0, 0, 0),\n",
    "        )\n",
    "\n",
    "        # copy raw field image\n",
    "        field_tmp = field.copy()\n",
    "\n",
    "        # draw tracking result\n",
    "        frame = disp_tracking(frame_individual_activity_datas, frame)\n",
    "\n",
    "        # draw individual activity\n",
    "        field_tmp = disp_individual_activity(\n",
    "            frame_individual_activity_datas, field_tmp\n",
    "        )\n",
    "\n",
    "        # draw likelihood\n",
    "        field_tmp = display_likelihood(object_point, likelihood_data[frame_num], heatmap_cls, field_tmp)\n",
    "\n",
    "        # write video\n",
    "        writer.write(combine_image(frame, field_tmp))\n",
    "\n",
    "\n",
    "def get_field(room_num):\n",
    "    field_path = os.path.join(common.data_dir, room_num, 'field.png')\n",
    "    return cv2.imread(field_path)"
   ]
  },
  {
   "cell_type": "code",
   "execution_count": 8,
   "id": "84205a1e-d6bd-43e6-8c2a-9c5c01b1ab64",
   "metadata": {
    "scrolled": true,
    "tags": []
   },
   "outputs": [
    {
     "name": "stdout",
     "output_type": "stream",
     "text": [
      "{'room_num': '02', 'date': '20210903', 'option': 'attention'}\n",
      "(50, 780)\n",
      "1.7324492734044665\n",
      "C:\\Users\\k2111\\program\\research\\data/02/20210903/attention\\01\\out\\attention_object1.mp4\n",
      "Writing video frames...\n"
     ]
    },
    {
     "name": "stderr",
     "output_type": "stream",
     "text": [
      "100%|█████████████████████████████████████████████████████████████████████████████████████████████████████████████████████████████████████████████████████████| 1800/1800 [00:42<00:00, 42.49it/s]\n"
     ]
    },
    {
     "name": "stdout",
     "output_type": "stream",
     "text": [
      "(525, 625)\n",
      "1.7573714559456808\n",
      "C:\\Users\\k2111\\program\\research\\data/02/20210903/attention\\02\\out\\attention_object1.mp4\n",
      "Writing video frames...\n"
     ]
    },
    {
     "name": "stderr",
     "output_type": "stream",
     "text": [
      "100%|█████████████████████████████████████████████████████████████████████████████████████████████████████████████████████████████████████████████████████████| 1800/1800 [00:39<00:00, 45.66it/s]\n"
     ]
    },
    {
     "name": "stdout",
     "output_type": "stream",
     "text": [
      "(367, 415)\n",
      "1.2246747368184567\n",
      "C:\\Users\\k2111\\program\\research\\data/02/20210903/attention\\03\\out\\attention_object1.mp4\n",
      "Writing video frames...\n"
     ]
    },
    {
     "name": "stderr",
     "output_type": "stream",
     "text": [
      "100%|█████████████████████████████████████████████████████████████████████████████████████████████████████████████████████████████████████████████████████████| 1800/1800 [00:37<00:00, 47.72it/s]\n"
     ]
    },
    {
     "name": "stdout",
     "output_type": "stream",
     "text": [
      "(50, 780)\n",
      "1.2886243308015541\n",
      "C:\\Users\\k2111\\program\\research\\data/02/20210903/attention\\04\\out\\attention_object1.mp4\n",
      "Writing video frames...\n"
     ]
    },
    {
     "name": "stderr",
     "output_type": "stream",
     "text": [
      "100%|█████████████████████████████████████████████████████████████████████████████████████████████████████████████████████████████████████████████████████████| 1800/1800 [00:35<00:00, 50.63it/s]\n"
     ]
    },
    {
     "name": "stdout",
     "output_type": "stream",
     "text": [
      "(525, 625)\n",
      "1.0281971298711396\n",
      "C:\\Users\\k2111\\program\\research\\data/02/20210903/attention\\04\\out\\attention_object2.mp4\n",
      "Writing video frames...\n"
     ]
    },
    {
     "name": "stderr",
     "output_type": "stream",
     "text": [
      "100%|█████████████████████████████████████████████████████████████████████████████████████████████████████████████████████████████████████████████████████████| 1800/1800 [00:35<00:00, 50.68it/s]\n"
     ]
    },
    {
     "name": "stdout",
     "output_type": "stream",
     "text": [
      "(367, 415)\n",
      "1.3709483699900067\n",
      "C:\\Users\\k2111\\program\\research\\data/02/20210903/attention\\04\\out\\attention_object3.mp4\n",
      "Writing video frames...\n"
     ]
    },
    {
     "name": "stderr",
     "output_type": "stream",
     "text": [
      "100%|█████████████████████████████████████████████████████████████████████████████████████████████████████████████████████████████████████████████████████████| 1800/1800 [00:35<00:00, 50.00it/s]\n"
     ]
    },
    {
     "name": "stdout",
     "output_type": "stream",
     "text": [
      "{'room_num': '08', 'date': '20210915', 'option': 'attention'}\n",
      "(670, 120)\n",
      "1.4103014369677\n",
      "C:\\Users\\k2111\\program\\research\\data/08/20210915/attention\\01\\out\\attention_object1.mp4\n",
      "Writing video frames...\n"
     ]
    },
    {
     "name": "stderr",
     "output_type": "stream",
     "text": [
      "100%|█████████████████████████████████████████████████████████████████████████████████████████████████████████████████████████████████████████████████████████| 1872/1872 [00:39<00:00, 47.87it/s]\n"
     ]
    },
    {
     "name": "stdout",
     "output_type": "stream",
     "text": [
      "(367, 530)\n",
      "1.6751617004511374\n",
      "C:\\Users\\k2111\\program\\research\\data/08/20210915/attention\\02\\out\\attention_object1.mp4\n",
      "Writing video frames...\n"
     ]
    },
    {
     "name": "stderr",
     "output_type": "stream",
     "text": [
      "100%|█████████████████████████████████████████████████████████████████████████████████████████████████████████████████████████████████████████████████████████| 1872/1872 [00:41<00:00, 44.99it/s]\n"
     ]
    },
    {
     "name": "stdout",
     "output_type": "stream",
     "text": [
      "(367, 415)\n",
      "1.9612147819649488\n",
      "C:\\Users\\k2111\\program\\research\\data/08/20210915/attention\\03\\out\\attention_object1.mp4\n",
      "Writing video frames...\n"
     ]
    },
    {
     "name": "stderr",
     "output_type": "stream",
     "text": [
      "100%|█████████████████████████████████████████████████████████████████████████████████████████████████████████████████████████████████████████████████████████| 1872/1872 [00:40<00:00, 45.70it/s]\n"
     ]
    },
    {
     "name": "stdout",
     "output_type": "stream",
     "text": [
      "(670, 120)\n",
      "0.6359850636289455\n",
      "C:\\Users\\k2111\\program\\research\\data/08/20210915/attention\\04\\out\\attention_object1.mp4\n",
      "Writing video frames...\n"
     ]
    },
    {
     "name": "stderr",
     "output_type": "stream",
     "text": [
      "100%|█████████████████████████████████████████████████████████████████████████████████████████████████████████████████████████████████████████████████████████| 1872/1872 [00:35<00:00, 52.68it/s]\n"
     ]
    },
    {
     "name": "stdout",
     "output_type": "stream",
     "text": [
      "(365, 530)\n",
      "1.1185994262755938\n",
      "C:\\Users\\k2111\\program\\research\\data/08/20210915/attention\\04\\out\\attention_object2.mp4\n",
      "Writing video frames...\n"
     ]
    },
    {
     "name": "stderr",
     "output_type": "stream",
     "text": [
      "100%|█████████████████████████████████████████████████████████████████████████████████████████████████████████████████████████████████████████████████████████| 1872/1872 [00:35<00:00, 52.39it/s]\n"
     ]
    },
    {
     "name": "stdout",
     "output_type": "stream",
     "text": [
      "(367, 415)\n",
      "1.1166650091021928\n",
      "C:\\Users\\k2111\\program\\research\\data/08/20210915/attention\\04\\out\\attention_object3.mp4\n",
      "Writing video frames...\n"
     ]
    },
    {
     "name": "stderr",
     "output_type": "stream",
     "text": [
      "100%|█████████████████████████████████████████████████████████████████████████████████████████████████████████████████████████████████████████████████████████| 1872/1872 [00:36<00:00, 51.98it/s]\n"
     ]
    },
    {
     "name": "stdout",
     "output_type": "stream",
     "text": [
      "{'room_num': '09', 'date': '20210706', 'option': 'attention'}\n",
      "(685, 780)\n",
      "2.1784558195664507\n",
      "C:\\Users\\k2111\\program\\research\\data/09/20210706/attention\\01\\out\\attention_object1.mp4\n",
      "Writing video frames...\n"
     ]
    },
    {
     "name": "stderr",
     "output_type": "stream",
     "text": [
      "100%|█████████████████████████████████████████████████████████████████████████████████████████████████████████████████████████████████████████████████████████| 1800/1800 [00:41<00:00, 43.69it/s]\n"
     ]
    },
    {
     "name": "stdout",
     "output_type": "stream",
     "text": [
      "(510, 800)\n",
      "2.045087913834783\n",
      "C:\\Users\\k2111\\program\\research\\data/09/20210706/attention\\02\\out\\attention_object1.mp4\n",
      "Writing video frames...\n"
     ]
    },
    {
     "name": "stderr",
     "output_type": "stream",
     "text": [
      "100%|█████████████████████████████████████████████████████████████████████████████████████████████████████████████████████████████████████████████████████████| 1800/1800 [00:41<00:00, 43.54it/s]\n"
     ]
    },
    {
     "name": "stdout",
     "output_type": "stream",
     "text": [
      "(367, 415)\n",
      "1.8304091222854117\n",
      "C:\\Users\\k2111\\program\\research\\data/09/20210706/attention\\03\\out\\attention_object1.mp4\n",
      "Writing video frames...\n"
     ]
    },
    {
     "name": "stderr",
     "output_type": "stream",
     "text": [
      "100%|█████████████████████████████████████████████████████████████████████████████████████████████████████████████████████████████████████████████████████████| 1800/1800 [00:38<00:00, 46.96it/s]\n"
     ]
    },
    {
     "name": "stdout",
     "output_type": "stream",
     "text": [
      "(685, 780)\n",
      "1.1656092131083338\n",
      "C:\\Users\\k2111\\program\\research\\data/09/20210706/attention\\04\\out\\attention_object1.mp4\n",
      "Writing video frames...\n"
     ]
    },
    {
     "name": "stderr",
     "output_type": "stream",
     "text": [
      "100%|█████████████████████████████████████████████████████████████████████████████████████████████████████████████████████████████████████████████████████████| 1800/1800 [00:37<00:00, 47.50it/s]\n"
     ]
    },
    {
     "name": "stdout",
     "output_type": "stream",
     "text": [
      "(510, 800)\n",
      "1.363202807593187\n",
      "C:\\Users\\k2111\\program\\research\\data/09/20210706/attention\\04\\out\\attention_object2.mp4\n",
      "Writing video frames...\n"
     ]
    },
    {
     "name": "stderr",
     "output_type": "stream",
     "text": [
      "100%|█████████████████████████████████████████████████████████████████████████████████████████████████████████████████████████████████████████████████████████| 1800/1800 [00:38<00:00, 47.27it/s]\n"
     ]
    },
    {
     "name": "stdout",
     "output_type": "stream",
     "text": [
      "(367, 415)\n",
      "1.4189061748668301\n",
      "C:\\Users\\k2111\\program\\research\\data/09/20210706/attention\\04\\out\\attention_object3.mp4\n",
      "Writing video frames...\n"
     ]
    },
    {
     "name": "stderr",
     "output_type": "stream",
     "text": [
      "100%|█████████████████████████████████████████████████████████████████████████████████████████████████████████████████████████████████████████████████████████| 1800/1800 [00:37<00:00, 47.72it/s]\n"
     ]
    }
   ],
   "source": [
    "for setting in data_settings:\n",
    "    print(setting)\n",
    "    room_num = setting['room_num']\n",
    "    date = setting['date']\n",
    "    opt = setting['option']\n",
    "    \n",
    "    if opt is None:\n",
    "        dir_path = f'{common.data_dir}/{room_num}/{date}/*'\n",
    "    else:\n",
    "        dir_path = f'{common.data_dir}/{room_num}/{date}/{opt}/*'\n",
    "    dirs = glob.glob(dir_path)\n",
    "    if dirs[-1].endswith('make_csv.csv'):\n",
    "        dirs = dirs[:-1]\n",
    "        \n",
    "    field = get_field(room_num)\n",
    "    \n",
    "    for i, path in enumerate(dirs):\n",
    "        num = f\"{i + 1:02d}\"\n",
    "        ia_json_path = os.path.join(path, 'json', 'individual_activity.json')\n",
    "        video_path = os.path.join(path, 'video', f'pose_{num}.mp4')\n",
    "        out_dir = os.path.join(path, 'out')\n",
    "        cap = video.Capture(video_path)\n",
    "        \n",
    "        object_points = OBJECT_POINTS[room_num][date][num]\n",
    "        for j, object_point in enumerate(object_points):\n",
    "            print(object_point)\n",
    "            out_path = os.path.join(out_dir, f'attention_object{j + 1}.mp4')\n",
    "            key = f\"{room_num}_{date}_{i + 1:02d}_{j + 1}\"\n",
    "            likelihood_data = likelihood_dict[key]\n",
    "            max_val = np.max(list(likelihood_data.values()))\n",
    "            print(max_val)\n",
    "            heatmap_cls = Heatmap([0, max_val])\n",
    "            display(\n",
    "                video_path,\n",
    "                out_path,\n",
    "                ia_json_path,\n",
    "                likelihood_data,\n",
    "                heatmap_cls,\n",
    "                field,\n",
    "                object_point,\n",
    "            )"
   ]
  },
  {
   "cell_type": "markdown",
   "id": "a896ccaa-0272-471f-9d31-8e4a3a6ed6a1",
   "metadata": {},
   "source": [
    "# 修論用解析\n",
    "## ヒストグラム、箱ひげ図"
   ]
  },
  {
   "cell_type": "code",
   "execution_count": 8,
   "id": "53751897-00f5-487e-b5a3-1a59284855c4",
   "metadata": {},
   "outputs": [],
   "source": [
    "def boxplot(df_lst):\n",
    "    fig = plt.figure(figsize=(5, 2))\n",
    "    axs = [\n",
    "        fig.add_axes((0.1, 0.1, 0.29, 0.85)),\n",
    "        fig.add_axes((0.4, 0.1, 0.29, 0.85)),\n",
    "        fig.add_axes((0.7, 0.1, 0.29, 0.85))\n",
    "    ]\n",
    "\n",
    "    for j in range(3):\n",
    "        sns.boxplot(x='variable', y='value', data=df_lst[j], showfliers=False, ax=axs[j])\n",
    "        axs[j].set_ylabel('')\n",
    "        axs[j].set_xlabel('')\n",
    "        axs[j].set_ylim((0, 2.5))\n",
    "\n",
    "    axs[0].set_ylabel('Attention Score')\n",
    "    axs[1].set_yticklabels([])\n",
    "    axs[2].set_yticklabels([])\n",
    "\n",
    "    box_path = os.path.join(common.data_dir, 'image', opt, f'box_{room_num}_{date}.pdf')\n",
    "    fig.subplots_adjust(left=0, right=1, bottom=0, top=1)\n",
    "    fig.savefig(box_path)"
   ]
  },
  {
   "cell_type": "code",
   "execution_count": 9,
   "id": "8d50a294-df61-4713-bd43-4fc528596eed",
   "metadata": {},
   "outputs": [],
   "source": [
    "def hist(df_lst, labels_lst):\n",
    "    fig = plt.figure(figsize=(5, 2))\n",
    "    axs = [\n",
    "        fig.add_axes((0.06, 0.2, 0.26, 0.75)),\n",
    "        fig.add_axes((0.39, 0.2, 0.26, 0.75)),\n",
    "        fig.add_axes((0.72, 0.2, 0.26, 0.75))\n",
    "    ]\n",
    "    \n",
    "    for j in range(3):\n",
    "        sns.histplot(\n",
    "            data=df_lst[j], x='value', hue='variable', bins=20, kde=True, ax=axs[j]\n",
    "        )\n",
    "        \n",
    "        axs[j].set_ylabel('')\n",
    "        axs[j].set_xlabel('')\n",
    "        axs[j].legend(\n",
    "            labels=labels_lst[j][::-1], fontsize=7, handlelength=0.5, handletextpad=0.2\n",
    "        )\n",
    "\n",
    "        axs[j].set_xlabel('Attention Score')\n",
    "\n",
    "    box_path = os.path.join(common.data_dir, 'image', opt, f'hist_{room_num}_{date}.pdf')\n",
    "    fig.subplots_adjust(left=0, right=1, bottom=0, top=1)\n",
    "    fig.savefig(box_path)"
   ]
  },
  {
   "cell_type": "code",
   "execution_count": 10,
   "id": "5bc810f8-8db9-48b8-a500-ed9b3df38a2a",
   "metadata": {
    "tags": []
   },
   "outputs": [
    {
     "name": "stdout",
     "output_type": "stream",
     "text": [
      "{'room_num': '02', 'date': '20210903', 'option': 'attention'}\n",
      "{'room_num': '08', 'date': '20210915', 'option': 'attention'}\n",
      "{'room_num': '09', 'date': '20210706', 'option': 'attention'}\n"
     ]
    },
    {
     "data": {
      "image/png": "[encoded data removed]",
      "text/plain": [
       "<Figure size 360x144 with 3 Axes>"
      ]
     },
     "metadata": {},
     "output_type": "display_data"
    },
    {
     "data": {
      "image/png": "[encoded data removed]",
      "text/plain": [
       "<Figure size 360x144 with 3 Axes>"
      ]
     },
     "metadata": {},
     "output_type": "display_data"
    },
    {
     "data": {
      "image/png": "[encoded data removed]",
      "text/plain": [
       "<Figure size 360x144 with 3 Axes>"
      ]
     },
     "metadata": {},
     "output_type": "display_data"
    },
    {
     "data": {
      "image/png": "[encoded data removed]",
      "text/plain": [
       "<Figure size 360x144 with 3 Axes>"
      ]
     },
     "metadata": {},
     "output_type": "display_data"
    },
    {
     "data": {
      "image/png": "[encoded data removed]",
      "text/plain": [
       "<Figure size 360x144 with 3 Axes>"
      ]
     },
     "metadata": {},
     "output_type": "display_data"
    },
    {
     "data": {
      "image/png": "[encoded data removed]",
      "text/plain": [
       "<Figure size 360x144 with 3 Axes>"
      ]
     },
     "metadata": {},
     "output_type": "display_data"
    }
   ],
   "source": [
    "sns.set()\n",
    "sns.set_style('whitegrid')\n",
    "plt.rcParams['font.family'] = 'Times New Roman'\n",
    "plt.rcParams[\"font.size\"] = 24\n",
    "plt.rcParams['xtick.direction'] = 'in'  # x axis in\n",
    "plt.rcParams['ytick.direction'] = 'in'  # y axis in\n",
    "\n",
    "for setting in data_settings:\n",
    "    print(setting)\n",
    "    room_num = setting['room_num']\n",
    "    date = setting['date']\n",
    "    opt = setting['option']\n",
    "    \n",
    "    df_lst = []\n",
    "    labels_lst = []\n",
    "    for i in range(3):\n",
    "        data_dict = {}\n",
    "        key1 = f\"{room_num}_{date}_{i + 1:02d}_{1}\"\n",
    "        key2 = f\"{room_num}_{date}_04_{i + 1}\"\n",
    "        data1 = list(likelihood_dict[key1].values())\n",
    "        data2 = list(likelihood_dict[key2].values())\n",
    "        \n",
    "        label1 = f'O{i % 3 + 1}-A'\n",
    "        label2 = f'O{i % 3 + 1}-N/A'\n",
    "        labels = [label1, label2]\n",
    "        labels_lst.append(labels)\n",
    "        \n",
    "        data_dict[label1] = data1\n",
    "        data_dict[label2] = data2\n",
    "        \n",
    "        df = pd.DataFrame.from_dict(data_dict)\n",
    "        df = pd.melt(df)\n",
    "        df_lst.append(df)\n",
    "    \n",
    "    boxplot(df_lst)\n",
    "    hist(df_lst, labels_lst)"
   ]
  },
  {
   "cell_type": "markdown",
   "id": "7ad93acb-91b6-45c1-bc82-341745010ed2",
   "metadata": {},
   "source": [
    "## 検定"
   ]
  },
  {
   "cell_type": "code",
   "execution_count": 11,
   "id": "34f48097-8a44-4bf0-b6a8-e46e8ec99513",
   "metadata": {},
   "outputs": [],
   "source": [
    "from scipy import stats"
   ]
  },
  {
   "cell_type": "code",
   "execution_count": 98,
   "id": "36e1dd3e-0a24-433b-83c5-ef08f683b817",
   "metadata": {},
   "outputs": [],
   "source": [
    "import pandas as pd\n",
    "\n",
    "def mwu(data1, data2):\n",
    "    n1, n2 = len(data1), len(data2)\n",
    "    mu = n1 * n2 / 2\n",
    "    sigma = np.sqrt(n1 * n2 * (n1 + n2 + 1) / 12)\n",
    "    \n",
    "    df = pd.DataFrame({\n",
    "        1: data1,\n",
    "        2: data2\n",
    "    })\n",
    "    df = pd.melt(df)\n",
    "    df = pd.concat([df, df.rank()[\"value\"]], axis=1)\n",
    "    df.columns = [\"label\", \"value\", \"rank\"]\n",
    "    print(df.head())\n",
    "    print(df.tail())\n",
    "    \n",
    "    df[df[\"label\"] == 1][\"rank\"].hist()\n",
    "    plt.show()\n",
    "    df[df[\"label\"] == 2][\"rank\"].hist()\n",
    "    plt.show()\n",
    "    \n",
    "    rank_sum1 = df[df[\"label\"] == 1].sum()[\"rank\"]\n",
    "    rank_sum2 = df[df[\"label\"] == 2].sum()[\"rank\"]\n",
    "    print('rank sum:', rank_sum1, rank_sum2)\n",
    "    \n",
    "    u1 = n1 * n2 + n1 * (n1 + 1) / 2 - rank_sum1\n",
    "    u2 = n1 * n2 - u1\n",
    "    print('u1, u2 ', u1, u2)\n",
    "    \n",
    "    u = u1 if u1 > mu else u2\n",
    "    print('u=', u)\n",
    "        \n",
    "    z = (u1 - mu) / sigma\n",
    "    print('z=', z)\n",
    "    \n",
    "    p = np.exp(- (z**2) / 2) / np.sqrt(2 * np.pi)\n",
    "    print(\"p=\", p)"
   ]
  },
  {
   "cell_type": "code",
   "execution_count": 99,
   "id": "b3627394-35cc-4dc8-8b58-39c9c3a39698",
   "metadata": {},
   "outputs": [
    {
     "name": "stdout",
     "output_type": "stream",
     "text": [
      "{'room_num': '02', 'date': '20210903', 'option': 'attention'}\n",
      "O_1\n",
      "   label     value   rank\n",
      "0      1  0.002810   11.0\n",
      "1      1  0.006160   48.0\n",
      "2      1  0.010635  113.0\n",
      "3      1  0.013762  140.0\n",
      "4      1  0.018301  171.0\n",
      "      label     value    rank\n",
      "3595      2  0.141558  1278.0\n",
      "3596      2  0.055473   498.0\n",
      "3597      2  0.180816  1488.0\n",
      "3598      2  0.200114  1590.0\n",
      "3599      2  0.220242  1706.0\n"
     ]
    },
    {
     "data": {
      "image/png": "[encoded data removed]",
      "text/plain": [
       "<Figure size 432x288 with 1 Axes>"
      ]
     },
     "metadata": {},
     "output_type": "display_data"
    },
    {
     "data": {
      "image/png": "[encoded data removed]",
      "text/plain": [
       "<Figure size 432x288 with 1 Axes>"
      ]
     },
     "metadata": {},
     "output_type": "display_data"
    },
    {
     "name": "stdout",
     "output_type": "stream",
     "text": [
      "rank sum: 4442801.0 2038999.0\n",
      "u1, u2  418099.0 2821901.0\n",
      "u= 2821901.0\n",
      "z= -38.545639360105675\n",
      "p= 1e-323\n",
      "O_2\n",
      "   label     value   rank\n",
      "0      1  0.017268  157.0\n",
      "1      1  0.037770  322.0\n",
      "2      1  0.039054  334.0\n",
      "3      1  0.049132  426.0\n",
      "4      1  0.066546  604.0\n",
      "      label     value   rank\n",
      "3595      2  0.010854  105.0\n",
      "3596      2  0.023191  200.0\n",
      "3597      2  0.004942   45.0\n",
      "3598      2  0.004077   37.0\n",
      "3599      2  0.031385  271.0\n"
     ]
    },
    {
     "data": {
      "image/png": "[encoded data removed]",
      "text/plain": [
       "<Figure size 432x288 with 1 Axes>"
      ]
     },
     "metadata": {},
     "output_type": "display_data"
    },
    {
     "data": {
      "image/png": "[encoded data removed]",
      "text/plain": [
       "<Figure size 432x288 with 1 Axes>"
      ]
     },
     "metadata": {},
     "output_type": "display_data"
    },
    {
     "name": "stdout",
     "output_type": "stream",
     "text": [
      "rank sum: 4767066.0 1714734.0\n",
      "u1, u2  93834.0 3146166.0\n",
      "u= 3146166.0\n",
      "z= -48.94499982914985\n",
      "p= 0.0\n",
      "O_3\n",
      "   label     value  rank\n",
      "0      1  0.009959   2.0\n",
      "1      1  0.023343   4.0\n",
      "2      1  0.039384  13.0\n",
      "3      1  0.054693  23.0\n",
      "4      1  0.070298  37.0\n",
      "      label     value    rank\n",
      "3595      2  0.352135   483.0\n",
      "3596      2  0.435735   810.0\n",
      "3597      2  0.323298   417.0\n",
      "3598      2  0.452471   897.0\n",
      "3599      2  0.471877  1046.0\n"
     ]
    },
    {
     "data": {
      "image/png": "[encoded data removed]",
      "text/plain": [
       "<Figure size 432x288 with 1 Axes>"
      ]
     },
     "metadata": {},
     "output_type": "display_data"
    },
    {
     "data": {
      "image/png": "[encoded data removed]",
      "text/plain": [
       "<Figure size 432x288 with 1 Axes>"
      ]
     },
     "metadata": {},
     "output_type": "display_data"
    },
    {
     "name": "stdout",
     "output_type": "stream",
     "text": [
      "rank sum: 4117387.0 2364413.0\n",
      "u1, u2  743513.0 2496487.0\n",
      "u= 2496487.0\n",
      "z= -28.109429816449893\n",
      "p= 1.0572541882402862e-172\n",
      "{'room_num': '08', 'date': '20210915', 'option': 'attention'}\n",
      "O_1\n",
      "   label     value   rank\n",
      "0      1  0.022649  106.0\n",
      "1      1  0.025470  120.0\n",
      "2      1  0.032851  179.0\n",
      "3      1  0.046722  263.0\n",
      "4      1  0.065325  294.0\n",
      "      label     value    rank\n",
      "3739      2  0.397113  2182.0\n",
      "3740      2  0.404337  2207.0\n",
      "3741      2  0.426030  2299.0\n",
      "3742      2  0.443754  2356.0\n",
      "3743      2  0.450165  2365.0\n"
     ]
    },
    {
     "data": {
      "image/png": "[encoded data removed]",
      "text/plain": [
       "<Figure size 432x288 with 1 Axes>"
      ]
     },
     "metadata": {},
     "output_type": "display_data"
    },
    {
     "data": {
      "image/png": "[encoded data removed]",
      "text/plain": [
       "<Figure size 432x288 with 1 Axes>"
      ]
     },
     "metadata": {},
     "output_type": "display_data"
    },
    {
     "name": "stdout",
     "output_type": "stream",
     "text": [
      "rank sum: 5018812.0 1991828.0\n",
      "u1, u2  238700.0 3265684.0\n",
      "u= 3265684.0\n",
      "z= -45.76558280782946\n",
      "p= 0.0\n",
      "O_2\n",
      "   label     value   rank\n",
      "0      1  0.010569    3.0\n",
      "1      1  0.033168   27.0\n",
      "2      1  0.056242   65.0\n",
      "3      1  0.076966  103.0\n",
      "4      1  0.100405  153.0\n",
      "      label     value    rank\n",
      "3739      2  0.444115  1675.0\n",
      "3740      2  0.464185  1869.0\n",
      "3741      2  0.484255  2051.0\n",
      "3742      2  0.504326  2250.0\n",
      "3743      2  0.524395  2493.0\n"
     ]
    },
    {
     "data": {
      "image/png": "[encoded data removed]",
      "text/plain": [
       "<Figure size 432x288 with 1 Axes>"
      ]
     },
     "metadata": {},
     "output_type": "display_data"
    },
    {
     "data": {
      "image/png": "[encoded data removed]",
      "text/plain": [
       "<Figure size 432x288 with 1 Axes>"
      ]
     },
     "metadata": {},
     "output_type": "display_data"
    },
    {
     "name": "stdout",
     "output_type": "stream",
     "text": [
      "rank sum: 4777568.0 2233072.0\n",
      "u1, u2  479944.0 3024440.0\n",
      "u= 3024440.0\n",
      "z= -38.470749231641406\n",
      "p= 1.7e-322\n",
      "O_3\n",
      "   label     value   rank\n",
      "0      1  0.016316   29.0\n",
      "1      1  0.033451   76.0\n",
      "2      1  0.047881  138.0\n",
      "3      1  0.067805  217.0\n",
      "4      1  0.088130  302.0\n",
      "      label     value    rank\n",
      "3739      2  0.406249  1703.0\n",
      "3740      2  0.423297  1830.0\n",
      "3741      2  0.440347  1978.0\n",
      "3742      2  0.457396  2116.0\n",
      "3743      2  0.474444  2278.0\n"
     ]
    },
    {
     "data": {
      "image/png": "[encoded data removed]",
      "text/plain": [
       "<Figure size 432x288 with 1 Axes>"
      ]
     },
     "metadata": {},
     "output_type": "display_data"
    },
    {
     "data": {
      "image/png": "[encoded data removed]",
      "text/plain": [
       "<Figure size 432x288 with 1 Axes>"
      ]
     },
     "metadata": {},
     "output_type": "display_data"
    },
    {
     "name": "stdout",
     "output_type": "stream",
     "text": [
      "rank sum: 5078960.0 1931680.0\n",
      "u1, u2  178552.0 3325832.0\n",
      "u= 3325832.0\n",
      "z= -47.58436234199636\n",
      "p= 0.0\n",
      "{'room_num': '09', 'date': '20210706', 'option': 'attention'}\n",
      "O_1\n",
      "   label     value   rank\n",
      "0      1  0.018705  326.0\n",
      "1      1  0.039716  557.0\n",
      "2      1  0.060684  750.0\n",
      "3      1  0.080647  868.0\n",
      "4      1  0.102257  932.0\n",
      "      label     value    rank\n",
      "3595      2  0.217232  1505.0\n",
      "3596      2  0.216597  1502.0\n",
      "3597      2  0.210034  1475.0\n",
      "3598      2  0.212876  1486.0\n",
      "3599      2  0.218942  1513.0\n"
     ]
    },
    {
     "data": {
      "image/png": "[encoded data removed]",
      "text/plain": [
       "<Figure size 432x288 with 1 Axes>"
      ]
     },
     "metadata": {},
     "output_type": "display_data"
    },
    {
     "data": {
      "image/png": "[encoded data removed]",
      "text/plain": [
       "<Figure size 432x288 with 1 Axes>"
      ]
     },
     "metadata": {},
     "output_type": "display_data"
    },
    {
     "name": "stdout",
     "output_type": "stream",
     "text": [
      "rank sum: 4850395.0 1631405.0\n",
      "u1, u2  10505.0 3229495.0\n",
      "u= 3229495.0\n",
      "z= -51.617407608358164\n",
      "p= 0.0\n",
      "O_2\n",
      "   label     value   rank\n",
      "0      1  0.008228   34.0\n",
      "1      1  0.025447  164.0\n",
      "2      1  0.042980  290.0\n",
      "3      1  0.064429  465.0\n",
      "4      1  0.091607  627.0\n",
      "      label     value    rank\n",
      "3595      2  0.173671  1054.0\n",
      "3596      2  0.189916  1129.0\n",
      "3597      2  0.213579  1244.0\n",
      "3598      2  0.215143  1254.0\n",
      "3599      2  0.206252  1209.0\n"
     ]
    },
    {
     "data": {
      "image/png": "[encoded data removed]",
      "text/plain": [
       "<Figure size 432x288 with 1 Axes>"
      ]
     },
     "metadata": {},
     "output_type": "display_data"
    },
    {
     "data": {
      "image/png": "[encoded data removed]",
      "text/plain": [
       "<Figure size 432x288 with 1 Axes>"
      ]
     },
     "metadata": {},
     "output_type": "display_data"
    },
    {
     "name": "stdout",
     "output_type": "stream",
     "text": [
      "rank sum: 4669678.0 1812122.0\n",
      "u1, u2  191222.0 3048778.0\n",
      "u= 3048778.0\n",
      "z= -45.82171203256596\n",
      "p= 0.0\n",
      "O_3\n",
      "   label     value  rank\n",
      "0      1  0.000000   1.0\n",
      "1      1  0.021832  11.0\n",
      "2      1  0.035771  18.0\n",
      "3      1  0.049843  30.0\n",
      "4      1  0.064000  40.0\n",
      "      label     value    rank\n",
      "3595      2  0.529687  2044.0\n",
      "3596      2  0.537457  2105.0\n",
      "3597      2  0.503650  1801.0\n",
      "3598      2  0.474226  1552.0\n",
      "3599      2  0.442052  1300.0\n"
     ]
    },
    {
     "data": {
      "image/png": "[encoded data removed]",
      "text/plain": [
       "<Figure size 432x288 with 1 Axes>"
      ]
     },
     "metadata": {},
     "output_type": "display_data"
    },
    {
     "data": {
      "image/png": "[encoded data removed]",
      "text/plain": [
       "<Figure size 432x288 with 1 Axes>"
      ]
     },
     "metadata": {},
     "output_type": "display_data"
    },
    {
     "name": "stdout",
     "output_type": "stream",
     "text": [
      "rank sum: 4438158.0 2043642.0\n",
      "u1, u2  422742.0 2817258.0\n",
      "u= 2817258.0\n",
      "z= -38.39673574529134\n",
      "p= 2.875e-321\n"
     ]
    }
   ],
   "source": [
    "for setting in data_settings:\n",
    "    print(setting)\n",
    "    room_num = setting['room_num']\n",
    "    date = setting['date']\n",
    "    opt = setting['option']\n",
    "    \n",
    "    for i in range(3):\n",
    "        print(f\"O_{i + 1}\")\n",
    "        key1 = f\"{room_num}_{date}_{i + 1:02d}_{1}\"\n",
    "        key2 = f\"{room_num}_{date}_04_{i + 1}\"\n",
    "        data1 = list(likelihood_dict[key1].values())\n",
    "        data2 = list(likelihood_dict[key2].values())\n",
    "        data = data1 + data2\n",
    "        \n",
    "        data1 = (np.array(data1) - np.min(data)) / (np.max(data) - np.min(data))\n",
    "        data2 = (np.array(data2) - np.min(data)) / (np.max(data) - np.min(data))\n",
    "\n",
    "        mwu(data1, data2)"
   ]
  },
  {
   "cell_type": "code",
   "execution_count": 106,
   "id": "cdefc2c8-fedb-4478-971c-1176e1f340c8",
   "metadata": {},
   "outputs": [
    {
     "name": "stdout",
     "output_type": "stream",
     "text": [
      "{'room_num': '02', 'date': '20210903', 'option': 'attention'}\n",
      "O_1\n",
      "Mann-Whitney U statistic: 2.821901e+06 p: 0.000000e+00\n",
      "O_2\n",
      "Mann-Whitney U statistic: 3.146166e+06 p: 0.000000e+00\n",
      "O_3\n",
      "Mann-Whitney U statistic: 2.496487e+06 p: 3.758162e-174\n",
      "{'room_num': '08', 'date': '20210915', 'option': 'attention'}\n",
      "O_1\n",
      "Mann-Whitney U statistic: 3.265684e+06 p: 0.000000e+00\n",
      "O_2\n",
      "Mann-Whitney U statistic: 3.024440e+06 p: 0.000000e+00\n",
      "O_3\n",
      "Mann-Whitney U statistic: 3.325832e+06 p: 0.000000e+00\n",
      "{'room_num': '09', 'date': '20210706', 'option': 'attention'}\n",
      "O_1\n",
      "Mann-Whitney U statistic: 3.229495e+06 p: 0.000000e+00\n",
      "O_2\n",
      "Mann-Whitney U statistic: 3.048778e+06 p: 0.000000e+00\n",
      "O_3\n",
      "Mann-Whitney U statistic: 2.817258e+06 p: 0.000000e+00\n"
     ]
    }
   ],
   "source": [
    "for setting in data_settings:\n",
    "    print(setting)\n",
    "    room_num = setting['room_num']\n",
    "    date = setting['date']\n",
    "    opt = setting['option']\n",
    "    \n",
    "    for i in range(3):\n",
    "        key1 = f\"{room_num}_{date}_{i + 1:02d}_{1}\"\n",
    "        key2 = f\"{room_num}_{date}_04_{i + 1}\"\n",
    "        data1 = np.array(list(likelihood_dict[key1].values()))\n",
    "        data2 = np.array(list(likelihood_dict[key2].values()))\n",
    "\n",
    "        w, p = stats.mannwhitneyu(data1, data2, alternative='greater', use_continuity=True)\n",
    "        print(f\"O_{i + 1}\")\n",
    "        print('Mann-Whitney U', f\"statistic: {w:e}\", f\"p: {p:e}\")"
   ]
  },
  {
   "cell_type": "code",
   "execution_count": null,
   "id": "bd9d4350-b475-4d93-a06a-bbbb54850706",
   "metadata": {},
   "outputs": [],
   "source": []
  }
 ],
 "metadata": {
  "kernelspec": {
   "display_name": "Python 3 (ipykernel)",
   "language": "python",
   "name": "python3"
  },
  "language_info": {
   "codemirror_mode": {
    "name": "ipython",
    "version": 3
   },
   "file_extension": ".py",
   "mimetype": "text/x-python",
   "name": "python",
   "nbconvert_exporter": "python",
   "pygments_lexer": "ipython3",
   "version": "3.9.7"
  }
 },
 "nbformat": 4,
 "nbformat_minor": 5
}
