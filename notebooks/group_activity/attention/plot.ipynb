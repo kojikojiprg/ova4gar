{
 "cells": [
  {
   "cell_type": "code",
   "execution_count": 16,
   "id": "bdf97311-ebfb-4d19-ac8f-41b12718b224",
   "metadata": {},
   "outputs": [],
   "source": [
    "import os\n",
    "import numpy as np\n",
    "import pandas as pd\n",
    "import matplotlib.pyplot as plt\n",
    "import seaborn as sns\n",
    "import cv2\n",
    "from tqdm import tqdm\n",
    "import sys\n",
    "import glob\n",
    "sys.path.append('../../../src')\n",
    "\n",
    "from common import common, transform, json, video\n",
    "from common.functions import cos_similarity, gauss\n",
    "from common.json import IA_FORMAT, START_IDX, GA_FORMAT, ATTENTION_FORMAT\n",
    "from common.default import PASSING_DEFAULT\n",
    "from common.object_point import OBJECT_POINTS\n",
    "from individual_activity.individual_activity import IndividualActivity\n",
    "from display.individual_activity import disp_individual_activity\n",
    "from display.tracking import disp_tracking\n",
    "from display.heatmap import Heatmap"
   ]
  },
  {
   "cell_type": "markdown",
   "id": "70d29272-6985-4eee-be98-9223b6acf253",
   "metadata": {},
   "source": [
    "# Attention をロード"
   ]
  },
  {
   "cell_type": "code",
   "execution_count": 34,
   "id": "f852e8b6-11b1-407d-8c27-a0f564fb0716",
   "metadata": {},
   "outputs": [],
   "source": [
    "# group attention のデータはまだない\n",
    "data_settings = [\n",
    "    {'room_num': '02', 'date': '20210903', 'option': 'attention'},\n",
    "    {'room_num': '08', 'date': '20210915', 'option': 'attention'},\n",
    "    {'room_num': '09', 'date': '20210706', 'option': 'attention'}\n",
    "]"
   ]
  },
  {
   "cell_type": "code",
   "execution_count": 35,
   "id": "b60bf0e4-51e9-4772-8191-a8123f9b87fe",
   "metadata": {
    "tags": []
   },
   "outputs": [
    {
     "name": "stdout",
     "output_type": "stream",
     "text": [
      "{'room_num': '02', 'date': '20210903', 'option': 'attention'}\n"
     ]
    },
    {
     "name": "stderr",
     "output_type": "stream",
     "text": [
      "100%|████████████████████████████████████████████████████████████████████████████████████████████████████████████████████████████████████████████████████| 4/4 [00:08<00:00,  2.20s/it]\n"
     ]
    },
    {
     "name": "stdout",
     "output_type": "stream",
     "text": [
      "{'room_num': '08', 'date': '20210915', 'option': 'attention'}\n"
     ]
    },
    {
     "name": "stderr",
     "output_type": "stream",
     "text": [
      "100%|████████████████████████████████████████████████████████████████████████████████████████████████████████████████████████████████████████████████████| 4/4 [00:10<00:00,  2.55s/it]\n"
     ]
    },
    {
     "name": "stdout",
     "output_type": "stream",
     "text": [
      "{'room_num': '09', 'date': '20210706', 'option': 'attention'}\n"
     ]
    },
    {
     "name": "stderr",
     "output_type": "stream",
     "text": [
      "100%|████████████████████████████████████████████████████████████████████████████████████████████████████████████████████████████████████████████████████| 4/4 [00:13<00:00,  3.37s/it]\n"
     ]
    }
   ],
   "source": [
    "attentions = {}\n",
    "for setting in data_settings:\n",
    "    print(setting)\n",
    "    room_num = setting['room_num']\n",
    "    date = setting['date']\n",
    "    opt = setting['option']\n",
    "    \n",
    "    if opt is None:\n",
    "        dir_path = f'{common.data_dir}/{room_num}/{date}/*'\n",
    "    else:\n",
    "        dir_path = f'{common.data_dir}/{room_num}/{date}/{opt}/*'\n",
    "    dirs = glob.glob(dir_path)\n",
    "    if dirs[-1].endswith('make_csv.csv'):\n",
    "        dirs = dirs[:-1]\n",
    "    \n",
    "    for i, path in enumerate(tqdm(dirs)):\n",
    "        path = f'{path}/json/group_activity.json'\n",
    "        json_data = json.load(path)\n",
    "        key = f\"{room_num}_{date}_{i + 1:02d}\"\n",
    "        attentions[key] = json_data[\"attention\"]"
   ]
  },
  {
   "cell_type": "markdown",
   "id": "8b179862-b238-474b-9d77-23fcbf6175f1",
   "metadata": {},
   "source": [
    "# 対象物のスコアを計算\n",
    "https://qiita.com/masataka46/items/cb5b05090746c7f3b826"
   ]
  },
  {
   "cell_type": "code",
   "execution_count": 36,
   "id": "317d12c4-12b9-4a6c-941a-1c8639773619",
   "metadata": {},
   "outputs": [],
   "source": [
    "def likelihood(object_point, attention_data, sigma=50):\n",
    "    px = object_point[0]\n",
    "    py = object_point[1]\n",
    "    \n",
    "    value_dict = {}\n",
    "    for data in tqdm(attention_data):\n",
    "        frame_num = data[ATTENTION_FORMAT[0]]\n",
    "        x, y = data[ATTENTION_FORMAT[2]]\n",
    "        count = data[ATTENTION_FORMAT[4]]\n",
    "        gauss = np.exp(-((x - px)**2 + (y - py)**2) / (2 * sigma ** 2))\n",
    "        \n",
    "        if frame_num not in value_dict:\n",
    "            value_dict[frame_num] = {\"counts\": [], \"weights\": []}\n",
    "            \n",
    "        value_dict[frame_num][\"counts\"].append(count)\n",
    "        value_dict[frame_num][\"weights\"].append(gauss + 1e-10)\n",
    "        \n",
    "    means = {}\n",
    "    for frame_num, value in value_dict.items():\n",
    "        means[frame_num] = np.average(value[\"counts\"], weights=value[\"weights\"])\n",
    "    \n",
    "    return means"
   ]
  },
  {
   "cell_type": "code",
   "execution_count": 37,
   "id": "ae389813-d9d0-4f8e-9e9c-80413ab6c0e8",
   "metadata": {
    "scrolled": true,
    "tags": []
   },
   "outputs": [
    {
     "name": "stderr",
     "output_type": "stream",
     "text": [
      "100%|████████████████████████████████████████████████████████████████████████████████████████████████████████████████████████████████████| 1860068/1860068 [00:03<00:00, 591257.64it/s]\n",
      "100%|████████████████████████████████████████████████████████████████████████████████████████████████████████████████████████████████████| 2240198/2240198 [00:03<00:00, 604438.93it/s]\n",
      "100%|████████████████████████████████████████████████████████████████████████████████████████████████████████████████████████████████████| 1449954/1449954 [00:02<00:00, 605089.04it/s]\n",
      "100%|██████████████████████████████████████████████████████████████████████████████████████████████████████████████████████████████████████| 917851/917851 [00:01<00:00, 594037.95it/s]\n",
      "100%|██████████████████████████████████████████████████████████████████████████████████████████████████████████████████████████████████████| 917851/917851 [00:01<00:00, 609196.04it/s]\n",
      "100%|██████████████████████████████████████████████████████████████████████████████████████████████████████████████████████████████████████| 917851/917851 [00:01<00:00, 585505.50it/s]\n",
      "100%|████████████████████████████████████████████████████████████████████████████████████████████████████████████████████████████████████| 1669592/1669592 [00:02<00:00, 595812.01it/s]\n",
      "100%|████████████████████████████████████████████████████████████████████████████████████████████████████████████████████████████████████| 2449839/2449839 [00:04<00:00, 599068.42it/s]\n",
      "100%|████████████████████████████████████████████████████████████████████████████████████████████████████████████████████████████████████| 1852165/1852165 [00:03<00:00, 582242.05it/s]\n",
      "100%|██████████████████████████████████████████████████████████████████████████████████████████████████████████████████████████████████████| 310924/310924 [00:00<00:00, 598444.44it/s]\n",
      "100%|██████████████████████████████████████████████████████████████████████████████████████████████████████████████████████████████████████| 310924/310924 [00:00<00:00, 611240.81it/s]\n",
      "100%|██████████████████████████████████████████████████████████████████████████████████████████████████████████████████████████████████████| 310924/310924 [00:00<00:00, 591587.81it/s]\n",
      "100%|████████████████████████████████████████████████████████████████████████████████████████████████████████████████████████████████████| 1275900/1275900 [00:02<00:00, 592603.96it/s]\n",
      "100%|████████████████████████████████████████████████████████████████████████████████████████████████████████████████████████████████████| 2666004/2666004 [00:04<00:00, 599121.73it/s]\n",
      "100%|████████████████████████████████████████████████████████████████████████████████████████████████████████████████████████████████████| 1720718/1720718 [00:02<00:00, 597184.17it/s]\n",
      "100%|████████████████████████████████████████████████████████████████████████████████████████████████████████████████████████████████████| 1440505/1440505 [00:02<00:00, 582769.84it/s]\n",
      "100%|████████████████████████████████████████████████████████████████████████████████████████████████████████████████████████████████████| 1440505/1440505 [00:02<00:00, 582850.63it/s]\n",
      "100%|████████████████████████████████████████████████████████████████████████████████████████████████████████████████████████████████████| 1440505/1440505 [00:02<00:00, 600052.90it/s]\n"
     ]
    }
   ],
   "source": [
    "likelihood_dict = {}\n",
    "for key, attention_data in attentions.items():\n",
    "    room_num, date, num = key.split(\"_\")\n",
    "    object_points = OBJECT_POINTS[room_num][date][num]\n",
    "    for i, object_point in enumerate(object_points):\n",
    "        value = likelihood(object_point, attention_data)\n",
    "        new_key = f\"{key}_{i + 1}\"\n",
    "        likelihood_dict[new_key] = value"
   ]
  },
  {
   "cell_type": "markdown",
   "id": "7000bc71-ca5f-44f2-a6b2-e6ece15c106a",
   "metadata": {},
   "source": [
    "# 動画作成"
   ]
  },
  {
   "cell_type": "code",
   "execution_count": 94,
   "id": "0e916fec-b17e-483e-a45f-f668d106885e",
   "metadata": {},
   "outputs": [],
   "source": [
    "def display_likelihood(object_point, value, heatmap_cls, field, max_radius=20, alpha=0.7):\n",
    "    copy = field.copy()\n",
    "    \n",
    "    color = heatmap_cls.colormap(value)\n",
    "\n",
    "    # calc radius of circle\n",
    "    max_value = heatmap_cls.xmax\n",
    "    radius = int(value / max_value * max_radius)\n",
    "    if radius == 0:\n",
    "        radius = 1\n",
    "    # plot the heatmap circle\n",
    "    cv2.circle(copy, object_point, radius, color, thickness=-1)\n",
    "\n",
    "    # plot the center of object\n",
    "    cv2.circle(copy, tuple(object_point), 3, (0, 0, 0), -1)\n",
    "    \n",
    "    point = np.array(object_point) - [50, 10]\n",
    "    point = tuple(point)\n",
    "    cv2.putText(copy, f\"{value:.1f}\", point, cv2.FONT_HERSHEY_SIMPLEX, 1.5, color, 2)\n",
    "    \n",
    "    field = cv2.addWeighted(copy, alpha, field, 1 - alpha, 0)\n",
    "    \n",
    "    # plt.imshow(field)\n",
    "    # plt.show()\n",
    "\n",
    "    return field"
   ]
  },
  {
   "cell_type": "code",
   "execution_count": 95,
   "id": "da66f920-066e-48c2-a2cb-e323d89a82d4",
   "metadata": {},
   "outputs": [],
   "source": [
    "def combine_image(frame, field):\n",
    "    ratio = 1 - (field.shape[0] - frame.shape[0]) / field.shape[0]\n",
    "    size = [int(field.shape[1] * ratio), int(field.shape[0] * ratio)]\n",
    "    if frame.shape[0] != size[1]:\n",
    "        # 丸め誤差が起きる\n",
    "        size[1] = frame.shape[0]\n",
    "    field = cv2.resize(field, size)\n",
    "    frame = np.concatenate([frame, field], axis=1)\n",
    "\n",
    "    return frame\n",
    "\n",
    "\n",
    "def display(\n",
    "    video_path,\n",
    "    out_path,\n",
    "    individual_activity_json_path,\n",
    "    likelihood_data,\n",
    "    heatmap_cls,\n",
    "    field,\n",
    "    object_point,\n",
    "):\n",
    "    print(out_path)\n",
    "    print(\"Writing video frames...\")\n",
    "\n",
    "    # load datas\n",
    "    individual_activity_datas = json.load(individual_activity_json_path)\n",
    "\n",
    "    # load video\n",
    "    capture = video.Capture(video_path)\n",
    "\n",
    "    # frames_lst = [[] for _ in range(len(out_paths))]\n",
    "    cmb_img = combine_image(capture.read(), field)\n",
    "    size = cmb_img.shape[1::-1]\n",
    "    writer = video.Writer(out_path, capture.fps, size)\n",
    "\n",
    "    # reset capture start position\n",
    "    capture.set_pos_frame(0)\n",
    "\n",
    "    for frame_num in tqdm(range(capture.frame_num)):\n",
    "        # read frame\n",
    "        frame = capture.read()\n",
    "\n",
    "        # フレームごとにデータを取得する\n",
    "        frame_individual_activity_datas = [\n",
    "            data for data in individual_activity_datas if data[\"frame\"] == frame_num\n",
    "        ]\n",
    "\n",
    "        # フレーム番号を表示\n",
    "        cv2.putText(\n",
    "            frame,\n",
    "            \"Frame:{}\".format(frame_num + 1),\n",
    "            (10, 50),\n",
    "            cv2.FONT_HERSHEY_PLAIN,\n",
    "            2,\n",
    "            (0, 0, 0),\n",
    "        )\n",
    "\n",
    "        # copy raw field image\n",
    "        field_tmp = field.copy()\n",
    "\n",
    "        # draw tracking result\n",
    "        frame = disp_tracking(frame_individual_activity_datas, frame)\n",
    "\n",
    "        # draw individual activity\n",
    "        field_tmp = disp_individual_activity(\n",
    "            frame_individual_activity_datas, field_tmp\n",
    "        )\n",
    "\n",
    "        # draw likelihood\n",
    "        field_tmp = display_likelihood(object_point, likelihood_data[frame_num], heatmap_cls, field_tmp)\n",
    "\n",
    "        # write video\n",
    "        writer.write(combine_image(frame, field_tmp))\n",
    "\n",
    "\n",
    "def get_field(room_num):\n",
    "    field_path = os.path.join(common.data_dir, room_num, 'field.png')\n",
    "    return cv2.imread(field_path)"
   ]
  },
  {
   "cell_type": "code",
   "execution_count": 96,
   "id": "84205a1e-d6bd-43e6-8c2a-9c5c01b1ab64",
   "metadata": {
    "scrolled": true,
    "tags": []
   },
   "outputs": [
    {
     "name": "stdout",
     "output_type": "stream",
     "text": [
      "{'room_num': '02', 'date': '20210903', 'option': 'attention'}\n",
      "(50, 780)\n",
      "1.7324492734044665\n",
      "C:\\Users\\k2111\\program\\research\\data/02/20210903/attention\\01\\out\\attention_object1.mp4\n",
      "Writing video frames...\n"
     ]
    },
    {
     "name": "stderr",
     "output_type": "stream",
     "text": [
      "100%|██████████████████████████████████████████████████████████████████████████████████████████████████████████████████████████████████████████████| 1800/1800 [00:30<00:00, 59.47it/s]\n"
     ]
    },
    {
     "name": "stdout",
     "output_type": "stream",
     "text": [
      "(525, 625)\n",
      "1.7573714559456808\n",
      "C:\\Users\\k2111\\program\\research\\data/02/20210903/attention\\02\\out\\attention_object1.mp4\n",
      "Writing video frames...\n"
     ]
    },
    {
     "name": "stderr",
     "output_type": "stream",
     "text": [
      "100%|██████████████████████████████████████████████████████████████████████████████████████████████████████████████████████████████████████████████| 1800/1800 [00:29<00:00, 61.53it/s]\n"
     ]
    },
    {
     "name": "stdout",
     "output_type": "stream",
     "text": [
      "(367, 415)\n",
      "1.2246747368184567\n",
      "C:\\Users\\k2111\\program\\research\\data/02/20210903/attention\\03\\out\\attention_object1.mp4\n",
      "Writing video frames...\n"
     ]
    },
    {
     "name": "stderr",
     "output_type": "stream",
     "text": [
      "100%|██████████████████████████████████████████████████████████████████████████████████████████████████████████████████████████████████████████████| 1800/1800 [00:28<00:00, 63.06it/s]\n"
     ]
    },
    {
     "name": "stdout",
     "output_type": "stream",
     "text": [
      "(50, 780)\n",
      "1.2886243308015541\n",
      "C:\\Users\\k2111\\program\\research\\data/02/20210903/attention\\04\\out\\attention_object1.mp4\n",
      "Writing video frames...\n"
     ]
    },
    {
     "name": "stderr",
     "output_type": "stream",
     "text": [
      "100%|██████████████████████████████████████████████████████████████████████████████████████████████████████████████████████████████████████████████| 1800/1800 [00:27<00:00, 66.53it/s]\n"
     ]
    },
    {
     "name": "stdout",
     "output_type": "stream",
     "text": [
      "(525, 625)\n",
      "1.0281971298711396\n",
      "C:\\Users\\k2111\\program\\research\\data/02/20210903/attention\\04\\out\\attention_object2.mp4\n",
      "Writing video frames...\n"
     ]
    },
    {
     "name": "stderr",
     "output_type": "stream",
     "text": [
      "100%|██████████████████████████████████████████████████████████████████████████████████████████████████████████████████████████████████████████████| 1800/1800 [00:27<00:00, 65.85it/s]\n"
     ]
    },
    {
     "name": "stdout",
     "output_type": "stream",
     "text": [
      "(367, 415)\n",
      "1.3709483699900067\n",
      "C:\\Users\\k2111\\program\\research\\data/02/20210903/attention\\04\\out\\attention_object3.mp4\n",
      "Writing video frames...\n"
     ]
    },
    {
     "name": "stderr",
     "output_type": "stream",
     "text": [
      "100%|██████████████████████████████████████████████████████████████████████████████████████████████████████████████████████████████████████████████| 1800/1800 [00:27<00:00, 65.46it/s]\n"
     ]
    },
    {
     "name": "stdout",
     "output_type": "stream",
     "text": [
      "{'room_num': '08', 'date': '20210915', 'option': 'attention'}\n",
      "(670, 120)\n",
      "1.4103014369677\n",
      "C:\\Users\\k2111\\program\\research\\data/08/20210915/attention\\01\\out\\attention_object1.mp4\n",
      "Writing video frames...\n"
     ]
    },
    {
     "name": "stderr",
     "output_type": "stream",
     "text": [
      "100%|██████████████████████████████████████████████████████████████████████████████████████████████████████████████████████████████████████████████| 1872/1872 [00:30<00:00, 62.13it/s]\n"
     ]
    },
    {
     "name": "stdout",
     "output_type": "stream",
     "text": [
      "(367, 530)\n",
      "1.6751617004511374\n",
      "C:\\Users\\k2111\\program\\research\\data/08/20210915/attention\\02\\out\\attention_object1.mp4\n",
      "Writing video frames...\n"
     ]
    },
    {
     "name": "stderr",
     "output_type": "stream",
     "text": [
      "100%|██████████████████████████████████████████████████████████████████████████████████████████████████████████████████████████████████████████████| 1872/1872 [00:31<00:00, 59.13it/s]\n"
     ]
    },
    {
     "name": "stdout",
     "output_type": "stream",
     "text": [
      "(367, 415)\n",
      "1.9612147819649488\n",
      "C:\\Users\\k2111\\program\\research\\data/08/20210915/attention\\03\\out\\attention_object1.mp4\n",
      "Writing video frames...\n"
     ]
    },
    {
     "name": "stderr",
     "output_type": "stream",
     "text": [
      "100%|██████████████████████████████████████████████████████████████████████████████████████████████████████████████████████████████████████████████| 1872/1872 [00:31<00:00, 59.54it/s]\n"
     ]
    },
    {
     "name": "stdout",
     "output_type": "stream",
     "text": [
      "(670, 120)\n",
      "0.6359850636289455\n",
      "C:\\Users\\k2111\\program\\research\\data/08/20210915/attention\\04\\out\\attention_object1.mp4\n",
      "Writing video frames...\n"
     ]
    },
    {
     "name": "stderr",
     "output_type": "stream",
     "text": [
      "100%|██████████████████████████████████████████████████████████████████████████████████████████████████████████████████████████████████████████████| 1872/1872 [00:27<00:00, 68.42it/s]\n"
     ]
    },
    {
     "name": "stdout",
     "output_type": "stream",
     "text": [
      "(365, 530)\n",
      "1.1185994262755938\n",
      "C:\\Users\\k2111\\program\\research\\data/08/20210915/attention\\04\\out\\attention_object2.mp4\n",
      "Writing video frames...\n"
     ]
    },
    {
     "name": "stderr",
     "output_type": "stream",
     "text": [
      "100%|██████████████████████████████████████████████████████████████████████████████████████████████████████████████████████████████████████████████| 1872/1872 [00:27<00:00, 68.96it/s]\n"
     ]
    },
    {
     "name": "stdout",
     "output_type": "stream",
     "text": [
      "(367, 415)\n",
      "1.1166650091021928\n",
      "C:\\Users\\k2111\\program\\research\\data/08/20210915/attention\\04\\out\\attention_object3.mp4\n",
      "Writing video frames...\n"
     ]
    },
    {
     "name": "stderr",
     "output_type": "stream",
     "text": [
      "100%|██████████████████████████████████████████████████████████████████████████████████████████████████████████████████████████████████████████████| 1872/1872 [00:27<00:00, 69.24it/s]\n"
     ]
    },
    {
     "name": "stdout",
     "output_type": "stream",
     "text": [
      "{'room_num': '09', 'date': '20210706', 'option': 'attention'}\n",
      "(685, 780)\n",
      "2.1784558195664507\n",
      "C:\\Users\\k2111\\program\\research\\data/09/20210706/attention\\01\\out\\attention_object1.mp4\n",
      "Writing video frames...\n"
     ]
    },
    {
     "name": "stderr",
     "output_type": "stream",
     "text": [
      "100%|██████████████████████████████████████████████████████████████████████████████████████████████████████████████████████████████████████████████| 1800/1800 [00:30<00:00, 58.95it/s]\n"
     ]
    },
    {
     "name": "stdout",
     "output_type": "stream",
     "text": [
      "(510, 800)\n",
      "2.045087913834783\n",
      "C:\\Users\\k2111\\program\\research\\data/09/20210706/attention\\02\\out\\attention_object1.mp4\n",
      "Writing video frames...\n"
     ]
    },
    {
     "name": "stderr",
     "output_type": "stream",
     "text": [
      "100%|██████████████████████████████████████████████████████████████████████████████████████████████████████████████████████████████████████████████| 1800/1800 [00:31<00:00, 57.36it/s]\n"
     ]
    },
    {
     "name": "stdout",
     "output_type": "stream",
     "text": [
      "(367, 415)\n",
      "1.8304091222854117\n",
      "C:\\Users\\k2111\\program\\research\\data/09/20210706/attention\\03\\out\\attention_object1.mp4\n",
      "Writing video frames...\n"
     ]
    },
    {
     "name": "stderr",
     "output_type": "stream",
     "text": [
      "100%|██████████████████████████████████████████████████████████████████████████████████████████████████████████████████████████████████████████████| 1800/1800 [00:28<00:00, 62.89it/s]\n"
     ]
    },
    {
     "name": "stdout",
     "output_type": "stream",
     "text": [
      "(685, 780)\n",
      "1.1656092131083338\n",
      "C:\\Users\\k2111\\program\\research\\data/09/20210706/attention\\04\\out\\attention_object1.mp4\n",
      "Writing video frames...\n"
     ]
    },
    {
     "name": "stderr",
     "output_type": "stream",
     "text": [
      "100%|██████████████████████████████████████████████████████████████████████████████████████████████████████████████████████████████████████████████| 1800/1800 [00:28<00:00, 63.12it/s]\n"
     ]
    },
    {
     "name": "stdout",
     "output_type": "stream",
     "text": [
      "(510, 800)\n",
      "1.363202807593187\n",
      "C:\\Users\\k2111\\program\\research\\data/09/20210706/attention\\04\\out\\attention_object2.mp4\n",
      "Writing video frames...\n"
     ]
    },
    {
     "name": "stderr",
     "output_type": "stream",
     "text": [
      "100%|██████████████████████████████████████████████████████████████████████████████████████████████████████████████████████████████████████████████| 1800/1800 [00:28<00:00, 62.63it/s]\n"
     ]
    },
    {
     "name": "stdout",
     "output_type": "stream",
     "text": [
      "(367, 415)\n",
      "1.4189061748668301\n",
      "C:\\Users\\k2111\\program\\research\\data/09/20210706/attention\\04\\out\\attention_object3.mp4\n",
      "Writing video frames...\n"
     ]
    },
    {
     "name": "stderr",
     "output_type": "stream",
     "text": [
      "100%|██████████████████████████████████████████████████████████████████████████████████████████████████████████████████████████████████████████████| 1800/1800 [00:28<00:00, 62.63it/s]\n"
     ]
    }
   ],
   "source": [
    "for setting in data_settings:\n",
    "    print(setting)\n",
    "    room_num = setting['room_num']\n",
    "    date = setting['date']\n",
    "    opt = setting['option']\n",
    "    \n",
    "    if opt is None:\n",
    "        dir_path = f'{common.data_dir}/{room_num}/{date}/*'\n",
    "    else:\n",
    "        dir_path = f'{common.data_dir}/{room_num}/{date}/{opt}/*'\n",
    "    dirs = glob.glob(dir_path)\n",
    "    if dirs[-1].endswith('make_csv.csv'):\n",
    "        dirs = dirs[:-1]\n",
    "        \n",
    "    field = get_field(room_num)\n",
    "    \n",
    "    for i, path in enumerate(dirs):\n",
    "        num = f\"{i + 1:02d}\"\n",
    "        ia_json_path = os.path.join(path, 'json', 'individual_activity.json')\n",
    "        video_path = os.path.join(path, 'video', f'pose_{num}.mp4')\n",
    "        out_dir = os.path.join(path, 'out')\n",
    "        cap = video.Capture(video_path)\n",
    "        \n",
    "        object_points = OBJECT_POINTS[room_num][date][num]\n",
    "        for j, object_point in enumerate(object_points):\n",
    "            print(object_point)\n",
    "            out_path = os.path.join(out_dir, f'attention_object{j + 1}.mp4')\n",
    "            key = f\"{room_num}_{date}_{i + 1:02d}_{j + 1}\"\n",
    "            likelihood_data = likelihood_dict[key]\n",
    "            max_val = np.max(list(likelihood_data.values()))\n",
    "            print(max_val)\n",
    "            heatmap_cls = Heatmap([0, max_val])\n",
    "            display(\n",
    "                video_path,\n",
    "                out_path,\n",
    "                ia_json_path,\n",
    "                likelihood_data,\n",
    "                heatmap_cls,\n",
    "                field,\n",
    "                object_point,\n",
    "            )"
   ]
  },
  {
   "cell_type": "markdown",
   "id": "a896ccaa-0272-471f-9d31-8e4a3a6ed6a1",
   "metadata": {},
   "source": [
    "# 修論用解析\n",
    "## ヒストグラム、箱ひげ図"
   ]
  },
  {
   "cell_type": "code",
   "execution_count": 103,
   "id": "59fcf66c-3f4a-4206-87d3-b70a63a12329",
   "metadata": {},
   "outputs": [],
   "source": [
    "sns.set()\n",
    "sns.set_style('whitegrid')\n",
    "\n",
    "def hist(data1, data2, label1, label2, ax, path=None):\n",
    "    df = pd.DataFrame({\n",
    "        label1: data1,\n",
    "        label2: data2\n",
    "    })\n",
    "    ax.hist(df, bins=20, range=(0, 2.5), label=df.columns)\n",
    "    ax.set_ylabel('Attention Score')\n",
    "    ax.legend()\n",
    "    return ax\n",
    "\n",
    "def boxplot(data1, data2, label1, label2, ax, path=None):\n",
    "    df = pd.DataFrame({\n",
    "        label1: data1,\n",
    "        label2: data2\n",
    "    })\n",
    "    df = pd.melt(df)\n",
    "    sns.boxplot(x='variable', y='value', data=df, showfliers=False, ax=ax)\n",
    "    # sns.stripplot(x='variable', y='value', data=df, jitter=True, color='black', alpha=0.1, ax=ax)\n",
    "    ax.set_ylabel('Attention Score')\n",
    "    ax.set_xlabel('')\n",
    "    ax.set_ylim((-0.05, 2.55))\n",
    "    return ax"
   ]
  },
  {
   "cell_type": "code",
   "execution_count": 104,
   "id": "5bc810f8-8db9-48b8-a500-ed9b3df38a2a",
   "metadata": {
    "tags": []
   },
   "outputs": [
    {
     "name": "stdout",
     "output_type": "stream",
     "text": [
      "{'room_num': '02', 'date': '20210903', 'option': 'attention'}\n",
      "{'room_num': '08', 'date': '20210915', 'option': 'attention'}\n",
      "{'room_num': '09', 'date': '20210706', 'option': 'attention'}\n"
     ]
    },
    {
     "data": {
      "image/png": "[encoded data removed]",
      "text/plain": [
       "<Figure size 1440x360 with 3 Axes>"
      ]
     },
     "metadata": {},
     "output_type": "display_data"
    },
    {
     "data": {
      "image/png": "[encoded data removed]",
      "text/plain": [
       "<Figure size 1440x360 with 3 Axes>"
      ]
     },
     "metadata": {},
     "output_type": "display_data"
    },
    {
     "data": {
      "image/png": "[encoded data removed]",
      "text/plain": [
       "<Figure size 1440x360 with 3 Axes>"
      ]
     },
     "metadata": {},
     "output_type": "display_data"
    },
    {
     "data": {
      "image/png": "[encoded data removed]",
      "text/plain": [
       "<Figure size 1440x360 with 3 Axes>"
      ]
     },
     "metadata": {},
     "output_type": "display_data"
    },
    {
     "data": {
      "image/png": "[encoded data removed]",
      "text/plain": [
       "<Figure size 1440x360 with 3 Axes>"
      ]
     },
     "metadata": {},
     "output_type": "display_data"
    },
    {
     "data": {
      "image/png": "[encoded data removed]",
      "text/plain": [
       "<Figure size 1440x360 with 3 Axes>"
      ]
     },
     "metadata": {},
     "output_type": "display_data"
    }
   ],
   "source": [
    "for setting in data_settings:\n",
    "    print(setting)\n",
    "    room_num = setting['room_num']\n",
    "    date = setting['date']\n",
    "    opt = setting['option']\n",
    "    \n",
    "    fig1 = plt.figure(figsize=(20, 5))\n",
    "    fig2 = plt.figure(figsize=(20, 5))\n",
    "    for i in range(3):\n",
    "        ax1 = fig1.add_subplot(1, 3, i + 1)\n",
    "        ax2 = fig2.add_subplot(1, 3, i + 1)\n",
    "        key1 = f\"{room_num}_{date}_{i + 1:02d}_{1}\"\n",
    "        key2 = f\"{room_num}_{date}_04_{i + 1}\"\n",
    "        data1 = list(likelihood_dict[key1].values())\n",
    "        data2 = list(likelihood_dict[key2].values())\n",
    "        \n",
    "        hist(data1, data2, f'O{i + 1}-pos', f'O{i + 1}-nega', ax1)\n",
    "        boxplot(data1, data2, f'O{i + 1}-pos', f'O{i + 1}-nega', ax2)"
   ]
  },
  {
   "cell_type": "markdown",
   "id": "7ad93acb-91b6-45c1-bc82-341745010ed2",
   "metadata": {},
   "source": [
    "## 検定"
   ]
  },
  {
   "cell_type": "code",
   "execution_count": 51,
   "id": "34f48097-8a44-4bf0-b6a8-e46e8ec99513",
   "metadata": {},
   "outputs": [],
   "source": [
    "from scipy import stats"
   ]
  },
  {
   "cell_type": "code",
   "execution_count": 75,
   "id": "cdefc2c8-fedb-4478-971c-1176e1f340c8",
   "metadata": {},
   "outputs": [
    {
     "name": "stdout",
     "output_type": "stream",
     "text": [
      "{'room_num': '02', 'date': '20210903', 'option': 'attention'}\n",
      "2.550944862358959e-245\n",
      "1.2970924532418895e-287\n",
      "7.663191565364725e-164\n",
      "{'room_num': '08', 'date': '20210915', 'option': 'attention'}\n",
      "6.020036578230754e-293\n",
      "2.5252320465146772e-259\n",
      "6.068390014031044e-298\n",
      "{'room_num': '09', 'date': '20210706', 'option': 'attention'}\n",
      "1.2770531709975783e-295\n",
      "2.5807011858660775e-278\n",
      "5.0249083575693396e-244\n"
     ]
    }
   ],
   "source": [
    "for setting in data_settings:\n",
    "    print(setting)\n",
    "    room_num = setting['room_num']\n",
    "    date = setting['date']\n",
    "    opt = setting['option']\n",
    "    \n",
    "    for i in range(3):\n",
    "        key1 = f\"{room_num}_{date}_{i + 1:02d}_{1}\"\n",
    "        key2 = f\"{room_num}_{date}_04_{i + 1}\"\n",
    "        data1 = list(likelihood_dict[key1].values())\n",
    "        data2 = list(likelihood_dict[key2].values())\n",
    "\n",
    "        w = stats.wilcoxon(data1, data2)\n",
    "        print(w.pvalue)"
   ]
  },
  {
   "cell_type": "code",
   "execution_count": null,
   "id": "a1010a55-8946-4d05-9de6-7534966a7d44",
   "metadata": {},
   "outputs": [],
   "source": []
  }
 ],
 "metadata": {
  "kernelspec": {
   "display_name": "Python 3 (ipykernel)",
   "language": "python",
   "name": "python3"
  },
  "language_info": {
   "codemirror_mode": {
    "name": "ipython",
    "version": 3
   },
   "file_extension": ".py",
   "mimetype": "text/x-python",
   "name": "python",
   "nbconvert_exporter": "python",
   "pygments_lexer": "ipython3",
   "version": "3.9.7"
  }
 },
 "nbformat": 4,
 "nbformat_minor": 5
}
