{
 "cells": [
  {
   "cell_type": "code",
   "execution_count": 1,
   "id": "a0138b73-0b26-4273-b729-3c823f3cdb0d",
   "metadata": {},
   "outputs": [],
   "source": [
    "import sys\n",
    "sys.path.append('../../../../src')\n",
    "from common import common, transform, json\n",
    "from common.functions import normalize_vector, cos_similarity, gauss\n",
    "from tracker import main as tr\n",
    "from individual_activity import main as ia\n",
    "from group_activity import main as ga\n",
    "from display.heatmap import Heatmap\n",
    "from display.display import display\n",
    "from common.video import Video\n",
    "import os\n",
    "import numpy as np\n",
    "import pandas as pd\n",
    "import matplotlib.pyplot as plt\n",
    "import cv2\n",
    "from tqdm import tqdm"
   ]
  },
  {
   "cell_type": "markdown",
   "id": "5567ecfe-252a-4796-b952-e3b602e19d58",
   "metadata": {
    "tags": []
   },
   "source": [
    "# Indivisual Activity をロード"
   ]
  },
  {
   "cell_type": "code",
   "execution_count": 2,
   "id": "b2238615-525d-4f38-ab09-dc5fec847149",
   "metadata": {},
   "outputs": [],
   "source": [
    "room_num = '09'\n",
    "date = '20210304'\n",
    "name = 'gaze1-1'"
   ]
  },
  {
   "cell_type": "code",
   "execution_count": 3,
   "id": "4b22c5e4-3e04-408f-8d6a-368b39df51e0",
   "metadata": {},
   "outputs": [],
   "source": [
    "individual_activity_json = os.path.join(\n",
    "    common.data_dir, '{0}/{1}/{2}/json/individual_activity.json'.format(room_num, date, name))\n",
    "field_path = os.path.join(common.data_dir, '{}/field0304.png'.format(room_num))"
   ]
  },
  {
   "cell_type": "code",
   "execution_count": 4,
   "id": "04bd8b4e-f7c2-4bf1-8e8e-f9195e42846f",
   "metadata": {},
   "outputs": [],
   "source": [
    "# homography\n",
    "field_raw = cv2.imread(field_path)\n",
    "p_video = common.homo[room_num + '_0304'][0]\n",
    "p_field = common.homo[room_num + '_0304'][1]\n",
    "homo = transform.Homography(p_video, p_field, field_raw.shape)"
   ]
  },
  {
   "cell_type": "code",
   "execution_count": 5,
   "id": "78452c1d-a956-428b-82fc-f1a32e928f45",
   "metadata": {},
   "outputs": [],
   "source": [
    "individual_activity_data = json_io.load(individual_activity_json)"
   ]
  },
  {
   "cell_type": "code",
   "execution_count": 6,
   "id": "b22ab5e5-336e-410f-8d66-b118703d46bc",
   "metadata": {},
   "outputs": [],
   "source": [
    "from common.json_io import IA_FORMAT\n",
    "from individual_activity.individual_activity import IndividualActivity\n",
    "\n",
    "def make_individuals(datas, homo):\n",
    "    individuals = {}\n",
    "    for data in datas:\n",
    "        label = data[IA_FORMAT[0]]\n",
    "        frame_num = data[IA_FORMAT[1]]\n",
    "        tracking_point = data[IA_FORMAT[2]]\n",
    "\n",
    "        if label not in individuals:\n",
    "            ia = IndividualActivity(label, homo)\n",
    "            individuals[label] = ia\n",
    "        else:\n",
    "            ia = individuals[label]\n",
    "\n",
    "        ia.tracking_points[frame_num] = tracking_point\n",
    "        for key in IA_FORMAT[3:]:\n",
    "            ia.indicator_dict[key][frame_num] = data[key]\n",
    "            \n",
    "    return list(individuals.values())"
   ]
  },
  {
   "cell_type": "code",
   "execution_count": 7,
   "id": "14d0d4ce-dbb8-4f09-af1b-8d85c283824b",
   "metadata": {
    "tags": []
   },
   "outputs": [],
   "source": [
    "individuals = make_individuals(individual_activity_data, homo)"
   ]
  },
  {
   "cell_type": "markdown",
   "id": "8dc4bce3-9773-4f8e-8964-4bca5a8dbf9f",
   "metadata": {},
   "source": [
    "# 顔の動きを時系列化"
   ]
  },
  {
   "cell_type": "code",
   "execution_count": 8,
   "id": "51865d8d-7a2e-4d4c-9846-86c0fb741981",
   "metadata": {},
   "outputs": [
    {
     "name": "stderr",
     "output_type": "stream",
     "text": [
      "  0%|                                                                                                                                                                  | 0/589 [00:00<?, ?it/s]/Users/koji/program/research/.venv/lib/python3.7/site-packages/ipykernel_launcher.py:12: RuntimeWarning: invalid value encountered in arccos\n",
      "  if sys.path[0] == '':\n",
      "100%|█████████████████████████████████████████████████████████████████████████████████████████████████████████████████████████████████████████████████████| 589/589 [00:00<00:00, 24380.19it/s]\n"
     ]
    },
    {
     "data": {
      "text/plain": [
       "<AxesSubplot:>"
      ]
     },
     "execution_count": 8,
     "metadata": {},
     "output_type": "execute_result"
    },
    {
     "data": {
      "image/png": "[encoded data removed]",
      "text/plain": [
       "<Figure size 432x288 with 1 Axes>"
      ]
     },
     "metadata": {
      "needs_background": "light"
     },
     "output_type": "display_data"
    }
   ],
   "source": [
    "max_frame_num = max([max(individual.tracking_points.keys()) for individual in individuals])\n",
    "\n",
    "face_changes = []\n",
    "for frame_num in tqdm(range(1, max_frame_num)):\n",
    "    face_change = {}\n",
    "    \n",
    "    for individual in individuals:\n",
    "        pre_face = individual.get_data('face_vector', frame_num - 1)\n",
    "        face = individual.get_data('face_vector', frame_num)\n",
    "        if pre_face is None or face is None:\n",
    "            continue\n",
    "        shita = np.arccos(np.dot(pre_face, face))\n",
    "\n",
    "        face_change[individual.id] = np.rad2deg(shita)\n",
    "        \n",
    "    face_changes.append(face_change)\n",
    "    \n",
    "df = pd.DataFrame.from_dict(face_changes)\n",
    "df = df.iloc[:, :3]\n",
    "df = df.fillna(0)\n",
    "df.plot()"
   ]
  },
  {
   "cell_type": "markdown",
   "id": "6a85f2f7-8b9b-41ee-9d34-46b5cc8def9f",
   "metadata": {},
   "source": [
    "# K-NNで異常検知"
   ]
  },
  {
   "cell_type": "code",
   "execution_count": 32,
   "id": "6575c6ed-e698-4f77-8946-1a280b22c70f",
   "metadata": {},
   "outputs": [],
   "source": [
    "from sklearn.neighbors import NearestNeighbors"
   ]
  },
  {
   "cell_type": "code",
   "execution_count": 128,
   "id": "66e6ee08-604d-432c-bdf2-4d31a8edeac4",
   "metadata": {},
   "outputs": [],
   "source": [
    "def embed(lst, dim):\n",
    "    emb = np.empty((0, dim), float)\n",
    "    for i in range(lst.shape[0] - dim + 1):\n",
    "        tmp = np.array(lst[i:i + dim])[::-1].reshape(1, -1)\n",
    "        emb = np.append(emb, tmp, axis=0)\n",
    "    return emb"
   ]
  },
  {
   "cell_type": "code",
   "execution_count": 147,
   "id": "b26bd2dc-42d6-4719-abff-059f6c2c16fa",
   "metadata": {},
   "outputs": [],
   "source": [
    "train_len = 200\n",
    "window = 10\n",
    "\n",
    "train_data = df.iloc[:train_len, 0]\n",
    "train = embed(train_data, window)\n",
    "\n",
    "test_datas = [df.iloc[train_len:, i] for i in range(df.shape[1])]\n",
    "tests = [embed(test_data, window) for test_data in test_datas]"
   ]
  },
  {
   "cell_type": "code",
   "execution_count": 149,
   "id": "543da49c-0c55-495b-bdf3-9e2e8976d4c9",
   "metadata": {},
   "outputs": [
    {
     "data": {
      "text/plain": [
       "NearestNeighbors(n_neighbors=1)"
      ]
     },
     "execution_count": 149,
     "metadata": {},
     "output_type": "execute_result"
    }
   ],
   "source": [
    "model = NearestNeighbors(n_neighbors=1)\n",
    "model.fit(train)"
   ]
  },
  {
   "cell_type": "code",
   "execution_count": 150,
   "id": "78d8f088-c196-44c9-a87c-6a658fb88bcd",
   "metadata": {},
   "outputs": [],
   "source": [
    "pred = [model.kneighbors(test)[0] for test in tests]"
   ]
  },
  {
   "cell_type": "code",
   "execution_count": 153,
   "id": "245b885c-b9c7-4a4f-9463-e0fdf58bd18f",
   "metadata": {},
   "outputs": [
    {
     "data": {
      "text/plain": [
       "[<matplotlib.lines.Line2D at 0x157466310>]"
      ]
     },
     "execution_count": 153,
     "metadata": {},
     "output_type": "execute_result"
    },
    {
     "data": {
      "image/png": "[encoded data removed]",
      "text/plain": [
       "<Figure size 432x288 with 1 Axes>"
      ]
     },
     "metadata": {
      "needs_background": "light"
     },
     "output_type": "display_data"
    }
   ],
   "source": [
    "plt.plot(pred[0])\n",
    "plt.plot(pred[1])\n",
    "plt.plot(pred[2])"
   ]
  },
  {
   "cell_type": "code",
   "execution_count": null,
   "id": "b2f04840-461e-4fb2-a6ee-17111e2a7432",
   "metadata": {},
   "outputs": [],
   "source": []
  }
 ],
 "metadata": {
  "kernelspec": {
   "display_name": "Python 3 (ipykernel)",
   "language": "python",
   "name": "python3"
  },
  "language_info": {
   "codemirror_mode": {
    "name": "ipython",
    "version": 3
   },
   "file_extension": ".py",
   "mimetype": "text/x-python",
   "name": "python",
   "nbconvert_exporter": "python",
   "pygments_lexer": "ipython3",
   "version": "3.9.5"
  }
 },
 "nbformat": 4,
 "nbformat_minor": 5
}
