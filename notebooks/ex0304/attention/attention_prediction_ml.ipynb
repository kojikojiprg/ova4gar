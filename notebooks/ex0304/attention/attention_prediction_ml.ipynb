{
 "cells": [
  {
   "cell_type": "code",
   "execution_count": 1,
   "id": "c7cc24f0-8140-464c-8a42-d6427a4ef95e",
   "metadata": {},
   "outputs": [],
   "source": [
    "import sys\n",
    "sys.path.append('../../../src')\n",
    "from common import common, transform, json\n",
    "from common.functions import normalize_vector, cos_similarity, gauss\n",
    "from tracker import main as tr\n",
    "from individual_activity import main as ia\n",
    "from group_activity import main as ga\n",
    "from display.heatmap import Heatmap\n",
    "from display.display import display\n",
    "from display.video import Video\n",
    "import os\n",
    "import numpy as np\n",
    "import pandas as pd\n",
    "import matplotlib.pyplot as plt\n",
    "import cv2\n",
    "from tqdm import tqdm"
   ]
  },
  {
   "cell_type": "markdown",
   "id": "b246fbcf-2676-447d-a780-8a06bf1774b9",
   "metadata": {},
   "source": [
    "# Indivisual Activity をロード"
   ]
  },
  {
   "cell_type": "code",
   "execution_count": 2,
   "id": "62542c01-e848-43fd-8e4b-35b3f8fc421d",
   "metadata": {},
   "outputs": [],
   "source": [
    "room_num = '09'\n",
    "date = '20210304'\n",
    "name = 'gaze1-3'"
   ]
  },
  {
   "cell_type": "code",
   "execution_count": 3,
   "id": "928521a8-fb94-4176-9564-7b6d4bb34aa1",
   "metadata": {},
   "outputs": [],
   "source": [
    "individual_activity_json = os.path.join(\n",
    "    common.data_dir, '{0}/{1}/{2}/json/individual_activity.json'.format(room_num, date, name))\n",
    "field_path = os.path.join(common.data_dir, '{}/field0304.png'.format(room_num))"
   ]
  },
  {
   "cell_type": "code",
   "execution_count": 4,
   "id": "38f43b5b-ba2b-431a-85de-b0a450f3d9d4",
   "metadata": {},
   "outputs": [],
   "source": [
    "# homography\n",
    "field_raw = cv2.imread(field_path)\n",
    "p_video = common.homo[room_num + '_0304'][0]\n",
    "p_field = common.homo[room_num + '_0304'][1]\n",
    "homo = transform.Homography(p_video, p_field, field_raw.shape)"
   ]
  },
  {
   "cell_type": "code",
   "execution_count": 5,
   "id": "c8371c33-c993-47d4-8f69-beb3c12cf197",
   "metadata": {},
   "outputs": [],
   "source": [
    "individual_activity_data = json.load(individual_activity_json)"
   ]
  },
  {
   "cell_type": "code",
   "execution_count": 6,
   "id": "ee7eea9e-7211-46b2-830a-28d57e9dcbd3",
   "metadata": {},
   "outputs": [],
   "source": [
    "from common.json import IA_FORMAT\n",
    "from individual_activity.individual_activity import IndividualActivity\n",
    "\n",
    "def make_individuals(datas, homo):\n",
    "    individuals = {}\n",
    "    for data in datas:\n",
    "        label = data[IA_FORMAT[0]]\n",
    "        frame_num = data[IA_FORMAT[1]]\n",
    "        tracking_point = data[IA_FORMAT[2]]\n",
    "\n",
    "        if label not in individuals:\n",
    "            ia = IndividualActivity(label, homo)\n",
    "            individuals[label] = ia\n",
    "        else:\n",
    "            ia = individuals[label]\n",
    "\n",
    "        ia.tracking_points[frame_num] = tracking_point\n",
    "        for key in IA_FORMAT[3:]:\n",
    "            ia.indicator_dict[key][frame_num] = data[key]\n",
    "            \n",
    "    return list(individuals.values())"
   ]
  },
  {
   "cell_type": "code",
   "execution_count": 7,
   "id": "83468360-d747-4552-9d77-1c44f1191ac9",
   "metadata": {
    "tags": []
   },
   "outputs": [],
   "source": [
    "individuals = make_individuals(individual_activity_data, homo)"
   ]
  },
  {
   "cell_type": "markdown",
   "id": "08485287-edd7-49b3-b075-70f83ae971bf",
   "metadata": {},
   "source": [
    "# コサイン類似度の平均から求める"
   ]
  },
  {
   "cell_type": "code",
   "execution_count": 8,
   "id": "6b6d7017-c441-4059-8dda-155a37cd7364",
   "metadata": {},
   "outputs": [],
   "source": [
    "def calc_likelihood(frame_num, individuals, obj_point):\n",
    "    results = []\n",
    "    for individual in individuals:\n",
    "        position = individual.get_data('position', frame_num)\n",
    "        face = individual.get_data('face_vector', frame_num)\n",
    "        if position is None or face is None:\n",
    "            continue\n",
    "\n",
    "        pos2obj = obj_point - position\n",
    "        pos2obj = normalize_vector(pos2obj.astype(float))\n",
    "        cos = cos_similarity(face, pos2obj)\n",
    "        likelihood = gauss(cos, mu=1, sigma=(1 - np.cos(np.deg2rad(10))))\n",
    "        results.append(likelihood)\n",
    "        \n",
    "    return np.average(results) "
   ]
  },
  {
   "cell_type": "markdown",
   "id": "bc304b66-b279-4179-ae4d-61d9e5cee7e6",
   "metadata": {},
   "source": [
    "# 検証"
   ]
  },
  {
   "cell_type": "code",
   "execution_count": 9,
   "id": "8ac72136-e157-4a98-9be5-4c5bcd8006e9",
   "metadata": {},
   "outputs": [],
   "source": [
    "# out video file path\n",
    "out_path = common.data_dir + '{}/{}/{}/out/{}_result.mp4'.format(room_num, date, name, 'attention')"
   ]
  },
  {
   "cell_type": "code",
   "execution_count": 10,
   "id": "01505eda-b809-4207-a6ac-71519f1c492f",
   "metadata": {},
   "outputs": [
    {
     "name": "stderr",
     "output_type": "stream",
     "text": [
      "100%|███████████████████████████████████████████████████████████████████████████████████████████████████████████████████████████████████████████████████████| 576/576 [01:30<00:00,  6.36it/s]\n"
     ]
    }
   ],
   "source": [
    "max_frame_num = max([max(individual.tracking_points.keys()) for individual in individuals])\n",
    "\n",
    "fig_shape = field_raw.shape[1::-1]\n",
    "results = []\n",
    "for frame_num in tqdm(range(max_frame_num + 1)):\n",
    "    for x in range(0, fig_shape[0], 20):\n",
    "        for y in range(0, fig_shape[1], 20):\n",
    "            likelihood = calc_likelihood(frame_num, individuals, np.array([x, y]))\n",
    "            results.append({\n",
    "                'frame': frame_num,\n",
    "                'point': (x, y),\n",
    "                'likelihood': likelihood\n",
    "            })"
   ]
  },
  {
   "cell_type": "code",
   "execution_count": 51,
   "id": "d7b07b38-fea9-445a-bb38-cb78766af6f0",
   "metadata": {},
   "outputs": [],
   "source": [
    "VECTOR_SETTING_LIST = {\n",
    "    # arrow_length, color, tip_length\n",
    "    IA_FORMAT[4]: [40, (255, 0, 0), 1.0],   # face vector\n",
    "    IA_FORMAT[5]: [60, (0, 0, 255), 1.5],   # body vector\n",
    "}\n",
    "\n",
    "\n",
    "def disp_body_face(frame_num, individuals, field):\n",
    "    def disp_arrow(key, data, field):\n",
    "        position = data.get_data(IA_FORMAT[3], frame_num)\n",
    "        vector = data.get_data(key, frame_num)\n",
    "        arrow_length = VECTOR_SETTING_LIST[key][0]\n",
    "\n",
    "        if position is not None and vector is not None:\n",
    "            # 矢印の先端の座標を計算\n",
    "            end = (np.array(position) +\n",
    "                   (np.array(vector) * arrow_length)).astype(int)\n",
    "\n",
    "            color = VECTOR_SETTING_LIST[key][1]\n",
    "            tip_length = VECTOR_SETTING_LIST[key][2]\n",
    "            cv2.arrowedLine(\n",
    "                field,\n",
    "                tuple(position),\n",
    "                tuple(end),\n",
    "                color,\n",
    "                tipLength=tip_length,\n",
    "                thickness=2)\n",
    "\n",
    "        return field\n",
    "\n",
    "    for data in individuals:\n",
    "        # face vector\n",
    "        field = disp_arrow(IA_FORMAT[4], data, field)\n",
    "        # body vector\n",
    "        field = disp_arrow(IA_FORMAT[5], data, field)\n",
    "\n",
    "    return field\n",
    "\n",
    "\n",
    "# heatmap\n",
    "th = 0.3\n",
    "heatmap = Heatmap([th, 1])\n",
    "\n",
    "def plot_likelihood(results, field):\n",
    "    for result in results:\n",
    "        point = result['point']\n",
    "        likelihood = result['likelihood']\n",
    "        if likelihood >= th:\n",
    "            color = heatmap.colormap(likelihood)\n",
    "            cv2.circle(field, point, 5, tuple(color), thickness=-1)\n",
    "        \n",
    "    return field\n",
    "    \n",
    "    \n",
    "def combine_image(frame, field):\n",
    "    ratio = 1 - (field.shape[0] - frame.shape[0]) / field.shape[0]\n",
    "    size = [int(field.shape[1] * ratio), int(field.shape[0] * ratio)]\n",
    "    if frame.shape[0] != size[1]:\n",
    "        # 丸め誤差が起きる\n",
    "        size[1] = frame.shape[0]\n",
    "    field = cv2.resize(field, size)\n",
    "    frame = np.concatenate([frame, field], axis=1)\n",
    "    return frame"
   ]
  },
  {
   "cell_type": "code",
   "execution_count": 52,
   "id": "9cbc090f-4cd2-479a-8433-d9f0704c5ce2",
   "metadata": {},
   "outputs": [
    {
     "name": "stderr",
     "output_type": "stream",
     "text": [
      "100%|██████████| 576/576 [00:38<00:00, 14.92it/s]\n"
     ]
    },
    {
     "name": "stdout",
     "output_type": "stream",
     "text": [
      "writing videos into /Users/koji/program/research/data/09/20210304/gaze1-3/out/attention_result.mp4 ...\n"
     ]
    }
   ],
   "source": [
    "# load video\n",
    "video_path = os.path.join(common.data_dir, '{0}/{1}/{2}/video/AlphaPose_{2}.mp4'.format(room_num, date, name))\n",
    "video = Video(video_path)\n",
    "\n",
    "frames = []\n",
    "for frame_num in tqdm(range(video.frame_num)):\n",
    "    # read frame\n",
    "    frame_raw = video.read()\n",
    "    \n",
    "    field = disp_body_face(frame_num, individuals, field_raw.copy())\n",
    "    \n",
    "    results_frame = [result for result in results if result['frame'] == frame_num]\n",
    "    field = plot_likelihood(results_frame, field)\n",
    "    \n",
    "    # append tracking result\n",
    "    img = combine_image(frame_raw, field)\n",
    "    frames.append(img)\n",
    "    \n",
    "print('writing videos into {} ...'.format(out_path))\n",
    "video.write(frames, out_path, frames[0].shape[1::-1])"
   ]
  },
  {
   "cell_type": "code",
   "execution_count": null,
   "id": "4c6edc5d-13b2-4aec-ab9c-87ed5f2c18e0",
   "metadata": {},
   "outputs": [],
   "source": []
  },
  {
   "cell_type": "markdown",
   "id": "c32941e9-0c78-4e37-9386-c2386de1ab92",
   "metadata": {},
   "source": [
    "# 特徴量を抽出"
   ]
  },
  {
   "cell_type": "code",
   "execution_count": 14,
   "id": "44234115-ffa0-4731-a286-b4425f4ce33a",
   "metadata": {},
   "outputs": [],
   "source": [
    "manual_results = {\n",
    "    'gaze1-1': {'frame': 413, 'order': [0, 2, 1]},\n",
    "    'gaze1-2': {'frame': 330, 'order': [0, 1, 2]},\n",
    "    'gaze1-3': {'frame': 324, 'order': [0, 1, 2]},\n",
    "    'gaze2-1': {'frame': 302, 'order': [0, 1, 2]},\n",
    "    'gaze2-2': {'frame': 318, 'order': [0, 1, 2]},\n",
    "    'gaze2-3': {'frame': 309, 'order': [0, 1, 2]},\n",
    "    'gaze3-1': {'frame': 347, 'order': [0, 1, 2]},\n",
    "    'gaze3-2': {'frame': 318, 'order': [0, 1, 2]},\n",
    "    'gaze3-3': {'frame': 338, 'order': [0, 1, 2]},\n",
    "}"
   ]
  },
  {
   "cell_type": "code",
   "execution_count": 15,
   "id": "b5f08e20-0642-4e4e-b485-65314578e6c4",
   "metadata": {
    "tags": []
   },
   "outputs": [],
   "source": [
    "from common.object_point import EX0304 as object_points\n",
    "from common.functions import normalize_vector, cos_similarity\n",
    "\n",
    "def extract_features(individuals, name):\n",
    "    manual_result = manual_results[name]\n",
    "    \n",
    "    max_frame_num = max([max(individual.tracking_points.keys()) for individual in individuals])\n",
    "    \n",
    "    features_1st = []\n",
    "    features_2nd = []\n",
    "    for frame_num in range(max_frame_num):\n",
    "        for i, individual in enumerate(individuals):\n",
    "            position = individual.get_data('position', frame_num)\n",
    "            face = individual.get_data('face_vector', frame_num)\n",
    "            if position is None or face is None:\n",
    "                continue\n",
    "            results = {}\n",
    "            for label, obj in object_points.items():\n",
    "                pos2obj = np.array(obj) - position\n",
    "                pos2obj = normalize_vector(pos2obj.astype(float))\n",
    "                results[label] = cos_similarity(face, pos2obj)\n",
    "            \n",
    "            if frame_num < manual_result['frame']:\n",
    "                features_1st.append(results)\n",
    "            else:\n",
    "                features_2nd.append(results)\n",
    "                \n",
    "    features_1st = pd.DataFrame.from_dict(features_1st)\n",
    "    features_2nd = pd.DataFrame.from_dict(features_2nd)\n",
    "    return features_1st, features_2nd\n",
    "\n",
    "\n",
    "def extract_features(individuals, name):\n",
    "    manual_result = manual_results[name]\n",
    "    \n",
    "    max_frame_num = max([max(individual.tracking_points.keys()) for individual in individuals])\n",
    "    \n",
    "    features_1st = []\n",
    "    features_2nd = []\n",
    "    for pre_frame_num in range(0, max_frame_num - 1):\n",
    "        frame_num = pre_frame_num + 1\n",
    "        results = {}\n",
    "        for i in range(len(individuals)):\n",
    "            for j in range(len(individuals)):\n",
    "                if i == j:\n",
    "                    continue\n",
    "                p1 = individuals[i]\n",
    "                p2 = individuals[j]\n",
    "                \n",
    "                pre_face = p1.get_data('face_vector', pre_frame_num)\n",
    "                face = p1.get_data('face_vector', frame_num)\n",
    "                face2 = p2.get_data('face_vector', frame_num)\n",
    "                if pre_face is None or face is None or face2 is None:\n",
    "                    continue\n",
    "\n",
    "                results[i + 1] = np.arctan2(face2[1], face2[0]) - np.arctan2(face[1], face[0])\n",
    "\n",
    "                if frame_num < manual_result['frame']:\n",
    "                    features_1st.append(results)\n",
    "                else:\n",
    "                    features_2nd.append(results)\n",
    "                \n",
    "    features_1st = pd.DataFrame.from_dict(features_1st)\n",
    "    features_2nd = pd.DataFrame.from_dict(features_2nd)\n",
    "    return features_1st, features_2nd"
   ]
  },
  {
   "cell_type": "code",
   "execution_count": 16,
   "id": "6051d853-50f9-4d03-b957-ec5ee08a931d",
   "metadata": {},
   "outputs": [],
   "source": [
    "features_1st = []\n",
    "features_2nd = []\n",
    "for i, individuals in enumerate(individuals_lst):\n",
    "    f1, f2 = extract_features(individuals, 'gaze1-' + str(i + 1))\n",
    "    features_1st.append(f1)\n",
    "    features_2nd.append(f2)"
   ]
  },
  {
   "cell_type": "code",
   "execution_count": 17,
   "id": "4be1ba5d-dde9-4b78-b27a-95bf4c121843",
   "metadata": {},
   "outputs": [
    {
     "name": "stdout",
     "output_type": "stream",
     "text": [
      "gaze1-1\n"
     ]
    },
    {
     "data": {
      "image/png": "[encoded data removed]",
      "text/plain": [
       "<Figure size 1440x720 with 6 Axes>"
      ]
     },
     "metadata": {
      "needs_background": "light"
     },
     "output_type": "display_data"
    },
    {
     "name": "stdout",
     "output_type": "stream",
     "text": [
      "gaze1-2\n"
     ]
    },
    {
     "data": {
      "image/png": "[encoded data removed]",
      "text/plain": [
       "<Figure size 1440x720 with 6 Axes>"
      ]
     },
     "metadata": {
      "needs_background": "light"
     },
     "output_type": "display_data"
    },
    {
     "name": "stdout",
     "output_type": "stream",
     "text": [
      "gaze1-3\n"
     ]
    },
    {
     "data": {
      "image/png": "[encoded data removed]",
      "text/plain": [
       "<Figure size 1440x720 with 6 Axes>"
      ]
     },
     "metadata": {
      "needs_background": "light"
     },
     "output_type": "display_data"
    }
   ],
   "source": [
    "for i in range(3):\n",
    "    print('gaze1-%d' % (i + 1))\n",
    "    \n",
    "    f1 = features_1st[i]\n",
    "    f2 = features_2nd[i]\n",
    "    \n",
    "    fig = plt.figure(figsize=(20, 10))\n",
    "    key_num = len(object_points.keys())\n",
    "    bins=100\n",
    "    vmax=400\n",
    "    for label in object_points.keys():\n",
    "        ax = fig.add_subplot(2, key_num, label)\n",
    "#         ax.hist(f1[label], range=(-1, 1), bins=bins)\n",
    "        ax.hist(f1[label], range=(-3, 3), bins=bins)\n",
    "        ax.set_ylim((0, vmax))\n",
    "        ax.set_title('1st half for %d' % label)\n",
    "        \n",
    "        ax = fig.add_subplot(2, key_num, label + key_num)\n",
    "#         ax.hist(f2[label], range=(-1, 1), bins=bins)\n",
    "        ax.hist(f2[label], range=(-3, 3), bins=bins)\n",
    "        ax.set_ylim((0, vmax))\n",
    "        ax.set_title('2nd half for %d' % label)\n",
    "        \n",
    "    plt.show()"
   ]
  }
 ],
 "metadata": {
  "kernelspec": {
   "display_name": "research",
   "language": "python",
   "name": "research"
  },
  "language_info": {
   "codemirror_mode": {
    "name": "ipython",
    "version": 3
   },
   "file_extension": ".py",
   "mimetype": "text/x-python",
   "name": "python",
   "nbconvert_exporter": "python",
   "pygments_lexer": "ipython3",
   "version": "3.7.6"
  }
 },
 "nbformat": 4,
 "nbformat_minor": 5
}
