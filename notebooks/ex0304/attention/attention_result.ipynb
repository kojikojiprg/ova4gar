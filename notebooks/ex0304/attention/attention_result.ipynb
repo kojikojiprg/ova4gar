{
 "cells": [
  {
   "cell_type": "code",
   "execution_count": 1,
   "id": "ad57df12-7cc4-4946-a5e3-df736def4ef5",
   "metadata": {},
   "outputs": [],
   "source": [
    "import sys\n",
    "sys.path.append('../../../src')\n",
    "\n",
    "from common import common, transform\n",
    "from tracker import main as tr\n",
    "from individual_activity import main as ia\n",
    "from group_activity import main as ga\n",
    "from display.display import display\n",
    "import argparse\n",
    "import os\n",
    "import cv2\n",
    "from tqdm import tqdm"
   ]
  },
  {
   "cell_type": "code",
   "execution_count": 2,
   "id": "02723117-a3d1-4aaf-af52-ce019f8624ff",
   "metadata": {},
   "outputs": [],
   "source": [
    "room_num = '09'\n",
    "date = '20210304'\n",
    "name = 'gaze1-1'\n",
    "method = 'attention'\n",
    "THRESHOLD = 0.05\n",
    "angle_range = 10"
   ]
  },
  {
   "cell_type": "code",
   "execution_count": 3,
   "id": "698dba28-1f28-4278-a306-539a8b2ed631",
   "metadata": {},
   "outputs": [],
   "source": [
    "video_path = os.path.join(\n",
    "    common.data_dir, '{0}/{1}/{2}/video/AlphaPose_{2}.mp4'.format(room_num, date, name))\n",
    "out_dir = os.path.join(\n",
    "    common.data_dir, '{0}/{1}/{2}/out/'.format(room_num, date, name))\n",
    "field_path = os.path.join(\n",
    "    common.data_dir, 'field.png')\n",
    "keypoints_path = os.path.join(\n",
    "    common.data_dir, '{0}/{1}/{2}/json/alphapose-results.json'.format(room_num, date, name))\n",
    "tracking_json_path = os.path.join(\n",
    "    common.data_dir, '{0}/{1}/{2}/json/tracking.json'.format(room_num, date, name))\n",
    "individual_activity_json_path = os.path.join(\n",
    "    common.data_dir, '{0}/{1}/{2}/json/individual_activity.json'.format(room_num, date, name))\n",
    "group_activity_json_path = os.path.join(\n",
    "    common.data_dir, '{0}/{1}/{2}/json/group_activity.json'.format(room_num, date, name))"
   ]
  },
  {
   "cell_type": "code",
   "execution_count": 4,
   "id": "9bbc21a2-d70f-4846-b2ab-04155015423c",
   "metadata": {},
   "outputs": [],
   "source": [
    "# homography\n",
    "field_raw = cv2.imread(field_path)\n",
    "p_video = common.homo[room_num][0]\n",
    "p_field = common.homo[room_num][1]\n",
    "homo = transform.Homography(p_video, p_field, field_raw.shape)"
   ]
  },
  {
   "cell_type": "code",
   "execution_count": 5,
   "id": "207f473c-399f-481f-9cfb-986f632ef1c4",
   "metadata": {},
   "outputs": [],
   "source": [
    "# tr.main(keypoints_path, tracking_json_path)"
   ]
  },
  {
   "cell_type": "code",
   "execution_count": 6,
   "id": "ff16b6b6-4adc-4373-8705-128619293cda",
   "metadata": {
    "scrolled": true,
    "tags": []
   },
   "outputs": [],
   "source": [
    "# ia.main(tracking_json_path, individual_activity_json_path, homo)"
   ]
  },
  {
   "cell_type": "code",
   "execution_count": 7,
   "id": "534322fc-1eb6-427c-ba33-f1f9944011d4",
   "metadata": {},
   "outputs": [
    {
     "name": "stderr",
     "output_type": "stream",
     "text": [
      "  0%|          | 0/591 [00:00<?, ?it/s]"
     ]
    },
    {
     "name": "stdout",
     "output_type": "stream",
     "text": [
      "Running group activity...\n"
     ]
    },
    {
     "name": "stderr",
     "output_type": "stream",
     "text": [
      "100%|██████████| 591/591 [02:04<00:00,  4.75it/s]\n"
     ]
    }
   ],
   "source": [
    "ga.main(individual_activity_json_path, group_activity_json_path,\n",
    "        field_raw, method, angle_range=angle_range)"
   ]
  },
  {
   "cell_type": "code",
   "execution_count": 8,
   "id": "166cf000-3617-436d-85c7-0952589276ed",
   "metadata": {
    "tags": []
   },
   "outputs": [
    {
     "name": "stdout",
     "output_type": "stream",
     "text": [
      "Prepareing video frames...\n"
     ]
    },
    {
     "name": "stderr",
     "output_type": "stream",
     "text": [
      "100%|██████████| 591/591 [00:21<00:00, 27.92it/s]\n"
     ]
    },
    {
     "name": "stdout",
     "output_type": "stream",
     "text": [
      "Writing video ../../data/09/20210304/gaze1-1/out/individual_activity.mp4 ...\n",
      "Writing video ../../data/09/20210304/gaze1-1/out/attention.mp4 ...\n"
     ]
    }
   ],
   "source": [
    "display(\n",
    "    video_path,\n",
    "    out_dir,\n",
    "    individual_activity_json_path,\n",
    "    group_activity_json_path,\n",
    "    field_raw,\n",
    "    method)"
   ]
  }
 ],
 "metadata": {
  "kernelspec": {
   "display_name": "research",
   "language": "python",
   "name": "research"
  },
  "language_info": {
   "codemirror_mode": {
    "name": "ipython",
    "version": 3
   },
   "file_extension": ".py",
   "mimetype": "text/x-python",
   "name": "python",
   "nbconvert_exporter": "python",
   "pygments_lexer": "ipython3",
   "version": "3.7.6"
  }
 },
 "nbformat": 4,
 "nbformat_minor": 5
}
