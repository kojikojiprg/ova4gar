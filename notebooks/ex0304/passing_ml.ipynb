{
 "cells": [
  {
   "cell_type": "code",
   "execution_count": 1,
   "id": "4a68a2d6-b280-41eb-bbda-0b5cf21ec43c",
   "metadata": {},
   "outputs": [],
   "source": [
    "import sys\n",
    "sys.path.append('../../src')\n",
    "\n",
    "from common import common, transform, json\n",
    "from tracker import main as tr\n",
    "from indivisual_activity import main as ia\n",
    "from indivisual_activity.indivisual_activity import IndivisualActivity\n",
    "from group_activity import main as ga\n",
    "from display.display import display\n",
    "import os\n",
    "import cv2\n",
    "from tqdm import tqdm"
   ]
  },
  {
   "cell_type": "code",
   "execution_count": 2,
   "id": "46e5e703-bd94-4431-bf58-2a21a720ca29",
   "metadata": {},
   "outputs": [],
   "source": [
    "room_num = '09'\n",
    "date = '20210304'\n",
    "name = 'pass1'\n",
    "method = 'passing'\n",
    "THRESHOLD = 0.6"
   ]
  },
  {
   "cell_type": "code",
   "execution_count": 3,
   "id": "c84b5aeb-fef1-4b5f-830c-a5f107a0dc27",
   "metadata": {},
   "outputs": [],
   "source": [
    "video_path = os.path.join(\n",
    "        common.data_dir, '{0}/{1}/{2}/video/AlphaPose_{2}.mp4'.format(room_num, date, name))\n",
    "out_dir = os.path.join(\n",
    "    common.data_dir, '{0}/{1}/{2}/out/'.format(room_num, date, name))\n",
    "field_path = os.path.join(\n",
    "    common.data_dir, 'field.png')\n",
    "keypoints_path = os.path.join(\n",
    "    common.data_dir, '{0}/{1}/{2}/json/alphapose-results.json'.format(room_num, date, name))\n",
    "tracking_json_path = os.path.join(\n",
    "    common.data_dir, '{0}/{1}/{2}/json/tracking.json'.format(room_num, date, name))\n",
    "indivisual_activity_json_path = os.path.join(\n",
    "    common.data_dir, '{0}/{1}/{2}/json/indivisual_activity.json'.format(room_num, date, name))\n",
    "group_activity_json_path = os.path.join(\n",
    "    common.data_dir, '{0}/{1}/{2}/json/group_activity.json'.format(room_num, date, name))"
   ]
  },
  {
   "cell_type": "code",
   "execution_count": 4,
   "id": "3df438be-6437-4bfc-98e9-c683c0153f4f",
   "metadata": {},
   "outputs": [],
   "source": [
    "# homography\n",
    "field_raw = cv2.imread(field_path)\n",
    "p_video = common.homo[room_num][0]\n",
    "p_field = common.homo[room_num][1]\n",
    "homo = transform.Homography(p_video, p_field, field_raw.shape)"
   ]
  },
  {
   "cell_type": "code",
   "execution_count": 5,
   "id": "b371ebf3-de03-4a99-9448-9a34c66be3fc",
   "metadata": {},
   "outputs": [],
   "source": [
    "# tr.main(keypoints_path, tracking_json_path)"
   ]
  },
  {
   "cell_type": "code",
   "execution_count": 6,
   "id": "d2188479-cfc4-4ce1-9797-ae190d02f422",
   "metadata": {},
   "outputs": [],
   "source": [
    "# ia.main(tracking_json_path, indivisual_activity_json_path, homo)"
   ]
  },
  {
   "cell_type": "code",
   "execution_count": 7,
   "id": "3fa85525-5e08-46fe-9b9d-7f89cab47877",
   "metadata": {
    "tags": []
   },
   "outputs": [],
   "source": [
    "# ga.main(\n",
    "#     indivisual_activity_json_path,\n",
    "#     group_activity_json_path,\n",
    "#     homo,\n",
    "#     field_raw,\n",
    "#     method)"
   ]
  },
  {
   "cell_type": "code",
   "execution_count": 8,
   "id": "d9fcb71e-de30-4085-a27d-b349fe1f4189",
   "metadata": {},
   "outputs": [],
   "source": [
    "# display(\n",
    "#     video_path,\n",
    "#     out_dir,\n",
    "#     indivisual_activity_json_path,\n",
    "#     group_activity_json_path,\n",
    "#     field_raw,\n",
    "#     method)"
   ]
  },
  {
   "cell_type": "code",
   "execution_count": 5,
   "id": "8f821c4b-4c0d-4c2e-af9c-ca4a2d5d53cf",
   "metadata": {},
   "outputs": [],
   "source": [
    "indivisual_activity_datas = json.load(indivisual_activity_json_path)"
   ]
  },
  {
   "cell_type": "code",
   "execution_count": null,
   "id": "ceb63c3e-c827-4c1d-9958-b7a479faa23d",
   "metadata": {},
   "outputs": [],
   "source": [
    "for data in indivisual_activity_datas:\n",
    "    "
   ]
  }
 ],
 "metadata": {
  "kernelspec": {
   "display_name": "Python 3",
   "language": "python",
   "name": "python3"
  },
  "language_info": {
   "codemirror_mode": {
    "name": "ipython",
    "version": 3
   },
   "file_extension": ".py",
   "mimetype": "text/x-python",
   "name": "python",
   "nbconvert_exporter": "python",
   "pygments_lexer": "ipython3",
   "version": "3.7.7"
  }
 },
 "nbformat": 4,
 "nbformat_minor": 5
}
