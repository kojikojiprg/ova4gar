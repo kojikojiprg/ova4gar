{
 "cells": [
  {
   "cell_type": "code",
   "execution_count": 1,
   "id": "ad57df12-7cc4-4946-a5e3-df736def4ef5",
   "metadata": {},
   "outputs": [],
   "source": [
    "import sys\n",
    "sys.path.append('../../src')\n",
    "\n",
    "from common import common, transform\n",
    "from tracker import main as tr\n",
    "from indivisual_activity import main as ia\n",
    "from group_activity import main as ga\n",
    "from display.display import display\n",
    "import argparse\n",
    "import os\n",
    "import cv2\n",
    "from tqdm import tqdm"
   ]
  },
  {
   "cell_type": "code",
   "execution_count": 2,
   "id": "02723117-a3d1-4aaf-af52-ce019f8624ff",
   "metadata": {},
   "outputs": [],
   "source": [
    "room_num = '09'\n",
    "date = '20210304'\n",
    "name = 'pass2'\n",
    "method = 'passing'\n",
    "THRESHOLD = 0.6"
   ]
  },
  {
   "cell_type": "code",
   "execution_count": 3,
   "id": "698dba28-1f28-4278-a306-539a8b2ed631",
   "metadata": {},
   "outputs": [],
   "source": [
    "video_path = os.path.join(\n",
    "        common.data_dir, '{0}/{1}/{2}/video/AlphaPose_{2}.mp4'.format(room_num, date, name))\n",
    "out_dir = os.path.join(\n",
    "    common.data_dir, '{0}/{1}/{2}/out/'.format(room_num, date, name))\n",
    "field_path = os.path.join(\n",
    "    common.data_dir, 'field.png')\n",
    "keypoints_path = os.path.join(\n",
    "    common.data_dir, '{0}/{1}/{2}/json/alphapose-results.json'.format(room_num, date, name))\n",
    "tracking_json_path = os.path.join(\n",
    "    common.data_dir, '{0}/{1}/{2}/json/tracking.json'.format(room_num, date, name))\n",
    "indivisual_activity_json_path = os.path.join(\n",
    "    common.data_dir, '{0}/{1}/{2}/json/indivisual_activity.json'.format(room_num, date, name))\n",
    "group_activity_json_path = os.path.join(\n",
    "    common.data_dir, '{0}/{1}/{2}/json/group_activity.json'.format(room_num, date, name))"
   ]
  },
  {
   "cell_type": "code",
   "execution_count": 4,
   "id": "9bbc21a2-d70f-4846-b2ab-04155015423c",
   "metadata": {},
   "outputs": [],
   "source": [
    "# homography\n",
    "field_raw = cv2.imread(field_path)\n",
    "p_video = common.homo[room_num][0]\n",
    "p_field = common.homo[room_num][1]\n",
    "homo = transform.Homography(p_video, p_field, field_raw.shape)"
   ]
  },
  {
   "cell_type": "code",
   "execution_count": 5,
   "id": "207f473c-399f-481f-9cfb-986f632ef1c4",
   "metadata": {},
   "outputs": [],
   "source": [
    "# tr.main(keypoints_path, tracking_json_path)"
   ]
  },
  {
   "cell_type": "code",
   "execution_count": 6,
   "id": "ff16b6b6-4adc-4373-8705-128619293cda",
   "metadata": {},
   "outputs": [],
   "source": [
    "# ia.main(tracking_json_path, indivisual_activity_json_path, homo)"
   ]
  },
  {
   "cell_type": "code",
   "execution_count": 7,
   "id": "534322fc-1eb6-427c-ba33-f1f9944011d4",
   "metadata": {
    "tags": []
   },
   "outputs": [],
   "source": [
    "ga.main(\n",
    "    indivisual_activity_json_path,\n",
    "    group_activity_json_path,\n",
    "    homo,\n",
    "    field_raw,\n",
    "    method)"
   ]
  },
  {
   "cell_type": "code",
   "execution_count": 8,
   "id": "166cf000-3617-436d-85c7-0952589276ed",
   "metadata": {},
   "outputs": [],
   "source": [
    "# display(\n",
    "#     video_path,\n",
    "#     out_dir,\n",
    "#     indivisual_activity_json_path,\n",
    "#     group_activity_json_path,\n",
    "#     field_raw,\n",
    "#     method)"
   ]
  },
  {
   "cell_type": "markdown",
   "id": "66899d44-3e74-44c4-a339-1c3765634d9e",
   "metadata": {},
   "source": [
    "## 結果をグラフ化する"
   ]
  },
  {
   "cell_type": "code",
   "execution_count": 5,
   "id": "33d1b81c-cabf-4968-8cde-6defe4fd81a0",
   "metadata": {},
   "outputs": [],
   "source": [
    "# 始まり\n",
    "# 外回り看護師が滅菌パックを開く\n",
    "# お互いが向いている\n",
    "\n",
    "# 終わり\n",
    "# 器械出し看護師が道具を取り出し終わる\n",
    "# お互いが向き合っていない\n",
    "manual_result_dict = {\n",
    "    'pass1': {75: 1, 204: 0, 671: 1, 840: 0, 1080: 1, 1700: 0},\n",
    "    'pass2': {300: 1, 364: 0, 806: 1, 913: 0, 1242: 1, 1923: 0},\n",
    "    'pass3': {183: 1, 286: 0, 466: 1, 594: 0, 1130: 1, 1240: 0},\n",
    "}\n",
    "\n",
    "person_id_dict = {\n",
    "    'pass1': [1, 2],\n",
    "    'pass2': [0, 2],\n",
    "    'pass3': [1, 2],\n",
    "}"
   ]
  },
  {
   "cell_type": "code",
   "execution_count": 6,
   "id": "397a72fa-87b1-45a4-abfc-f244bf6157af",
   "metadata": {},
   "outputs": [],
   "source": [
    "from common import json\n",
    "from common.json import GA_FORMAT\n",
    "from display.video import Video\n",
    "from display.tracking import disp_tracking\n",
    "from display.indivisual_activity import disp_indivisual_activity\n",
    "from display.group_activity import DisplayGroupActivity\n",
    "import numpy as np\n",
    "import matplotlib.pyplot as plt"
   ]
  },
  {
   "cell_type": "code",
   "execution_count": 7,
   "id": "d7b9f636-2b40-4e83-938c-6096504a0d2c",
   "metadata": {},
   "outputs": [],
   "source": [
    "def combine_image(frame, field):\n",
    "    ratio = 1 - (field.shape[0] - frame.shape[0]) / field.shape[0]\n",
    "    size = (int(field.shape[1] * ratio), int(field.shape[0] * ratio))\n",
    "    field = cv2.resize(field, size)\n",
    "    frame = np.concatenate([frame, field], axis=1)\n",
    "    return frame"
   ]
  },
  {
   "cell_type": "code",
   "execution_count": 43,
   "id": "b12a561e-710d-4c91-92c0-18e5cb73399c",
   "metadata": {},
   "outputs": [],
   "source": [
    "def disp_result(\n",
    "    combine_image,\n",
    "    frame_num,\n",
    "    max_frame_num,\n",
    "    datas,\n",
    "    y_pred=[]\n",
    "):\n",
    "    json_format = GA_FORMAT['passing']\n",
    "    \n",
    "    # フレームご番号までのデータを抜き取る\n",
    "    datas = [data for data in datas if data[json_format[0]] == frame_num]\n",
    "    \n",
    "    # 尤度を取りだす\n",
    "    for data in datas:\n",
    "        if (\n",
    "            data[json_format[2]][0] in person_id_dict[name] and\n",
    "            data[json_format[2]][1] in person_id_dict[name]\n",
    "        ):\n",
    "            y_pred.append(data[json_format[3]])\n",
    "            break\n",
    "    else:\n",
    "        # データがないフレームは0.0を入れる\n",
    "        y_pred.append(0.0)\n",
    "\n",
    "    # 手動の結果を作成\n",
    "    y_true = []\n",
    "    pre_result = 0\n",
    "    for i in range(max_frame_num):\n",
    "        if i in manual_result_dict[name]:\n",
    "            pre_result = manual_result_dict[name][i]\n",
    "        y_true.append(pre_result - 0.01)  # 見た目のために0.01引く\n",
    "    \n",
    "    # グラフを表示\n",
    "    width = combine_image.shape[0]\n",
    "    fig = plt.figure(figsize=(width / 50.0, 4.0))\n",
    "    ax = fig.add_subplot(\n",
    "        111,\n",
    "        xlabel='frame', xlim=(0, max_frame_num),\n",
    "        ylabel='likelihood', ylim=(0.0, 1.0))\n",
    "    ax.plot(y_pred)\n",
    "    ax.plot(y_true)\n",
    "    ax.axhline(THRESHOLD, color='red')\n",
    "    plt.close(fig)\n",
    "    \n",
    "    # fig to ndarray\n",
    "    fig.canvas.draw()\n",
    "    result_image = np.array(fig.canvas.renderer.buffer_rgba())\n",
    "    result_image = cv2.cvtColor(result_image, cv2.COLOR_RGBA2RGB)\n",
    "    \n",
    "    # concat result image\n",
    "    ratio = 1 - (combine_image.shape[1] - result_image.shape[1]) / combine_image.shape[1]\n",
    "    size = (int(combine_image.shape[1] * ratio), int(combine_image.shape[0] * ratio))\n",
    "    combine_image = cv2.resize(combine_image, size)\n",
    "    frame = np.concatenate([combine_image, result_image], axis=0)\n",
    "    \n",
    "    return frame, y_pred"
   ]
  },
  {
   "cell_type": "code",
   "execution_count": 44,
   "id": "20506c46-cb1f-4b5c-9d1b-0ad45ff72445",
   "metadata": {
    "scrolled": true,
    "tags": []
   },
   "outputs": [
    {
     "name": "stderr",
     "output_type": "stream",
     "text": [
      "100%|██████████| 2023/2023 [01:53<00:00, 17.82it/s]\n"
     ]
    },
    {
     "name": "stdout",
     "output_type": "stream",
     "text": [
      "writing videos into ../out/09/20210304/pass2/ ...\n"
     ]
    }
   ],
   "source": [
    "# out video file path\n",
    "out_path = out_dir + '{}_result.mp4'.format(method)\n",
    "\n",
    "# load datas\n",
    "indivisual_activity_datas = json.load(indivisual_activity_json_path)\n",
    "group_activity_datas = json.load(group_activity_json_path)\n",
    "\n",
    "display_group_activity = DisplayGroupActivity(group_activity_datas)\n",
    "\n",
    "# load video\n",
    "video = Video(video_path)\n",
    "\n",
    "frames = []\n",
    "y_pred = []\n",
    "for frame_num in tqdm(range(video.frame_num)):\n",
    "    # read frame\n",
    "    frame = video.read()\n",
    "\n",
    "    # フレームごとにデータを取得する\n",
    "    frame_indivisual_activity_datas = [\n",
    "        data for data in indivisual_activity_datas if data['frame'] == frame_num]\n",
    "\n",
    "    # フレーム番号を表示\n",
    "    cv2.putText(frame, 'Frame:{}'.format(frame_num + 1), (10, 50),\n",
    "                cv2.FONT_HERSHEY_PLAIN, 2, (255, 255, 255))\n",
    "\n",
    "    field_tmp = field_raw.copy()\n",
    "    # トラッキングの結果を表示\n",
    "    frame = disp_tracking(frame_indivisual_activity_datas, frame)\n",
    "    # 向きを表示\n",
    "    field_tmp = disp_indivisual_activity(\n",
    "        frame_indivisual_activity_datas, field_tmp, method)\n",
    "\n",
    "    group_activity_field = field_tmp.copy()\n",
    "    group_activity_field = display_group_activity.disp(\n",
    "        method, frame_num, group_activity_datas, group_activity_field)\n",
    "\n",
    "    # append tracking result\n",
    "    img = combine_image(frame, group_activity_field)\n",
    "    img, y_pred = disp_result(\n",
    "        img, frame_num, video.frame_num, group_activity_datas[method], y_pred)\n",
    "    frames.append(img)\n",
    "    \n",
    "print('writing videos into {} ...'.format(out_dir))\n",
    "video.write(frames, out_path, frames[0].shape[1::-1])"
   ]
  },
  {
   "cell_type": "code",
   "execution_count": 49,
   "id": "88e41740-e00f-46c8-b611-c69a54d49a3f",
   "metadata": {},
   "outputs": [
    {
     "data": {
      "image/png": "[encoded data removed]",
      "text/plain": [
       "<Figure size 720x360 with 1 Axes>"
      ]
     },
     "metadata": {
      "needs_background": "light"
     },
     "output_type": "display_data"
    }
   ],
   "source": [
    "def disp_result_graph(\n",
    "    start_frame_num,\n",
    "    end_frame_num,\n",
    "    y_pred=[]\n",
    "):\n",
    "    y_pred_tmp = y_pred[start_frame_num:end_frame_num + 1]\n",
    "    # 手動の結果を作成\n",
    "    y_true = []\n",
    "    pre_result = 0\n",
    "    for i in range(end_frame_num):\n",
    "        if i in manual_result_dict[name]:\n",
    "            pre_result = manual_result_dict[name][i]\n",
    "        y_true.append(pre_result)\n",
    "    y_true_tmp = y_true[start_frame_num:end_frame_num + 1]\n",
    "    \n",
    "    # グラフを表示\n",
    "    fig = plt.figure(figsize=(10, 5))\n",
    "    ax = fig.add_subplot(\n",
    "        111,\n",
    "        xlabel='frame',\n",
    "        ylabel='likelihood', ylim=(0.0, 1.0))\n",
    "    ax.plot(y_pred_tmp)\n",
    "    ax.plot(y_true_tmp)\n",
    "    ax.axhline(THRESHOLD, color='red')\n",
    "    \n",
    "disp_result_graph(1200, video.frame_num, y_pred)"
   ]
  },
  {
   "cell_type": "markdown",
   "id": "d8f81030-b108-4e27-af66-4fa2c73abcd6",
   "metadata": {},
   "source": [
    "## 混合行列"
   ]
  },
  {
   "cell_type": "code",
   "execution_count": 10,
   "id": "4647fc58-64b8-4cbe-b59f-3d9a956592a4",
   "metadata": {},
   "outputs": [],
   "source": [
    "from sklearn.metrics import confusion_matrix\n",
    "import seaborn as sns"
   ]
  },
  {
   "cell_type": "code",
   "execution_count": 11,
   "id": "af5ec482-6af7-4b7b-a14b-f6b85bc45557",
   "metadata": {},
   "outputs": [],
   "source": [
    "video = Video(video_path)\n",
    "max_frame_num = video.frame_num\n",
    "json_format = GA_FORMAT['passing']\n",
    "\n",
    "# load data\n",
    "group_activity_datas = json.load(group_activity_json_path)\n",
    "\n",
    "# 尤度を取りだす\n",
    "y_pred = []\n",
    "for i in range(max_frame_num):\n",
    "    for data in group_activity_datas[method]:\n",
    "        if (\n",
    "            i == data[json_format[0]] and\n",
    "            data[json_format[2]][0] in person_id_dict[name] and\n",
    "            data[json_format[2]][1] in person_id_dict[name]\n",
    "        ):\n",
    "            likelihood = data[json_format[3]]\n",
    "            if likelihood > THRESHOLD:\n",
    "                y_pred.append(1)\n",
    "            else:\n",
    "                y_pred.append(0)\n",
    "            break\n",
    "    else:\n",
    "        # データがないフレームは0.0を入れる\n",
    "        y_pred.append(0)\n",
    "\n",
    "# 手動の結果を作成\n",
    "y_true = []\n",
    "pre_result = 0\n",
    "for i in range(max_frame_num):\n",
    "    if i in manual_result_dict[name]:\n",
    "        pre_result = manual_result_dict[name][i]\n",
    "    y_true.append(pre_result)"
   ]
  },
  {
   "cell_type": "code",
   "execution_count": 12,
   "id": "4fa5a678-d82a-4d77-b806-a7881b9d7382",
   "metadata": {},
   "outputs": [],
   "source": [
    "# 混合行列を作成\n",
    "cm = confusion_matrix(y_true, y_pred)"
   ]
  },
  {
   "cell_type": "code",
   "execution_count": 13,
   "id": "36bed91c-d407-4415-8d1e-31aa6d6155e2",
   "metadata": {},
   "outputs": [
    {
     "data": {
      "text/plain": [
       "<AxesSubplot:>"
      ]
     },
     "execution_count": 13,
     "metadata": {},
     "output_type": "execute_result"
    },
    {
     "data": {
      "image/png": "[encoded data removed]",
      "text/plain": [
       "<Figure size 432x288 with 2 Axes>"
      ]
     },
     "metadata": {
      "needs_background": "light"
     },
     "output_type": "display_data"
    }
   ],
   "source": [
    "sns.heatmap(cm, cmap='Blues')"
   ]
  },
  {
   "cell_type": "code",
   "execution_count": 14,
   "id": "d46d092d-a3ba-427a-9f3e-3b38ac116d67",
   "metadata": {},
   "outputs": [],
   "source": [
    "from sklearn.metrics import accuracy_score\n",
    "from sklearn.metrics import precision_score\n",
    "from sklearn.metrics import recall_score\n",
    "from sklearn.metrics import f1_score"
   ]
  },
  {
   "cell_type": "code",
   "execution_count": 15,
   "id": "c2c4f97f-6457-477d-8049-199d840484d3",
   "metadata": {},
   "outputs": [
    {
     "name": "stdout",
     "output_type": "stream",
     "text": [
      "accuracy: 0.689\n",
      "precision: 0.934\n",
      "recall: 0.281\n",
      "f1: 0.431\n"
     ]
    }
   ],
   "source": [
    "print('accuracy: {:.3f}'.format(accuracy_score(y_true, y_pred)))\n",
    "print('precision: {:.3f}'.format(precision_score(y_true, y_pred)))\n",
    "print('recall: {:.3f}'.format(recall_score(y_true, y_pred)))\n",
    "print('f1: {:.3f}'.format(f1_score(y_true, y_pred)))"
   ]
  },
  {
   "cell_type": "code",
   "execution_count": null,
   "id": "828d89c8-6d49-428b-9c73-6547fbac40c3",
   "metadata": {},
   "outputs": [],
   "source": []
  }
 ],
 "metadata": {
  "kernelspec": {
   "display_name": "research",
   "language": "python",
   "name": "research"
  },
  "language_info": {
   "codemirror_mode": {
    "name": "ipython",
    "version": 3
   },
   "file_extension": ".py",
   "mimetype": "text/x-python",
   "name": "python",
   "nbconvert_exporter": "python",
   "pygments_lexer": "ipython3",
   "version": "3.7.7"
  }
 },
 "nbformat": 4,
 "nbformat_minor": 5
}
