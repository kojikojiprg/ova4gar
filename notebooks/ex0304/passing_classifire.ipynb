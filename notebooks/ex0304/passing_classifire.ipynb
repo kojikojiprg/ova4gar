{
 "cells": [
  {
   "cell_type": "code",
   "execution_count": 1,
   "id": "4a68a2d6-b280-41eb-bbda-0b5cf21ec43c",
   "metadata": {},
   "outputs": [],
   "source": [
    "import sys\n",
    "sys.path.append('../../src')\n",
    "\n",
    "from common import common, transform, json\n",
    "from tracker import main as tr\n",
    "from individual_activity import main as ia\n",
    "from group_activity import main as ga\n",
    "from display.display import display\n",
    "import os\n",
    "import numpy as np\n",
    "import matplotlib.pyplot as plt\n",
    "import cv2"
   ]
  },
  {
   "cell_type": "markdown",
   "id": "d5750e34-ca3f-4c45-88a4-73b50dd1aa1d",
   "metadata": {},
   "source": [
    "# Indivisual Activity をロード"
   ]
  },
  {
   "cell_type": "code",
   "execution_count": 2,
   "id": "957d1f30-8ccc-45b3-8e8a-1df893a5645f",
   "metadata": {},
   "outputs": [],
   "source": [
    "room_num = '09'\n",
    "date = '20210304'\n",
    "name_train = 'pass1'"
   ]
  },
  {
   "cell_type": "code",
   "execution_count": 3,
   "id": "6f30ffa5-5858-4a62-acb1-a2b4f5af0937",
   "metadata": {},
   "outputs": [],
   "source": [
    "individual_activity_json_train = os.path.join(\n",
    "    common.data_dir, '{0}/{1}/{2}/json/individual_activity.json'.format(room_num, date, name_train))\n",
    "field_path = os.path.join(\n",
    "    common.data_dir, 'field.png')"
   ]
  },
  {
   "cell_type": "code",
   "execution_count": 4,
   "id": "ff988b97-92b2-4e35-b1c9-7be6470f5453",
   "metadata": {},
   "outputs": [],
   "source": [
    "# homography\n",
    "field_raw = cv2.imread(field_path)\n",
    "p_video = common.homo[room_num][0]\n",
    "p_field = common.homo[room_num][1]\n",
    "homo_train = transform.Homography(p_video, p_field, field_raw.shape)"
   ]
  },
  {
   "cell_type": "code",
   "execution_count": 5,
   "id": "8f821c4b-4c0d-4c2e-af9c-ca4a2d5d53cf",
   "metadata": {},
   "outputs": [],
   "source": [
    "individual_activity_data_train = json.load(individual_activity_json_train)"
   ]
  },
  {
   "cell_type": "code",
   "execution_count": 6,
   "id": "ceb63c3e-c827-4c1d-9958-b7a479faa23d",
   "metadata": {},
   "outputs": [],
   "source": [
    "from common.json import IA_FORMAT\n",
    "from individual_activity.individual_activity import IndividualActivity\n",
    "\n",
    "def make_individuals(datas, homo):\n",
    "    individuals = {}\n",
    "    for data in datas:\n",
    "        label = data[IA_FORMAT[0]]\n",
    "        frame_num = data[IA_FORMAT[1]]\n",
    "        tracking_point = data[IA_FORMAT[2]]\n",
    "\n",
    "        if label not in individuals:\n",
    "            ia = IndividualActivity(label, homo)\n",
    "            individuals[label] = ia\n",
    "        else:\n",
    "            ia = individuals[label]\n",
    "\n",
    "        ia.tracking_points[frame_num] = tracking_point\n",
    "        for f in IA_FORMAT[3:]:\n",
    "            ia.indicator_dict[f][frame_num] = data[f]\n",
    "            \n",
    "    return individuals"
   ]
  },
  {
   "cell_type": "code",
   "execution_count": 7,
   "id": "5341a432-52f4-477e-8dea-0b22fdbe2252",
   "metadata": {
    "tags": []
   },
   "outputs": [],
   "source": [
    "individuals_train = make_individuals(individual_activity_data_train, homo_train)"
   ]
  },
  {
   "cell_type": "markdown",
   "id": "69954c23-b99a-42c7-9aec-c93a5d146f3e",
   "metadata": {},
   "source": [
    "# 特徴量抽出とデータ生成"
   ]
  },
  {
   "cell_type": "code",
   "execution_count": 8,
   "id": "6929f8e0-99bb-40e9-8790-7834cad4b61c",
   "metadata": {},
   "outputs": [],
   "source": [
    "from common.functions import gauss, cos_similarity\n",
    "from common.default import PASSING_DEFAULT\n",
    "\n",
    "def extract_features(label1, label2, frame_num, individuals):\n",
    "    individual1 = individuals[label1]\n",
    "    pos1 = individual1.get_data('position', frame_num)\n",
    "    body1 = individual1.get_data('body_vector', frame_num)\n",
    "    arm1 = individual1.get_data('arm', frame_num)\n",
    "    if pos1 is None or body1 is None or arm1 is None:\n",
    "        return None\n",
    "    \n",
    "    individual2 = individuals[label2]\n",
    "    pos2 = individual2.get_data('position', frame_num)\n",
    "    body2 = individual2.get_data('body_vector', frame_num)\n",
    "    arm2 = individual2.get_data('arm', frame_num)\n",
    "    if pos2 is None or body2 is None or arm2 is None:\n",
    "        return None\n",
    "    \n",
    "    norm = np.linalg.norm(np.array(pos1) - np.array(pos2), ord=2)\n",
    "    distance_prob = gauss(\n",
    "        norm,\n",
    "        mu=PASSING_DEFAULT['gauss_mu'],\n",
    "        sigma=PASSING_DEFAULT['gauss_sig'])\n",
    "    \n",
    "    pos1 = np.array(pos1)\n",
    "    pos2 = np.array(pos2)\n",
    "    p1p2 = pos2 - pos1\n",
    "    p2p1 = pos1 - pos2\n",
    "    p1_sim = cos_similarity(body1, p1p2)\n",
    "    p2_sim = cos_similarity(body2, p2p1)\n",
    "    body_direction = np.average([p1_sim, p2_sim])\n",
    "    \n",
    "    arm_ave = np.average([arm1, arm2])\n",
    "\n",
    "    return [distance_prob, body_direction, arm_ave]\n",
    "\n",
    "columns = ['distance', 'body direction', 'arm average']"
   ]
  },
  {
   "cell_type": "code",
   "execution_count": 9,
   "id": "3597c1de-4548-4e23-8abb-85fcaa93e121",
   "metadata": {},
   "outputs": [],
   "source": [
    "# train data\n",
    "csv_path = os.path.join(common.data_dir, '{0}/{1}/{2}/csv/data.csv'.format(room_num, date, name_train))\n",
    "csv_data = np.loadtxt(csv_path, delimiter=',', dtype=int, skiprows=1)\n",
    "\n",
    "train_x_dict = {}\n",
    "train_y_dict = {}\n",
    "for row in csv_data:\n",
    "    features = extract_features(row[1], row[2], row[0], individuals_train)\n",
    "    key = str(row[1]) + str(row[2])\n",
    "    \n",
    "    if key not in train_x_dict:\n",
    "        train_x_dict[key] = []\n",
    "        train_y_dict[key] = []\n",
    "        \n",
    "    if features is not None:\n",
    "        train_x_dict[key].append(features)\n",
    "        train_y_dict[key].append(row[3])"
   ]
  },
  {
   "cell_type": "code",
   "execution_count": 10,
   "id": "2ab18d1f-80c2-4161-bf94-240bf20299a7",
   "metadata": {},
   "outputs": [
    {
     "data": {
      "text/plain": [
       "[0.9360336082191594, -0.38153508957584115, 0.26716812128953077]"
      ]
     },
     "execution_count": 10,
     "metadata": {},
     "output_type": "execute_result"
    }
   ],
   "source": [
    "train_x_dict['01'][0]"
   ]
  },
  {
   "cell_type": "markdown",
   "id": "835592fb-de70-4fb5-a334-5ebb66efcadb",
   "metadata": {},
   "source": [
    "# 分布をプロット"
   ]
  },
  {
   "cell_type": "code",
   "execution_count": 11,
   "id": "4deffd85-09c5-4656-8e95-927ce987b84e",
   "metadata": {},
   "outputs": [
    {
     "data": {
      "application/vnd.jupyter.widget-view+json": {
       "model_id": "59a040ba6ab648ee98f62573d482ac3b",
       "version_major": 2,
       "version_minor": 0
      },
      "text/plain": [
       "Canvas(toolbar=Toolbar(toolitems=[('Home', 'Reset original view', 'home', 'home'), ('Back', 'Back to previous …"
      ]
     },
     "metadata": {},
     "output_type": "display_data"
    },
    {
     "data": {
      "text/plain": [
       "(0.0, 1.0)"
      ]
     },
     "execution_count": 11,
     "metadata": {},
     "output_type": "execute_result"
    }
   ],
   "source": [
    "%matplotlib widget\n",
    "\n",
    "# データを整形\n",
    "train_x = []\n",
    "train_y = []\n",
    "for x, y in zip(train_x_dict.values(), train_y_dict.values()):\n",
    "    train_x += x\n",
    "    train_y += y\n",
    "\n",
    "x_true = np.array(train_x)[np.where(np.array(train_y) == 1)].T\n",
    "x_false = np.array(train_x)[np.where(np.array(train_y) == 0)].T\n",
    "\n",
    "# 分布をプロット\n",
    "def set_ax(ax, column_i, column_j, title):\n",
    "    ax.set_title(title)\n",
    "    ax.set_xlabel(column_i)\n",
    "    ax.set_ylabel(column_j)\n",
    "    if 'similarity' in column_i:\n",
    "        ax.set_xlim((-1, 1))\n",
    "    else:\n",
    "        ax.set_xlim((0, 1))\n",
    "        \n",
    "    if 'similarity' in column_j:\n",
    "        ax.set_ylim((-1, 1))\n",
    "    else:\n",
    "        ax.set_ylim((0, 1))\n",
    "\n",
    "n = int(len(columns) * (len(columns) - 1) / 2)  # 組み合わせ: len(columns) C 2\n",
    "\n",
    "# fig = plt.figure(figsize=(12, n * 6))\n",
    "# ax_count = 1\n",
    "# for i in range(len(columns) - 1):\n",
    "#     for j in range(i + 1, len(columns)):\n",
    "#         ax = fig.add_subplot(n, 2, ax_count * 2 - 1)\n",
    "#         ax.scatter(x_false[i], x_false[j])\n",
    "#         set_ax(ax, columns[i], columns[j], 'false datas')\n",
    "        \n",
    "#         ax = fig.add_subplot(n, 2, ax_count * 2)\n",
    "#         ax.scatter(x_true[i], x_true[j], color='red')\n",
    "#         set_ax(ax, columns[i], columns[j], 'true datas')\n",
    "        \n",
    "#         ax_count += 1\n",
    "fig = plt.figure(figsize=(12, 12))\n",
    "ax = fig.add_subplot(111, projection=\"3d\")\n",
    "ax.scatter(x_false[0], x_false[1], x_false[2], marker='.')\n",
    "ax.scatter(x_true[0], x_true[1], x_true[2], color='red', marker='.')\n",
    "ax.set_xlabel('distance')\n",
    "ax.set_xlim((0, 1))\n",
    "ax.set_ylabel('body similarity')\n",
    "ax.set_ylim((-1, 1))\n",
    "ax.set_zlabel('arm average')\n",
    "ax.set_zlim((0, 1))"
   ]
  },
  {
   "cell_type": "markdown",
   "id": "35561923-67dc-4a46-a1c9-7e2534563268",
   "metadata": {},
   "source": [
    "# 学習・検証"
   ]
  },
  {
   "cell_type": "code",
   "execution_count": 12,
   "id": "5b9131de-4ce7-4474-9c2e-208a226836b6",
   "metadata": {},
   "outputs": [],
   "source": [
    "from sklearn.svm import SVC\n",
    "\n",
    "from sklearn.preprocessing import scale\n",
    "from sklearn.metrics import accuracy_score\n",
    "from sklearn.metrics import precision_score\n",
    "from sklearn.metrics import recall_score\n",
    "from sklearn.metrics import f1_score\n",
    "from sklearn.metrics import confusion_matrix\n",
    "import seaborn as sns\n",
    "import pickle"
   ]
  },
  {
   "cell_type": "code",
   "execution_count": 13,
   "id": "b98e071d-8d9e-4a72-bc8e-646f139a1dc4",
   "metadata": {},
   "outputs": [],
   "source": [
    "train_x = []\n",
    "train_y = []\n",
    "for x, y in zip(train_x_dict.values(), train_y_dict.values()):\n",
    "    train_x += x\n",
    "    train_y += y\n",
    "    \n",
    "# train_x = scale(train_x)"
   ]
  },
  {
   "cell_type": "code",
   "execution_count": 96,
   "id": "f919a956-2047-454f-9e10-eecf7871d3ad",
   "metadata": {},
   "outputs": [
    {
     "data": {
      "text/plain": [
       "SVC(C=54, gamma=0.37)"
      ]
     },
     "execution_count": 96,
     "metadata": {},
     "output_type": "execute_result"
    }
   ],
   "source": [
    "model = SVC(C=54, gamma=0.37)\n",
    "\n",
    "model.fit(train_x, train_y)"
   ]
  },
  {
   "cell_type": "code",
   "execution_count": 97,
   "id": "a499c36e-bb9e-4faa-b91b-a1fd8b7dc28a",
   "metadata": {},
   "outputs": [
    {
     "data": {
      "image/png": "[encoded data removed]",
      "text/plain": [
       "<Figure size 720x216 with 1 Axes>"
      ]
     },
     "metadata": {
      "needs_background": "light"
     },
     "output_type": "display_data"
    },
    {
     "data": {
      "image/png": "[encoded data removed]",
      "text/plain": [
       "<Figure size 720x216 with 1 Axes>"
      ]
     },
     "metadata": {
      "needs_background": "light"
     },
     "output_type": "display_data"
    },
    {
     "data": {
      "image/png": "[encoded data removed]",
      "text/plain": [
       "<Figure size 720x216 with 1 Axes>"
      ]
     },
     "metadata": {
      "needs_background": "light"
     },
     "output_type": "display_data"
    }
   ],
   "source": [
    "%matplotlib inline\n",
    "for persons, x, y in zip(train_x_dict.keys(), train_x_dict.values(), train_y_dict.values()):\n",
    "    pred = model.predict(x)\n",
    "    plt.figure(figsize=(10, 3))\n",
    "    plt.plot(pred)\n",
    "    plt.plot(y, linestyle=':')\n",
    "    plt.ylim((-0.05, 1.05))\n",
    "    # plt.xlabel('frame')\n",
    "    # plt.ylabel('passing')\n",
    "    # plt.title('person{0} vs person{1}'.format(persons[0], persons[1]))\n",
    "    plt.show()"
   ]
  },
  {
   "cell_type": "code",
   "execution_count": 98,
   "id": "38a18418-91a8-4e7c-8e32-36381a053920",
   "metadata": {},
   "outputs": [
    {
     "name": "stdout",
     "output_type": "stream",
     "text": [
      "accuracy: 0.982\n",
      "precision: 0.898\n",
      "recall: 0.965\n",
      "f1_score: 0.930\n"
     ]
    },
    {
     "data": {
      "text/plain": [
       "<AxesSubplot:>"
      ]
     },
     "execution_count": 98,
     "metadata": {},
     "output_type": "execute_result"
    },
    {
     "data": {
      "image/png": "[encoded data removed]",
      "text/plain": [
       "<Figure size 432x288 with 2 Axes>"
      ]
     },
     "metadata": {
      "needs_background": "light"
     },
     "output_type": "display_data"
    }
   ],
   "source": [
    "%matplotlib inline\n",
    "pred = model.predict(train_x)\n",
    "\n",
    "print('accuracy: {:.3f}'.format(accuracy_score(train_y, pred)))\n",
    "print('precision: {:.3f}'.format(precision_score(train_y, pred)))\n",
    "print('recall: {:.3f}'.format(recall_score(train_y, pred)))\n",
    "print('f1_score: {:.3f}'.format(f1_score(train_y, pred)))\n",
    "\n",
    "cm = confusion_matrix(train_y, pred)\n",
    "sns.heatmap(cm, cmap='Blues')"
   ]
  },
  {
   "cell_type": "markdown",
   "id": "74ff99ea-97c0-42e1-b203-057677ce44ab",
   "metadata": {},
   "source": [
    "# テスト\n",
    "## テスト1"
   ]
  },
  {
   "cell_type": "code",
   "execution_count": 99,
   "id": "6c215d9a-d228-4a08-9db7-6f9eee20afef",
   "metadata": {},
   "outputs": [],
   "source": [
    "name_test1 = 'pass3'"
   ]
  },
  {
   "cell_type": "code",
   "execution_count": 100,
   "id": "5160aeaf-ddbb-43aa-a4d4-7adb624d5ad6",
   "metadata": {},
   "outputs": [],
   "source": [
    "individual_activity_json_test1 = os.path.join(\n",
    "    common.data_dir, '{0}/{1}/{2}/json/individual_activity.json'.format(room_num, date, name_test1))\n",
    "field_path = os.path.join(common.data_dir, 'field.png')"
   ]
  },
  {
   "cell_type": "code",
   "execution_count": 101,
   "id": "39b4c119-cbb0-4f9e-bd8b-14295a1a511d",
   "metadata": {},
   "outputs": [],
   "source": [
    "field_raw = cv2.imread(field_path)\n",
    "p_video = common.homo[room_num][0]\n",
    "p_field = common.homo[room_num][1]\n",
    "homo_test1 = transform.Homography(p_video, p_field, field_raw.shape)"
   ]
  },
  {
   "cell_type": "code",
   "execution_count": 102,
   "id": "5adb2d54-d3fc-4c47-86c1-269e9dc61f23",
   "metadata": {},
   "outputs": [],
   "source": [
    "individual_activity_data_test1 = json.load(individual_activity_json_test1)"
   ]
  },
  {
   "cell_type": "code",
   "execution_count": 103,
   "id": "7482d1b1-9501-4e40-92a5-fae474e5c550",
   "metadata": {},
   "outputs": [],
   "source": [
    "individuals_test1 = make_individuals(individual_activity_data_test1, homo_test1)"
   ]
  },
  {
   "cell_type": "code",
   "execution_count": 104,
   "id": "089f50f6-808c-4111-88ae-309357dc4303",
   "metadata": {},
   "outputs": [],
   "source": [
    "# test data\n",
    "csv_path = os.path.join(common.data_dir, '{0}/{1}/{2}/csv/data.csv'.format(room_num, date, name_test1))\n",
    "csv_data = np.loadtxt(csv_path, delimiter=',', dtype=int, skiprows=1)\n",
    "\n",
    "test_x_dict1 = {}\n",
    "test_y_dict1 = {}\n",
    "for row in csv_data:\n",
    "    features = extract_features(row[1], row[2], row[0], individuals_test1)\n",
    "    key = str(row[1]) + str(row[2])\n",
    "    \n",
    "    if key not in test_x_dict1:\n",
    "        test_x_dict1[key] = []\n",
    "        test_y_dict1[key] = []\n",
    "        \n",
    "    if features is not None:\n",
    "        test_x_dict1[key].append(features)\n",
    "        test_y_dict1[key].append(row[3])"
   ]
  },
  {
   "cell_type": "code",
   "execution_count": 105,
   "id": "51cce9ff-d2e2-4cce-a934-2cd1f03b2163",
   "metadata": {},
   "outputs": [
    {
     "data": {
      "image/png": "[encoded data removed]",
      "text/plain": [
       "<Figure size 720x216 with 1 Axes>"
      ]
     },
     "metadata": {
      "needs_background": "light"
     },
     "output_type": "display_data"
    },
    {
     "data": {
      "image/png": "[encoded data removed]",
      "text/plain": [
       "<Figure size 720x216 with 1 Axes>"
      ]
     },
     "metadata": {
      "needs_background": "light"
     },
     "output_type": "display_data"
    },
    {
     "data": {
      "image/png": "[encoded data removed]",
      "text/plain": [
       "<Figure size 720x216 with 1 Axes>"
      ]
     },
     "metadata": {
      "needs_background": "light"
     },
     "output_type": "display_data"
    },
    {
     "data": {
      "image/png": "[encoded data removed]",
      "text/plain": [
       "<Figure size 720x216 with 1 Axes>"
      ]
     },
     "metadata": {
      "needs_background": "light"
     },
     "output_type": "display_data"
    },
    {
     "data": {
      "image/png": "[encoded data removed]",
      "text/plain": [
       "<Figure size 720x216 with 1 Axes>"
      ]
     },
     "metadata": {
      "needs_background": "light"
     },
     "output_type": "display_data"
    },
    {
     "data": {
      "image/png": "[encoded data removed]",
      "text/plain": [
       "<Figure size 720x216 with 1 Axes>"
      ]
     },
     "metadata": {
      "needs_background": "light"
     },
     "output_type": "display_data"
    }
   ],
   "source": [
    "%matplotlib inline\n",
    "\n",
    "# test1\n",
    "test1_pred = []\n",
    "for persons, x, y in zip(test_x_dict1.keys(), test_x_dict1.values(), test_y_dict1.values()):\n",
    "#     x = scale(x)\n",
    "    pred = model.predict(x)\n",
    "    test1_pred += pred.tolist()\n",
    "    plt.figure(figsize=(10, 3))\n",
    "    plt.plot(pred, label='pred')\n",
    "    plt.plot(y, linestyle=':', label='ground truth')\n",
    "    plt.ylim((-0.05, 1.05))\n",
    "    plt.yticks([0, 1])\n",
    "    plt.subplots_adjust(left=0.02, right=1, bottom=0.08, top=1)\n",
    "    # plt.xlabel('frame')\n",
    "    # plt.ylabel('likelihood')\n",
    "    # 論文はテスト1とテスト2が逆になっている\n",
    "    # plt.title('test 2: person{0} vs person{1}'.format(persons[0], persons[1]))\n",
    "    # plt.legend(bbox_to_anchor=(1.05, 1), loc='upper left', borderaxespad=0, fontsize=12)\n",
    "    if 1 in pred:\n",
    "        plt.savefig('test1.pdf')\n",
    "    plt.show()"
   ]
  },
  {
   "cell_type": "code",
   "execution_count": 106,
   "id": "c6a2b04e-ccce-4860-aad6-0b84b84faf06",
   "metadata": {},
   "outputs": [
    {
     "name": "stdout",
     "output_type": "stream",
     "text": [
      "accuracy: 0.992\n",
      "precision: 0.930\n",
      "recall: 0.975\n",
      "f1_score: 0.952\n"
     ]
    },
    {
     "data": {
      "text/plain": [
       "<AxesSubplot:>"
      ]
     },
     "execution_count": 106,
     "metadata": {},
     "output_type": "execute_result"
    },
    {
     "data": {
      "image/png": "[encoded data removed]",
      "text/plain": [
       "<Figure size 432x288 with 2 Axes>"
      ]
     },
     "metadata": {
      "needs_background": "light"
     },
     "output_type": "display_data"
    }
   ],
   "source": [
    "%matplotlib inline\n",
    "\n",
    "test_x1 = []\n",
    "test_y1 = []\n",
    "for x, y in zip(test_x_dict1.values(), test_y_dict1.values()):\n",
    "    test_x1 += x\n",
    "    test_y1 += y\n",
    "\n",
    "pred = model.predict(test_x1)\n",
    "\n",
    "print('accuracy: {:.3f}'.format(accuracy_score(test_y1, pred)))\n",
    "print('precision: {:.3f}'.format(precision_score(test_y1, pred)))\n",
    "print('recall: {:.3f}'.format(recall_score(test_y1, pred)))\n",
    "print('f1_score: {:.3f}'.format(f1_score(test_y1, pred)))\n",
    "\n",
    "cm = confusion_matrix(test_y1, pred)\n",
    "sns.heatmap(cm, cmap='Blues')"
   ]
  },
  {
   "cell_type": "code",
   "execution_count": 107,
   "id": "2e52f2ea-9d37-4997-96aa-55913b3722f7",
   "metadata": {},
   "outputs": [
    {
     "data": {
      "application/vnd.jupyter.widget-view+json": {
       "model_id": "7850ff73c4614384ab12d992cc1401b4",
       "version_major": 2,
       "version_minor": 0
      },
      "text/plain": [
       "Canvas(toolbar=Toolbar(toolitems=[('Home', 'Reset original view', 'home', 'home'), ('Back', 'Back to previous …"
      ]
     },
     "metadata": {},
     "output_type": "display_data"
    },
    {
     "data": {
      "text/plain": [
       "Text(0.5, 0.92, 'Prediction')"
      ]
     },
     "execution_count": 107,
     "metadata": {},
     "output_type": "execute_result"
    }
   ],
   "source": [
    "%matplotlib widget\n",
    "\n",
    "data_x = []\n",
    "data_y = []\n",
    "for x, y in zip(test_x_dict1.values(), test_y_dict1.values()):\n",
    "    data_x += x\n",
    "    data_y += y\n",
    "\n",
    "gt_true = np.array(data_x)[np.where(np.array(data_y) == 1)].T\n",
    "gt_false = np.array(data_x)[np.where(np.array(data_y) == 0)].T\n",
    "\n",
    "data_x = []\n",
    "for x, y in zip(test_x_dict1.values(), test_y_dict1.values()):\n",
    "    data_x += x\n",
    "\n",
    "pred_true = np.array(data_x)[np.where(np.array(test1_pred) == 1)].T\n",
    "pred_false = np.array(data_x)[np.where(np.array(test1_pred) == 0)].T\n",
    "\n",
    "# fig = plt.figure(figsize=(24, n * 6))\n",
    "# ax_count = 1\n",
    "# for i in range(len(columns) - 1):\n",
    "#     for j in range(i + 1, len(columns)):\n",
    "#         ax = fig.add_subplot(n, 4, ax_count * 4 - 3)\n",
    "#         ax.scatter(gt_false[i], gt_false[j])\n",
    "#         set_ax(ax, columns[i], columns[j], 'groundtruth false')\n",
    "        \n",
    "#         ax = fig.add_subplot(n, 4, ax_count * 4 - 2)\n",
    "#         ax.scatter(gt_true[i], gt_true[j], color='red')\n",
    "#         set_ax(ax, columns[i], columns[j], 'groundtruth true')\n",
    "        \n",
    "#         ax = fig.add_subplot(n, 4, ax_count * 4 - 1)\n",
    "#         ax.scatter(pred_false[i], pred_false[j])\n",
    "#         set_ax(ax, columns[i], columns[j], 'pred false')\n",
    "        \n",
    "#         ax = fig.add_subplot(n, 4, ax_count * 4 - 0)\n",
    "#         ax.scatter(pred_true[i], pred_true[j], color='red')\n",
    "#         set_ax(ax, columns[i], columns[j], 'pred true')\n",
    "        \n",
    "#         ax_count += 1\n",
    "        \n",
    "fig = plt.figure(figsize=(20, 10))\n",
    "ax = fig.add_subplot(121, projection=\"3d\")\n",
    "ax.scatter(gt_false[0], gt_false[1], gt_false[2], marker='.')\n",
    "ax.scatter(gt_true[0], gt_true[1], gt_true[2], color='red', marker='.')\n",
    "ax.set_xlabel('distance')\n",
    "ax.set_xlim((0, 1))\n",
    "ax.set_ylabel('body similarity')\n",
    "ax.set_ylim((-1, 1))\n",
    "ax.set_zlabel('arm average')\n",
    "ax.set_zlim((0, 1))\n",
    "ax.set_title('Ground Truth')\n",
    "\n",
    "ax = fig.add_subplot(122, projection=\"3d\")\n",
    "ax.scatter(pred_false[0], pred_false[1], pred_false[2], marker='.')\n",
    "ax.scatter(pred_true[0], pred_true[1], pred_true[2], color='red', marker='.')\n",
    "ax.set_xlabel('distance')\n",
    "ax.set_xlim((0, 1))\n",
    "ax.set_ylabel('body similarity')\n",
    "ax.set_ylim((-1, 1))\n",
    "ax.set_zlabel('arm average')\n",
    "ax.set_zlim((0, 1))\n",
    "ax.set_title('Prediction')"
   ]
  },
  {
   "cell_type": "markdown",
   "id": "371499d6-2cbd-46e1-bd14-7f6456342cff",
   "metadata": {},
   "source": [
    "## テスト2"
   ]
  },
  {
   "cell_type": "code",
   "execution_count": 108,
   "id": "3988cca2-b6f9-4116-ac68-b629d1868ff7",
   "metadata": {},
   "outputs": [],
   "source": [
    "name_test2 = 'pass2'"
   ]
  },
  {
   "cell_type": "code",
   "execution_count": 109,
   "id": "158f66ea-e59d-48e4-8631-9e6bfe64e045",
   "metadata": {},
   "outputs": [],
   "source": [
    "individual_activity_json_test2 = os.path.join(\n",
    "    common.data_dir, '{0}/{1}/{2}/json/individual_activity.json'.format(room_num, date, name_test2))\n",
    "field_path = os.path.join(\n",
    "    common.data_dir, 'field.png')"
   ]
  },
  {
   "cell_type": "code",
   "execution_count": 110,
   "id": "540146c4-4825-48ae-b3be-a3ad21b9765e",
   "metadata": {},
   "outputs": [],
   "source": [
    "field_raw = cv2.imread(field_path)\n",
    "p_video = common.homo[room_num][0]\n",
    "p_field = common.homo[room_num][1]\n",
    "homo_test2 = transform.Homography(p_video, p_field, field_raw.shape)"
   ]
  },
  {
   "cell_type": "code",
   "execution_count": 111,
   "id": "fa04679e-7f79-4709-b3be-c70961e81ca6",
   "metadata": {},
   "outputs": [],
   "source": [
    "individual_activity_data_test2 = json.load(individual_activity_json_test2)"
   ]
  },
  {
   "cell_type": "code",
   "execution_count": 112,
   "id": "3c8e7873-3cae-4724-b7d6-f96e99cd0651",
   "metadata": {},
   "outputs": [],
   "source": [
    "individuals_test2 = make_individuals(individual_activity_data_test2, homo_test2)"
   ]
  },
  {
   "cell_type": "code",
   "execution_count": 113,
   "id": "b2302d14-1efe-422c-8994-6dab787279d9",
   "metadata": {},
   "outputs": [],
   "source": [
    "csv_path = os.path.join(common.data_dir, '{0}/{1}/{2}/csv/data.csv'.format(room_num, date, name_test2))\n",
    "csv_data = np.loadtxt(csv_path, delimiter=',', dtype=int, skiprows=1)\n",
    "\n",
    "test_x_dict2 = {}\n",
    "test_y_dict2 = {}\n",
    "for row in csv_data:\n",
    "    features = extract_features(row[1], row[2], row[0], individuals_test2)\n",
    "    key = str(row[1]) + str(row[2])\n",
    "    \n",
    "    if key not in test_x_dict2:\n",
    "        test_x_dict2[key] = []\n",
    "        test_y_dict2[key] = []\n",
    "        \n",
    "    if features is not None:\n",
    "        test_x_dict2[key].append(features)\n",
    "        test_y_dict2[key].append(row[3])"
   ]
  },
  {
   "cell_type": "code",
   "execution_count": 114,
   "id": "64c11b38-d513-4039-ad24-a1e553e59124",
   "metadata": {},
   "outputs": [
    {
     "data": {
      "image/png": "[encoded data removed]",
      "text/plain": [
       "<Figure size 720x216 with 1 Axes>"
      ]
     },
     "metadata": {
      "needs_background": "light"
     },
     "output_type": "display_data"
    },
    {
     "data": {
      "image/png": "[encoded data removed]",
      "text/plain": [
       "<Figure size 720x216 with 1 Axes>"
      ]
     },
     "metadata": {
      "needs_background": "light"
     },
     "output_type": "display_data"
    },
    {
     "data": {
      "image/png": "[encoded data removed]",
      "text/plain": [
       "<Figure size 720x216 with 1 Axes>"
      ]
     },
     "metadata": {
      "needs_background": "light"
     },
     "output_type": "display_data"
    }
   ],
   "source": [
    "%matplotlib inline\n",
    "\n",
    "# test2\n",
    "test2_pred = []\n",
    "for persons, x, y in zip(test_x_dict2.keys(), test_x_dict2.values(), test_y_dict2.values()):\n",
    "#     x = scale(x)\n",
    "    pred = model.predict(x)\n",
    "    test2_pred += pred.tolist()\n",
    "    plt.figure(figsize=(10, 3))\n",
    "    plt.plot(pred, label='pred')\n",
    "    plt.plot(y, linestyle=':', label='ground truth')\n",
    "    plt.ylim((-0.05, 1.05))\n",
    "    plt.yticks([0, 1])\n",
    "    # plt.xlabel('frame')\n",
    "    # plt.ylabel('likelihood')\n",
    "    # 論文はテスト1とテスト2が逆になっている\n",
    "    # plt.title('test 1: person{0} vs person{1}'.format(persons[0], persons[1]))\n",
    "    # plt.legend(bbox_to_anchor=(1.05, 1), loc='upper left', borderaxespad=0, fontsize=12)\n",
    "    plt.subplots_adjust(left=0.02, right=1, bottom=0.08, top=1)\n",
    "    if 1 in pred:\n",
    "        plt.savefig('test2.pdf')\n",
    "    plt.show()"
   ]
  },
  {
   "cell_type": "code",
   "execution_count": 115,
   "id": "c6440dd0-8a29-42c4-ba02-e5825edf2b86",
   "metadata": {},
   "outputs": [
    {
     "name": "stdout",
     "output_type": "stream",
     "text": [
      "accuracy: 0.990\n",
      "precision: 0.975\n",
      "recall: 0.940\n",
      "f1_score: 0.957\n"
     ]
    },
    {
     "data": {
      "text/plain": [
       "<AxesSubplot:>"
      ]
     },
     "execution_count": 115,
     "metadata": {},
     "output_type": "execute_result"
    },
    {
     "data": {
      "image/png": "[encoded data removed]",
      "text/plain": [
       "<Figure size 432x288 with 2 Axes>"
      ]
     },
     "metadata": {
      "needs_background": "light"
     },
     "output_type": "display_data"
    }
   ],
   "source": [
    "%matplotlib inline\n",
    "\n",
    "test_x2 = []\n",
    "test_y2 = []\n",
    "for x, y in zip(test_x_dict2.values(), test_y_dict2.values()):\n",
    "    test_x2 += x\n",
    "    test_y2 += y\n",
    "\n",
    "pred = model.predict(test_x2)\n",
    "\n",
    "print('accuracy: {:.3f}'.format(accuracy_score(test_y2, pred)))\n",
    "print('precision: {:.3f}'.format(precision_score(test_y2, pred)))\n",
    "print('recall: {:.3f}'.format(recall_score(test_y2, pred)))\n",
    "print('f1_score: {:.3f}'.format(f1_score(test_y2, pred)))\n",
    "\n",
    "cm = confusion_matrix(test_y2, pred)\n",
    "sns.heatmap(cm, cmap='Blues')"
   ]
  },
  {
   "cell_type": "code",
   "execution_count": 116,
   "id": "447d5512-e4e1-4549-8f0a-8a9859825b0a",
   "metadata": {},
   "outputs": [
    {
     "data": {
      "application/vnd.jupyter.widget-view+json": {
       "model_id": "591dc80985104da3b4e5c9e9b570884a",
       "version_major": 2,
       "version_minor": 0
      },
      "text/plain": [
       "Canvas(toolbar=Toolbar(toolitems=[('Home', 'Reset original view', 'home', 'home'), ('Back', 'Back to previous …"
      ]
     },
     "metadata": {},
     "output_type": "display_data"
    },
    {
     "data": {
      "text/plain": [
       "Text(0.5, 0.92, 'Prediction')"
      ]
     },
     "execution_count": 116,
     "metadata": {},
     "output_type": "execute_result"
    }
   ],
   "source": [
    "%matplotlib widget\n",
    "\n",
    "data_x = []\n",
    "data_y = []\n",
    "for x, y in zip(test_x_dict2.values(), test_y_dict2.values()):\n",
    "    data_x += x\n",
    "    data_y += y\n",
    "\n",
    "gt_true = np.array(data_x)[np.where(np.array(data_y) == 1)].T\n",
    "gt_false = np.array(data_x)[np.where(np.array(data_y) == 0)].T\n",
    "\n",
    "data_x = []\n",
    "for x, y in zip(test_x_dict2.values(), test_y_dict2.values()):\n",
    "    data_x += x\n",
    "\n",
    "pred_true = np.array(data_x)[np.where(np.array(test2_pred) == 1)].T\n",
    "pred_false = np.array(data_x)[np.where(np.array(test2_pred) == 0)].T\n",
    "\n",
    "# fig = plt.figure(figsize=(24, n * 6))\n",
    "# ax_count = 1\n",
    "# for i in range(len(columns) - 1):\n",
    "#     for j in range(i + 1, len(columns)):\n",
    "#         ax = fig.add_subplot(n, 4, ax_count * 4 - 3)\n",
    "#         ax.scatter(gt_false[i], gt_false[j])\n",
    "#         set_ax(ax, columns[i], columns[j], 'groundtruth false')\n",
    "        \n",
    "#         ax = fig.add_subplot(n, 4, ax_count * 4 - 2)\n",
    "#         ax.scatter(gt_true[i], gt_true[j], color='red')\n",
    "#         set_ax(ax, columns[i], columns[j], 'groundtruth true')\n",
    "        \n",
    "#         ax = fig.add_subplot(n, 4, ax_count * 4 - 1)\n",
    "#         ax.scatter(pred_false[i], pred_false[j])\n",
    "#         set_ax(ax, columns[i], columns[j], 'pred false')\n",
    "        \n",
    "#         ax = fig.add_subplot(n, 4, ax_count * 4 - 0)\n",
    "#         ax.scatter(pred_true[i], pred_true[j], color='red')\n",
    "#         set_ax(ax, columns[i], columns[j], 'pred true')\n",
    "        \n",
    "#         ax_count += 1\n",
    "        \n",
    "fig = plt.figure(figsize=(20, 10))\n",
    "ax = fig.add_subplot(121, projection=\"3d\")\n",
    "ax.scatter(gt_false[0], gt_false[1], gt_false[2], marker='.')\n",
    "ax.scatter(gt_true[0], gt_true[1], gt_true[2], color='red', marker='.')\n",
    "ax.set_xlabel('distance')\n",
    "ax.set_xlim((0, 1))\n",
    "ax.set_ylabel('body similarity')\n",
    "ax.set_ylim((-1, 1))\n",
    "ax.set_zlabel('arm average')\n",
    "ax.set_zlim((0, 1))\n",
    "ax.set_title('Ground Truth')\n",
    "\n",
    "ax = fig.add_subplot(122, projection=\"3d\")\n",
    "ax.scatter(pred_false[0], pred_false[1], pred_false[2], marker='.')\n",
    "ax.scatter(pred_true[0], pred_true[1], pred_true[2], color='red', marker='.')\n",
    "ax.set_xlabel('distance')\n",
    "ax.set_xlim((0, 1))\n",
    "ax.set_ylabel('body similarity')\n",
    "ax.set_ylim((-1, 1))\n",
    "ax.set_zlabel('arm average')\n",
    "ax.set_zlim((0, 1))\n",
    "ax.set_title('Prediction')"
   ]
  },
  {
   "cell_type": "markdown",
   "id": "6fb630ca-04b9-4183-9a4b-07f6cc08d007",
   "metadata": {},
   "source": [
    "# モデルを保存"
   ]
  },
  {
   "cell_type": "code",
   "execution_count": 117,
   "id": "3e5557c2-c81f-4a93-b74e-9b10506b2f99",
   "metadata": {},
   "outputs": [],
   "source": [
    "model_path = os.path.join(common.model_dir, 'pass_model.pickle')\n",
    "with open(model_path, mode='wb') as f:\n",
    "    pickle.dump(model, f)"
   ]
  },
  {
   "cell_type": "markdown",
   "id": "614485d3-e529-4b7e-b788-c576a108b9e7",
   "metadata": {},
   "source": [
    "# 境界線をプロット"
   ]
  },
  {
   "cell_type": "code",
   "execution_count": 118,
   "id": "a28fed08-12a0-4e2b-9f85-bff862c866a3",
   "metadata": {},
   "outputs": [],
   "source": [
    "x1 = np.linspace(0.0, 1.0, 21)\n",
    "x2 = np.linspace(-1.0, 1.0, 21)\n",
    "x3 = np.linspace(0.0, 1.0, 21)\n",
    "x1, x2, x3 = np.meshgrid(x1, x2, x3)\n",
    "data = np.stack([x1.ravel(), x2.ravel(), x3.ravel()]).T"
   ]
  },
  {
   "cell_type": "code",
   "execution_count": 119,
   "id": "84b4cab6-252b-45ea-8e35-915310720575",
   "metadata": {},
   "outputs": [],
   "source": [
    "pred = model.predict(data)"
   ]
  },
  {
   "cell_type": "code",
   "execution_count": 120,
   "id": "1e9fc538-bcbf-4aa9-8e40-1600fee7789e",
   "metadata": {},
   "outputs": [
    {
     "data": {
      "application/vnd.jupyter.widget-view+json": {
       "model_id": "596a9342ee434e5ab4a7aa4091b7fd6b",
       "version_major": 2,
       "version_minor": 0
      },
      "text/plain": [
       "Canvas(toolbar=Toolbar(toolitems=[('Home', 'Reset original view', 'home', 'home'), ('Back', 'Back to previous …"
      ]
     },
     "metadata": {},
     "output_type": "display_data"
    },
    {
     "data": {
      "text/plain": [
       "(0.0, 1.0)"
      ]
     },
     "execution_count": 120,
     "metadata": {},
     "output_type": "execute_result"
    }
   ],
   "source": [
    "%matplotlib widget\n",
    "\n",
    "true = data[pred == 1].T\n",
    "false = data[pred == 0].T\n",
    "\n",
    "fig = plt.figure(figsize=(20, 10))\n",
    "ax = fig.add_subplot(121, projection=\"3d\")\n",
    "ax.scatter(false[0], false[1], false[2], marker='.')\n",
    "ax.set_xlabel('distance')\n",
    "ax.set_xlim((0, 1))\n",
    "ax.set_ylabel('body similarity')\n",
    "ax.set_ylim((-1, 1))\n",
    "ax.set_zlabel('arm average')\n",
    "ax.set_zlim((0, 1))\n",
    "\n",
    "ax = fig.add_subplot(122, projection=\"3d\")\n",
    "ax.scatter(true[0], true[1], true[2], color='red', marker='.')\n",
    "ax.set_xlabel('distance')\n",
    "ax.set_xlim((0, 1))\n",
    "ax.set_ylabel('body similarity')\n",
    "ax.set_ylim((-1, 1))\n",
    "ax.set_zlabel('arm average')\n",
    "ax.set_zlim((0, 1))"
   ]
  },
  {
   "cell_type": "markdown",
   "id": "89efd1f5-bdcd-4512-9a06-96dbae54404c",
   "metadata": {},
   "source": [
    "# パラメータ調整"
   ]
  },
  {
   "cell_type": "code",
   "execution_count": 121,
   "id": "3d4156ec-1fc0-44d8-885f-efffe1b556bb",
   "metadata": {},
   "outputs": [],
   "source": [
    "from sklearn.model_selection import GridSearchCV\n",
    "from sklearn.metrics import roc_auc_score, log_loss\n",
    "from tqdm import tqdm"
   ]
  },
  {
   "cell_type": "code",
   "execution_count": 122,
   "id": "f26d04d4-0da3-4676-b3fd-54d52941bdd3",
   "metadata": {},
   "outputs": [],
   "source": [
    "test_x = train_x\n",
    "test_y = train_y\n",
    "for x, y in zip(test_x_dict1.values(), test_y_dict1.values()):\n",
    "    test_x += x\n",
    "    test_y += y\n",
    "for x, y in zip(test_x_dict2.values(), test_y_dict2.values()):\n",
    "    test_x += x\n",
    "    test_y += y"
   ]
  },
  {
   "cell_type": "code",
   "execution_count": 95,
   "id": "1ef11785-9389-4b3a-852d-96e853dc3266",
   "metadata": {},
   "outputs": [
    {
     "name": "stderr",
     "output_type": "stream",
     "text": [
      "100%|██████████| 99/99 [1:06:59<00:00, 40.60s/it]"
     ]
    },
    {
     "name": "stdout",
     "output_type": "stream",
     "text": [
      "max auc score: 0.9477781221652476, C: 2, gamma: 0.01\n",
      "min logloss score: 0.6238871249402143, C: 54, gamma: 0.37\n"
     ]
    },
    {
     "name": "stderr",
     "output_type": "stream",
     "text": [
      "\n"
     ]
    }
   ],
   "source": [
    "params = {\n",
    "    'C': np.arange(1, 100, 1),\n",
    "    'gamma': np.arange(0.01, 1.0, 0.01)\n",
    "}\n",
    "\n",
    "max_score = 0\n",
    "min_score = np.inf\n",
    "auc_param = {}\n",
    "logloss_param = {}\n",
    "for c in tqdm(params['C']):\n",
    "    for gamma in params['gamma']:\n",
    "        model = SVC(C=c, gamma=gamma)\n",
    "        model.fit(train_x, train_y)\n",
    "        pred = model.predict(test_x)\n",
    "        \n",
    "        score = roc_auc_score(pred, test_y)\n",
    "        if score > max_score:\n",
    "            max_score = score\n",
    "            auc_param = {'C': c, 'gamma': gamma}\n",
    "            \n",
    "        score = log_loss(pred, test_y)\n",
    "        if score < min_score:\n",
    "            min_score = score\n",
    "            logloss_param = {'C': c, 'gamma': gamma}\n",
    "            \n",
    "print('max auc score: {}, C: {}, gamma: {}'.format(max_score, auc_param['C'], auc_param['gamma']))\n",
    "print('min logloss score: {}, C: {}, gamma: {}'.format(min_score, logloss_param['C'], logloss_param['gamma']))"
   ]
  },
  {
   "cell_type": "raw",
   "id": "7fd82113-22b2-4e81-9688-50c759ef8fa6",
   "metadata": {},
   "source": [
    "max auc score: 0.9477781221652476, C: 2, gamma: 0.01\n",
    "min logloss score: 0.6238871249402143, C: 54, gamma: 0.37"
   ]
  },
  {
   "cell_type": "raw",
   "id": "f46cf3ad-48d5-4746-9517-ba3365ee8616",
   "metadata": {},
   "source": [
    "max auc score: 0.972744838852374, C: 1, gamma: 0.62\n",
    "min logloss score: 0.6225728589400702, C: 1, gamma: 0.21000000000000002"
   ]
  },
  {
   "cell_type": "raw",
   "id": "c62d0fc2-1b2e-4a25-bb84-477ba6a5d146",
   "metadata": {},
   "source": [
    "max auc score: 0.9519053931780402, C: 74, gamma: 0.87\n",
    "min logloss score: 0.8325419233144424, C: 1, gamma: 0.45"
   ]
  },
  {
   "cell_type": "raw",
   "id": "aa5d49fd-c8d7-4708-994c-600b5ff7c2cf",
   "metadata": {},
   "source": [
    "f1 score\n",
    "0.950, 0.933\n",
    "0.952, 0.957"
   ]
  }
 ],
 "metadata": {
  "kernelspec": {
   "display_name": "Python 3",
   "language": "python",
   "name": "python3"
  },
  "language_info": {
   "codemirror_mode": {
    "name": "ipython",
    "version": 3
   },
   "file_extension": ".py",
   "mimetype": "text/x-python",
   "name": "python",
   "nbconvert_exporter": "python",
   "pygments_lexer": "ipython3",
   "version": "3.7.6"
  }
 },
 "nbformat": 4,
 "nbformat_minor": 5
}
