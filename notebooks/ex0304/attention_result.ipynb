{
 "cells": [
  {
   "cell_type": "code",
   "execution_count": 1,
   "id": "ad57df12-7cc4-4946-a5e3-df736def4ef5",
   "metadata": {},
   "outputs": [],
   "source": [
    "import sys\n",
    "sys.path.append('../src')\n",
    "\n",
    "from common import common, transform\n",
    "from tracker import main as tr\n",
    "from indivisual_activity import main as ia\n",
    "from group_activity import main as ga\n",
    "from display.display import display\n",
    "import argparse\n",
    "import os\n",
    "import cv2\n",
    "from tqdm import tqdm"
   ]
  },
  {
   "cell_type": "code",
   "execution_count": 2,
   "id": "02723117-a3d1-4aaf-af52-ce019f8624ff",
   "metadata": {},
   "outputs": [],
   "source": [
    "room_num = '09'\n",
    "date = '20210304'\n",
    "name = 'gaze1-1'\n",
    "method = 'attention'\n",
    "THRESHOLD = 0.05\n",
    "angle_range = 10"
   ]
  },
  {
   "cell_type": "code",
   "execution_count": 3,
   "id": "698dba28-1f28-4278-a306-539a8b2ed631",
   "metadata": {},
   "outputs": [],
   "source": [
    "video_path = os.path.join(\n",
    "    common.data_dir, '{0}/{1}/{2}/video/AlphaPose_{2}.mp4'.format(room_num, date, name))\n",
    "out_dir = os.path.join(\n",
    "    common.data_dir, '{0}/{1}/{2}/out/'.format(room_num, date, name))\n",
    "field_path = os.path.join(\n",
    "    common.data_dir, 'field.png')\n",
    "keypoints_path = os.path.join(\n",
    "    common.data_dir, '{0}/{1}/{2}/json/alphapose-results.json'.format(room_num, date, name))\n",
    "tracking_json_path = os.path.join(\n",
    "    common.data_dir, '{0}/{1}/{2}/json/tracking.json'.format(room_num, date, name))\n",
    "indivisual_activity_json_path = os.path.join(\n",
    "    common.data_dir, '{0}/{1}/{2}/json/indivisual_activity.json'.format(room_num, date, name))\n",
    "group_activity_json_path = os.path.join(\n",
    "    common.data_dir, '{0}/{1}/{2}/json/group_activity.json'.format(room_num, date, name))"
   ]
  },
  {
   "cell_type": "code",
   "execution_count": 4,
   "id": "9bbc21a2-d70f-4846-b2ab-04155015423c",
   "metadata": {},
   "outputs": [],
   "source": [
    "# homography\n",
    "field_raw = cv2.imread(field_path)\n",
    "p_video = common.homo[room_num][0]\n",
    "p_field = common.homo[room_num][1]\n",
    "homo = transform.Homography(p_video, p_field, field_raw.shape)"
   ]
  },
  {
   "cell_type": "code",
   "execution_count": 50,
   "id": "207f473c-399f-481f-9cfb-986f632ef1c4",
   "metadata": {},
   "outputs": [],
   "source": [
    "# tr.main(keypoints_path, tracking_json_path)"
   ]
  },
  {
   "cell_type": "code",
   "execution_count": 51,
   "id": "ff16b6b6-4adc-4373-8705-128619293cda",
   "metadata": {},
   "outputs": [],
   "source": [
    "# ia.main(tracking_json_path, indivisual_activity_json_path, homo)"
   ]
  },
  {
   "cell_type": "code",
   "execution_count": 52,
   "id": "534322fc-1eb6-427c-ba33-f1f9944011d4",
   "metadata": {},
   "outputs": [],
   "source": [
    "ga.main(indivisual_activity_json_path, group_activity_json_path,\n",
    "                homo, field_raw, method, angle_range=angle_range)"
   ]
  },
  {
   "cell_type": "code",
   "execution_count": 53,
   "id": "166cf000-3617-436d-85c7-0952589276ed",
   "metadata": {},
   "outputs": [],
   "source": [
    "# display(\n",
    "#     video_path,\n",
    "#     out_dir,\n",
    "#     indivisual_activity_json_path,\n",
    "#     group_activity_json_path,\n",
    "#     field_raw,\n",
    "#     method)"
   ]
  },
  {
   "cell_type": "markdown",
   "id": "66899d44-3e74-44c4-a339-1c3765634d9e",
   "metadata": {},
   "source": [
    "## 結果をグラフ化する"
   ]
  },
  {
   "cell_type": "code",
   "execution_count": 5,
   "id": "33d1b81c-cabf-4968-8cde-6defe4fd81a0",
   "metadata": {},
   "outputs": [],
   "source": [
    "manual_result_dict = {\n",
    "    'gaze1-1': 350, 'gaze1-2': 310, 'gaze1-3': 275,\n",
    "    'gaze2-1': 276, 'gaze2-2': 286, 'gaze2-3': 283,\n",
    "    'gaze3-1': 311, 'gaze3-2': 297, 'gaze3-3': 305,\n",
    "}"
   ]
  },
  {
   "cell_type": "code",
   "execution_count": 6,
   "id": "397a72fa-87b1-45a4-abfc-f244bf6157af",
   "metadata": {},
   "outputs": [],
   "source": [
    "from common import json\n",
    "from common.json import GA_FORMAT\n",
    "from display.video import Video\n",
    "from display.tracking import disp_tracking\n",
    "from display.indivisual_activity import disp_indivisual_activity\n",
    "from display.group_activity import DisplayGroupActivity\n",
    "import numpy as np\n",
    "import matplotlib.pyplot as plt"
   ]
  },
  {
   "cell_type": "code",
   "execution_count": 7,
   "id": "d7b9f636-2b40-4e83-938c-6096504a0d2c",
   "metadata": {},
   "outputs": [],
   "source": [
    "def combine_image(frame, field):\n",
    "    ratio = 1 - (field.shape[0] - frame.shape[0]) / field.shape[0]\n",
    "    size = (int(field.shape[1] * ratio), int(field.shape[0] * ratio))\n",
    "    field = cv2.resize(field, size)\n",
    "    frame = np.concatenate([frame, field], axis=1)\n",
    "    return frame"
   ]
  },
  {
   "cell_type": "code",
   "execution_count": 8,
   "id": "b12a561e-710d-4c91-92c0-18e5cb73399c",
   "metadata": {},
   "outputs": [],
   "source": [
    "def disp_result(\n",
    "    combine_image,\n",
    "    frame_num,\n",
    "    max_frame_num,\n",
    "    datas,\n",
    "    y_pred=[]\n",
    "):\n",
    "    # 割合を計算する\n",
    "    frame_datas = [data for data in datas if data['frame'] == frame_num]\n",
    "    count = 0\n",
    "    for data in frame_datas:\n",
    "        if data['count'] == 3.0:\n",
    "            count += 1\n",
    "    y_pred.append(count / len(frame_datas))\n",
    "    \n",
    "    # 手動の結果を作成\n",
    "    manual_result_y = [\n",
    "        1 if i > manual_result_dict[name] else -1 for i in range(max_frame_num) \n",
    "    ]\n",
    "    \n",
    "    # グラフを表示\n",
    "    width = combine_image.shape[0]\n",
    "    fig = plt.figure(figsize=(width / 50.0, 4.0))\n",
    "    ax = fig.add_subplot(\n",
    "        111,\n",
    "        xlabel='frame', xlim=(1, max_frame_num + 1),\n",
    "        ylabel='persentage of red', ylim=(0.0, 0.5))\n",
    "    ax.plot(y_pred)\n",
    "    ax.plot(manual_result_y)\n",
    "    # ax.axhline(THRESHOLD, color='red')\n",
    "    plt.close(fig)\n",
    "    \n",
    "    # fig to ndarray\n",
    "    fig.canvas.draw()\n",
    "    result_image = np.array(fig.canvas.renderer.buffer_rgba())\n",
    "    result_image = cv2.cvtColor(result_image, cv2.COLOR_RGBA2RGB)\n",
    "    \n",
    "    # concat result image\n",
    "    ratio = 1 - (combine_image.shape[1] - result_image.shape[1]) / combine_image.shape[1]\n",
    "    size = (int(combine_image.shape[1] * ratio), int(combine_image.shape[0] * ratio))\n",
    "    combine_image = cv2.resize(combine_image, size)\n",
    "    frame = np.concatenate([combine_image, result_image], axis=0)\n",
    "    \n",
    "    return frame, y_pred"
   ]
  },
  {
   "cell_type": "code",
   "execution_count": 9,
   "id": "20506c46-cb1f-4b5c-9d1b-0ad45ff72445",
   "metadata": {},
   "outputs": [
    {
     "name": "stderr",
     "output_type": "stream",
     "text": [
      "100%|██████████| 591/591 [02:35<00:00,  3.80it/s]\n"
     ]
    },
    {
     "name": "stdout",
     "output_type": "stream",
     "text": [
      "writing videos into ../out/09/20210304/gaze1-1/ ...\n"
     ]
    }
   ],
   "source": [
    "# out video file path\n",
    "out_path = out_dir + '{}_result.mp4'.format(method)\n",
    "\n",
    "# load datas\n",
    "indivisual_activity_datas = json.load(indivisual_activity_json_path)\n",
    "group_activity_datas = json.load(group_activity_json_path)\n",
    "\n",
    "display_group_activity = DisplayGroupActivity(group_activity_datas)\n",
    "\n",
    "# load video\n",
    "video = Video(video_path)\n",
    "\n",
    "frames = []\n",
    "y_pred = []\n",
    "for frame_num in tqdm(range(video.frame_num)):\n",
    "    # read frame\n",
    "    frame = video.read()\n",
    "\n",
    "    # フレームごとにデータを取得する\n",
    "    frame_indivisual_activity_datas = [\n",
    "        data for data in indivisual_activity_datas if data['frame'] == frame_num]\n",
    "\n",
    "    # フレーム番号を表示\n",
    "    cv2.putText(frame, 'Frame:{}'.format(frame_num + 1), (10, 50),\n",
    "                cv2.FONT_HERSHEY_PLAIN, 2, (255, 255, 255))\n",
    "\n",
    "    field_tmp = field_raw.copy()\n",
    "    # トラッキングの結果を表示\n",
    "    frame = disp_tracking(frame_indivisual_activity_datas, frame)\n",
    "    # 向きを表示\n",
    "    field_tmp = disp_indivisual_activity(\n",
    "        frame_indivisual_activity_datas, field_tmp, method)\n",
    "\n",
    "    group_activity_field = field_tmp.copy()\n",
    "    group_activity_field = display_group_activity.disp(\n",
    "        method, frame_num, group_activity_datas, group_activity_field)\n",
    "\n",
    "    # append tracking result\n",
    "    img = combine_image(frame, group_activity_field)\n",
    "    img, y_pred  = disp_result(\n",
    "        img, frame_num, video.frame_num, group_activity_datas[method], y_pred)\n",
    "    frames.append(img)\n",
    "    \n",
    "print('writing videos into {} ...'.format(out_dir))\n",
    "video.write(frames, out_path, frames[0].shape[1::-1])"
   ]
  },
  {
   "cell_type": "code",
   "execution_count": 15,
   "id": "81362bd0-03a9-40e4-9b52-045b90cbd5c6",
   "metadata": {},
   "outputs": [
    {
     "data": {
      "image/png": "[encoded data removed]",
      "text/plain": [
       "<Figure size 1080x360 with 1 Axes>"
      ]
     },
     "metadata": {
      "needs_background": "light"
     },
     "output_type": "display_data"
    }
   ],
   "source": [
    "def disp_result_graph(\n",
    "    start_frame_num,\n",
    "    end_frame_num,\n",
    "    y_pred=[]\n",
    "):\n",
    "    y_pred_tmp = y_pred[start_frame_num:end_frame_num + 1]\n",
    "    \n",
    "    # 手動の結果を作成\n",
    "    y_true = [\n",
    "        1 if i > manual_result_dict[name] else -1 for i in range(end_frame_num) \n",
    "    ]\n",
    "    y_true_tmp = y_true[start_frame_num:end_frame_num + 1]\n",
    "    \n",
    "    # グラフを表示\n",
    "    fig = plt.figure(figsize=(15, 5))\n",
    "    ax = fig.add_subplot(\n",
    "        111,\n",
    "        xlabel='frame',\n",
    "        ylabel='persentage', ylim=(0.0, 0.5))\n",
    "    ax.plot(y_pred_tmp)\n",
    "    ax.plot(y_true_tmp)\n",
    "    \n",
    "disp_result_graph(100, video.frame_num, y_pred)"
   ]
  },
  {
   "cell_type": "markdown",
   "id": "d8f81030-b108-4e27-af66-4fa2c73abcd6",
   "metadata": {},
   "source": [
    "## 混合行列"
   ]
  },
  {
   "cell_type": "code",
   "execution_count": 14,
   "id": "4647fc58-64b8-4cbe-b59f-3d9a956592a4",
   "metadata": {},
   "outputs": [],
   "source": [
    "from sklearn.metrics import confusion_matrix\n",
    "import seaborn as sns"
   ]
  },
  {
   "cell_type": "code",
   "execution_count": 15,
   "id": "af5ec482-6af7-4b7b-a14b-f6b85bc45557",
   "metadata": {},
   "outputs": [
    {
     "name": "stderr",
     "output_type": "stream",
     "text": [
      "100%|██████████| 581/581 [01:29<00:00,  6.49it/s]\n"
     ]
    }
   ],
   "source": [
    "video = Video(video_path)\n",
    "max_frame_num = video.frame_num\n",
    "json_format = GA_FORMAT['attention']\n",
    "\n",
    "# load data\n",
    "group_activity_datas = json.load(group_activity_json_path)\n",
    "    \n",
    "# 割合を計算する\n",
    "y_pred = []\n",
    "for i in tqdm(range(max_frame_num)):\n",
    "    frame_datas = [data for data in group_activity_datas[method] if data['frame'] == i]\n",
    "    count = 0\n",
    "    for data in frame_datas:\n",
    "        if data['count'] == 3.0:\n",
    "            count += 1\n",
    "    y_pred.append(count / len(frame_datas))\n",
    "\n",
    "y_pred = [1 if data > THRESHOLD else 0 for data in y_pred]\n",
    "    \n",
    "# 手動の結果を作成\n",
    "y_true = [\n",
    "    1 if i > manual_result_dict[name] else 0 for i in range(max_frame_num)\n",
    "]"
   ]
  },
  {
   "cell_type": "code",
   "execution_count": 16,
   "id": "4fa5a678-d82a-4d77-b806-a7881b9d7382",
   "metadata": {},
   "outputs": [],
   "source": [
    "# 混合行列を作成\n",
    "cm = confusion_matrix(y_true, y_pred)"
   ]
  },
  {
   "cell_type": "code",
   "execution_count": 17,
   "id": "36bed91c-d407-4415-8d1e-31aa6d6155e2",
   "metadata": {},
   "outputs": [
    {
     "data": {
      "text/plain": [
       "<AxesSubplot:>"
      ]
     },
     "execution_count": 17,
     "metadata": {},
     "output_type": "execute_result"
    },
    {
     "data": {
      "image/png": "[encoded data removed]",
      "text/plain": [
       "<Figure size 432x288 with 2 Axes>"
      ]
     },
     "metadata": {
      "needs_background": "light"
     },
     "output_type": "display_data"
    }
   ],
   "source": [
    "sns.heatmap(cm, cmap='Blues')"
   ]
  },
  {
   "cell_type": "code",
   "execution_count": 18,
   "id": "d46d092d-a3ba-427a-9f3e-3b38ac116d67",
   "metadata": {},
   "outputs": [],
   "source": [
    "from sklearn.metrics import accuracy_score\n",
    "from sklearn.metrics import precision_score\n",
    "from sklearn.metrics import recall_score\n",
    "from sklearn.metrics import f1_score"
   ]
  },
  {
   "cell_type": "code",
   "execution_count": 19,
   "id": "c2c4f97f-6457-477d-8049-199d840484d3",
   "metadata": {},
   "outputs": [
    {
     "name": "stdout",
     "output_type": "stream",
     "text": [
      "accuracy: 0.492\n",
      "precision: 0.481\n",
      "recall: 0.044\n",
      "f1: 0.081\n"
     ]
    }
   ],
   "source": [
    "print('accuracy: {:.3f}'.format(accuracy_score(y_true, y_pred)))\n",
    "print('precision: {:.3f}'.format(precision_score(y_true, y_pred)))\n",
    "print('recall: {:.3f}'.format(recall_score(y_true, y_pred)))\n",
    "print('f1: {:.3f}'.format(f1_score(y_true, y_pred)))"
   ]
  },
  {
   "cell_type": "code",
   "execution_count": null,
   "id": "828d89c8-6d49-428b-9c73-6547fbac40c3",
   "metadata": {},
   "outputs": [],
   "source": []
  }
 ],
 "metadata": {
  "kernelspec": {
   "display_name": "research",
   "language": "python",
   "name": "research"
  },
  "language_info": {
   "codemirror_mode": {
    "name": "ipython",
    "version": 3
   },
   "file_extension": ".py",
   "mimetype": "text/x-python",
   "name": "python",
   "nbconvert_exporter": "python",
   "pygments_lexer": "ipython3",
   "version": "3.7.7"
  }
 },
 "nbformat": 4,
 "nbformat_minor": 5
}
