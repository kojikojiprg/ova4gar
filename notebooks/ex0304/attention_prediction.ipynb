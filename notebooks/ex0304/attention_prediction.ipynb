{
 "cells": [
  {
   "cell_type": "code",
   "execution_count": 1,
   "id": "c7cc24f0-8140-464c-8a42-d6427a4ef95e",
   "metadata": {},
   "outputs": [],
   "source": [
    "import sys\n",
    "sys.path.append('../../src')\n",
    "\n",
    "from common import common, transform, json\n",
    "from tracker import main as tr\n",
    "from individual_activity import main as ia\n",
    "from group_activity import main as ga\n",
    "from display.display import display\n",
    "import os\n",
    "import numpy as np\n",
    "import matplotlib.pyplot as plt\n",
    "import cv2"
   ]
  },
  {
   "cell_type": "markdown",
   "id": "b246fbcf-2676-447d-a780-8a06bf1774b9",
   "metadata": {},
   "source": [
    "# Indivisual Activity をロード"
   ]
  },
  {
   "cell_type": "code",
   "execution_count": 100,
   "id": "62542c01-e848-43fd-8e4b-35b3f8fc421d",
   "metadata": {},
   "outputs": [],
   "source": [
    "room_num = '09'\n",
    "date = '20210304'\n",
    "name = 'gaze3-3'"
   ]
  },
  {
   "cell_type": "code",
   "execution_count": 101,
   "id": "928521a8-fb94-4176-9564-7b6d4bb34aa1",
   "metadata": {},
   "outputs": [],
   "source": [
    "individual_activity_json = os.path.join(\n",
    "    common.data_dir, '{0}/{1}/{2}/json/individual_activity.json'.format(room_num, date, name))\n",
    "field_path = os.path.join(\n",
    "    common.data_dir, 'field.png')"
   ]
  },
  {
   "cell_type": "code",
   "execution_count": 102,
   "id": "38f43b5b-ba2b-431a-85de-b0a450f3d9d4",
   "metadata": {},
   "outputs": [],
   "source": [
    "# homography\n",
    "field_raw = cv2.imread(field_path)\n",
    "p_video = common.homo[room_num][0]\n",
    "p_field = common.homo[room_num][1]\n",
    "homo = transform.Homography(p_video, p_field, field_raw.shape)"
   ]
  },
  {
   "cell_type": "code",
   "execution_count": 103,
   "id": "57f4d6a1-c988-4cb2-a11e-7474e034856e",
   "metadata": {},
   "outputs": [],
   "source": [
    "individual_activity_data = json.load(individual_activity_json)"
   ]
  },
  {
   "cell_type": "code",
   "execution_count": 104,
   "id": "acd44de3-b69e-4111-9962-4af9fa207c19",
   "metadata": {},
   "outputs": [],
   "source": [
    "from common.json import IA_FORMAT\n",
    "from individual_activity.individual_activity import IndividualActivity\n",
    "\n",
    "def make_individuals(datas, homo):\n",
    "    individuals = {}\n",
    "    for data in datas:\n",
    "        label = data[IA_FORMAT[0]]\n",
    "        frame_num = data[IA_FORMAT[1]]\n",
    "        tracking_point = data[IA_FORMAT[2]]\n",
    "\n",
    "        if label not in individuals:\n",
    "            ia = IndividualActivity(label, homo)\n",
    "            individuals[label] = ia\n",
    "        else:\n",
    "            ia = individuals[label]\n",
    "\n",
    "        ia.tracking_points[frame_num] = tracking_point\n",
    "        for key in IA_FORMAT[3:]:\n",
    "            ia.indicator_dict[key][frame_num] = data[key]\n",
    "            \n",
    "    return list(individuals.values())"
   ]
  },
  {
   "cell_type": "code",
   "execution_count": 105,
   "id": "83468360-d747-4552-9d77-1c44f1191ac9",
   "metadata": {
    "tags": []
   },
   "outputs": [],
   "source": [
    "individuals = make_individuals(individual_activity_data, homo)"
   ]
  },
  {
   "cell_type": "markdown",
   "id": "138d54fe-7098-4da4-b2d4-a6f4f0da7d3a",
   "metadata": {},
   "source": [
    "#　対象物を予測する\n",
    "1. 各個人のポジションと対象物の線と顔の向きのコサイン類似度を求める\n",
    "2. コサイン類似度が0に近い対象物を視線の先の対象物とする"
   ]
  },
  {
   "cell_type": "code",
   "execution_count": 106,
   "id": "c1a41b37-de83-4ab2-9e72-d4c3a309c1c8",
   "metadata": {},
   "outputs": [],
   "source": [
    "from common.functions import normalize_vector, cos_similarity"
   ]
  },
  {
   "cell_type": "code",
   "execution_count": 107,
   "id": "ec68c4e3-2d59-4d7e-975a-4a59dcf41954",
   "metadata": {},
   "outputs": [],
   "source": [
    "manual_results = {\n",
    "    'gaze1-1': {'frame': 350, 'order': [0, 2, 1]},\n",
    "    'gaze1-2': {'frame': 310, 'order': [0, 1, 2]},\n",
    "    'gaze1-3': {'frame': 275, 'order': [0, 1, 2]},\n",
    "    'gaze2-1': {'frame': 276, 'order': [0, 1, 2]},\n",
    "    'gaze2-2': {'frame': 286, 'order': [0, 1, 2]},\n",
    "    'gaze2-3': {'frame': 283, 'order': [0, 1, 2]},\n",
    "    'gaze3-1': {'frame': 311, 'order': [0, 1, 2]},\n",
    "    'gaze3-2': {'frame': 297, 'order': [0, 1, 2]},\n",
    "    'gaze3-3': {'frame': 305, 'order': [0, 1, 2]},\n",
    "}\n",
    "\n",
    "object_points = {\n",
    "    1: (679, 772),  # monitor\n",
    "    2: (54, 772),   # PC\n",
    "    3: (368, 420),  # operating table\n",
    "}"
   ]
  },
  {
   "cell_type": "code",
   "execution_count": 108,
   "id": "ee383aca-85d8-46cf-a7e6-03ad85b7fd31",
   "metadata": {},
   "outputs": [],
   "source": [
    "def predict_object(individuals):\n",
    "    max_frame_num = max([max(individual.tracking_points.keys()) for individual in individuals])\n",
    "    \n",
    "    predict = []\n",
    "    for frame_num in range(max_frame_num):\n",
    "        objects = []\n",
    "        for i, individual in enumerate(individuals):\n",
    "            position = individual.get_data('position', frame_num)\n",
    "            face = individual.get_data('face_vector', frame_num)\n",
    "\n",
    "            if position is None or face is None:\n",
    "                continue\n",
    "\n",
    "            max_cos = -1\n",
    "            max_label = 0\n",
    "            for label, obj in object_points.items():\n",
    "                pos2obj = np.array(obj) - position\n",
    "                pos2obj = normalize_vector(pos2obj.astype(float))\n",
    "                cos = cos_similarity(face, pos2obj)\n",
    "\n",
    "                if max_cos < cos:\n",
    "                    max_cos = cos\n",
    "                    max_label = label\n",
    "                \n",
    "            objects.append(max_label)\n",
    "            \n",
    "        predict.append(objects)\n",
    "\n",
    "    return predict"
   ]
  },
  {
   "cell_type": "code",
   "execution_count": 109,
   "id": "4a7aad5f-925a-474b-a7be-5aa7bcac7389",
   "metadata": {},
   "outputs": [],
   "source": [
    "pred_objs = predict_object(individuals)"
   ]
  },
  {
   "cell_type": "code",
   "execution_count": 110,
   "id": "ca52e2bf-0b56-4eb0-aef0-a0a2350d3fe9",
   "metadata": {},
   "outputs": [
    {
     "data": {
      "text/plain": [
       "[2, 2, 2]"
      ]
     },
     "execution_count": 110,
     "metadata": {},
     "output_type": "execute_result"
    }
   ],
   "source": [
    "pred_objs[-1]"
   ]
  },
  {
   "cell_type": "markdown",
   "id": "38dfdbb1-736c-456e-9e0f-01671c4df860",
   "metadata": {},
   "source": [
    "# 検証・評価"
   ]
  },
  {
   "cell_type": "code",
   "execution_count": 111,
   "id": "197f9dd5-84d3-4e4b-82ed-baefdcb79031",
   "metadata": {},
   "outputs": [],
   "source": [
    "csv_path = os.path.join(common.data_dir, '{0}/{1}/{2}/csv/data.csv'.format(room_num, date, name))\n",
    "csv_data = np.loadtxt(csv_path, delimiter=',', dtype=int, skiprows=1)\n",
    "\n",
    "test_y = []\n",
    "for row in csv_data:\n",
    "    test_y.append(row[4])"
   ]
  },
  {
   "cell_type": "code",
   "execution_count": 112,
   "id": "e6217359-6f85-40da-ab8b-2ba9a98a74fe",
   "metadata": {},
   "outputs": [],
   "source": [
    "pred = []\n",
    "for p, y in zip(pred_objs, test_y):\n",
    "    likelihood = len(np.where(p == y)[0]) / len(p)\n",
    "    pred.append(likelihood)\n",
    "    \n",
    "test_y = np.array(test_y)\n",
    "true_y = test_y == test_y[-1]"
   ]
  },
  {
   "cell_type": "code",
   "execution_count": 113,
   "id": "4f325a76-31a8-44cf-b233-fd16300e31b2",
   "metadata": {},
   "outputs": [
    {
     "data": {
      "text/plain": [
       "[<matplotlib.lines.Line2D at 0x15b5db850>]"
      ]
     },
     "execution_count": 113,
     "metadata": {},
     "output_type": "execute_result"
    },
    {
     "data": {
      "image/png": "[encoded data removed]",
      "text/plain": [
       "<Figure size 432x288 with 1 Axes>"
      ]
     },
     "metadata": {
      "needs_background": "light"
     },
     "output_type": "display_data"
    }
   ],
   "source": [
    "plt.plot(pred)\n",
    "plt.plot(true_y)"
   ]
  },
  {
   "cell_type": "code",
   "execution_count": 114,
   "id": "b3d5f10a-bbb9-43f7-a9cd-6154e4b35d75",
   "metadata": {},
   "outputs": [],
   "source": [
    "from sklearn.metrics import accuracy_score\n",
    "from sklearn.metrics import precision_score\n",
    "from sklearn.metrics import recall_score\n",
    "from sklearn.metrics import f1_score\n",
    "from sklearn.metrics import confusion_matrix\n",
    "import seaborn as sns"
   ]
  },
  {
   "cell_type": "code",
   "execution_count": 115,
   "id": "460c750c-8533-406f-b6e0-86ee6f6c94a6",
   "metadata": {},
   "outputs": [
    {
     "name": "stdout",
     "output_type": "stream",
     "text": [
      "accuracy: 0.515\n",
      "precision: 0.000\n",
      "recall: 0.000\n",
      "f1_score: 0.000\n"
     ]
    },
    {
     "name": "stderr",
     "output_type": "stream",
     "text": [
      "/Users/koji/program/research/.venv/lib/python3.7/site-packages/sklearn/metrics/_classification.py:1221: UndefinedMetricWarning: Precision is ill-defined and being set to 0.0 due to no predicted samples. Use `zero_division` parameter to control this behavior.\n",
      "  _warn_prf(average, modifier, msg_start, len(result))\n"
     ]
    },
    {
     "data": {
      "text/plain": [
       "<AxesSubplot:>"
      ]
     },
     "execution_count": 115,
     "metadata": {},
     "output_type": "execute_result"
    },
    {
     "data": {
      "image/png": "[encoded data removed]",
      "text/plain": [
       "<Figure size 432x288 with 2 Axes>"
      ]
     },
     "metadata": {
      "needs_background": "light"
     },
     "output_type": "display_data"
    }
   ],
   "source": [
    "pred = (np.array(pred) == 1) * 1\n",
    "print('accuracy: {:.3f}'.format(accuracy_score(true_y, pred)))\n",
    "print('precision: {:.3f}'.format(precision_score(true_y, pred)))\n",
    "print('recall: {:.3f}'.format(recall_score(true_y, pred)))\n",
    "print('f1_score: {:.3f}'.format(f1_score(true_y, pred)))\n",
    "\n",
    "cm = confusion_matrix(true_y, pred)\n",
    "sns.heatmap(cm, cmap='Blues')"
   ]
  },
  {
   "cell_type": "raw",
   "id": "1717147e-a15e-4f2e-a1a1-518d857ddb57",
   "metadata": {},
   "source": [
    "F1 Score\n",
    "gaze1-1: 0.881\n",
    "gaze1-2: 0.0\n",
    "gaze1-3: 0.0\n",
    "gaze2-1: 0.0\n",
    "gaze2-2: 0.494\n",
    "gaze2-2: 0.021\n",
    "gaze3-1: 0.951\n",
    "gaze3-2: 0.027\n",
    "gaze3-2: 0.0"
   ]
  },
  {
   "cell_type": "code",
   "execution_count": null,
   "id": "9542bdbd-3584-41e0-aa4d-3007c5bf333e",
   "metadata": {},
   "outputs": [],
   "source": []
  }
 ],
 "metadata": {
  "kernelspec": {
   "display_name": "Python 3",
   "language": "python",
   "name": "python3"
  },
  "language_info": {
   "codemirror_mode": {
    "name": "ipython",
    "version": 3
   },
   "file_extension": ".py",
   "mimetype": "text/x-python",
   "name": "python",
   "nbconvert_exporter": "python",
   "pygments_lexer": "ipython3",
   "version": "3.7.6"
  }
 },
 "nbformat": 4,
 "nbformat_minor": 5
}
