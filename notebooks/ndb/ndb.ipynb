{
 "cells": [
  {
   "cell_type": "code",
   "execution_count": 1,
   "id": "5eb83206-a109-4872-abaa-d6272ab2b31d",
   "metadata": {},
   "outputs": [],
   "source": [
    "import pandas as pd"
   ]
  },
  {
   "cell_type": "code",
   "execution_count": 46,
   "id": "4d9a9048-9909-4d20-9443-7b7be2a85809",
   "metadata": {},
   "outputs": [],
   "source": [
    "excel_path = '../../data/ndb/000539727.xlsx'\n",
    "csv_path = '../../data/ndb/000539727_sum.csv'"
   ]
  },
  {
   "cell_type": "code",
   "execution_count": 35,
   "id": "72f1db01-1958-44aa-b0d0-93951959e338",
   "metadata": {},
   "outputs": [
    {
     "data": {
      "text/plain": [
       "{0:                                     26\n",
       " 診療行為                                  \n",
       " NaN                                京都府\n",
       " 創傷処理（筋肉、臓器に達しない）（長径５ｃｍ未満）        18652\n",
       " 創傷処理（筋肉、臓器に達しない）（長径５ｃｍ以上１０ｃｍ未満）   1847\n",
       " 創傷処理（筋肉、臓器に達する）（長径５ｃｍ未満）          1568\n",
       " 創傷処理（筋肉、臓器に達する）（長径５ｃｍ以上１０ｃｍ未満）     460\n",
       " ...                                ...\n",
       " 子宮内容除去術（不全流産）                      124\n",
       " 胞状奇胎除去術                              -\n",
       " 新生児仮死蘇生術（仮死第１度）                      -\n",
       " 新生児仮死蘇生術（仮死第２度）                      -\n",
       " 性腺摘出術（開腹）                            -\n",
       " \n",
       " [1242 rows x 1 columns],\n",
       " 2:                                    26\n",
       " 診療行為                                 \n",
       " NaN                               京都府\n",
       " 創傷処理（筋肉、臓器に達しない）（長径５ｃｍ未満）        2110\n",
       " 創傷処理（筋肉、臓器に達しない）（長径５ｃｍ以上１０ｃｍ未満）   326\n",
       " 創傷処理（筋肉、臓器に達する）（長径５ｃｍ未満）          504\n",
       " 創傷処理（筋肉、臓器に達する）（長径５ｃｍ以上１０ｃｍ未満）    288\n",
       " ...                               ...\n",
       " 新生児仮死蘇生術（仮死第２度）                   108\n",
       " 性腺摘出術（開腹）                           -\n",
       " 性腺摘出術（腹腔鏡）                          -\n",
       " 脳死臓器提供管理料                          23\n",
       " 生体臓器提供管理料                           -\n",
       " \n",
       " [2443 rows x 1 columns]}"
      ]
     },
     "execution_count": 35,
     "metadata": {},
     "output_type": "execute_result"
    }
   ],
   "source": [
    "dfs = pd.read_excel(excel_path, sheet_name=[0, 2], engine='openpyxl', header=2, index_col=0, usecols=[4, 32])\n",
    "dfs"
   ]
  },
  {
   "cell_type": "code",
   "execution_count": 62,
   "id": "d4f44ce5-79c8-41e7-a7d4-b1fb9144ada5",
   "metadata": {},
   "outputs": [],
   "source": [
    "df = pd.merge(dfs[0], dfs[2], on='診療行為', how='outer').iloc[1:, :]\n",
    "df = df.replace({'-': 0, None: 0})"
   ]
  },
  {
   "cell_type": "code",
   "execution_count": 64,
   "id": "fc77b42d-4d1b-4c37-9b9c-9178b376a98c",
   "metadata": {},
   "outputs": [
    {
     "data": {
      "text/plain": [
       "診療行為\n",
       "創傷処理（筋肉、臓器に達しない）（長径５ｃｍ未満）          20762\n",
       "創傷処理（筋肉、臓器に達しない）（長径５ｃｍ以上１０ｃｍ未満）     2173\n",
       "創傷処理（筋肉、臓器に達する）（長径５ｃｍ未満）            2072\n",
       "創傷処理（筋肉、臓器に達する）（長径５ｃｍ以上１０ｃｍ未満）       748\n",
       "創傷処理（筋肉、臓器に達しない）（長径１０ｃｍ以上）           416\n",
       "                                   ...  \n",
       "腹腔鏡下腟式子宮全摘術                          658\n",
       "子宮悪性腫瘍手術                             215\n",
       "子宮附属器腫瘍摘出術（両側）（開腹）                   406\n",
       "子宮附属器悪性腫瘍手術（両側）                      193\n",
       "帝王切開術（選択帝王切開）                       2170\n",
       "Length: 360, dtype: int64"
      ]
     },
     "execution_count": 64,
     "metadata": {},
     "output_type": "execute_result"
    }
   ],
   "source": [
    "df_sum = df.sum(axis=1)\n",
    "df_sum[df_sum >= 100]"
   ]
  },
  {
   "cell_type": "code",
   "execution_count": 65,
   "id": "dc748bd5-5c8b-48a6-82b9-db22219fd3f7",
   "metadata": {},
   "outputs": [],
   "source": [
    "df_sum[df_sum >= 100].to_csv(csv_path, encoding='utf-16')"
   ]
  },
  {
   "cell_type": "code",
   "execution_count": null,
   "id": "a2dd6cec-33d3-439a-955a-8488c653086f",
   "metadata": {},
   "outputs": [],
   "source": []
  }
 ],
 "metadata": {
  "kernelspec": {
   "display_name": "research",
   "language": "python",
   "name": "research"
  },
  "language_info": {
   "codemirror_mode": {
    "name": "ipython",
    "version": 3
   },
   "file_extension": ".py",
   "mimetype": "text/x-python",
   "name": "python",
   "nbconvert_exporter": "python",
   "pygments_lexer": "ipython3",
   "version": "3.7.6"
  }
 },
 "nbformat": 4,
 "nbformat_minor": 5
}
