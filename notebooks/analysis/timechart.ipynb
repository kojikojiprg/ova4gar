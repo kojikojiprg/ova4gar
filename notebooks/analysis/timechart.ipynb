{
 "cells": [
  {
   "cell_type": "code",
   "execution_count": 1,
   "id": "b0c83a51-8381-43e0-a826-1c7bca7de64e",
   "metadata": {},
   "outputs": [
    {
     "name": "stdout",
     "output_type": "stream",
     "text": [
      "/mnt/c/research\n"
     ]
    },
    {
     "name": "stderr",
     "output_type": "stream",
     "text": [
      "/mnt/c/research/.venv/lib/python3.9/site-packages/tqdm/auto.py:22: TqdmWarning: IProgress not found. Please update jupyter and ipywidgets. See https://ipywidgets.readthedocs.io/en/stable/user_install.html\n",
      "  from .autonotebook import tqdm as notebook_tqdm\n"
     ]
    }
   ],
   "source": [
    "# back to project root\n",
    "%cd /mnt/c/research\n",
    "\n",
    "import os\n",
    "import sys\n",
    "from glob import glob\n",
    "\n",
    "import cv2\n",
    "import yaml\n",
    "\n",
    "sys.path.append(\"src\")\n",
    "from utility.logger import logger\n",
    "from utility.activity_loader import load_group"
   ]
  },
  {
   "cell_type": "code",
   "execution_count": 2,
   "id": "75d31b7a-aa8a-4987-8655-bfc581ba5e34",
   "metadata": {},
   "outputs": [],
   "source": [
    "room_num = \"08\"\n",
    "surgery_num = \"001\""
   ]
  },
  {
   "cell_type": "code",
   "execution_count": 3,
   "id": "48e22e65-342c-4c9e-b2d9-6c8192b9d5ea",
   "metadata": {},
   "outputs": [],
   "source": [
    "cfg_path = \"config/demo_config.yaml\"\n",
    "with open(cfg_path, \"r\") as f:\n",
    "    cfg = yaml.safe_load(f)"
   ]
  },
  {
   "cell_type": "code",
   "execution_count": 4,
   "id": "3ee6249c-2553-4f6a-a30d-6fbff00cb9e2",
   "metadata": {},
   "outputs": [],
   "source": [
    "field = cv2.imread(\"image/field.png\")"
   ]
  },
  {
   "cell_type": "code",
   "execution_count": 5,
   "id": "322baf5c-6639-4c0e-9000-6c009a381a5b",
   "metadata": {},
   "outputs": [
    {
     "name": "stdout",
     "output_type": "stream",
     "text": [
      "['data/08/001/01', 'data/08/001/02', 'data/08/001/03', 'data/08/001/04', 'data/08/001/05', 'data/08/001/06', 'data/08/001/07', 'data/08/001/08', 'data/08/001/09', 'data/08/001/10', 'data/08/001/11', 'data/08/001/12', 'data/08/001/13', 'data/08/001/14', 'data/08/001/15', 'data/08/001/16', 'data/08/001/17']\n"
     ]
    }
   ],
   "source": [
    "data_dir = os.path.join(\"data\", room_num, surgery_num)\n",
    "data_dirs = sorted(glob(os.path.join(data_dir, \"*\")))\n",
    "for i in range(len(data_dirs)):\n",
    "    if data_dirs[i].endswith(\"passing\") or data_dirs[i].endswith(\"attention\"):\n",
    "        del data_dirs[i]\n",
    "print(data_dirs)"
   ]
  },
  {
   "cell_type": "code",
   "execution_count": null,
   "id": "6d4cf931-004a-447d-834a-15482bf152a2",
   "metadata": {},
   "outputs": [],
   "source": [
    "def extract_passing(group, th_duration=10, th_interval=30):\n",
    "    passing_dict = group.passing\n",
    "    \n",
    "    result_dict = {}\n",
    "    for pair_key, passing_frame_nums in passing_dict.items():\n",
    "        result_dict[pair_key] = []\n",
    "        \n",
    "        start_frame_num = None\n",
    "        end_frame_num = None\n",
    "        passing = False\n",
    "        for frame_num in passing_frame_nums:\n",
    "            if not passing:\n",
    "                start_frame_num = frame_num\n",
    "                passing = True\n",
    "            else:\n",
    "                "
   ]
  },
  {
   "cell_type": "code",
   "execution_count": null,
   "id": "0df95b47-157e-494a-a8ba-544e6255a5ea",
   "metadata": {},
   "outputs": [
    {
     "name": "stderr",
     "output_type": "stream",
     "text": [
      "2022-05-19 19:51:51,621 => load passing detector from config/passing/pass_model_lstm.yaml\n",
      "2022-05-19 19:51:51 [INFO]: => load passing detector from config/passing/pass_model_lstm.yaml\n",
      "/mnt/c/research/.venv/lib/python3.9/site-packages/torch/nn/modules/rnn.py:62: UserWarning: dropout option adds dropout after all but last recurrent layer, so non-zero dropout expects num_layers greater than 1, but got dropout=0.1 and num_layers=1\n",
      "  warnings.warn(\"dropout option adds dropout after all but last \"\n",
      "2022-05-19 19:52:15,572 => load passing detector from config/passing/pass_model_lstm.yaml\n",
      "2022-05-19 19:52:15 [INFO]: => load passing detector from config/passing/pass_model_lstm.yaml\n",
      "2022-05-19 19:52:33,078 => load passing detector from config/passing/pass_model_lstm.yaml\n",
      "2022-05-19 19:52:33 [INFO]: => load passing detector from config/passing/pass_model_lstm.yaml\n",
      "2022-05-19 19:53:17,689 => load passing detector from config/passing/pass_model_lstm.yaml\n",
      "2022-05-19 19:53:17 [INFO]: => load passing detector from config/passing/pass_model_lstm.yaml\n",
      "2022-05-19 19:53:59,222 => load passing detector from config/passing/pass_model_lstm.yaml\n",
      "2022-05-19 19:53:59 [INFO]: => load passing detector from config/passing/pass_model_lstm.yaml\n",
      "2022-05-19 19:54:59,607 => load passing detector from config/passing/pass_model_lstm.yaml\n",
      "2022-05-19 19:54:59 [INFO]: => load passing detector from config/passing/pass_model_lstm.yaml\n"
     ]
    }
   ],
   "source": [
    "for data_dir in data_dirs:\n",
    "    json_path = os.path.join(data_dir, \".json\", \"group.json\")\n",
    "    if os.path.exists(json_path):\n",
    "        group = load_group(json_path, cfg[\"group\"], field, logger, device=\"cpu\")"
   ]
  },
  {
   "cell_type": "code",
   "execution_count": null,
   "id": "70c0f490-ab04-4022-b189-01251b38ed78",
   "metadata": {},
   "outputs": [],
   "source": []
  }
 ],
 "metadata": {
  "kernelspec": {
   "display_name": "Python 3 (ipykernel)",
   "language": "python",
   "name": "python3"
  },
  "language_info": {
   "codemirror_mode": {
    "name": "ipython",
    "version": 3
   },
   "file_extension": ".py",
   "mimetype": "text/x-python",
   "name": "python",
   "nbconvert_exporter": "python",
   "pygments_lexer": "ipython3",
   "version": "3.9.12"
  }
 },
 "nbformat": 4,
 "nbformat_minor": 5
}
