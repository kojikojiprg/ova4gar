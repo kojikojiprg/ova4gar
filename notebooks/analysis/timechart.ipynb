{
 "cells": [
  {
   "cell_type": "code",
   "execution_count": 1,
   "id": "b0c83a51-8381-43e0-a826-1c7bca7de64e",
   "metadata": {},
   "outputs": [
    {
     "name": "stdout",
     "output_type": "stream",
     "text": [
      "/home/k2111/research\n"
     ]
    },
    {
     "name": "stderr",
     "output_type": "stream",
     "text": [
      "/home/k2111/research/.venv/lib/python3.8/site-packages/tqdm/auto.py:22: TqdmWarning: IProgress not found. Please update jupyter and ipywidgets. See https://ipywidgets.readthedocs.io/en/stable/user_install.html\n",
      "  from .autonotebook import tqdm as notebook_tqdm\n"
     ]
    }
   ],
   "source": [
    "# back to project root\n",
    "%cd ~/research\n",
    "\n",
    "import gc\n",
    "import os\n",
    "import sys\n",
    "from glob import glob\n",
    "\n",
    "import cv2\n",
    "import matplotlib.pyplot as plt\n",
    "import numpy as np\n",
    "from tqdm import tqdm\n",
    "import yaml\n",
    "\n",
    "sys.path.append(\"src\")\n",
    "from utility.logger import logger\n",
    "from utility.activity_loader import load_group\n",
    "from utility.json_handler import load\n",
    "from utility.video import Capture, Writer, concat_field_with_frame\n",
    "from visualize.group import GroupVisualizer\n",
    "from visualize.individual import write_field as ind_write_field\n",
    "from visualize.keypoint import write_frame as kps_write_frame"
   ]
  },
  {
   "cell_type": "code",
   "execution_count": 2,
   "id": "75d31b7a-aa8a-4987-8655-bfc581ba5e34",
   "metadata": {},
   "outputs": [],
   "source": [
    "room_num = \"08\"\n",
    "surgery_num = \"001\""
   ]
  },
  {
   "cell_type": "code",
   "execution_count": 3,
   "id": "48e22e65-342c-4c9e-b2d9-6c8192b9d5ea",
   "metadata": {},
   "outputs": [],
   "source": [
    "cfg_path = \"config/demo_config.yaml\"\n",
    "with open(cfg_path, \"r\") as f:\n",
    "    cfg = yaml.safe_load(f)\n",
    "with open(cfg[\"config_path\"][\"group\"], \"r\") as f:\n",
    "    grp_cfg = yaml.safe_load(f)"
   ]
  },
  {
   "cell_type": "code",
   "execution_count": 4,
   "id": "3ee6249c-2553-4f6a-a30d-6fbff00cb9e2",
   "metadata": {},
   "outputs": [],
   "source": [
    "field = cv2.imread(\"image/field.png\")"
   ]
  },
  {
   "cell_type": "code",
   "execution_count": 5,
   "id": "322baf5c-6639-4c0e-9000-6c009a381a5b",
   "metadata": {},
   "outputs": [
    {
     "name": "stdout",
     "output_type": "stream",
     "text": [
      "['data/08/001/01', 'data/08/001/02', 'data/08/001/03', 'data/08/001/04', 'data/08/001/05', 'data/08/001/06', 'data/08/001/07', 'data/08/001/08', 'data/08/001/09', 'data/08/001/10', 'data/08/001/11', 'data/08/001/12', 'data/08/001/13', 'data/08/001/14', 'data/08/001/15', 'data/08/001/16', 'data/08/001/17']\n"
     ]
    }
   ],
   "source": [
    "data_dir = os.path.join(\"data\", room_num, surgery_num)\n",
    "data_dirs = sorted(glob(os.path.join(data_dir, \"*\")))\n",
    "for i in range(len(data_dirs)):\n",
    "    if data_dirs[i].endswith(\"passing\") or data_dirs[i].endswith(\"attention\"):\n",
    "        del data_dirs[i]\n",
    "print(data_dirs)"
   ]
  },
  {
   "cell_type": "code",
   "execution_count": 13,
   "id": "080e1fa7-ed80-4bce-938d-c42b83511c20",
   "metadata": {},
   "outputs": [],
   "source": [
    "def create_attention_timeflow(group, freq=30):\n",
    "    heatmap_dict = group.attention\n",
    "    heatmap_lst = list(heatmap_dict.values())\n",
    "    # heatmap_lst = heatmap_lst[::freq]\n",
    "    \n",
    "    max_values = []\n",
    "    mean_values = []\n",
    "    sum_values = []\n",
    "    for heatmap in heatmap_lst:\n",
    "        max_values.append(np.max(heatmap))\n",
    "        mean_values.append(np.mean(heatmap))\n",
    "        sum_values.append(np.sum(heatmap))\n",
    "        \n",
    "    return {\"max\": max_values, \"mean\": mean_values, \"sum\": sum_values}"
   ]
  },
  {
   "cell_type": "code",
   "execution_count": 14,
   "id": "70c0f490-ab04-4022-b189-01251b38ed78",
   "metadata": {
    "scrolled": true,
    "tags": []
   },
   "outputs": [
    {
     "name": "stderr",
     "output_type": "stream",
     "text": [
      "2022-05-30 16:39:16,709 => load passing detector from config/passing/pass_model_lstm_f1.yaml\n",
      "2022-05-30 16:39:16 [INFO]: => load passing detector from config/passing/pass_model_lstm_f1.yaml\n"
     ]
    },
    {
     "name": "stdout",
     "output_type": "stream",
     "text": [
      "data/08/001/01\n"
     ]
    },
    {
     "name": "stderr",
     "output_type": "stream",
     "text": [
      "2022-05-30 16:39:19,389 => loading attention result\n",
      "2022-05-30 16:39:19 [INFO]: => loading attention result\n",
      "100%|██████████████████████████████████████████████████████████████████████████████████████████████████████████████████████████████████████████████████████████████████| 1409672/1409672 [00:03<00:00, 381158.19it/s]\n",
      "2022-05-30 16:39:23,602 => load passing detector from config/passing/pass_model_lstm_f1.yaml\n",
      "2022-05-30 16:39:23 [INFO]: => load passing detector from config/passing/pass_model_lstm_f1.yaml\n"
     ]
    },
    {
     "name": "stdout",
     "output_type": "stream",
     "text": [
      "data/08/001/02\n"
     ]
    },
    {
     "name": "stderr",
     "output_type": "stream",
     "text": [
      "2022-05-30 16:39:31,531 => loading attention result\n",
      "2022-05-30 16:39:31 [INFO]: => loading attention result\n",
      "100%|██████████████████████████████████████████████████████████████████████████████████████████████████████████████████████████████████████████████████████████████████| 3388597/3388597 [00:08<00:00, 386113.99it/s]\n",
      "2022-05-30 16:39:41,037 => load passing detector from config/passing/pass_model_lstm_f1.yaml\n",
      "2022-05-30 16:39:41 [INFO]: => load passing detector from config/passing/pass_model_lstm_f1.yaml\n"
     ]
    },
    {
     "name": "stdout",
     "output_type": "stream",
     "text": [
      "data/08/001/03\n"
     ]
    },
    {
     "name": "stderr",
     "output_type": "stream",
     "text": [
      "2022-05-30 16:39:54,960 => loading attention result\n",
      "2022-05-30 16:39:54 [INFO]: => loading attention result\n",
      "100%|██████████████████████████████████████████████████████████████████████████████████████████████████████████████████████████████████████████████████████████████████| 6743152/6743152 [00:16<00:00, 397145.11it/s]\n",
      "2022-05-30 16:40:12,711 => load passing detector from config/passing/pass_model_lstm_f1.yaml\n",
      "2022-05-30 16:40:12 [INFO]: => load passing detector from config/passing/pass_model_lstm_f1.yaml\n"
     ]
    },
    {
     "name": "stdout",
     "output_type": "stream",
     "text": [
      "data/08/001/04\n"
     ]
    },
    {
     "name": "stderr",
     "output_type": "stream",
     "text": [
      "2022-05-30 16:40:26,664 => loading attention result\n",
      "2022-05-30 16:40:26 [INFO]: => loading attention result\n",
      "100%|██████████████████████████████████████████████████████████████████████████████████████████████████████████████████████████████████████████████████████████████████| 6709539/6709539 [00:16<00:00, 398222.94it/s]\n",
      "2022-05-30 16:40:44,291 => load passing detector from config/passing/pass_model_lstm_f1.yaml\n",
      "2022-05-30 16:40:44 [INFO]: => load passing detector from config/passing/pass_model_lstm_f1.yaml\n"
     ]
    },
    {
     "name": "stdout",
     "output_type": "stream",
     "text": [
      "data/08/001/05\n"
     ]
    },
    {
     "name": "stderr",
     "output_type": "stream",
     "text": [
      "2022-05-30 16:40:59,776 => loading attention result\n",
      "2022-05-30 16:40:59 [INFO]: => loading attention result\n",
      "100%|██████████████████████████████████████████████████████████████████████████████████████████████████████████████████████████████████████████████████████████████████| 7826526/7826526 [00:19<00:00, 399701.43it/s]\n",
      "2022-05-30 16:41:20,134 => load passing detector from config/passing/pass_model_lstm_f1.yaml\n",
      "2022-05-30 16:41:20 [INFO]: => load passing detector from config/passing/pass_model_lstm_f1.yaml\n"
     ]
    },
    {
     "name": "stdout",
     "output_type": "stream",
     "text": [
      "data/08/001/06\n"
     ]
    },
    {
     "name": "stderr",
     "output_type": "stream",
     "text": [
      "2022-05-30 16:41:37,096 => loading attention result\n",
      "2022-05-30 16:41:37 [INFO]: => loading attention result\n",
      "100%|██████████████████████████████████████████████████████████████████████████████████████████████████████████████████████████████████████████████████████████████████| 8429809/8429809 [00:21<00:00, 397364.29it/s]\n",
      "2022-05-30 16:41:59,081 => load passing detector from config/passing/pass_model_lstm_f1.yaml\n",
      "2022-05-30 16:41:59 [INFO]: => load passing detector from config/passing/pass_model_lstm_f1.yaml\n"
     ]
    },
    {
     "name": "stdout",
     "output_type": "stream",
     "text": [
      "data/08/001/07\n"
     ]
    },
    {
     "name": "stderr",
     "output_type": "stream",
     "text": [
      "2022-05-30 16:42:15,106 => loading attention result\n",
      "2022-05-30 16:42:15 [INFO]: => loading attention result\n",
      "100%|██████████████████████████████████████████████████████████████████████████████████████████████████████████████████████████████████████████████████████████████████| 7455878/7455878 [00:18<00:00, 397082.99it/s]\n",
      "2022-05-30 16:42:34,638 => load passing detector from config/passing/pass_model_lstm_f1.yaml\n",
      "2022-05-30 16:42:34 [INFO]: => load passing detector from config/passing/pass_model_lstm_f1.yaml\n"
     ]
    },
    {
     "name": "stdout",
     "output_type": "stream",
     "text": [
      "data/08/001/08\n"
     ]
    },
    {
     "name": "stderr",
     "output_type": "stream",
     "text": [
      "2022-05-30 16:42:50,899 => loading attention result\n",
      "2022-05-30 16:42:50 [INFO]: => loading attention result\n",
      "100%|██████████████████████████████████████████████████████████████████████████████████████████████████████████████████████████████████████████████████████████████████| 8121085/8121085 [00:20<00:00, 397488.87it/s]\n",
      "2022-05-30 16:43:12,103 => load passing detector from config/passing/pass_model_lstm_f1.yaml\n",
      "2022-05-30 16:43:12 [INFO]: => load passing detector from config/passing/pass_model_lstm_f1.yaml\n"
     ]
    },
    {
     "name": "stdout",
     "output_type": "stream",
     "text": [
      "data/08/001/09\n"
     ]
    },
    {
     "name": "stderr",
     "output_type": "stream",
     "text": [
      "2022-05-30 16:43:30,092 => loading attention result\n",
      "2022-05-30 16:43:30 [INFO]: => loading attention result\n",
      "100%|██████████████████████████████████████████████████████████████████████████████████████████████████████████████████████████████████████████████████████████████████| 9034832/9034832 [00:22<00:00, 399069.71it/s]\n",
      "2022-05-30 16:43:53,521 => load passing detector from config/passing/pass_model_lstm_f1.yaml\n",
      "2022-05-30 16:43:53 [INFO]: => load passing detector from config/passing/pass_model_lstm_f1.yaml\n"
     ]
    },
    {
     "name": "stdout",
     "output_type": "stream",
     "text": [
      "data/08/001/10\n"
     ]
    },
    {
     "name": "stderr",
     "output_type": "stream",
     "text": [
      "2022-05-30 16:44:09,601 => loading attention result\n",
      "2022-05-30 16:44:09 [INFO]: => loading attention result\n",
      "100%|██████████████████████████████████████████████████████████████████████████████████████████████████████████████████████████████████████████████████████████████████| 6990152/6990152 [00:17<00:00, 395247.61it/s]\n",
      "2022-05-30 16:44:28,057 => load passing detector from config/passing/pass_model_lstm_f1.yaml\n",
      "2022-05-30 16:44:28 [INFO]: => load passing detector from config/passing/pass_model_lstm_f1.yaml\n"
     ]
    },
    {
     "name": "stdout",
     "output_type": "stream",
     "text": [
      "data/08/001/11\n"
     ]
    },
    {
     "name": "stderr",
     "output_type": "stream",
     "text": [
      "2022-05-30 16:44:43,679 => loading attention result\n",
      "2022-05-30 16:44:43 [INFO]: => loading attention result\n",
      "100%|██████████████████████████████████████████████████████████████████████████████████████████████████████████████████████████████████████████████████████████████████| 7671992/7671992 [00:19<00:00, 397458.62it/s]\n",
      "2022-05-30 16:45:03,781 => load passing detector from config/passing/pass_model_lstm_f1.yaml\n",
      "2022-05-30 16:45:03 [INFO]: => load passing detector from config/passing/pass_model_lstm_f1.yaml\n"
     ]
    },
    {
     "name": "stdout",
     "output_type": "stream",
     "text": [
      "data/08/001/12\n"
     ]
    },
    {
     "name": "stderr",
     "output_type": "stream",
     "text": [
      "2022-05-30 16:45:20,940 => loading attention result\n",
      "2022-05-30 16:45:20 [INFO]: => loading attention result\n",
      "100%|██████████████████████████████████████████████████████████████████████████████████████████████████████████████████████████████████████████████████████████████████| 8775436/8775436 [00:22<00:00, 398689.33it/s]\n",
      "2022-05-30 16:45:43,753 => load passing detector from config/passing/pass_model_lstm_f1.yaml\n",
      "2022-05-30 16:45:43 [INFO]: => load passing detector from config/passing/pass_model_lstm_f1.yaml\n"
     ]
    },
    {
     "name": "stdout",
     "output_type": "stream",
     "text": [
      "data/08/001/13\n"
     ]
    },
    {
     "name": "stderr",
     "output_type": "stream",
     "text": [
      "2022-05-30 16:46:02,516 => loading attention result\n",
      "2022-05-30 16:46:02 [INFO]: => loading attention result\n",
      "100%|██████████████████████████████████████████████████████████████████████████████████████████████████████████████████████████████████████████████████████████████████| 9535673/9535673 [00:23<00:00, 400066.19it/s]\n",
      "2022-05-30 16:46:27,126 => load passing detector from config/passing/pass_model_lstm_f1.yaml\n",
      "2022-05-30 16:46:27 [INFO]: => load passing detector from config/passing/pass_model_lstm_f1.yaml\n"
     ]
    },
    {
     "name": "stdout",
     "output_type": "stream",
     "text": [
      "data/08/001/14\n"
     ]
    },
    {
     "name": "stderr",
     "output_type": "stream",
     "text": [
      "2022-05-30 16:46:44,200 => loading attention result\n",
      "2022-05-30 16:46:44 [INFO]: => loading attention result\n",
      "100%|██████████████████████████████████████████████████████████████████████████████████████████████████████████████████████████████████████████████████████████████████| 7644031/7644031 [00:19<00:00, 393324.65it/s]\n",
      "2022-05-30 16:47:04,459 => load passing detector from config/passing/pass_model_lstm_f1.yaml\n",
      "2022-05-30 16:47:04 [INFO]: => load passing detector from config/passing/pass_model_lstm_f1.yaml\n"
     ]
    },
    {
     "name": "stdout",
     "output_type": "stream",
     "text": [
      "data/08/001/15\n"
     ]
    },
    {
     "name": "stderr",
     "output_type": "stream",
     "text": [
      "2022-05-30 16:47:21,616 => loading attention result\n",
      "2022-05-30 16:47:21 [INFO]: => loading attention result\n",
      "100%|██████████████████████████████████████████████████████████████████████████████████████████████████████████████████████████████████████████████████████████████████| 8737212/8737212 [00:21<00:00, 397618.47it/s]\n",
      "2022-05-30 16:47:44,382 => load passing detector from config/passing/pass_model_lstm_f1.yaml\n",
      "2022-05-30 16:47:44 [INFO]: => load passing detector from config/passing/pass_model_lstm_f1.yaml\n"
     ]
    },
    {
     "name": "stdout",
     "output_type": "stream",
     "text": [
      "data/08/001/16\n"
     ]
    },
    {
     "name": "stderr",
     "output_type": "stream",
     "text": [
      "2022-05-30 16:48:00,905 => loading attention result\n",
      "2022-05-30 16:48:00 [INFO]: => loading attention result\n",
      "100%|██████████████████████████████████████████████████████████████████████████████████████████████████████████████████████████████████████████████████████████████████| 7601768/7601768 [00:19<00:00, 395484.78it/s]\n",
      "2022-05-30 16:48:20,902 => load passing detector from config/passing/pass_model_lstm_f1.yaml\n",
      "2022-05-30 16:48:20 [INFO]: => load passing detector from config/passing/pass_model_lstm_f1.yaml\n"
     ]
    },
    {
     "name": "stdout",
     "output_type": "stream",
     "text": [
      "data/08/001/17\n"
     ]
    },
    {
     "name": "stderr",
     "output_type": "stream",
     "text": [
      "2022-05-30 16:48:30,746 => loading attention result\n",
      "2022-05-30 16:48:30 [INFO]: => loading attention result\n",
      "100%|██████████████████████████████████████████████████████████████████████████████████████████████████████████████████████████████████████████████████████████████████| 5030338/5030338 [00:12<00:00, 394652.16it/s]\n"
     ]
    }
   ],
   "source": [
    "timeflow = {\"max\":[], \"mean\": [], \"sum\": []}\n",
    "for data_dir in data_dirs:\n",
    "    print(data_dir)\n",
    "    json_path = os.path.join(data_dir, \".json\", \"group.json\")\n",
    "    if os.path.exists(json_path):\n",
    "        group = load_group(json_path, grp_cfg, field, logger, device=\"cpu\")\n",
    "        result = create_attention_timeflow(group)\n",
    "        for key in timeflow.keys():\n",
    "            timeflow[key] += result[key]"
   ]
  },
  {
   "cell_type": "code",
   "execution_count": 15,
   "id": "2ebafdc1-2d1f-4c98-9c91-9df209d0f562",
   "metadata": {},
   "outputs": [
    {
     "data": {
      "image/png": "[encoded data removed]",
      "text/plain": [
       "<Figure size 432x288 with 1 Axes>"
      ]
     },
     "metadata": {
      "needs_background": "light"
     },
     "output_type": "display_data"
    },
    {
     "data": {
      "image/png": "[encoded data removed]",
      "text/plain": [
       "<Figure size 432x288 with 1 Axes>"
      ]
     },
     "metadata": {
      "needs_background": "light"
     },
     "output_type": "display_data"
    },
    {
     "data": {
      "image/png": "[encoded data removed]",
      "text/plain": [
       "<Figure size 432x288 with 1 Axes>"
      ]
     },
     "metadata": {
      "needs_background": "light"
     },
     "output_type": "display_data"
    }
   ],
   "source": [
    "plt.plot(timeflow[\"max\"], label=\"max\")\n",
    "plt.show()\n",
    "plt.plot(timeflow[\"mean\"], label=\"mean\")\n",
    "plt.show()\n",
    "plt.plot(timeflow[\"sum\"], label=\"sum\")\n",
    "plt.show()"
   ]
  },
  {
   "cell_type": "code",
   "execution_count": null,
   "id": "932470ac-4a40-49e8-a039-82a046b8ff4f",
   "metadata": {},
   "outputs": [],
   "source": []
  }
 ],
 "metadata": {
  "kernelspec": {
   "display_name": "Python 3 (ipykernel)",
   "language": "python",
   "name": "python3"
  },
  "language_info": {
   "codemirror_mode": {
    "name": "ipython",
    "version": 3
   },
   "file_extension": ".py",
   "mimetype": "text/x-python",
   "name": "python",
   "nbconvert_exporter": "python",
   "pygments_lexer": "ipython3",
   "version": "3.8.13"
  }
 },
 "nbformat": 4,
 "nbformat_minor": 5
}
