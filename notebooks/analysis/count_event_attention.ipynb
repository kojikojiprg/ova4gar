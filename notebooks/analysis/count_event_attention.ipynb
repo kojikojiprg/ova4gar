{
 "cells": [
  {
   "cell_type": "code",
   "execution_count": 1,
   "id": "444b5987-6825-4b1e-a2bc-9cfffbe81f94",
   "metadata": {},
   "outputs": [
    {
     "name": "stdout",
     "output_type": "stream",
     "text": [
      "/raid6/home/yokoyama/research\n"
     ]
    }
   ],
   "source": [
    "# back to project root\n",
    "%cd ~/research\n",
    "\n",
    "import os\n",
    "from glob import glob\n",
    "\n",
    "import matplotlib.pyplot as plt\n",
    "import pandas as pd"
   ]
  },
  {
   "cell_type": "code",
   "execution_count": 48,
   "id": "0a349c73-e4b7-4d38-afd6-cf23d2953260",
   "metadata": {},
   "outputs": [],
   "source": [
    "excel_path = os.path.join(\"data\", \"attention\", \"ga_pr0.3_ph1.5_th0.5_edited.xlsx\")\n",
    "df_all_sheet = pd.read_excel(excel_path, sheet_name=None)"
   ]
  },
  {
   "cell_type": "code",
   "execution_count": 49,
   "id": "1b85e17e-4eb9-4240-9d5f-c1ecf79a9272",
   "metadata": {},
   "outputs": [],
   "source": [
    "status_counts = {\n",
    "    \"準備中\": 0,\n",
    "    \"麻酔導入\": 0,\n",
    "    \"手術中\": 0,\n",
    "    \"麻酔覚醒\": 0,\n",
    "    \"Other\": 0,\n",
    "}\n",
    "\n",
    "for sheet_name, df in df_all_sheet.items():\n",
    "    for key in status_counts.keys():\n",
    "        count = df[\"Status\"].str.contains(key).sum()\n",
    "        status_counts[key] += count\n",
    "    count = df[\"Status\"].isna().sum()\n",
    "    status_counts[\"Other\"] = count"
   ]
  },
  {
   "cell_type": "code",
   "execution_count": 50,
   "id": "222df773-7450-4549-aa33-b0090217c243",
   "metadata": {},
   "outputs": [
    {
     "data": {
      "text/plain": [
       "{'準備中': 6, '麻酔導入': 113, '手術中': 797, '麻酔覚醒': 70, 'Other': 1}"
      ]
     },
     "execution_count": 50,
     "metadata": {},
     "output_type": "execute_result"
    }
   ],
   "source": [
    "status_counts"
   ]
  },
  {
   "cell_type": "code",
   "execution_count": 67,
   "id": "985a8093-3981-4047-82ec-7b4db530d237",
   "metadata": {},
   "outputs": [
    {
     "name": "stdout",
     "output_type": "stream",
     "text": [
      "その他\n",
      "8                患者入室\n",
      "22     器械出し看護師が準備を始める\n",
      "27               手術開始\n",
      "41               臓器摘出\n",
      "153              手術終了\n",
      "Name: Events, dtype: object\n",
      "その他\n",
      "10                手術開始\n",
      "91     術者の1人が患者の足元から施術\n",
      "124               手術終了\n",
      "Name: Events, dtype: object\n",
      "その他\n",
      "3      患者入室\n",
      "20     手術開始\n",
      "40     手術再開\n",
      "169    手術終了\n",
      "Name: Events, dtype: object\n",
      "その他\n",
      "1             患者入室\n",
      "18     器械だし看護師準備開始\n",
      "22            手術開始\n",
      "192           手術終了\n",
      "Name: Events, dtype: object\n",
      "その他\n",
      "20     器械出し看護師が準備開始\n",
      "29             手術開始\n",
      "191            手術終了\n",
      "Name: Events, dtype: object\n",
      "その他\n",
      "9     術者準備開始\n",
      "21      手術開始\n",
      "97      手術終了\n",
      "Name: Events, dtype: object\n"
     ]
    }
   ],
   "source": [
    "event_counts_all = {\n",
    "    \"解剖\": 0,\n",
    "    \"搬入|搬出\": 0,\n",
    "    \"交代\": 0,\n",
    "    \"話し合い\": 0,\n",
    "    \"手袋\": 0,\n",
    "    \"中断\": 0,\n",
    "    \"患者ベッド移動\": 0,\n",
    "}\n",
    "other_keys = \"\"\n",
    "for key in event_counts_all.keys():\n",
    "    other_keys += f\"{key}|\"\n",
    "other_keys = other_keys[:-1]\n",
    "\n",
    "for sheet_name, df in df_all_sheet.items():\n",
    "    for key in event_counts_all.keys():\n",
    "        count = df[\"Events\"].dropna(how=\"any\").str.contains(key).sum()\n",
    "        event_counts_all[key] += count\n",
    "    print(\"その他\")\n",
    "    print(df[\"Events\"].dropna(how=\"any\")[~df[\"Events\"].dropna(how=\"any\").str.contains(other_keys)])"
   ]
  },
  {
   "cell_type": "code",
   "execution_count": 62,
   "id": "5f72e922-07c9-41a5-8351-101e806a7215",
   "metadata": {},
   "outputs": [
    {
     "data": {
      "text/plain": [
       "{'解剖': 13, '搬入|搬出': 7, '交代': 26, '話し合い': 1, '手袋': 11, '中断': 4, '患者ベッド移動': 5}"
      ]
     },
     "execution_count": 62,
     "metadata": {},
     "output_type": "execute_result"
    }
   ],
   "source": [
    "event_counts_all"
   ]
  },
  {
   "cell_type": "code",
   "execution_count": 63,
   "id": "dc3fdeec-5296-43f9-8c10-32589987797f",
   "metadata": {},
   "outputs": [],
   "source": [
    "event_counts_peak = {\n",
    "    \"解剖\": 0,\n",
    "    \"搬入|搬出\": 0,\n",
    "    \"交代\": 0,\n",
    "    \"話し合い\": 0,\n",
    "    \"手袋\": 0,\n",
    "    \"中断\": 0,\n",
    "    \"患者ベッド移動\": 0,\n",
    "}\n",
    "\n",
    "for sheet_name, df in df_all_sheet.items():\n",
    "    for key in event_counts_peak.keys():\n",
    "        count = df[df[\"Vertex Shape\"] == \"Peak\"][\"Events\"].dropna(how=\"any\").str.contains(key).sum()\n",
    "        event_counts_peak[key] += count"
   ]
  },
  {
   "cell_type": "code",
   "execution_count": 64,
   "id": "f962bfd9-3199-42bc-b2b4-f781c56a55fa",
   "metadata": {},
   "outputs": [
    {
     "data": {
      "text/plain": [
       "{'解剖': 5, '搬入|搬出': 3, '交代': 18, '話し合い': 0, '手袋': 8, '中断': 1, '患者ベッド移動': 5}"
      ]
     },
     "execution_count": 64,
     "metadata": {},
     "output_type": "execute_result"
    }
   ],
   "source": [
    "event_counts_peak"
   ]
  },
  {
   "cell_type": "code",
   "execution_count": 65,
   "id": "f81eeb7c-ef83-4431-b776-2302032c9ef2",
   "metadata": {},
   "outputs": [],
   "source": [
    "event_counts_trough = {\n",
    "    \"解剖\": 0,\n",
    "    \"搬入|搬出\": 0,\n",
    "    \"交代\": 0,\n",
    "    \"話し合い\": 0,\n",
    "    \"手袋\": 0,\n",
    "    \"中断\": 0,\n",
    "    \"患者ベッド移動\": 0,\n",
    "}\n",
    "\n",
    "for sheet_name, df in df_all_sheet.items():\n",
    "    for key in event_counts_trough.keys():\n",
    "        count = df[df[\"Vertex Shape\"] == \"Trough\"][\"Events\"].dropna(how=\"any\").str.contains(key).sum()\n",
    "        event_counts_trough[key] += count"
   ]
  },
  {
   "cell_type": "code",
   "execution_count": 66,
   "id": "b1a70723-cb52-4ff6-9aed-53a4f9b47e93",
   "metadata": {},
   "outputs": [
    {
     "data": {
      "text/plain": [
       "{'解剖': 8, '搬入|搬出': 4, '交代': 8, '話し合い': 1, '手袋': 3, '中断': 3, '患者ベッド移動': 0}"
      ]
     },
     "execution_count": 66,
     "metadata": {},
     "output_type": "execute_result"
    }
   ],
   "source": [
    "event_counts_trough"
   ]
  },
  {
   "cell_type": "code",
   "execution_count": null,
   "id": "57f19933-f8bb-4547-a2a2-eb07288592ee",
   "metadata": {},
   "outputs": [],
   "source": []
  }
 ],
 "metadata": {
  "kernelspec": {
   "display_name": "Python 3 (ipykernel)",
   "language": "python",
   "name": "python3"
  },
  "language_info": {
   "codemirror_mode": {
    "name": "ipython",
    "version": 3
   },
   "file_extension": ".py",
   "mimetype": "text/x-python",
   "name": "python",
   "nbconvert_exporter": "python",
   "pygments_lexer": "ipython3",
   "version": "3.8.13"
  }
 },
 "nbformat": 4,
 "nbformat_minor": 5
}
