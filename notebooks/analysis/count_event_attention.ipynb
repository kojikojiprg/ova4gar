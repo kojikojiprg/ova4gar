{
 "cells": [
  {
   "cell_type": "code",
   "execution_count": 1,
   "id": "444b5987-6825-4b1e-a2bc-9cfffbe81f94",
   "metadata": {},
   "outputs": [
    {
     "name": "stdout",
     "output_type": "stream",
     "text": [
      "/raid6/home/yokoyama/research\n"
     ]
    }
   ],
   "source": [
    "# back to project root\n",
    "%cd ~/research\n",
    "\n",
    "import os\n",
    "from glob import glob\n",
    "\n",
    "import matplotlib.pyplot as plt\n",
    "import pandas as pd"
   ]
  },
  {
   "cell_type": "code",
   "execution_count": 2,
   "id": "0a349c73-e4b7-4d38-afd6-cf23d2953260",
   "metadata": {},
   "outputs": [],
   "source": [
    "excel_path = os.path.join(\"data\", \"attention\", \"ga_pr0.3_ph1.5_th0.5_edited.xlsx\")\n",
    "df_all_sheet = pd.read_excel(excel_path, sheet_name=None)"
   ]
  },
  {
   "cell_type": "code",
   "execution_count": 3,
   "id": "dc3fdeec-5296-43f9-8c10-32589987797f",
   "metadata": {},
   "outputs": [],
   "source": [
    "event_counts = {\n",
    "    \"解剖\": 0,\n",
    "    \"搬入\": 0,\n",
    "    \"搬出\": 0,\n",
    "    \"交代\": 0,\n",
    "    \"話し合い\": 0,\n",
    "    \"手袋\": 0,\n",
    "    \"中断\": 0,\n",
    "}\n",
    "\n",
    "for sheet_name, df in df_all_sheet.items():\n",
    "    for key in event_counts.keys():\n",
    "        count = df[\"Events\"].dropna(how=\"any\").str.contains(key).sum()\n",
    "        event_counts[key] += count"
   ]
  },
  {
   "cell_type": "code",
   "execution_count": 4,
   "id": "f962bfd9-3199-42bc-b2b4-f781c56a55fa",
   "metadata": {},
   "outputs": [
    {
     "data": {
      "text/plain": [
       "{'解剖': 13, '搬入': 4, '搬出': 3, '交代': 26, '話し合い': 3, '手袋': 11, '中断': 5}"
      ]
     },
     "execution_count": 4,
     "metadata": {},
     "output_type": "execute_result"
    }
   ],
   "source": [
    "event_counts"
   ]
  },
  {
   "cell_type": "code",
   "execution_count": null,
   "id": "f81eeb7c-ef83-4431-b776-2302032c9ef2",
   "metadata": {},
   "outputs": [],
   "source": []
  }
 ],
 "metadata": {
  "kernelspec": {
   "display_name": "Python 3 (ipykernel)",
   "language": "python",
   "name": "python3"
  },
  "language_info": {
   "codemirror_mode": {
    "name": "ipython",
    "version": 3
   },
   "file_extension": ".py",
   "mimetype": "text/x-python",
   "name": "python",
   "nbconvert_exporter": "python",
   "pygments_lexer": "ipython3",
   "version": "3.8.13"
  }
 },
 "nbformat": 4,
 "nbformat_minor": 5
}
