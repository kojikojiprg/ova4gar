{
 "cells": [
  {
   "cell_type": "code",
   "execution_count": 1,
   "id": "b0c83a51-8381-43e0-a826-1c7bca7de64e",
   "metadata": {},
   "outputs": [
    {
     "name": "stdout",
     "output_type": "stream",
     "text": [
      "/raid6/home/yokoyama/research\n"
     ]
    },
    {
     "name": "stderr",
     "output_type": "stream",
     "text": [
      "/home/yokoyama/research/.venv/lib/python3.8/site-packages/tqdm/auto.py:22: TqdmWarning: IProgress not found. Please update jupyter and ipywidgets. See https://ipywidgets.readthedocs.io/en/stable/user_install.html\n",
      "  from .autonotebook import tqdm as notebook_tqdm\n"
     ]
    }
   ],
   "source": [
    "# back to project root\n",
    "%cd ~/research\n",
    "\n",
    "import gc\n",
    "import os\n",
    "import sys\n",
    "from glob import glob\n",
    "\n",
    "import cv2\n",
    "import matplotlib.pyplot as plt\n",
    "import numpy as np\n",
    "from tqdm import tqdm\n",
    "import yaml\n",
    "from scipy import signal\n",
    "\n",
    "sys.path.append(\"src\")\n",
    "from utility.logger import logger\n",
    "from utility.activity_loader import get_data_dirs, load_group\n",
    "from utility.json_handler import load\n",
    "from utility.video import Capture, Writer, concat_field_with_frame\n",
    "from visualize.group import GroupVisualizer\n",
    "from visualize.individual import write_field as ind_write_field\n",
    "from visualize.keypoint import write_frame as kps_write_frame"
   ]
  },
  {
   "cell_type": "code",
   "execution_count": 2,
   "id": "89a7620d-3308-423d-857d-acbd1d1f4883",
   "metadata": {},
   "outputs": [],
   "source": [
    "plt.rcParams['font.family'] = 'Times New Roman'\n",
    "plt.rcParams[\"font.size\"] = 48\n",
    "plt.rcParams['xtick.direction'] = 'in'  # x axis in\n",
    "plt.rcParams['ytick.direction'] = 'in'  # y axis in"
   ]
  },
  {
   "cell_type": "code",
   "execution_count": 3,
   "id": "75d31b7a-aa8a-4987-8655-bfc581ba5e34",
   "metadata": {},
   "outputs": [],
   "source": [
    "room_num = \"09\"\n",
    "surgery_num = \"002\""
   ]
  },
  {
   "cell_type": "code",
   "execution_count": 4,
   "id": "48e22e65-342c-4c9e-b2d9-6c8192b9d5ea",
   "metadata": {},
   "outputs": [],
   "source": [
    "cfg_path = \"config/demo_config.yaml\"\n",
    "with open(cfg_path, \"r\") as f:\n",
    "    cfg = yaml.safe_load(f)\n",
    "with open(cfg[\"config_path\"][\"group\"], \"r\") as f:\n",
    "    grp_cfg = yaml.safe_load(f)"
   ]
  },
  {
   "cell_type": "code",
   "execution_count": 5,
   "id": "3ee6249c-2553-4f6a-a30d-6fbff00cb9e2",
   "metadata": {},
   "outputs": [],
   "source": [
    "field = cv2.imread(\"image/field.png\")\n",
    "visualizer = GroupVisualizer([\"passing\"])"
   ]
  },
  {
   "cell_type": "code",
   "execution_count": 6,
   "id": "322baf5c-6639-4c0e-9000-6c009a381a5b",
   "metadata": {},
   "outputs": [
    {
     "name": "stdout",
     "output_type": "stream",
     "text": [
      "['data/09/002/01', 'data/09/002/02', 'data/09/002/03', 'data/09/002/04', 'data/09/002/05', 'data/09/002/06', 'data/09/002/07', 'data/09/002/08', 'data/09/002/09', 'data/09/002/10']\n"
     ]
    }
   ],
   "source": [
    "data_dirs = get_data_dirs(room_num, surgery_num)\n",
    "print(data_dirs)"
   ]
  },
  {
   "cell_type": "code",
   "execution_count": null,
   "id": "70c0f490-ab04-4022-b189-01251b38ed78",
   "metadata": {
    "scrolled": true,
    "tags": []
   },
   "outputs": [
    {
     "name": "stdout",
     "output_type": "stream",
     "text": [
      "data/09/002/01\n"
     ]
    },
    {
     "name": "stderr",
     "output_type": "stream",
     "text": [
      "100%|█████████████████████████████████████████████████████████████████████████████████████████████████████████████████████████████████| 580/580 [00:00<00:00, 1050387.01it/s]\n"
     ]
    },
    {
     "name": "stdout",
     "output_type": "stream",
     "text": [
      "data/09/002/02\n"
     ]
    }
   ],
   "source": [
    "passings = []\n",
    "for data_dir in data_dirs:\n",
    "    print(data_dir)\n",
    "    json_path = os.path.join(data_dir, \".json\", \"group.json\")\n",
    "    if os.path.exists(json_path):\n",
    "        group = load_group(json_path, grp_cfg, field, logger, only_data_loading=True)\n",
    "        passings.append(group.passing)"
   ]
  },
  {
   "cell_type": "code",
   "execution_count": null,
   "id": "cc3021c0-4e1c-474e-adef-691964b462c2",
   "metadata": {},
   "outputs": [],
   "source": []
  }
 ],
 "metadata": {
  "kernelspec": {
   "display_name": "Python 3 (ipykernel)",
   "language": "python",
   "name": "python3"
  },
  "language_info": {
   "codemirror_mode": {
    "name": "ipython",
    "version": 3
   },
   "file_extension": ".py",
   "mimetype": "text/x-python",
   "name": "python",
   "nbconvert_exporter": "python",
   "pygments_lexer": "ipython3",
   "version": "3.8.13"
  }
 },
 "nbformat": 4,
 "nbformat_minor": 5
}
