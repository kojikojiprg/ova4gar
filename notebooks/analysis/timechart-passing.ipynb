{
 "cells": [
  {
   "cell_type": "code",
   "execution_count": 1,
   "id": "b0c83a51-8381-43e0-a826-1c7bca7de64e",
   "metadata": {},
   "outputs": [
    {
     "name": "stdout",
     "output_type": "stream",
     "text": [
      "/raid6/home/yokoyama/research\n"
     ]
    },
    {
     "name": "stderr",
     "output_type": "stream",
     "text": [
      "/home/yokoyama/research/.venv/lib/python3.8/site-packages/tqdm/auto.py:22: TqdmWarning: IProgress not found. Please update jupyter and ipywidgets. See https://ipywidgets.readthedocs.io/en/stable/user_install.html\n",
      "  from .autonotebook import tqdm as notebook_tqdm\n"
     ]
    }
   ],
   "source": [
    "# back to project root\n",
    "%cd ~/research\n",
    "\n",
    "import gc\n",
    "import os\n",
    "import sys\n",
    "from glob import glob\n",
    "\n",
    "import cv2\n",
    "import matplotlib.pyplot as plt\n",
    "import numpy as np\n",
    "from tqdm import tqdm\n",
    "import yaml\n",
    "from scipy import signal\n",
    "\n",
    "sys.path.append(\"src\")\n",
    "from utility.logger import logger\n",
    "from utility.activity_loader import get_data_dirs, load_group\n",
    "from utility.json_handler import load\n",
    "from utility.video import Capture, Writer, concat_field_with_frame\n",
    "from visualize.group import GroupVisualizer\n",
    "from visualize.individual import write_field as ind_write_field\n",
    "from visualize.keypoint import write_frame as kps_write_frame"
   ]
  },
  {
   "cell_type": "code",
   "execution_count": 35,
   "id": "75d31b7a-aa8a-4987-8655-bfc581ba5e34",
   "metadata": {},
   "outputs": [],
   "source": [
    "room_num = \"02\"\n",
    "surgery_num = \"001\""
   ]
  },
  {
   "cell_type": "code",
   "execution_count": 36,
   "id": "48e22e65-342c-4c9e-b2d9-6c8192b9d5ea",
   "metadata": {},
   "outputs": [],
   "source": [
    "cfg_path = \"config/demo_config.yaml\"\n",
    "with open(cfg_path, \"r\") as f:\n",
    "    cfg = yaml.safe_load(f)\n",
    "with open(cfg[\"config_path\"][\"group\"], \"r\") as f:\n",
    "    grp_cfg = yaml.safe_load(f)"
   ]
  },
  {
   "cell_type": "code",
   "execution_count": 37,
   "id": "3ee6249c-2553-4f6a-a30d-6fbff00cb9e2",
   "metadata": {},
   "outputs": [],
   "source": [
    "field = cv2.imread(\"image/field.png\")\n",
    "visualizer = GroupVisualizer([\"passing\"])"
   ]
  },
  {
   "cell_type": "code",
   "execution_count": 38,
   "id": "322baf5c-6639-4c0e-9000-6c009a381a5b",
   "metadata": {},
   "outputs": [
    {
     "name": "stdout",
     "output_type": "stream",
     "text": [
      "['data/02/001/01', 'data/02/001/02', 'data/02/001/03', 'data/02/001/04', 'data/02/001/05', 'data/02/001/06', 'data/02/001/07', 'data/02/001/08', 'data/02/001/09', 'data/02/001/10', 'data/02/001/11', 'data/02/001/12', 'data/02/001/13', 'data/02/001/14', 'data/02/001/15']\n"
     ]
    }
   ],
   "source": [
    "data_dirs = get_data_dirs(room_num, surgery_num)\n",
    "print(data_dirs)"
   ]
  },
  {
   "cell_type": "code",
   "execution_count": 39,
   "id": "9463c63e-92f3-4023-951b-1c06f768412a",
   "metadata": {},
   "outputs": [],
   "source": [
    "th_duration = 10\n",
    "th_interval = 30\n",
    "\n",
    "def calc_start2end(group, th_duration, th_interval):\n",
    "    passing_dict = group.passing\n",
    "\n",
    "    result_dict: Dict[str, list] = {}\n",
    "    for pair_key, passing_frame_nums in passing_dict.items():\n",
    "        result_dict[pair_key] = []\n",
    "\n",
    "        pre_frame_num = start_frame_num = passing_frame_nums[0]\n",
    "        for frame_num in passing_frame_nums[1:]:\n",
    "            if frame_num - pre_frame_num > th_interval:\n",
    "                # difference between current and previous is over interval\n",
    "                if pre_frame_num - start_frame_num > th_duration:\n",
    "                    # append result beyond with duration\n",
    "                    result_dict[pair_key].append((start_frame_num, pre_frame_num))\n",
    "\n",
    "                start_frame_num = frame_num  # update start frame number\n",
    "\n",
    "            pre_frame_num = frame_num  # update previous frame number\n",
    "        else:\n",
    "            # process for last frame number\n",
    "            if pre_frame_num - start_frame_num > th_duration:\n",
    "                # append result beyond with duration\n",
    "                result_dict[pair_key].append((start_frame_num, pre_frame_num))\n",
    "\n",
    "        if len(result_dict[pair_key]) == 0:\n",
    "            del result_dict[pair_key]\n",
    "\n",
    "    return result_dict"
   ]
  },
  {
   "cell_type": "code",
   "execution_count": 40,
   "id": "70c0f490-ab04-4022-b189-01251b38ed78",
   "metadata": {
    "scrolled": true,
    "tags": []
   },
   "outputs": [
    {
     "name": "stdout",
     "output_type": "stream",
     "text": [
      "data/02/001/01\n"
     ]
    },
    {
     "name": "stderr",
     "output_type": "stream",
     "text": [
      "100%|█████████████████████████████████████████████████████████████████████████████████████████████████████████████████████████████████████████████████| 112/112 [00:00<00:00, 325771.18it/s]\n"
     ]
    },
    {
     "name": "stdout",
     "output_type": "stream",
     "text": [
      "data/02/001/02\n"
     ]
    },
    {
     "name": "stderr",
     "output_type": "stream",
     "text": [
      "100%|███████████████████████████████████████████████████████████████████████████████████████████████████████████████████████████████████████████████| 2184/2184 [00:00<00:00, 850860.11it/s]\n"
     ]
    },
    {
     "name": "stdout",
     "output_type": "stream",
     "text": [
      "data/02/001/03\n"
     ]
    },
    {
     "name": "stderr",
     "output_type": "stream",
     "text": [
      "100%|███████████████████████████████████████████████████████████████████████████████████████████████████████████████████████████████████████████████| 2691/2691 [00:00<00:00, 290688.99it/s]\n"
     ]
    },
    {
     "name": "stdout",
     "output_type": "stream",
     "text": [
      "data/02/001/04\n"
     ]
    },
    {
     "name": "stderr",
     "output_type": "stream",
     "text": [
      "100%|███████████████████████████████████████████████████████████████████████████████████████████████████████████████████████████████████████████████| 3577/3577 [00:00<00:00, 949558.57it/s]\n"
     ]
    },
    {
     "name": "stdout",
     "output_type": "stream",
     "text": [
      "data/02/001/05\n"
     ]
    },
    {
     "name": "stderr",
     "output_type": "stream",
     "text": [
      "100%|███████████████████████████████████████████████████████████████████████████████████████████████████████████████████████████████████████████████| 2893/2893 [00:00<00:00, 709473.28it/s]\n"
     ]
    },
    {
     "name": "stdout",
     "output_type": "stream",
     "text": [
      "data/02/001/06\n"
     ]
    },
    {
     "name": "stderr",
     "output_type": "stream",
     "text": [
      "100%|███████████████████████████████████████████████████████████████████████████████████████████████████████████████████████████████████████████████| 4158/4158 [00:00<00:00, 879648.75it/s]\n"
     ]
    },
    {
     "name": "stdout",
     "output_type": "stream",
     "text": [
      "data/02/001/07\n"
     ]
    },
    {
     "name": "stderr",
     "output_type": "stream",
     "text": [
      "100%|███████████████████████████████████████████████████████████████████████████████████████████████████████████████████████████████████████████████| 2866/2866 [00:00<00:00, 773345.04it/s]\n"
     ]
    },
    {
     "name": "stdout",
     "output_type": "stream",
     "text": [
      "data/02/001/08\n"
     ]
    },
    {
     "name": "stderr",
     "output_type": "stream",
     "text": [
      "100%|███████████████████████████████████████████████████████████████████████████████████████████████████████████████████████████████████████████████| 2239/2239 [00:00<00:00, 349161.46it/s]\n"
     ]
    },
    {
     "name": "stdout",
     "output_type": "stream",
     "text": [
      "data/02/001/09\n"
     ]
    },
    {
     "name": "stderr",
     "output_type": "stream",
     "text": [
      "100%|█████████████████████████████████████████████████████████████████████████████████████████████████████████████████████████████████████████████████| 934/934 [00:00<00:00, 278943.32it/s]\n"
     ]
    },
    {
     "name": "stdout",
     "output_type": "stream",
     "text": [
      "data/02/001/10\n"
     ]
    },
    {
     "name": "stderr",
     "output_type": "stream",
     "text": [
      "100%|███████████████████████████████████████████████████████████████████████████████████████████████████████████████████████████████████████████████| 1744/1744 [00:00<00:00, 696587.58it/s]\n"
     ]
    },
    {
     "name": "stdout",
     "output_type": "stream",
     "text": [
      "data/02/001/11\n"
     ]
    },
    {
     "name": "stderr",
     "output_type": "stream",
     "text": [
      "100%|███████████████████████████████████████████████████████████████████████████████████████████████████████████████████████████████████████████████| 6143/6143 [00:00<00:00, 916338.63it/s]\n"
     ]
    },
    {
     "name": "stdout",
     "output_type": "stream",
     "text": [
      "data/02/001/12\n"
     ]
    },
    {
     "name": "stderr",
     "output_type": "stream",
     "text": [
      "100%|███████████████████████████████████████████████████████████████████████████████████████████████████████████████████████████████████████████████| 2587/2587 [00:00<00:00, 684196.01it/s]\n"
     ]
    },
    {
     "name": "stdout",
     "output_type": "stream",
     "text": [
      "data/02/001/13\n"
     ]
    },
    {
     "name": "stderr",
     "output_type": "stream",
     "text": [
      "100%|███████████████████████████████████████████████████████████████████████████████████████████████████████████████████████████████████████████████| 1548/1548 [00:00<00:00, 771205.91it/s]\n"
     ]
    },
    {
     "name": "stdout",
     "output_type": "stream",
     "text": [
      "data/02/001/14\n"
     ]
    },
    {
     "name": "stderr",
     "output_type": "stream",
     "text": [
      "100%|█████████████████████████████████████████████████████████████████████████████████████████████████████████████████████████████████████████████████| 692/692 [00:00<00:00, 590771.09it/s]\n"
     ]
    },
    {
     "name": "stdout",
     "output_type": "stream",
     "text": [
      "data/02/001/15\n"
     ]
    },
    {
     "name": "stderr",
     "output_type": "stream",
     "text": [
      "0it [00:00, ?it/s]\n"
     ]
    }
   ],
   "source": [
    "passings = {}\n",
    "for i, data_dir in enumerate(data_dirs):\n",
    "    print(data_dir)\n",
    "    json_path = os.path.join(data_dir, \".json\", \"group.json\")\n",
    "    if os.path.exists(json_path):\n",
    "        group = load_group(json_path, grp_cfg, field, logger, only_data_loading=True)\n",
    "        passings[f\"{i + 1:02d}\"] = calc_start2end(group, th_duration, th_interval)"
   ]
  },
  {
   "cell_type": "code",
   "execution_count": 41,
   "id": "cc3021c0-4e1c-474e-adef-691964b462c2",
   "metadata": {},
   "outputs": [
    {
     "data": {
      "text/plain": [
       "{'43_72': [(9083, 9104)],\n",
       " '62_69': [(10275, 10305)],\n",
       " '205_236': [(31295, 31310)],\n",
       " '242_246': [(33269, 33290), (33657, 33685)]}"
      ]
     },
     "execution_count": 41,
     "metadata": {},
     "output_type": "execute_result"
    }
   ],
   "source": [
    "passings[\"01\"]"
   ]
  },
  {
   "cell_type": "code",
   "execution_count": 43,
   "id": "4d379269-7c6f-478e-a6a5-364264c16368",
   "metadata": {},
   "outputs": [
    {
     "data": {
      "image/png": "[encoded data removed]",
      "text/plain": [
       "<Figure size 1440x360 with 1 Axes>"
      ]
     },
     "metadata": {
      "needs_background": "light"
     },
     "output_type": "display_data"
    }
   ],
   "source": [
    "plt.rcParams['font.family'] = 'Times New Roman'\n",
    "plt.rcParams[\"font.size\"] = 32\n",
    "plt.rcParams['xtick.direction'] = 'in'  # x axis in\n",
    "plt.rcParams['ytick.direction'] = 'in'  # y axis in\n",
    "\n",
    "frame_total = 54000\n",
    "\n",
    "results = np.empty((1,))\n",
    "for i, predict_dict in passings.items():\n",
    "    i = int(i)\n",
    "    \n",
    "    result = np.zeros(frame_total)\n",
    "    for pair_key, predicts in predict_dict.items():\n",
    "        for (start_frame, end_frame) in predicts:\n",
    "            result[start_frame:end_frame] = 1\n",
    "    results = np.append(results, result)\n",
    "    \n",
    "fig = plt.figure(figsize=(20, 5))\n",
    "plt.plot(results)\n",
    "fig.subplots_adjust(left=0.035, right=0.995, bottom=0.15, top=0.99)\n",
    "\n",
    "xticks = range(0, len(results), 1800 * 30)\n",
    "plt.xticks(xticks, [t // 1800 for t in xticks])\n",
    "plt.yticks([0, 1])\n",
    "\n",
    "margin = len(results) // 100\n",
    "plt.xlim((-margin, len(results) + margin))\n",
    "plt.ylim((-0.05, 1.05))\n",
    "\n",
    "plt.xlabel(\"Minutes\")\n",
    "plt.ylabel(\"Passing\")\n",
    "\n",
    "plt.savefig(os.path.join(\"data\", \"passing\", \"image\", f\"{room_num}_{surgery_num}.pdf\"))\n",
    "plt.show()"
   ]
  },
  {
   "cell_type": "code",
   "execution_count": null,
   "id": "732ca685-747c-44bc-9fc2-7db45e15049b",
   "metadata": {},
   "outputs": [],
   "source": []
  }
 ],
 "metadata": {
  "kernelspec": {
   "display_name": "Python 3 (ipykernel)",
   "language": "python",
   "name": "python3"
  },
  "language_info": {
   "codemirror_mode": {
    "name": "ipython",
    "version": 3
   },
   "file_extension": ".py",
   "mimetype": "text/x-python",
   "name": "python",
   "nbconvert_exporter": "python",
   "pygments_lexer": "ipython3",
   "version": "3.8.13"
  }
 },
 "nbformat": 4,
 "nbformat_minor": 5
}
