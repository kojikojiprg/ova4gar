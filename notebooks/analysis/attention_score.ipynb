{
 "cells": [
  {
   "cell_type": "code",
   "execution_count": 31,
   "id": "f1cafd8c-f692-4cca-9177-c3e2a35364f6",
   "metadata": {},
   "outputs": [
    {
     "name": "stdout",
     "output_type": "stream",
     "text": [
      "/raid6/home/yokoyama/research\n"
     ]
    }
   ],
   "source": [
    "# back to project root\n",
    "%cd ~/research\n",
    "\n",
    "import os\n",
    "import sys\n",
    "from glob import glob\n",
    "\n",
    "import cv2\n",
    "import matplotlib.pyplot as plt\n",
    "import numpy as np\n",
    "import pandas as pd\n",
    "from tqdm import tqdm\n",
    "import yaml\n",
    "from scipy import signal\n",
    "import seaborn as sns\n",
    "\n",
    "sys.path.append(\"src\")\n",
    "from utility.logger import logger\n",
    "from utility.activity_loader import get_data_dirs, load_group\n",
    "from utility.functions import moving_average\n",
    "from utility.video import Capture, Writer, concat_field_with_frame\n",
    "from visualize.group import GroupVisualizer\n",
    "from visualize.individual import write_field as ind_write_field\n",
    "from visualize.keypoint import write_frame as kps_write_frame"
   ]
  },
  {
   "cell_type": "code",
   "execution_count": 2,
   "id": "a9ce43b2-f544-4a57-a3bb-99d5bd69c68c",
   "metadata": {},
   "outputs": [],
   "source": [
    "room_num = \"02\"\n",
    "surgery_num = \"001\""
   ]
  },
  {
   "cell_type": "code",
   "execution_count": 3,
   "id": "de84c6d5-bcea-470e-bf3f-22e1fb184806",
   "metadata": {},
   "outputs": [],
   "source": [
    "cfg_path = \"config/demo_config.yaml\"\n",
    "with open(cfg_path, \"r\") as f:\n",
    "    cfg = yaml.safe_load(f)\n",
    "with open(cfg[\"config_path\"][\"group\"], \"r\") as f:\n",
    "    grp_cfg = yaml.safe_load(f)\n",
    "with open(grp_cfg[\"attention\"][\"object_path\"], \"r\") as f:\n",
    "    object_points = yaml.safe_load(f)[room_num][surgery_num]"
   ]
  },
  {
   "cell_type": "code",
   "execution_count": 4,
   "id": "fc5907fe-5486-461d-9bba-df2119e377aa",
   "metadata": {},
   "outputs": [],
   "source": [
    "field = cv2.imread(\"image/field.png\")\n",
    "visualizer = GroupVisualizer([\"attention\"])"
   ]
  },
  {
   "cell_type": "code",
   "execution_count": 5,
   "id": "8ae54bf1-5f70-4b9c-ad36-9582b7a7a1ff",
   "metadata": {},
   "outputs": [
    {
     "name": "stdout",
     "output_type": "stream",
     "text": [
      "['data/02/001/attention/01', 'data/02/001/attention/02', 'data/02/001/attention/03', 'data/02/001/attention/04']\n"
     ]
    }
   ],
   "source": [
    "data_dirs = []\n",
    "for data_dir in get_data_dirs(room_num, surgery_num, \"attention\"):\n",
    "    if \"random\" not in data_dir:\n",
    "        data_dirs.append(data_dir)\n",
    "    \n",
    "print(data_dirs)"
   ]
  },
  {
   "cell_type": "code",
   "execution_count": 7,
   "id": "6965093a-e5e7-4154-97da-07482999f6ef",
   "metadata": {
    "tags": []
   },
   "outputs": [
    {
     "name": "stdout",
     "output_type": "stream",
     "text": [
      "data/02/001/attention/01\n",
      "data/02/001/attention/02\n",
      "data/02/001/attention/03\n",
      "data/02/001/attention/04\n"
     ]
    }
   ],
   "source": [
    "attention_dict = {}\n",
    "for data_dir in data_dirs:\n",
    "    print(data_dir)\n",
    "    num = os.path.basename(data_dir)\n",
    "    json_path = os.path.join(data_dir, \".json\", \"group.json\")\n",
    "    if os.path.exists(json_path):\n",
    "        group = load_group(json_path, grp_cfg, field, logger, only_data_loading=True)\n",
    "        attention_dict[num] = group.get(\"attention\")"
   ]
  },
  {
   "cell_type": "markdown",
   "id": "bd97f5b0-079e-4f5d-b4d6-03b60095ec27",
   "metadata": {},
   "source": [
    "## attention score"
   ]
  },
  {
   "cell_type": "code",
   "execution_count": 41,
   "id": "3f9d385e-d8e4-4f46-b865-eb4b70ceb281",
   "metadata": {},
   "outputs": [],
   "source": [
    "def likelihood(object_point, attention_data, sigma=50):\n",
    "    px = object_point[0]\n",
    "    py = object_point[1]\n",
    "    \n",
    "    value_dict = {}\n",
    "    for frame_num, data in tqdm(attention_data.items()):\n",
    "        if frame_num not in value_dict:\n",
    "            value_dict[frame_num] = {\"values\": [], \"weights\": []}\n",
    "            \n",
    "        for item in data:\n",
    "            x, y = item[\"point\"]\n",
    "            val = item[\"value\"]\n",
    "            gauss = np.exp(-((x - px)**2 + (y - py)**2) / (2 * sigma ** 2))\n",
    "        \n",
    "            value_dict[frame_num][\"values\"].append(val)\n",
    "            value_dict[frame_num][\"weights\"].append(gauss + 1e-10)\n",
    "        \n",
    "    means = {}\n",
    "    for frame_num, value in value_dict.items():\n",
    "        if len(value[\"values\"]) > 0:\n",
    "            means[frame_num] = np.average(value[\"values\"], weights=value[\"weights\"])\n",
    "    \n",
    "    return means"
   ]
  },
  {
   "cell_type": "code",
   "execution_count": 42,
   "id": "83e38f68-36ce-40b0-91ca-af765bcceae3",
   "metadata": {},
   "outputs": [
    {
     "name": "stderr",
     "output_type": "stream",
     "text": [
      "100%|███████████████████████████████████████████████████████████████████████████████████████████████████████████████████████████████████████| 1800/1800 [00:00<00:00, 2490.16it/s]\n",
      "100%|███████████████████████████████████████████████████████████████████████████████████████████████████████████████████████████████████████| 1800/1800 [00:00<00:00, 2502.76it/s]\n",
      "100%|███████████████████████████████████████████████████████████████████████████████████████████████████████████████████████████████████████| 1800/1800 [00:00<00:00, 2825.07it/s]\n",
      "100%|███████████████████████████████████████████████████████████████████████████████████████████████████████████████████████████████████████| 1800/1800 [00:00<00:00, 4041.42it/s]\n",
      "100%|███████████████████████████████████████████████████████████████████████████████████████████████████████████████████████████████████████| 1800/1800 [00:00<00:00, 3331.13it/s]\n",
      "100%|███████████████████████████████████████████████████████████████████████████████████████████████████████████████████████████████████████| 1800/1800 [00:00<00:00, 3277.22it/s]\n"
     ]
    }
   ],
   "source": [
    "likelihoods = {}\n",
    "for num, attention_data in attention_dict.items():\n",
    "    for i, point in enumerate(object_points[num]):\n",
    "        key = f\"{num}_{i + 1}\"\n",
    "        likelihoods[key] = likelihood(point, attention_data)"
   ]
  },
  {
   "cell_type": "markdown",
   "id": "6aa8aed4-887e-4b3a-aea9-b96683c43836",
   "metadata": {},
   "source": [
    "## ヒストグラム、箱ひげ図"
   ]
  },
  {
   "cell_type": "code",
   "execution_count": 43,
   "id": "a4bd5f0b-70eb-4308-ae71-c6d6fafc003f",
   "metadata": {},
   "outputs": [],
   "source": [
    "def boxplot(df_lst):\n",
    "    fig = plt.figure(figsize=(5, 2))\n",
    "    axs = [\n",
    "        fig.add_axes((0.1, 0.1, 0.29, 0.85)),\n",
    "        fig.add_axes((0.4, 0.1, 0.29, 0.85)),\n",
    "        fig.add_axes((0.7, 0.1, 0.29, 0.85))\n",
    "    ]\n",
    "\n",
    "    for j in range(3):\n",
    "        sns.boxplot(x='variable', y='value', data=df_lst[j], showfliers=False, ax=axs[j])\n",
    "        axs[j].set_ylabel('')\n",
    "        axs[j].set_xlabel('')\n",
    "        axs[j].set_ylim((0, 1.5))\n",
    "\n",
    "    axs[0].set_ylabel('Attention Score')\n",
    "    axs[1].set_yticklabels([])\n",
    "    axs[2].set_yticklabels([])\n",
    "\n",
    "    # box_path = os.path.join(common.data_dir, 'image', opt, f'box_{room_num}_{date}.pdf')\n",
    "    # fig.subplots_adjust(left=0, right=1, bottom=0, top=1)\n",
    "    # fig.savefig(box_path)"
   ]
  },
  {
   "cell_type": "code",
   "execution_count": 44,
   "id": "18b96f8f-ee20-43eb-824c-96900309e9bf",
   "metadata": {},
   "outputs": [],
   "source": [
    "def hist(df_lst, labels_lst):\n",
    "    fig = plt.figure(figsize=(5, 2))\n",
    "    axs = [\n",
    "        fig.add_axes((0.06, 0.1, 0.26, 0.85)),\n",
    "        fig.add_axes((0.39, 0.1, 0.26, 0.85)),\n",
    "        fig.add_axes((0.72, 0.1, 0.26, 0.85))\n",
    "    ]\n",
    "    \n",
    "    for j in range(3):\n",
    "        sns.histplot(\n",
    "            data=df_lst[j], x='value', hue='variable', bins=20, kde=True, ax=axs[j]\n",
    "        )\n",
    "        \n",
    "        axs[j].set_ylabel('')\n",
    "        axs[j].set_xlabel('')\n",
    "        axs[j].legend(\n",
    "            labels=labels_lst[j][::-1], fontsize=7, handlelength=0.5, handletextpad=0.2\n",
    "        )\n",
    "\n",
    "        # axs[j].set_xlabel('Attention Score')\n",
    "\n",
    "    # box_path = os.path.join(common.data_dir, 'image', opt, f'hist_{room_num}_{date}.pdf')\n",
    "    # fig.subplots_adjust(left=0, right=1, bottom=0, top=1)\n",
    "    # fig.savefig(box_path)"
   ]
  },
  {
   "cell_type": "code",
   "execution_count": 45,
   "id": "5dbdfb7a-7ab8-4807-9495-ebd8b5c3af91",
   "metadata": {},
   "outputs": [
    {
     "data": {
      "image/png": "[encoded data removed]",
      "text/plain": [
       "<Figure size 360x144 with 3 Axes>"
      ]
     },
     "metadata": {},
     "output_type": "display_data"
    },
    {
     "data": {
      "image/png": "[encoded data removed]",
      "text/plain": [
       "<Figure size 360x144 with 3 Axes>"
      ]
     },
     "metadata": {},
     "output_type": "display_data"
    }
   ],
   "source": [
    "sns.set()\n",
    "sns.set_style('whitegrid')\n",
    "plt.rcParams['font.family'] = 'Times New Roman'\n",
    "plt.rcParams[\"font.size\"] = 24\n",
    "plt.rcParams['xtick.direction'] = 'in'  # x axis in\n",
    "plt.rcParams['ytick.direction'] = 'in'  # y axis in\n",
    "\n",
    "df_lst = []\n",
    "labels_lst = []\n",
    "for i in range(3):\n",
    "    data_dict = {}\n",
    "    key1 = f\"{i + 1:02d}_{1}\"\n",
    "    key2 = f\"04_{i + 1}\"\n",
    "    data1 = list(likelihoods[key1].values())\n",
    "    data2 = list(likelihoods[key2].values())\n",
    "\n",
    "    label1 = f'O{i % 3 + 1}-A'\n",
    "    label2 = f'O{i % 3 + 1}-N/A'\n",
    "    labels = [label1, label2]\n",
    "    labels_lst.append(labels)\n",
    "\n",
    "    data_dict[label1] = data1\n",
    "    data_dict[label2] = data2\n",
    "\n",
    "    df = pd.DataFrame.from_dict(data_dict)\n",
    "    df = pd.melt(df)\n",
    "    df_lst.append(df)\n",
    "\n",
    "boxplot(df_lst)\n",
    "hist(df_lst, labels_lst)"
   ]
  },
  {
   "cell_type": "code",
   "execution_count": 46,
   "id": "6e71fe6b-64c0-4fd4-a62a-c69127be88cc",
   "metadata": {},
   "outputs": [],
   "source": [
    "from scipy import stats"
   ]
  },
  {
   "cell_type": "code",
   "execution_count": 47,
   "id": "20481b58-22c8-49f7-9f79-5a5247fdeeef",
   "metadata": {},
   "outputs": [
    {
     "name": "stdout",
     "output_type": "stream",
     "text": [
      "O_1\n",
      "Mann-Whitney U statistic: 3.006085e+06 p: 0.000000e+00\n",
      "O_2\n",
      "Mann-Whitney U statistic: 3.146233e+06 p: 0.000000e+00\n",
      "O_3\n",
      "Mann-Whitney U statistic: 2.850249e+06 p: 0.000000e+00\n"
     ]
    }
   ],
   "source": [
    "for i in range(3):\n",
    "    key1 = f\"{i + 1:02d}_{1}\"\n",
    "    key2 = f\"04_{i + 1}\"\n",
    "    data1 = np.array(list(likelihoods[key1].values()))\n",
    "    data2 = np.array(list(likelihoods[key2].values()))\n",
    "\n",
    "    w, p = stats.mannwhitneyu(data1, data2, alternative='greater', use_continuity=True)\n",
    "    print(f\"O_{i + 1}\")\n",
    "    print('Mann-Whitney U', f\"statistic: {w:e}\", f\"p: {p:e}\")"
   ]
  },
  {
   "cell_type": "code",
   "execution_count": null,
   "id": "9bd3e195-ec08-41ed-84bb-b9e42e1a79d4",
   "metadata": {},
   "outputs": [],
   "source": []
  }
 ],
 "metadata": {
  "kernelspec": {
   "display_name": "Python 3 (ipykernel)",
   "language": "python",
   "name": "python3"
  },
  "language_info": {
   "codemirror_mode": {
    "name": "ipython",
    "version": 3
   },
   "file_extension": ".py",
   "mimetype": "text/x-python",
   "name": "python",
   "nbconvert_exporter": "python",
   "pygments_lexer": "ipython3",
   "version": "3.8.13"
  }
 },
 "nbformat": 4,
 "nbformat_minor": 5
}
