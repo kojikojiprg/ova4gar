{
 "cells": [
  {
   "cell_type": "code",
   "execution_count": 1,
   "id": "78b8f63a-97ce-4061-93a2-17d0d059d34a",
   "metadata": {},
   "outputs": [],
   "source": [
    "import os\n",
    "import sys\n",
    "import shutil\n",
    "\n",
    "sys.path.append('../../src')\n",
    "from common import common"
   ]
  },
  {
   "cell_type": "code",
   "execution_count": 8,
   "id": "373c67fa-884a-4cff-b515-65a7a55fe2c3",
   "metadata": {
    "tags": []
   },
   "outputs": [
    {
     "name": "stdout",
     "output_type": "stream",
     "text": [
      "C:\\Users\\k2111\\program\\research\\video\\09\\20210304\\passing\\03.mp4\n",
      "C:\\Users\\k2111\\program\\research\\data\\09\\20210304\\passing\\03\n"
     ]
    }
   ],
   "source": [
    "os.chdir(common.root)\n",
    "\n",
    "#ビデオファイルパス\n",
    "room = '09'\n",
    "date = '20210304'\n",
    "file_name = 'passing\\\\03.mp4'\n",
    "video_path = os.path.join(common.root, 'video', room, date, file_name)\n",
    "\n",
    "# 出力ディレクトリ\n",
    "out_dir = os.path.join(common.data_dir, room, date, file_name.replace('.mp4', ''))\n",
    "os.makedirs(out_dir, exist_ok=True)\n",
    "\n",
    "print(video_path)\n",
    "print(out_dir)\n",
    "\n",
    "# hrnetのモデルパス\n",
    "hrnet_path = os.path.join(common.root, '..', 'hrnet')\n",
    "cfg_path = os.path.join(hrnet_path, 'experiments\\\\coco\\\\hrnet', 'w48_384x288_adam_lr1e-3.yaml')\n",
    "model_path = os.path.join(hrnet_path, 'models\\\\pytorch\\\\pose_coco', 'pose_hrnet_w48_384x288.pth')"
   ]
  },
  {
   "cell_type": "code",
   "execution_count": 9,
   "id": "51fab749-f0f2-4b7f-8635-15bf6df53896",
   "metadata": {
    "tags": []
   },
   "outputs": [
    {
     "name": "stdout",
     "output_type": "stream",
     "text": [
      "torch device: cuda\n",
      "=> loading model from C:\\Users\\k2111\\program\\research\\..\\hrnet\\models\\pytorch\\pose_coco\\pose_hrnet_w48_384x288.pth\n"
     ]
    },
    {
     "name": "stderr",
     "output_type": "stream",
     "text": [
      "100%|██████████████████████████████████████████████████████████████████████████████████████████████████████████████████████████████████████████████| 1365/1365 [06:12<00:00,  3.67it/s]\n"
     ]
    },
    {
     "name": "stdout",
     "output_type": "stream",
     "text": [
      "writing json file...\n",
      "complete\n"
     ]
    }
   ],
   "source": [
    "os.chdir(os.path.join(hrnet_path, 'demo'))\n",
    "\n",
    "%run inference.py --cfg inference-config.yaml \\\n",
    "    --cfg \"$cfg_path\"\\\n",
    "    --videoFile \"$video_path\"\\\n",
    "    --outputDir \"$out_dir\" \\\n",
    "    TEST.MODEL_FILE \"$model_path\""
   ]
  },
  {
   "cell_type": "code",
   "execution_count": 10,
   "id": "c2d324a6-37ef-43a0-a394-740dcc28f7f2",
   "metadata": {},
   "outputs": [
    {
     "name": "stdout",
     "output_type": "stream",
     "text": [
      "C:\\Users\\k2111\\program\\research\\data\\09\\20210304\\passing\\03\\video\\pose_03.mp4\n",
      "C:\\Users\\k2111\\program\\research\\data\\09\\20210304\\passing\\03\\json\\pose-results.json\n"
     ]
    }
   ],
   "source": [
    "video_dir = os.path.join(out_dir, 'video')\n",
    "os.makedirs(video_dir, exist_ok=True)\n",
    "\n",
    "video_path_before = os.path.join(out_dir, 'pose_{}.mp4'.format(common.split_path(out_dir)[-1]))\n",
    "video_path = os.path.join(video_dir, 'pose_{}.mp4'.format(common.split_path(out_dir)[-1]))\n",
    "shutil.move(video_path_before, video_path)\n",
    "print(video_path)\n",
    "\n",
    "json_dir = os.path.join(out_dir, 'json')\n",
    "os.makedirs(json_dir, exist_ok=True)\n",
    "\n",
    "json_path_before = os.path.join(out_dir, 'pose-results.json')\n",
    "json_path = os.path.join(json_dir, 'pose-results.json')\n",
    "shutil.move(json_path_before, json_path)\n",
    "print(json_path)"
   ]
  },
  {
   "cell_type": "raw",
   "id": "eb46f25f-8b98-49a0-9bdb-bd38d1a86274",
   "metadata": {},
   "source": []
  }
 ],
 "metadata": {
  "kernelspec": {
   "display_name": "Python 3 (ipykernel)",
   "language": "python",
   "name": "python3"
  },
  "language_info": {
   "codemirror_mode": {
    "name": "ipython",
    "version": 3
   },
   "file_extension": ".py",
   "mimetype": "text/x-python",
   "name": "python",
   "nbconvert_exporter": "python",
   "pygments_lexer": "ipython3",
   "version": "3.9.7"
  }
 },
 "nbformat": 4,
 "nbformat_minor": 5
}
