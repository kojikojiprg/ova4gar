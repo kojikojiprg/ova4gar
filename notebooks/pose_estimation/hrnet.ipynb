{
 "cells": [
  {
   "cell_type": "code",
   "execution_count": 1,
   "id": "78b8f63a-97ce-4061-93a2-17d0d059d34a",
   "metadata": {},
   "outputs": [],
   "source": [
    "import os\n",
    "import sys\n",
    "\n",
    "sys.path.append('../../src')\n",
    "from common import common"
   ]
  },
  {
   "cell_type": "code",
   "execution_count": 2,
   "id": "373c67fa-884a-4cff-b515-65a7a55fe2c3",
   "metadata": {},
   "outputs": [],
   "source": [
    "os.chdir(common.root)\n",
    "\n",
    "#ビデオファイルパス\n",
    "room = '02'\n",
    "date = '20210903'\n",
    "file_name = 'passing\\\\01.mp4'\n",
    "video_path = os.path.join(common.root, 'video', room, date, file_name)\n",
    "\n",
    "# 出力ディレクトリ\n",
    "out_dir = os.path.join(common.data_dir, room, date, file_name.replace('.mp4', ''))\n",
    "\n",
    "# hrnetのモデルパス\n",
    "hrnet_path = os.path.join(common.root, '..', 'hrnet')\n",
    "cfg_path = os.path.join(hrnet_path, 'experiments\\\\coco\\\\hrnet', 'w48_384x288_adam_lr1e-3.yaml')\n",
    "model_path = os.path.join(hrnet_path, 'models\\\\pytorch\\\\pose_coco', 'pose_hrnet_w48_384x288.pth')"
   ]
  },
  {
   "cell_type": "code",
   "execution_count": 3,
   "id": "51fab749-f0f2-4b7f-8635-15bf6df53896",
   "metadata": {
    "scrolled": true,
    "tags": []
   },
   "outputs": [
    {
     "name": "stdout",
     "output_type": "stream",
     "text": [
      "torch device: cuda\n",
      "=> loading model from C:\\Users\\k2111\\program\\research\\..\\hrnet\\models\\pytorch\\pose_coco\\pose_hrnet_w48_384x288.pth\n"
     ]
    },
    {
     "name": "stderr",
     "output_type": "stream",
     "text": [
      "  0%|                                                                                                                                                                         | 0/150 [00:00<?, ?it/s]C:\\Users\\k2111\\program\\research\\.venv\\lib\\site-packages\\torch\\functional.py:445: UserWarning: torch.meshgrid: in an upcoming release, it will be required to pass the indexing argument. (Triggered internally at  ..\\aten\\src\\ATen\\native\\TensorShape.cpp:2157.)\n",
      "  return _VF.meshgrid(tensors, **kwargs)  # type: ignore[attr-defined]\n",
      "100%|███████████████████████████████████████████████████████████████████████████████████████████████████████████████████████████████████████████████████████████████| 150/150 [01:01<00:00,  2.46it/s]\n"
     ]
    },
    {
     "name": "stdout",
     "output_type": "stream",
     "text": [
      "writing json file...\n",
      "complete\n"
     ]
    }
   ],
   "source": [
    "os.chdir(os.path.join(hrnet_path, 'demo'))\n",
    "\n",
    "%run inference.py --cfg inference-config.yaml \\\n",
    "    --cfg \"$cfg_path\"\\\n",
    "    --videoFile \"$video_path\"\\\n",
    "    --outputDir \"$out_dir\" \\\n",
    "    TEST.MODEL_FILE \"$model_path\""
   ]
  },
  {
   "cell_type": "code",
   "execution_count": null,
   "id": "c2d324a6-37ef-43a0-a394-740dcc28f7f2",
   "metadata": {},
   "outputs": [],
   "source": []
  }
 ],
 "metadata": {
  "kernelspec": {
   "display_name": "Python 3 (ipykernel)",
   "language": "python",
   "name": "python3"
  },
  "language_info": {
   "codemirror_mode": {
    "name": "ipython",
    "version": 3
   },
   "file_extension": ".py",
   "mimetype": "text/x-python",
   "name": "python",
   "nbconvert_exporter": "python",
   "pygments_lexer": "ipython3",
   "version": "3.9.7"
  }
 },
 "nbformat": 4,
 "nbformat_minor": 5
}
