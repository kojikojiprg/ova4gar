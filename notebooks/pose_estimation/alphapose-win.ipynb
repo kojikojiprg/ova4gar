{
 "cells": [
  {
   "cell_type": "code",
   "execution_count": 1,
   "metadata": {},
   "outputs": [],
   "source": [
    "import os\n",
    "import sys\n",
    "\n",
    "sys.path.append('../../src')\n",
    "from common import common"
   ]
  },
  {
   "cell_type": "code",
   "execution_count": 2,
   "metadata": {},
   "outputs": [],
   "source": [
    "os.chdir(common.root)\n",
    "\n",
    "#ビデオファイルパス\n",
    "room = '02'\n",
    "date = '20210903'\n",
    "file_name = 'passing/01.mp4'\n",
    "video_path = os.path.join(common.root, 'video', room, date, file_name)\n",
    "\n",
    "# 出力ディレクトリ\n",
    "out_dir = os.path.join(common.data_dir, room, date, file_name.replace('.mp4', ''))\n",
    "\n",
    "# AlphaPoseのモデルパス\n",
    "alphapose_path = os.path.join(common.root, '..', 'alphapose')\n",
    "model_files = {'cfg': 'configs/coco/hrnet/256x192_w32_lr1e-3.yaml', 'checkpoint': 'pretrained_models/hrnet_w32_256x192.pth'}\n",
    "cfg_path = os.path.join(alphapose_path, model_files['cfg'])\n",
    "checkpoint_path = os.path.join(alphapose_path, model_files['checkpoint'])"
   ]
  },
  {
   "cell_type": "code",
   "execution_count": null,
   "metadata": {
    "tags": []
   },
   "outputs": [
    {
     "name": "stderr",
     "output_type": "stream",
     "text": [
      "2021-12-04 15:42:31 [DEBUG]: Loaded backend agg version unknown.\n"
     ]
    },
    {
     "name": "stdout",
     "output_type": "stream",
     "text": [
      "Loading YOLO model..\n",
      "Loading pose model from C:\\Users\\k2111\\program\\research\\..\\alphapose\\pretrained_models/hrnet_w32_256x192.pth...\n"
     ]
    },
    {
     "name": "stderr",
     "output_type": "stream",
     "text": [
      "  0%|                                                                                                                                                                         | 0/150 [00:00<?, ?it/s]Exception in thread Thread-9:\n",
      "Traceback (most recent call last):\n",
      "  File \"C:\\Users\\k2111\\.pyenv\\pyenv-win\\versions\\3.9.7\\lib\\threading.py\", line 973, in _bootstrap_inner\n",
      "    self.run()\n",
      "  File \"C:\\Users\\k2111\\.pyenv\\pyenv-win\\versions\\3.9.7\\lib\\threading.py\", line 910, in run\n",
      "    self._target(*self._args, **self._kwargs)\n",
      "  File \"C:\\Users\\k2111\\program\\alphapose\\alphapose\\utils\\detector.py\", line 223, in image_detection\n",
      "    dets = self.detector.images_detection(imgs, im_dim_list)\n",
      "  File \"C:\\Users\\k2111\\program\\alphapose\\detector\\yolo_api.py\", line 96, in images_detection\n",
      "    dets = self.dynamic_write_results(prediction, self.confidence, \n",
      "  File \"C:\\Users\\k2111\\program\\alphapose\\detector\\yolo_api.py\", line 116, in dynamic_write_results\n",
      "    dets = self.write_results(prediction.clone(), confidence, num_classes, nms, nms_conf)\n",
      "  File \"C:\\Users\\k2111\\program\\alphapose\\detector\\yolo_api.py\", line 216, in write_results\n",
      "    image_pred_class = torch.cat(max_detections).data\n",
      "RuntimeError: CUDA out of memory. Tried to allocate 2.00 MiB (GPU 0; 8.00 GiB total capacity; 6.00 GiB already allocated; 0 bytes free; 6.04 GiB reserved in total by PyTorch) If reserved memory is >> allocated memory try setting max_split_size_mb to avoid fragmentation.  See documentation for Memory Management and PYTORCH_CUDA_ALLOC_CONF\n"
     ]
    }
   ],
   "source": [
    "os.chdir(alphapose_path)\n",
    "\n",
    "%run scripts/demo_inference.py\\\n",
    "    --cfg \"$cfg_path\"\\\n",
    "    --checkpoint \"$checkpoint_path\"\\\n",
    "    --outdir \"$out_dir\"\\\n",
    "    --eval\\\n",
    "    --video \"$video_path\"\\\n",
    "    --save_video\\\n",
    "    --vis_fast\\\n",
    "    --detbatch 5\\\n",
    "    --posebatch 1000\\\n",
    "    --qsize 4096"
   ]
  },
  {
   "cell_type": "code",
   "execution_count": null,
   "metadata": {},
   "outputs": [],
   "source": []
  }
 ],
 "metadata": {
  "kernelspec": {
   "display_name": "Python 3 (ipykernel)",
   "language": "python",
   "name": "python3"
  },
  "language_info": {
   "codemirror_mode": {
    "name": "ipython",
    "version": 3
   },
   "file_extension": ".py",
   "mimetype": "text/x-python",
   "name": "python",
   "nbconvert_exporter": "python",
   "pygments_lexer": "ipython3",
   "version": "3.9.7"
  }
 },
 "nbformat": 4,
 "nbformat_minor": 4
}
