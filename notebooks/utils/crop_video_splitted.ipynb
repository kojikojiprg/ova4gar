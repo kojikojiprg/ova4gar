{
 "cells": [
  {
   "cell_type": "code",
   "execution_count": 6,
   "id": "21e5ced1-0305-4ec3-8be9-97b9a4baa3d3",
   "metadata": {},
   "outputs": [],
   "source": [
    "import cv2\n",
    "import glob\n",
    "import os\n",
    "from datetime import timedelta\n",
    "import sys\n",
    "\n",
    "sys.path.append('../../src')\n",
    "from common import common"
   ]
  },
  {
   "cell_type": "code",
   "execution_count": 39,
   "id": "a1d6d304-58f9-4755-97a5-51e94e61c464",
   "metadata": {
    "tags": []
   },
   "outputs": [],
   "source": [
    "video_num = '13'\n",
    "room_num = '08'\n",
    "date = '20210915'\n",
    "out_name = 'attention'\n",
    "begin_time = '00:01:30'\n",
    "end_time = '00:08:30'"
   ]
  },
  {
   "cell_type": "code",
   "execution_count": 40,
   "id": "dd059e64-af7d-4d4a-bf6b-db42b89c4d6e",
   "metadata": {},
   "outputs": [
    {
     "name": "stdout",
     "output_type": "stream",
     "text": [
      "C:\\Users\\k2111\\program\\research\\video\\08\\20210915\\13.mp4\n",
      "C:\\Users\\k2111\\program\\research\\video\\08\\20210915\\attention\\02.mp4\n"
     ]
    }
   ],
   "source": [
    "video_name = f'{video_num}.mp4'\n",
    "video_path = os.path.join(common.root, 'video', room_num, date, video_name)\n",
    "\n",
    "out_folder = os.path.join(common.root, 'video', room_num, date)\n",
    "out_dir = os.path.join(out_dir, out_folder, out_name)\n",
    "os.makedirs(out_dir, exist_ok=True)\n",
    "\n",
    "files = glob.glob(out_dir + '/*')\n",
    "out_path = os.path.join(out_dir, ('%02d' % (len(files) + 1) + '.mp4'))\n",
    "\n",
    "print(video_path)\n",
    "print(out_path)"
   ]
  },
  {
   "cell_type": "code",
   "execution_count": 41,
   "id": "25e60e5a-ea39-4c76-b762-b568e033aa42",
   "metadata": {},
   "outputs": [],
   "source": [
    "h, m, s = begin_time.split(':')\n",
    "begin_sec = timedelta(hours=int(h), minutes=int(m), seconds=int(s)).total_seconds()\n",
    "h, m, s = end_time.split(':')\n",
    "end_sec = timedelta(hours=int(h), minutes=int(m), seconds=int(s)).total_seconds()\n",
    "delta_sec = int(end_sec - begin_sec)\n",
    "assert delta_sec > 0"
   ]
  },
  {
   "cell_type": "code",
   "execution_count": 42,
   "id": "8ecc7655-b49f-4502-b2c2-87b429229635",
   "metadata": {
    "tags": []
   },
   "outputs": [],
   "source": [
    "capture = cv2.VideoCapture(video_path)\n",
    "fps = capture.get(cv2.CAP_PROP_FPS)\n",
    "# fps = 30\n",
    "height = capture.get(cv2.CAP_PROP_FRAME_HEIGHT)\n",
    "width = capture.get(cv2.CAP_PROP_FRAME_WIDTH)\n",
    "fourcc = cv2.VideoWriter_fourcc('m','p','4','v')\n",
    "writer = cv2.VideoWriter(out_path, int(fourcc), fps, (int(width), int(height)))\n",
    "\n",
    "# move capture frame\n",
    "capture.set(cv2.CAP_PROP_POS_FRAMES, begin_sec * fps)\n",
    "\n",
    "for _ in range(int(delta_sec * fps)):\n",
    "    # read next\n",
    "    ret, frame = capture.read()\n",
    "    \n",
    "    if ret:\n",
    "        writer.write(frame)\n",
    "else:\n",
    "    capture.release()\n",
    "    writer.release()"
   ]
  },
  {
   "cell_type": "code",
   "execution_count": null,
   "id": "668539e2-2208-44f5-a0a8-09b5436494d0",
   "metadata": {},
   "outputs": [],
   "source": []
  }
 ],
 "metadata": {
  "kernelspec": {
   "display_name": "Python 3 (ipykernel)",
   "language": "python",
   "name": "python3"
  },
  "language_info": {
   "codemirror_mode": {
    "name": "ipython",
    "version": 3
   },
   "file_extension": ".py",
   "mimetype": "text/x-python",
   "name": "python",
   "nbconvert_exporter": "python",
   "pygments_lexer": "ipython3",
   "version": "3.9.7"
  }
 },
 "nbformat": 4,
 "nbformat_minor": 5
}
