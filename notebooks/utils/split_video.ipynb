{
 "cells": [
  {
   "cell_type": "code",
   "execution_count": 1,
   "id": "21e5ced1-0305-4ec3-8be9-97b9a4baa3d3",
   "metadata": {},
   "outputs": [],
   "source": [
    "import cv2\n",
    "import glob\n",
    "import os"
   ]
  },
  {
   "cell_type": "code",
   "execution_count": 2,
   "id": "a1d6d304-58f9-4755-97a5-51e94e61c464",
   "metadata": {},
   "outputs": [
    {
     "data": {
      "text/plain": [
       "['/tmp/sh076018/mishare/Research Projects/yokoyama/video_raw/08_05_Survey_20210915_070700_01.mp4',\n",
       " '/tmp/sh076018/mishare/Research Projects/yokoyama/video_raw/08_05_Survey_20210915_070700_02.mp4']"
      ]
     },
     "execution_count": 2,
     "metadata": {},
     "output_type": "execute_result"
    }
   ],
   "source": [
    "video_name = \"08_05_Survey_20210915_070700\"\n",
    "video_dir = '/tmp/sh076018/mishare/Research Projects/yokoyama/video_raw/'\n",
    "path = os.path.join(video_dir, video_name)\n",
    "video_files = sorted(glob.glob(path + '*.mp4'))\n",
    "video_files"
   ]
  },
  {
   "cell_type": "code",
   "execution_count": 3,
   "id": "dd059e64-af7d-4d4a-bf6b-db42b89c4d6e",
   "metadata": {},
   "outputs": [],
   "source": [
    "out_dir = '/tmp/sh076018/mishare/Research Projects/yokoyama/video/'\n",
    "out_folder = os.path.join(video_name.split('_')[0] + '/' + video_name.split('_')[3])\n",
    "out_dir = os.path.join(out_dir, out_folder)\n",
    "os.makedirs(out_dir, exist_ok=True)"
   ]
  },
  {
   "cell_type": "code",
   "execution_count": 4,
   "id": "8ecc7655-b49f-4502-b2c2-87b429229635",
   "metadata": {},
   "outputs": [
    {
     "name": "stdout",
     "output_type": "stream",
     "text": [
      "load /tmp/sh076018/mishare/Research Projects/yokoyama/video_raw/08_05_Survey_20210915_070700_01.mp4\n",
      "saved /tmp/sh076018/mishare/Research Projects/yokoyama/video/08/20210915/01.mp4\n",
      "saved /tmp/sh076018/mishare/Research Projects/yokoyama/video/08/20210915/02.mp4\n",
      "saved /tmp/sh076018/mishare/Research Projects/yokoyama/video/08/20210915/03.mp4\n",
      "saved /tmp/sh076018/mishare/Research Projects/yokoyama/video/08/20210915/04.mp4\n",
      "saved /tmp/sh076018/mishare/Research Projects/yokoyama/video/08/20210915/05.mp4\n",
      "saved /tmp/sh076018/mishare/Research Projects/yokoyama/video/08/20210915/06.mp4\n",
      "saved /tmp/sh076018/mishare/Research Projects/yokoyama/video/08/20210915/07.mp4\n",
      "saved /tmp/sh076018/mishare/Research Projects/yokoyama/video/08/20210915/08.mp4\n",
      "saved /tmp/sh076018/mishare/Research Projects/yokoyama/video/08/20210915/09.mp4\n",
      "saved /tmp/sh076018/mishare/Research Projects/yokoyama/video/08/20210915/10.mp4\n",
      "saved /tmp/sh076018/mishare/Research Projects/yokoyama/video/08/20210915/11.mp4\n",
      "saved /tmp/sh076018/mishare/Research Projects/yokoyama/video/08/20210915/12.mp4\n",
      "saved /tmp/sh076018/mishare/Research Projects/yokoyama/video/08/20210915/13.mp4\n",
      "saved /tmp/sh076018/mishare/Research Projects/yokoyama/video/08/20210915/14.mp4\n",
      "saved /tmp/sh076018/mishare/Research Projects/yokoyama/video/08/20210915/15.mp4\n",
      "saved /tmp/sh076018/mishare/Research Projects/yokoyama/video/08/20210915/16.mp4\n",
      "load /tmp/sh076018/mishare/Research Projects/yokoyama/video_raw/08_05_Survey_20210915_070700_02.mp4\n",
      "saved /tmp/sh076018/mishare/Research Projects/yokoyama/video/08/20210915/17.mp4\n",
      "saved /tmp/sh076018/mishare/Research Projects/yokoyama/video/08/20210915/18.mp4\n",
      "saved /tmp/sh076018/mishare/Research Projects/yokoyama/video/08/20210915/19.mp4\n",
      "complete\n"
     ]
    }
   ],
   "source": [
    "length = 30 * 60 * 30  # (30fps * 60sec * 30min)\n",
    "frame_len = 0\n",
    "file_idx = 0\n",
    "\n",
    "fourcc = cv2.VideoWriter_fourcc('m','p','4','v')\n",
    "video = cv2.VideoCapture(video_files[0])\n",
    "fps = video.get(cv2.CAP_PROP_FPS)\n",
    "height = video.get(cv2.CAP_PROP_FRAME_HEIGHT)\n",
    "width = video.get(cv2.CAP_PROP_FRAME_WIDTH)\n",
    "\n",
    "# first file writer\n",
    "out_name = ('%02d' % (file_idx + 1)) + '.mp4'\n",
    "out_path = os.path.join(out_dir, out_name)\n",
    "out = cv2.VideoWriter(out_path, int(fourcc), fps, (int(width), int(height)))\n",
    "\n",
    "for video_file in (video_files):\n",
    "    print('load ' + video_file)\n",
    "    video = cv2.VideoCapture(video_file)\n",
    "    if video.isOpened():\n",
    "        ret, frame = video.read() \n",
    "    else:\n",
    "        ret = False\n",
    "\n",
    "    while ret:\n",
    "        out.write(frame)\n",
    "        frame_len += 1\n",
    "        if frame_len == length:\n",
    "            out.release()\n",
    "            frame_len = 0\n",
    "            print('saved ' + out_path)\n",
    "            \n",
    "            # new writer\n",
    "            file_idx += 1\n",
    "            out_name = ('%02d' % (file_idx + 1)) + '.mp4'\n",
    "            out_path = os.path.join(out_dir, out_name)\n",
    "            out = cv2.VideoWriter(out_path, int(fourcc), fps, (int(width), int(height)))\n",
    "            \n",
    "        # read next\n",
    "        ret, frame = video.read()\n",
    "    else:\n",
    "        video.release()\n",
    "else:\n",
    "    out.release()\n",
    "    file_idx += 1\n",
    "    print('saved ' + out_path)\n",
    "    print('complete')"
   ]
  },
  {
   "cell_type": "code",
   "execution_count": null,
   "id": "2fc3c50a-d058-41c0-97ba-59075cf77fd7",
   "metadata": {},
   "outputs": [],
   "source": []
  }
 ],
 "metadata": {
  "kernelspec": {
   "display_name": "Python 3 (ipykernel)",
   "language": "python",
   "name": "python3"
  },
  "language_info": {
   "codemirror_mode": {
    "name": "ipython",
    "version": 3
   },
   "file_extension": ".py",
   "mimetype": "text/x-python",
   "name": "python",
   "nbconvert_exporter": "python",
   "pygments_lexer": "ipython3",
   "version": "3.9.5"
  }
 },
 "nbformat": 4,
 "nbformat_minor": 5
}
