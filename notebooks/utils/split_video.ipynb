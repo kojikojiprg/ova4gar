{
 "cells": [
  {
   "cell_type": "code",
   "execution_count": 1,
   "id": "21e5ced1-0305-4ec3-8be9-97b9a4baa3d3",
   "metadata": {},
   "outputs": [],
   "source": [
    "import glob\n",
    "import os\n",
    "\n",
    "import cv2\n"
   ]
  },
  {
   "cell_type": "code",
   "execution_count": 2,
   "id": "a1d6d304-58f9-4755-97a5-51e94e61c464",
   "metadata": {},
   "outputs": [
    {
     "data": {
      "text/plain": [
       "['/mnt/c/research/video/09/20210916/raw/01.mp4',\n",
       " '/mnt/c/research/video/09/20210916/raw/02.mp4',\n",
       " '/mnt/c/research/video/09/20210916/raw/03.mp4',\n",
       " '/mnt/c/research/video/09/20210916/raw/04.mp4',\n",
       " '/mnt/c/research/video/09/20210916/raw/05.mp4']"
      ]
     },
     "execution_count": 2,
     "metadata": {},
     "output_type": "execute_result"
    }
   ],
   "source": [
    "room_num = \"09\"\n",
    "surgery_num = \"20210916\"\n",
    "video_dir = f'/mnt/c/research/video/{room_num}/{surgery_num}/raw/'\n",
    "out_dir = video_dir.replace(\"/raw\", \"\")\n",
    "\n",
    "video_files = sorted(glob.glob(os.path.join(video_dir, '*.mp4')))\n",
    "video_files"
   ]
  },
  {
   "cell_type": "code",
   "execution_count": 3,
   "id": "8ecc7655-b49f-4502-b2c2-87b429229635",
   "metadata": {},
   "outputs": [
    {
     "name": "stdout",
     "output_type": "stream",
     "text": [
      "load /mnt/c/research/video/09/20210916/raw/01.mp4\n",
      "saved /mnt/c/research/video/09/20210916/01.mp4\n",
      "saved /mnt/c/research/video/09/20210916/02.mp4\n",
      "load /mnt/c/research/video/09/20210916/raw/02.mp4\n",
      "saved /mnt/c/research/video/09/20210916/03.mp4\n",
      "saved /mnt/c/research/video/09/20210916/04.mp4\n",
      "load /mnt/c/research/video/09/20210916/raw/03.mp4\n"
     ]
    },
    {
     "name": "stderr",
     "output_type": "stream",
     "text": [
      "[h264 @ 0x55cfe8248440] Missing reference picture, default is 0\n",
      "[h264 @ 0x55cfe8248440] decode_slice_header error\n",
      "[h264 @ 0x55cfe8df8d40] Missing reference picture, default is 0\n",
      "[h264 @ 0x55cfe8df8d40] decode_slice_header error\n"
     ]
    },
    {
     "name": "stdout",
     "output_type": "stream",
     "text": [
      "saved /mnt/c/research/video/09/20210916/05.mp4\n",
      "saved /mnt/c/research/video/09/20210916/06.mp4\n",
      "saved /mnt/c/research/video/09/20210916/07.mp4\n",
      "load /mnt/c/research/video/09/20210916/raw/04.mp4\n",
      "saved /mnt/c/research/video/09/20210916/08.mp4\n",
      "saved /mnt/c/research/video/09/20210916/09.mp4\n",
      "load /mnt/c/research/video/09/20210916/raw/05.mp4\n",
      "saved /mnt/c/research/video/09/20210916/10.mp4\n",
      "saved /mnt/c/research/video/09/20210916/11.mp4\n",
      "complete\n"
     ]
    }
   ],
   "source": [
    "length = 30 * 60 * 30  # (30fps * 60sec * 30min)\n",
    "frame_len = 0\n",
    "file_idx = 0\n",
    "\n",
    "fourcc = cv2.VideoWriter_fourcc('m','p','4','v')\n",
    "video = cv2.VideoCapture(video_files[0])\n",
    "fps = video.get(cv2.CAP_PROP_FPS)\n",
    "height = video.get(cv2.CAP_PROP_FRAME_HEIGHT)\n",
    "width = video.get(cv2.CAP_PROP_FRAME_WIDTH)\n",
    "\n",
    "# first file writer\n",
    "out_name = ('%02d' % (file_idx + 1)) + '.mp4'\n",
    "out_path = os.path.join(out_dir, out_name)\n",
    "out = cv2.VideoWriter(out_path, int(fourcc), fps, (int(width), int(height)))\n",
    "\n",
    "for video_file in (video_files):\n",
    "    print('load ' + video_file)\n",
    "    video = cv2.VideoCapture(video_file)\n",
    "    if video.isOpened():\n",
    "        ret, frame = video.read() \n",
    "    else:\n",
    "        ret = False\n",
    "\n",
    "    while ret:\n",
    "        out.write(frame)\n",
    "        frame_len += 1\n",
    "        if frame_len == length:\n",
    "            out.release()\n",
    "            frame_len = 0\n",
    "            print('saved ' + out_path)\n",
    "            \n",
    "            # new writer\n",
    "            file_idx += 1\n",
    "            out_name = ('%02d' % (file_idx + 1)) + '.mp4'\n",
    "            out_path = os.path.join(out_dir, out_name)\n",
    "            out = cv2.VideoWriter(out_path, int(fourcc), fps, (int(width), int(height)))\n",
    "            \n",
    "        # read next\n",
    "        ret, frame = video.read()\n",
    "    else:\n",
    "        video.release()\n",
    "else:\n",
    "    out.release()\n",
    "    file_idx += 1\n",
    "    print('saved ' + out_path)\n",
    "    print('complete')"
   ]
  },
  {
   "cell_type": "code",
   "execution_count": null,
   "id": "2fc3c50a-d058-41c0-97ba-59075cf77fd7",
   "metadata": {},
   "outputs": [],
   "source": []
  }
 ],
 "metadata": {
  "kernelspec": {
   "display_name": "Python 3 (ipykernel)",
   "language": "python",
   "name": "python3"
  },
  "language_info": {
   "codemirror_mode": {
    "name": "ipython",
    "version": 3
   },
   "file_extension": ".py",
   "mimetype": "text/x-python",
   "name": "python",
   "nbconvert_exporter": "python",
   "pygments_lexer": "ipython3",
   "version": "3.9.12"
  }
 },
 "nbformat": 4,
 "nbformat_minor": 5
}
